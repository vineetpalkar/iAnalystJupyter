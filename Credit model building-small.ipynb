{
 "cells": [
  {
   "cell_type": "code",
   "execution_count": null,
   "id": "8e46ff6b",
   "metadata": {},
   "outputs": [],
   "source": [
    "#Importing libraries"
   ]
  },
  {
   "cell_type": "code",
   "execution_count": 103,
   "id": "9103f0d3",
   "metadata": {},
   "outputs": [],
   "source": [
    "import os\n",
    "os.chdir(\"D:/credit scoring\")"
   ]
  },
  {
   "cell_type": "code",
   "execution_count": 104,
   "id": "b9a15d98",
   "metadata": {},
   "outputs": [],
   "source": [
    "import pandas as pd\n",
    "import numpy as np\n",
    "import matplotlib.pyplot as plt\n",
    "import seaborn as sns"
   ]
  },
  {
   "cell_type": "code",
   "execution_count": 105,
   "id": "61424839",
   "metadata": {},
   "outputs": [
    {
     "data": {
      "text/html": [
       "<div>\n",
       "<style scoped>\n",
       "    .dataframe tbody tr th:only-of-type {\n",
       "        vertical-align: middle;\n",
       "    }\n",
       "\n",
       "    .dataframe tbody tr th {\n",
       "        vertical-align: top;\n",
       "    }\n",
       "\n",
       "    .dataframe thead th {\n",
       "        text-align: right;\n",
       "    }\n",
       "</style>\n",
       "<table border=\"1\" class=\"dataframe\">\n",
       "  <thead>\n",
       "    <tr style=\"text-align: right;\">\n",
       "      <th></th>\n",
       "      <th>Sr.no</th>\n",
       "      <th>SeriousDlqin2yrs</th>\n",
       "      <th>RevolvingUtilizationOfUnsecuredLines</th>\n",
       "      <th>age</th>\n",
       "      <th>NumberOfTime30-59DaysPastDueNotWorse</th>\n",
       "      <th>DebtRatio</th>\n",
       "      <th>MonthlyIncome</th>\n",
       "      <th>NumberOfOpenCreditLinesAndLoans</th>\n",
       "      <th>NumberOfTimes90DaysLate</th>\n",
       "      <th>NumberRealEstateLoansOrLines</th>\n",
       "      <th>NumberOfTime60-89DaysPastDueNotWorse</th>\n",
       "      <th>NumberOfDependents</th>\n",
       "    </tr>\n",
       "  </thead>\n",
       "  <tbody>\n",
       "    <tr>\n",
       "      <th>0</th>\n",
       "      <td>1</td>\n",
       "      <td>1</td>\n",
       "      <td>0.766127</td>\n",
       "      <td>45</td>\n",
       "      <td>2</td>\n",
       "      <td>0.802982</td>\n",
       "      <td>9120.0</td>\n",
       "      <td>13</td>\n",
       "      <td>0</td>\n",
       "      <td>6</td>\n",
       "      <td>0</td>\n",
       "      <td>2.0</td>\n",
       "    </tr>\n",
       "    <tr>\n",
       "      <th>1</th>\n",
       "      <td>2</td>\n",
       "      <td>0</td>\n",
       "      <td>0.957151</td>\n",
       "      <td>40</td>\n",
       "      <td>0</td>\n",
       "      <td>0.121876</td>\n",
       "      <td>2600.0</td>\n",
       "      <td>4</td>\n",
       "      <td>0</td>\n",
       "      <td>0</td>\n",
       "      <td>0</td>\n",
       "      <td>1.0</td>\n",
       "    </tr>\n",
       "    <tr>\n",
       "      <th>2</th>\n",
       "      <td>3</td>\n",
       "      <td>0</td>\n",
       "      <td>0.658180</td>\n",
       "      <td>38</td>\n",
       "      <td>1</td>\n",
       "      <td>0.085113</td>\n",
       "      <td>3042.0</td>\n",
       "      <td>2</td>\n",
       "      <td>1</td>\n",
       "      <td>0</td>\n",
       "      <td>0</td>\n",
       "      <td>0.0</td>\n",
       "    </tr>\n",
       "    <tr>\n",
       "      <th>3</th>\n",
       "      <td>4</td>\n",
       "      <td>0</td>\n",
       "      <td>0.233810</td>\n",
       "      <td>30</td>\n",
       "      <td>0</td>\n",
       "      <td>0.036050</td>\n",
       "      <td>3300.0</td>\n",
       "      <td>5</td>\n",
       "      <td>0</td>\n",
       "      <td>0</td>\n",
       "      <td>0</td>\n",
       "      <td>0.0</td>\n",
       "    </tr>\n",
       "    <tr>\n",
       "      <th>4</th>\n",
       "      <td>5</td>\n",
       "      <td>0</td>\n",
       "      <td>0.907239</td>\n",
       "      <td>49</td>\n",
       "      <td>1</td>\n",
       "      <td>0.024926</td>\n",
       "      <td>63588.0</td>\n",
       "      <td>7</td>\n",
       "      <td>0</td>\n",
       "      <td>1</td>\n",
       "      <td>0</td>\n",
       "      <td>0.0</td>\n",
       "    </tr>\n",
       "  </tbody>\n",
       "</table>\n",
       "</div>"
      ],
      "text/plain": [
       "   Sr.no  SeriousDlqin2yrs  RevolvingUtilizationOfUnsecuredLines  age  \\\n",
       "0      1                 1                              0.766127   45   \n",
       "1      2                 0                              0.957151   40   \n",
       "2      3                 0                              0.658180   38   \n",
       "3      4                 0                              0.233810   30   \n",
       "4      5                 0                              0.907239   49   \n",
       "\n",
       "   NumberOfTime30-59DaysPastDueNotWorse  DebtRatio  MonthlyIncome  \\\n",
       "0                                     2   0.802982         9120.0   \n",
       "1                                     0   0.121876         2600.0   \n",
       "2                                     1   0.085113         3042.0   \n",
       "3                                     0   0.036050         3300.0   \n",
       "4                                     1   0.024926        63588.0   \n",
       "\n",
       "   NumberOfOpenCreditLinesAndLoans  NumberOfTimes90DaysLate  \\\n",
       "0                               13                        0   \n",
       "1                                4                        0   \n",
       "2                                2                        1   \n",
       "3                                5                        0   \n",
       "4                                7                        0   \n",
       "\n",
       "   NumberRealEstateLoansOrLines  NumberOfTime60-89DaysPastDueNotWorse  \\\n",
       "0                             6                                     0   \n",
       "1                             0                                     0   \n",
       "2                             0                                     0   \n",
       "3                             0                                     0   \n",
       "4                             1                                     0   \n",
       "\n",
       "   NumberOfDependents  \n",
       "0                 2.0  \n",
       "1                 1.0  \n",
       "2                 0.0  \n",
       "3                 0.0  \n",
       "4                 0.0  "
      ]
     },
     "execution_count": 105,
     "metadata": {},
     "output_type": "execute_result"
    }
   ],
   "source": [
    "data= pd.read_excel(\"Credit_train.xlsx\")\n",
    "df= data.copy()\n",
    "df.head()"
   ]
  },
  {
   "cell_type": "code",
   "execution_count": 106,
   "id": "ef355655",
   "metadata": {},
   "outputs": [
    {
     "data": {
      "text/plain": [
       "Sr.no                                      0\n",
       "SeriousDlqin2yrs                           0\n",
       "RevolvingUtilizationOfUnsecuredLines       0\n",
       "age                                        0\n",
       "NumberOfTime30-59DaysPastDueNotWorse       0\n",
       "DebtRatio                                  0\n",
       "MonthlyIncome                           2957\n",
       "NumberOfOpenCreditLinesAndLoans            0\n",
       "NumberOfTimes90DaysLate                    0\n",
       "NumberRealEstateLoansOrLines               0\n",
       "NumberOfTime60-89DaysPastDueNotWorse       0\n",
       "NumberOfDependents                       415\n",
       "dtype: int64"
      ]
     },
     "execution_count": 106,
     "metadata": {},
     "output_type": "execute_result"
    }
   ],
   "source": [
    "df.isnull().sum()"
   ]
  },
  {
   "cell_type": "code",
   "execution_count": 82,
   "id": "762ec3d8",
   "metadata": {},
   "outputs": [],
   "source": [
    "#Monthly income and number of dependents values are missing. Imputing them with mean and median"
   ]
  },
  {
   "cell_type": "code",
   "execution_count": 107,
   "id": "3ff146a3",
   "metadata": {},
   "outputs": [],
   "source": [
    "m1 = df.MonthlyIncome.mean()\n",
    "m2= df.NumberOfDependents.median()\n",
    "\n",
    "df.loc[df.MonthlyIncome.isnull(),'MonthlyIncome'] = m1\n",
    "df.loc[df.NumberOfDependents.isnull(),'NumberOfDependents'] = m2"
   ]
  },
  {
   "cell_type": "code",
   "execution_count": 108,
   "id": "2b096f3c",
   "metadata": {},
   "outputs": [],
   "source": [
    "#df.NumberOfDependents.value_counts()"
   ]
  },
  {
   "cell_type": "code",
   "execution_count": 109,
   "id": "ef15ccea",
   "metadata": {},
   "outputs": [
    {
     "name": "stdout",
     "output_type": "stream",
     "text": [
      "0    14028\n",
      "1      971\n",
      "Name: SeriousDlqin2yrs, dtype: int64\n"
     ]
    },
    {
     "data": {
      "image/png": "[encoded data removed]",
      "text/plain": [
       "<Figure size 432x288 with 1 Axes>"
      ]
     },
     "metadata": {},
     "output_type": "display_data"
    }
   ],
   "source": [
    "pie = df.SeriousDlqin2yrs.value_counts()\n",
    "print(pie)\n",
    "lab= '1','0'\n",
    "plt.pie(pie, labels = lab)\n",
    "plt.show()"
   ]
  },
  {
   "cell_type": "code",
   "execution_count": 110,
   "id": "34f54d02",
   "metadata": {},
   "outputs": [],
   "source": [
    "#We have imbalanced data which is fine as number of defaults will always be very low compared to normal accounts"
   ]
  },
  {
   "cell_type": "code",
   "execution_count": 111,
   "id": "6fa1bd8d",
   "metadata": {},
   "outputs": [
    {
     "data": {
      "text/plain": [
       "Index(['Sr.no', 'SeriousDlqin2yrs', 'RevolvingUtilizationOfUnsecuredLines',\n",
       "       'age', 'NumberOfTime30-59DaysPastDueNotWorse', 'DebtRatio',\n",
       "       'MonthlyIncome', 'NumberOfOpenCreditLinesAndLoans',\n",
       "       'NumberOfTimes90DaysLate', 'NumberRealEstateLoansOrLines',\n",
       "       'NumberOfTime60-89DaysPastDueNotWorse', 'NumberOfDependents'],\n",
       "      dtype='object')"
      ]
     },
     "execution_count": 111,
     "metadata": {},
     "output_type": "execute_result"
    }
   ],
   "source": [
    "df.columns"
   ]
  },
  {
   "cell_type": "code",
   "execution_count": 112,
   "id": "bce79ed6",
   "metadata": {},
   "outputs": [
    {
     "name": "stdout",
     "output_type": "stream",
     "text": [
      "Index(['SeriousDlqin2yrs', 'RevolvingUtilizationOfUnsecuredLines', 'age',\n",
      "       'NumberOfTime30-59DaysPastDueNotWorse', 'DebtRatio', 'MonthlyIncome',\n",
      "       'NumberOfOpenCreditLinesAndLoans', 'NumberOfTimes90DaysLate',\n",
      "       'NumberRealEstateLoansOrLines', 'NumberOfTime60-89DaysPastDueNotWorse',\n",
      "       'NumberOfDependents'],\n",
      "      dtype='object')\n"
     ]
    }
   ],
   "source": [
    "#Removing the unnecessary variables from our data\n",
    "\n",
    "df= df.drop(['Sr.no'], axis=1)\n",
    "print(df.columns)"
   ]
  },
  {
   "cell_type": "code",
   "execution_count": 113,
   "id": "612aa475",
   "metadata": {},
   "outputs": [
    {
     "name": "stdout",
     "output_type": "stream",
     "text": [
      "Index(['SeriousDlqin2yrs', 'Utilazn_unsecure_lines', 'Age', 'Times_30-59_DPD',\n",
      "       'DebtRatio', 'MonthlyIncome', 'No_ofOpenCreditLinesAndLoans',\n",
      "       'Times_90_DPD', 'No_ofRealEstateLoansOrLines', 'Times_60-89_DPD',\n",
      "       'NumberOfDependents'],\n",
      "      dtype='object')\n"
     ]
    }
   ],
   "source": [
    "df= df.rename(columns={'age':'Age'})\n",
    "df= df.rename(columns={'NumberOfTime30-59DaysPastDueNotWorse':'Times_30-59_DPD'})\n",
    "df= df.rename(columns={'NumberOfTimes90DaysLate':'Times_90_DPD'})\n",
    "df= df.rename(columns={'NumberOfTime60-89DaysPastDueNotWorse':'Times_60-89_DPD'})\n",
    "df= df.rename(columns={'RevolvingUtilizationOfUnsecuredLines':'Utilazn_unsecure_lines'})\n",
    "df= df.rename(columns={'NumberOfOpenCreditLinesAndLoans':'No_ofOpenCreditLinesAndLoans'})\n",
    "df= df.rename(columns={'NumberRealEstateLoansOrLines':'No_ofRealEstateLoansOrLines'})\n",
    "print(df.columns)"
   ]
  },
  {
   "cell_type": "code",
   "execution_count": 114,
   "id": "a5d1486d",
   "metadata": {},
   "outputs": [
    {
     "data": {
      "text/html": [
       "<div>\n",
       "<style scoped>\n",
       "    .dataframe tbody tr th:only-of-type {\n",
       "        vertical-align: middle;\n",
       "    }\n",
       "\n",
       "    .dataframe tbody tr th {\n",
       "        vertical-align: top;\n",
       "    }\n",
       "\n",
       "    .dataframe thead th {\n",
       "        text-align: right;\n",
       "    }\n",
       "</style>\n",
       "<table border=\"1\" class=\"dataframe\">\n",
       "  <thead>\n",
       "    <tr style=\"text-align: right;\">\n",
       "      <th></th>\n",
       "      <th>SeriousDlqin2yrs</th>\n",
       "      <th>Utilazn_unsecure_lines</th>\n",
       "      <th>Age</th>\n",
       "      <th>Times_30-59_DPD</th>\n",
       "      <th>DebtRatio</th>\n",
       "      <th>MonthlyIncome</th>\n",
       "      <th>No_ofOpenCreditLinesAndLoans</th>\n",
       "      <th>Times_90_DPD</th>\n",
       "      <th>No_ofRealEstateLoansOrLines</th>\n",
       "      <th>Times_60-89_DPD</th>\n",
       "      <th>NumberOfDependents</th>\n",
       "    </tr>\n",
       "  </thead>\n",
       "  <tbody>\n",
       "    <tr>\n",
       "      <th>SeriousDlqin2yrs</th>\n",
       "      <td>1.000000</td>\n",
       "      <td>0.007386</td>\n",
       "      <td>-0.119645</td>\n",
       "      <td>0.129307</td>\n",
       "      <td>-0.006454</td>\n",
       "      <td>-0.035425</td>\n",
       "      <td>-0.034977</td>\n",
       "      <td>0.120505</td>\n",
       "      <td>-0.010314</td>\n",
       "      <td>0.106524</td>\n",
       "      <td>0.024037</td>\n",
       "    </tr>\n",
       "    <tr>\n",
       "      <th>Utilazn_unsecure_lines</th>\n",
       "      <td>0.007386</td>\n",
       "      <td>1.000000</td>\n",
       "      <td>-0.004401</td>\n",
       "      <td>-0.001433</td>\n",
       "      <td>-0.002077</td>\n",
       "      <td>0.008275</td>\n",
       "      <td>-0.018111</td>\n",
       "      <td>-0.001248</td>\n",
       "      <td>0.010211</td>\n",
       "      <td>-0.001320</td>\n",
       "      <td>0.006658</td>\n",
       "    </tr>\n",
       "    <tr>\n",
       "      <th>Age</th>\n",
       "      <td>-0.119645</td>\n",
       "      <td>-0.004401</td>\n",
       "      <td>1.000000</td>\n",
       "      <td>-0.068662</td>\n",
       "      <td>0.027899</td>\n",
       "      <td>0.079904</td>\n",
       "      <td>0.141364</td>\n",
       "      <td>-0.067334</td>\n",
       "      <td>0.032223</td>\n",
       "      <td>-0.064138</td>\n",
       "      <td>-0.204878</td>\n",
       "    </tr>\n",
       "    <tr>\n",
       "      <th>Times_30-59_DPD</th>\n",
       "      <td>0.129307</td>\n",
       "      <td>-0.001433</td>\n",
       "      <td>-0.068662</td>\n",
       "      <td>1.000000</td>\n",
       "      <td>-0.007073</td>\n",
       "      <td>-0.019303</td>\n",
       "      <td>-0.050015</td>\n",
       "      <td>0.981816</td>\n",
       "      <td>-0.029423</td>\n",
       "      <td>0.985141</td>\n",
       "      <td>-0.011868</td>\n",
       "    </tr>\n",
       "    <tr>\n",
       "      <th>DebtRatio</th>\n",
       "      <td>-0.006454</td>\n",
       "      <td>-0.002077</td>\n",
       "      <td>0.027899</td>\n",
       "      <td>-0.007073</td>\n",
       "      <td>1.000000</td>\n",
       "      <td>-0.012981</td>\n",
       "      <td>0.038878</td>\n",
       "      <td>-0.008407</td>\n",
       "      <td>0.109433</td>\n",
       "      <td>-0.007202</td>\n",
       "      <td>-0.036922</td>\n",
       "    </tr>\n",
       "    <tr>\n",
       "      <th>MonthlyIncome</th>\n",
       "      <td>-0.035425</td>\n",
       "      <td>0.008275</td>\n",
       "      <td>0.079904</td>\n",
       "      <td>-0.019303</td>\n",
       "      <td>-0.012981</td>\n",
       "      <td>1.000000</td>\n",
       "      <td>0.187187</td>\n",
       "      <td>-0.025720</td>\n",
       "      <td>0.252620</td>\n",
       "      <td>-0.023439</td>\n",
       "      <td>0.112657</td>\n",
       "    </tr>\n",
       "    <tr>\n",
       "      <th>No_ofOpenCreditLinesAndLoans</th>\n",
       "      <td>-0.034977</td>\n",
       "      <td>-0.018111</td>\n",
       "      <td>0.141364</td>\n",
       "      <td>-0.050015</td>\n",
       "      <td>0.038878</td>\n",
       "      <td>0.187187</td>\n",
       "      <td>1.000000</td>\n",
       "      <td>-0.077643</td>\n",
       "      <td>0.440692</td>\n",
       "      <td>-0.067918</td>\n",
       "      <td>0.073137</td>\n",
       "    </tr>\n",
       "    <tr>\n",
       "      <th>Times_90_DPD</th>\n",
       "      <td>0.120505</td>\n",
       "      <td>-0.001248</td>\n",
       "      <td>-0.067334</td>\n",
       "      <td>0.981816</td>\n",
       "      <td>-0.008407</td>\n",
       "      <td>-0.025720</td>\n",
       "      <td>-0.077643</td>\n",
       "      <td>1.000000</td>\n",
       "      <td>-0.045871</td>\n",
       "      <td>0.992823</td>\n",
       "      <td>-0.019822</td>\n",
       "    </tr>\n",
       "    <tr>\n",
       "      <th>No_ofRealEstateLoansOrLines</th>\n",
       "      <td>-0.010314</td>\n",
       "      <td>0.010211</td>\n",
       "      <td>0.032223</td>\n",
       "      <td>-0.029423</td>\n",
       "      <td>0.109433</td>\n",
       "      <td>0.252620</td>\n",
       "      <td>0.440692</td>\n",
       "      <td>-0.045871</td>\n",
       "      <td>1.000000</td>\n",
       "      <td>-0.038370</td>\n",
       "      <td>0.134787</td>\n",
       "    </tr>\n",
       "    <tr>\n",
       "      <th>Times_60-89_DPD</th>\n",
       "      <td>0.106524</td>\n",
       "      <td>-0.001320</td>\n",
       "      <td>-0.064138</td>\n",
       "      <td>0.985141</td>\n",
       "      <td>-0.007202</td>\n",
       "      <td>-0.023439</td>\n",
       "      <td>-0.067918</td>\n",
       "      <td>0.992823</td>\n",
       "      <td>-0.038370</td>\n",
       "      <td>1.000000</td>\n",
       "      <td>-0.020221</td>\n",
       "    </tr>\n",
       "    <tr>\n",
       "      <th>NumberOfDependents</th>\n",
       "      <td>0.024037</td>\n",
       "      <td>0.006658</td>\n",
       "      <td>-0.204878</td>\n",
       "      <td>-0.011868</td>\n",
       "      <td>-0.036922</td>\n",
       "      <td>0.112657</td>\n",
       "      <td>0.073137</td>\n",
       "      <td>-0.019822</td>\n",
       "      <td>0.134787</td>\n",
       "      <td>-0.020221</td>\n",
       "      <td>1.000000</td>\n",
       "    </tr>\n",
       "  </tbody>\n",
       "</table>\n",
       "</div>"
      ],
      "text/plain": [
       "                              SeriousDlqin2yrs  Utilazn_unsecure_lines  \\\n",
       "SeriousDlqin2yrs                      1.000000                0.007386   \n",
       "Utilazn_unsecure_lines                0.007386                1.000000   \n",
       "Age                                  -0.119645               -0.004401   \n",
       "Times_30-59_DPD                       0.129307               -0.001433   \n",
       "DebtRatio                            -0.006454               -0.002077   \n",
       "MonthlyIncome                        -0.035425                0.008275   \n",
       "No_ofOpenCreditLinesAndLoans         -0.034977               -0.018111   \n",
       "Times_90_DPD                          0.120505               -0.001248   \n",
       "No_ofRealEstateLoansOrLines          -0.010314                0.010211   \n",
       "Times_60-89_DPD                       0.106524               -0.001320   \n",
       "NumberOfDependents                    0.024037                0.006658   \n",
       "\n",
       "                                   Age  Times_30-59_DPD  DebtRatio  \\\n",
       "SeriousDlqin2yrs             -0.119645         0.129307  -0.006454   \n",
       "Utilazn_unsecure_lines       -0.004401        -0.001433  -0.002077   \n",
       "Age                           1.000000        -0.068662   0.027899   \n",
       "Times_30-59_DPD              -0.068662         1.000000  -0.007073   \n",
       "DebtRatio                     0.027899        -0.007073   1.000000   \n",
       "MonthlyIncome                 0.079904        -0.019303  -0.012981   \n",
       "No_ofOpenCreditLinesAndLoans  0.141364        -0.050015   0.038878   \n",
       "Times_90_DPD                 -0.067334         0.981816  -0.008407   \n",
       "No_ofRealEstateLoansOrLines   0.032223        -0.029423   0.109433   \n",
       "Times_60-89_DPD              -0.064138         0.985141  -0.007202   \n",
       "NumberOfDependents           -0.204878        -0.011868  -0.036922   \n",
       "\n",
       "                              MonthlyIncome  No_ofOpenCreditLinesAndLoans  \\\n",
       "SeriousDlqin2yrs                  -0.035425                     -0.034977   \n",
       "Utilazn_unsecure_lines             0.008275                     -0.018111   \n",
       "Age                                0.079904                      0.141364   \n",
       "Times_30-59_DPD                   -0.019303                     -0.050015   \n",
       "DebtRatio                         -0.012981                      0.038878   \n",
       "MonthlyIncome                      1.000000                      0.187187   \n",
       "No_ofOpenCreditLinesAndLoans       0.187187                      1.000000   \n",
       "Times_90_DPD                      -0.025720                     -0.077643   \n",
       "No_ofRealEstateLoansOrLines        0.252620                      0.440692   \n",
       "Times_60-89_DPD                   -0.023439                     -0.067918   \n",
       "NumberOfDependents                 0.112657                      0.073137   \n",
       "\n",
       "                              Times_90_DPD  No_ofRealEstateLoansOrLines  \\\n",
       "SeriousDlqin2yrs                  0.120505                    -0.010314   \n",
       "Utilazn_unsecure_lines           -0.001248                     0.010211   \n",
       "Age                              -0.067334                     0.032223   \n",
       "Times_30-59_DPD                   0.981816                    -0.029423   \n",
       "DebtRatio                        -0.008407                     0.109433   \n",
       "MonthlyIncome                    -0.025720                     0.252620   \n",
       "No_ofOpenCreditLinesAndLoans     -0.077643                     0.440692   \n",
       "Times_90_DPD                      1.000000                    -0.045871   \n",
       "No_ofRealEstateLoansOrLines      -0.045871                     1.000000   \n",
       "Times_60-89_DPD                   0.992823                    -0.038370   \n",
       "NumberOfDependents               -0.019822                     0.134787   \n",
       "\n",
       "                              Times_60-89_DPD  NumberOfDependents  \n",
       "SeriousDlqin2yrs                     0.106524            0.024037  \n",
       "Utilazn_unsecure_lines              -0.001320            0.006658  \n",
       "Age                                 -0.064138           -0.204878  \n",
       "Times_30-59_DPD                      0.985141           -0.011868  \n",
       "DebtRatio                           -0.007202           -0.036922  \n",
       "MonthlyIncome                       -0.023439            0.112657  \n",
       "No_ofOpenCreditLinesAndLoans        -0.067918            0.073137  \n",
       "Times_90_DPD                         0.992823           -0.019822  \n",
       "No_ofRealEstateLoansOrLines         -0.038370            0.134787  \n",
       "Times_60-89_DPD                      1.000000           -0.020221  \n",
       "NumberOfDependents                  -0.020221            1.000000  "
      ]
     },
     "execution_count": 114,
     "metadata": {},
     "output_type": "execute_result"
    }
   ],
   "source": [
    "df.corr()"
   ]
  },
  {
   "cell_type": "code",
   "execution_count": 115,
   "id": "b985a723",
   "metadata": {},
   "outputs": [
    {
     "data": {
      "text/plain": [
       "<AxesSubplot:>"
      ]
     },
     "execution_count": 115,
     "metadata": {},
     "output_type": "execute_result"
    },
    {
     "data": {
      "image/png": "[encoded data removed]",
      "text/plain": [
       "<Figure size 1080x720 with 2 Axes>"
      ]
     },
     "metadata": {
      "needs_background": "light"
     },
     "output_type": "display_data"
    }
   ],
   "source": [
    "plt.figure(figsize=(15,10))\n",
    "sns.heatmap(df.corr(),cmap='coolwarm',annot=True)"
   ]
  },
  {
   "cell_type": "code",
   "execution_count": 92,
   "id": "98bcfa37",
   "metadata": {},
   "outputs": [
    {
     "data": {
      "text/plain": [
       "\"\\ndf1= df.copy()\\ndf1= df1.drop(['Times_90_DPD','Times_60-89_DPD'], axis=1)\\ndf1.columns\\n\\nplt.figure(figsize=(15,10))\\nsns.heatmap(df1.corr(),cmap='coolwarm',annot=True)\\n\""
      ]
     },
     "execution_count": 92,
     "metadata": {},
     "output_type": "execute_result"
    }
   ],
   "source": [
    "#High correlation filter\n",
    "#Deleted the highly correlated variables and performed the whole analysis with logistic reg\n",
    "'''\n",
    "df1= df.copy()\n",
    "df1= df1.drop(['Times_90_DPD','Times_60-89_DPD'], axis=1)\n",
    "df1.columns\n",
    "\n",
    "plt.figure(figsize=(15,10))\n",
    "sns.heatmap(df1.corr(),cmap='coolwarm',annot=True)\n",
    "'''\n",
    "\n",
    "#ROC score= 0.71, Gini = 0.43  #not acceptable"
   ]
  },
  {
   "cell_type": "code",
   "execution_count": null,
   "id": "78e5d171",
   "metadata": {},
   "outputs": [],
   "source": []
  },
  {
   "cell_type": "code",
   "execution_count": 93,
   "id": "8c74a8a8",
   "metadata": {},
   "outputs": [],
   "source": [
    "#Multicollinearity"
   ]
  },
  {
   "cell_type": "code",
   "execution_count": 94,
   "id": "2f68e8b2",
   "metadata": {},
   "outputs": [
    {
     "data": {
      "text/html": [
       "<div>\n",
       "<style scoped>\n",
       "    .dataframe tbody tr th:only-of-type {\n",
       "        vertical-align: middle;\n",
       "    }\n",
       "\n",
       "    .dataframe tbody tr th {\n",
       "        vertical-align: top;\n",
       "    }\n",
       "\n",
       "    .dataframe thead th {\n",
       "        text-align: right;\n",
       "    }\n",
       "</style>\n",
       "<table border=\"1\" class=\"dataframe\">\n",
       "  <thead>\n",
       "    <tr style=\"text-align: right;\">\n",
       "      <th></th>\n",
       "      <th>VIF</th>\n",
       "      <th>Column</th>\n",
       "    </tr>\n",
       "  </thead>\n",
       "  <tbody>\n",
       "    <tr>\n",
       "      <th>8</th>\n",
       "      <td>88.466035</td>\n",
       "      <td>Times_60-89_DPD</td>\n",
       "    </tr>\n",
       "    <tr>\n",
       "      <th>6</th>\n",
       "      <td>73.297469</td>\n",
       "      <td>Times_90_DPD</td>\n",
       "    </tr>\n",
       "    <tr>\n",
       "      <th>2</th>\n",
       "      <td>35.962185</td>\n",
       "      <td>Times_30-59_DPD</td>\n",
       "    </tr>\n",
       "    <tr>\n",
       "      <th>5</th>\n",
       "      <td>4.694363</td>\n",
       "      <td>No_ofOpenCreditLinesAndLoans</td>\n",
       "    </tr>\n",
       "    <tr>\n",
       "      <th>1</th>\n",
       "      <td>4.115874</td>\n",
       "      <td>Age</td>\n",
       "    </tr>\n",
       "    <tr>\n",
       "      <th>4</th>\n",
       "      <td>2.518262</td>\n",
       "      <td>MonthlyIncome</td>\n",
       "    </tr>\n",
       "    <tr>\n",
       "      <th>7</th>\n",
       "      <td>2.477259</td>\n",
       "      <td>No_ofRealEstateLoansOrLines</td>\n",
       "    </tr>\n",
       "    <tr>\n",
       "      <th>9</th>\n",
       "      <td>1.411427</td>\n",
       "      <td>NumberOfDependents</td>\n",
       "    </tr>\n",
       "    <tr>\n",
       "      <th>3</th>\n",
       "      <td>1.048847</td>\n",
       "      <td>DebtRatio</td>\n",
       "    </tr>\n",
       "    <tr>\n",
       "      <th>0</th>\n",
       "      <td>1.001546</td>\n",
       "      <td>Utilazn_unsecure_lines</td>\n",
       "    </tr>\n",
       "  </tbody>\n",
       "</table>\n",
       "</div>"
      ],
      "text/plain": [
       "         VIF                        Column\n",
       "8  88.466035               Times_60-89_DPD\n",
       "6  73.297469                  Times_90_DPD\n",
       "2  35.962185               Times_30-59_DPD\n",
       "5   4.694363  No_ofOpenCreditLinesAndLoans\n",
       "1   4.115874                           Age\n",
       "4   2.518262                 MonthlyIncome\n",
       "7   2.477259   No_ofRealEstateLoansOrLines\n",
       "9   1.411427            NumberOfDependents\n",
       "3   1.048847                     DebtRatio\n",
       "0   1.001546        Utilazn_unsecure_lines"
      ]
     },
     "execution_count": 94,
     "metadata": {},
     "output_type": "execute_result"
    }
   ],
   "source": [
    "import statsmodels.api as sm\n",
    "from statsmodels.stats.outliers_influence import variance_inflation_factor\n",
    "\n",
    "X = df[list(df.columns[1:])]\n",
    "\n",
    "vif_info = pd.DataFrame()\n",
    "vif_info['VIF'] = [variance_inflation_factor(X.values, i) for i in range(X.shape[1])]\n",
    "vif_info['Column'] = X.columns\n",
    "vif_info.sort_values('VIF', ascending=False)"
   ]
  },
  {
   "cell_type": "code",
   "execution_count": 95,
   "id": "dc96ed9a",
   "metadata": {},
   "outputs": [],
   "source": [
    "#To remove multicollinearities, we can do two things. We can create new features or remove them from our data.\n",
    "\n",
    "#Removing features is not recommended at first. The reason is that there’s a possibility of information loss because we remove that feature.\n",
    "#The result will be same as above. Hence not deleting the variables and proceeding with a diff method\n"
   ]
  },
  {
   "cell_type": "code",
   "execution_count": null,
   "id": "9351aa03",
   "metadata": {},
   "outputs": [],
   "source": []
  },
  {
   "cell_type": "markdown",
   "id": "7197a49f",
   "metadata": {},
   "source": [
    "# Weight of Evidence and Information Value"
   ]
  },
  {
   "cell_type": "code",
   "execution_count": 96,
   "id": "bfd83b5f",
   "metadata": {},
   "outputs": [],
   "source": [
    "features = df[df.columns.difference(['SeriousDlqin2yrs'])]\n",
    "labels = df['SeriousDlqin2yrs']"
   ]
  },
  {
   "cell_type": "code",
   "execution_count": 97,
   "id": "b322b45c",
   "metadata": {},
   "outputs": [],
   "source": [
    "import pandas.core.algorithms as algos\n",
    "from pandas import Series\n",
    "import scipy.stats.stats as stats\n",
    "import re\n",
    "import traceback\n",
    "import string\n",
    "\n",
    "max_bin = 20\n",
    "force_bin = 3\n",
    "\n",
    "# define a binning function\n",
    "def mono_bin(Y, X, n = max_bin):\n",
    "    \n",
    "    df1 = pd.DataFrame({\"X\": X, \"Y\": Y})\n",
    "    justmiss = df1[['X','Y']][df1.X.isnull()]\n",
    "    notmiss = df1[['X','Y']][df1.X.notnull()]\n",
    "    r = 0\n",
    "    while np.abs(r) < 1:\n",
    "        try:\n",
    "            d1 = pd.DataFrame({\"X\": notmiss.X, \"Y\": notmiss.Y, \"Bucket\": pd.qcut(notmiss.X, n)})\n",
    "            d2 = d1.groupby('Bucket', as_index=True)\n",
    "            r, p = stats.spearmanr(d2.mean().X, d2.mean().Y)\n",
    "            n = n - 1 \n",
    "        except Exception as e:\n",
    "            n = n - 1\n",
    "\n",
    "    if len(d2) == 1:\n",
    "        n = force_bin         \n",
    "        bins = algos.quantile(notmiss.X, np.linspace(0, 1, n))\n",
    "        if len(np.unique(bins)) == 2:\n",
    "            bins = np.insert(bins, 0, 1)\n",
    "            bins[1] = bins[1]-(bins[1]/2)\n",
    "        d1 = pd.DataFrame({\"X\": notmiss.X, \"Y\": notmiss.Y, \"Bucket\": pd.cut(notmiss.X, np.unique(bins),include_lowest=True)}) \n",
    "        d2 = d1.groupby('Bucket', as_index=True)\n",
    "    \n",
    "    d3 = pd.DataFrame({},index=[])\n",
    "    d3[\"MIN_VALUE\"] = d2.min().X\n",
    "    d3[\"MAX_VALUE\"] = d2.max().X\n",
    "    d3[\"COUNT\"] = d2.count().Y\n",
    "    d3[\"EVENT\"] = d2.sum().Y\n",
    "    d3[\"NONEVENT\"] = d2.count().Y - d2.sum().Y\n",
    "    d3=d3.reset_index(drop=True)\n",
    "    \n",
    "    if len(justmiss.index) > 0:\n",
    "        d4 = pd.DataFrame({'MIN_VALUE':np.nan},index=[0])\n",
    "        d4[\"MAX_VALUE\"] = np.nan\n",
    "        d4[\"COUNT\"] = justmiss.count().Y\n",
    "        d4[\"EVENT\"] = justmiss.sum().Y\n",
    "        d4[\"NONEVENT\"] = justmiss.count().Y - justmiss.sum().Y\n",
    "        d3 = d3.append(d4,ignore_index=True)\n",
    "    \n",
    "    d3[\"EVENT_RATE\"] = d3.EVENT/d3.COUNT\n",
    "    d3[\"NON_EVENT_RATE\"] = d3.NONEVENT/d3.COUNT\n",
    "    d3[\"DIST_EVENT\"] = d3.EVENT/d3.sum().EVENT\n",
    "    d3[\"DIST_NON_EVENT\"] = d3.NONEVENT/d3.sum().NONEVENT\n",
    "    d3[\"WOE\"] = np.log(d3.DIST_EVENT/d3.DIST_NON_EVENT)\n",
    "    d3[\"IV\"] = (d3.DIST_EVENT-d3.DIST_NON_EVENT)*np.log(d3.DIST_EVENT/d3.DIST_NON_EVENT)\n",
    "    d3[\"VAR_NAME\"] = \"VAR\"\n",
    "    d3 = d3[['VAR_NAME','MIN_VALUE', 'MAX_VALUE', 'COUNT', 'EVENT', 'EVENT_RATE', 'NONEVENT', 'NON_EVENT_RATE', 'DIST_EVENT','DIST_NON_EVENT','WOE', 'IV']]       \n",
    "    d3 = d3.replace([np.inf, -np.inf], 0)\n",
    "    d3.IV = d3.IV.sum()\n",
    "    \n",
    "    return(d3)\n",
    "\n",
    "def char_bin(Y, X):\n",
    "        \n",
    "    df1 = pd.DataFrame({\"X\": X, \"Y\": Y})\n",
    "    justmiss = df1[['X','Y']][df1.X.isnull()]\n",
    "    notmiss = df1[['X','Y']][df1.X.notnull()]    \n",
    "    df2 = notmiss.groupby('X',as_index=True)\n",
    "    \n",
    "    d3 = pd.DataFrame({},index=[])\n",
    "    d3[\"COUNT\"] = df2.count().Y\n",
    "    d3[\"MIN_VALUE\"] = df2.sum().Y.index\n",
    "    d3[\"MAX_VALUE\"] = d3[\"MIN_VALUE\"]\n",
    "    d3[\"EVENT\"] = df2.sum().Y\n",
    "    d3[\"NONEVENT\"] = df2.count().Y - df2.sum().Y\n",
    "    \n",
    "    if len(justmiss.index) > 0:\n",
    "        d4 = pd.DataFrame({'MIN_VALUE':np.nan},index=[0])\n",
    "        d4[\"MAX_VALUE\"] = np.nan\n",
    "        d4[\"COUNT\"] = justmiss.count().Y\n",
    "        d4[\"EVENT\"] = justmiss.sum().Y\n",
    "        d4[\"NONEVENT\"] = justmiss.count().Y - justmiss.sum().Y\n",
    "        d3 = d3.append(d4,ignore_index=True)\n",
    "    \n",
    "    d3[\"EVENT_RATE\"] = d3.EVENT/d3.COUNT\n",
    "    d3[\"NON_EVENT_RATE\"] = d3.NONEVENT/d3.COUNT\n",
    "    d3[\"DIST_EVENT\"] = d3.EVENT/d3.sum().EVENT\n",
    "    d3[\"DIST_NON_EVENT\"] = d3.NONEVENT/d3.sum().NONEVENT\n",
    "    d3[\"WOE\"] = np.log(d3.DIST_EVENT/d3.DIST_NON_EVENT)\n",
    "    d3[\"IV\"] = (d3.DIST_EVENT-d3.DIST_NON_EVENT)*np.log(d3.DIST_EVENT/d3.DIST_NON_EVENT)\n",
    "    d3[\"VAR_NAME\"] = \"VAR\"\n",
    "    d3 = d3[['VAR_NAME','MIN_VALUE', 'MAX_VALUE', 'COUNT', 'EVENT', 'EVENT_RATE', 'NONEVENT', 'NON_EVENT_RATE', 'DIST_EVENT','DIST_NON_EVENT','WOE', 'IV']]      \n",
    "    d3 = d3.replace([np.inf, -np.inf], 0)\n",
    "    d3.IV = d3.IV.sum()\n",
    "    d3 = d3.reset_index(drop=True)\n",
    "    \n",
    "    return(d3)\n",
    "\n",
    "def data_vars(df1, target):\n",
    "    \n",
    "    stack = traceback.extract_stack()\n",
    "    filename, lineno, function_name, code = stack[-2]\n",
    "    vars_name = re.compile(r'\\((.*?)\\).*$').search(code).groups()[0]\n",
    "    final = (re.findall(r\"[\\w']+\", vars_name))[-1]\n",
    "    \n",
    "    x = df1.dtypes.index\n",
    "    count = -1\n",
    "    \n",
    "    for i in x:\n",
    "        if i.upper() not in (final.upper()):\n",
    "            if np.issubdtype(df1[i], np.number) and len(Series.unique(df1[i])) > 2:\n",
    "                conv = mono_bin(target, df1[i])\n",
    "                conv[\"VAR_NAME\"] = i\n",
    "                count = count + 1\n",
    "            else:\n",
    "                conv = char_bin(target, df1[i])\n",
    "                conv[\"VAR_NAME\"] = i            \n",
    "                count = count + 1\n",
    "                \n",
    "            if count == 0:\n",
    "                iv_df = conv\n",
    "            else:\n",
    "                iv_df = iv_df.append(conv,ignore_index=True)\n",
    "    \n",
    "    iv = pd.DataFrame({'IV':iv_df.groupby('VAR_NAME').IV.max()})\n",
    "    iv = iv.reset_index()\n",
    "    return(iv_df,iv) "
   ]
  },
  {
   "cell_type": "code",
   "execution_count": 98,
   "id": "65b03d4f",
   "metadata": {},
   "outputs": [
    {
     "data": {
      "text/html": [
       "<div>\n",
       "<style scoped>\n",
       "    .dataframe tbody tr th:only-of-type {\n",
       "        vertical-align: middle;\n",
       "    }\n",
       "\n",
       "    .dataframe tbody tr th {\n",
       "        vertical-align: top;\n",
       "    }\n",
       "\n",
       "    .dataframe thead th {\n",
       "        text-align: right;\n",
       "    }\n",
       "</style>\n",
       "<table border=\"1\" class=\"dataframe\">\n",
       "  <thead>\n",
       "    <tr style=\"text-align: right;\">\n",
       "      <th></th>\n",
       "      <th>index</th>\n",
       "      <th>IV</th>\n",
       "    </tr>\n",
       "  </thead>\n",
       "  <tbody>\n",
       "    <tr>\n",
       "      <th>9</th>\n",
       "      <td>Utilazn_unsecure_lines</td>\n",
       "      <td>0.969560</td>\n",
       "    </tr>\n",
       "    <tr>\n",
       "      <th>6</th>\n",
       "      <td>Times_30-59_DPD</td>\n",
       "      <td>0.434661</td>\n",
       "    </tr>\n",
       "    <tr>\n",
       "      <th>8</th>\n",
       "      <td>Times_90_DPD</td>\n",
       "      <td>0.429053</td>\n",
       "    </tr>\n",
       "    <tr>\n",
       "      <th>0</th>\n",
       "      <td>Age</td>\n",
       "      <td>0.287555</td>\n",
       "    </tr>\n",
       "    <tr>\n",
       "      <th>7</th>\n",
       "      <td>Times_60-89_DPD</td>\n",
       "      <td>0.235302</td>\n",
       "    </tr>\n",
       "    <tr>\n",
       "      <th>2</th>\n",
       "      <td>MonthlyIncome</td>\n",
       "      <td>0.083708</td>\n",
       "    </tr>\n",
       "    <tr>\n",
       "      <th>1</th>\n",
       "      <td>DebtRatio</td>\n",
       "      <td>0.022457</td>\n",
       "    </tr>\n",
       "    <tr>\n",
       "      <th>5</th>\n",
       "      <td>NumberOfDependents</td>\n",
       "      <td>0.006819</td>\n",
       "    </tr>\n",
       "    <tr>\n",
       "      <th>3</th>\n",
       "      <td>No_ofOpenCreditLinesAndLoans</td>\n",
       "      <td>0.005347</td>\n",
       "    </tr>\n",
       "    <tr>\n",
       "      <th>4</th>\n",
       "      <td>No_ofRealEstateLoansOrLines</td>\n",
       "      <td>0.001207</td>\n",
       "    </tr>\n",
       "  </tbody>\n",
       "</table>\n",
       "</div>"
      ],
      "text/plain": [
       "                          index        IV\n",
       "9        Utilazn_unsecure_lines  0.969560\n",
       "6               Times_30-59_DPD  0.434661\n",
       "8                  Times_90_DPD  0.429053\n",
       "0                           Age  0.287555\n",
       "7               Times_60-89_DPD  0.235302\n",
       "2                 MonthlyIncome  0.083708\n",
       "1                     DebtRatio  0.022457\n",
       "5            NumberOfDependents  0.006819\n",
       "3  No_ofOpenCreditLinesAndLoans  0.005347\n",
       "4   No_ofRealEstateLoansOrLines  0.001207"
      ]
     },
     "execution_count": 98,
     "metadata": {},
     "output_type": "execute_result"
    }
   ],
   "source": [
    "final_iv, IV = data_vars(df,df.SeriousDlqin2yrs)\n",
    "IV = IV.rename(columns={'VAR_NAME':'index'})\n",
    "IV.sort_values(['IV'],ascending=0)"
   ]
  },
  {
   "cell_type": "markdown",
   "id": "63abf4b2",
   "metadata": {},
   "source": [
    "#Information value is not an optimal feature (variable) selection method when you are building a classification model other than binary logistic regression (for eg. random forest or SVM) as conditional log odds (which we predict in a logistic regression model) is highly related to the calculation of weight of evidence. In other words, it's designed mainly for binary logistic regression model. Also think this way - Random forest can detect non-linear relationship very well so selecting variables via Information Value and using them in random forest model might not produce the most accurate and robust predictive model."
   ]
  },
  {
   "cell_type": "code",
   "execution_count": null,
   "id": "dd229a52",
   "metadata": {},
   "outputs": [],
   "source": [
    "df1= df.copy()\n",
    "df1= df1.drop(['Utilazn_unsecure_lines','NumberOfDependents', 'No_ofOpenCreditLinesAndLoans', 'No_ofRealEstateLoansOrLines'], axis=1)\n",
    "df1.columns"
   ]
  },
  {
   "cell_type": "code",
   "execution_count": 116,
   "id": "149ae3db",
   "metadata": {},
   "outputs": [
    {
     "name": "stdout",
     "output_type": "stream",
     "text": [
      "(14999, 9)\n",
      "(14999,)\n",
      "Index(['Utilazn_unsecure_lines', 'Age', 'Times_30-59_DPD', 'DebtRatio',\n",
      "       'MonthlyIncome', 'No_ofOpenCreditLinesAndLoans', 'Times_90_DPD',\n",
      "       'No_ofRealEstateLoansOrLines', 'Times_60-89_DPD'],\n",
      "      dtype='object')\n",
      "0        1\n",
      "1        0\n",
      "2        0\n",
      "3        0\n",
      "4        0\n",
      "        ..\n",
      "14994    0\n",
      "14995    0\n",
      "14996    0\n",
      "14997    0\n",
      "14998    0\n",
      "Name: SeriousDlqin2yrs, Length: 14999, dtype: int64\n"
     ]
    }
   ],
   "source": [
    "# splitting the dataset into x(independent variables) and y(dependent variables)\n",
    "\n",
    "X = df.iloc[:,1:10]\n",
    "y = df.iloc[:,0]\n",
    "\n",
    "print(X.shape)\n",
    "print(y.shape)\n",
    "\n",
    "print(X.columns)\n",
    "print(y)\n",
    "\n",
    "from sklearn.model_selection import train_test_split\n",
    "\n",
    "X_train, X_test, y_train, y_test = train_test_split(X, y, test_size=0.3, random_state=101)"
   ]
  },
  {
   "cell_type": "code",
   "execution_count": 117,
   "id": "f9b36846",
   "metadata": {},
   "outputs": [
    {
     "name": "stdout",
     "output_type": "stream",
     "text": [
      "Training Accuracy : 0.9351366796837794\n",
      "Testing Accuracy : 0.9364444444444444\n",
      "[[4210    4]\n",
      " [ 282    4]]\n",
      "0.7186108637577916\n",
      "Gini score is:  0.4372217275155832\n"
     ]
    },
    {
     "name": "stderr",
     "output_type": "stream",
     "text": [
      "C:\\Users\\Vineet\\anaconda3\\lib\\site-packages\\sklearn\\linear_model\\_logistic.py:763: ConvergenceWarning: lbfgs failed to converge (status=1):\n",
      "STOP: TOTAL NO. of ITERATIONS REACHED LIMIT.\n",
      "\n",
      "Increase the number of iterations (max_iter) or scale the data as shown in:\n",
      "    https://scikit-learn.org/stable/modules/preprocessing.html\n",
      "Please also refer to the documentation for alternative solver options:\n",
      "    https://scikit-learn.org/stable/modules/linear_model.html#logistic-regression\n",
      "  n_iter_i = _check_optimize_result(\n"
     ]
    }
   ],
   "source": [
    "#Logistic\n",
    "\n",
    "from sklearn.linear_model import LogisticRegression\n",
    "from sklearn.metrics import confusion_matrix, roc_auc_score\n",
    "\n",
    "model = LogisticRegression()\n",
    "model.fit(X_train, y_train)\n",
    "\n",
    "y_pred = model.predict(X_test)\n",
    "\n",
    "print(\"Training Accuracy :\", model.score(X_train, y_train))\n",
    "print(\"Testing Accuracy :\", model.score(X_test, y_test))\n",
    "\n",
    "cm = confusion_matrix(y_test, y_pred)\n",
    "print(cm)\n",
    "\n",
    "print(roc_auc_score(y_pred, y_test))\n",
    "a= roc_auc_score(y_pred, y_test)\n",
    "Gini = 2*a-1\n",
    "print('Gini score is: ',Gini)"
   ]
  },
  {
   "cell_type": "code",
   "execution_count": null,
   "id": "a61a8d1d",
   "metadata": {},
   "outputs": [],
   "source": []
  },
  {
   "cell_type": "code",
   "execution_count": 118,
   "id": "6da67a41",
   "metadata": {},
   "outputs": [
    {
     "name": "stdout",
     "output_type": "stream",
     "text": [
      "Training Accuracy : 0.9998095056672064\n",
      "Testing Accuracy : 0.9375555555555556\n",
      "[[4178   36]\n",
      " [ 245   41]]\n",
      "0.7385376323879601\n",
      "Gini score is:  0.4770752647759202\n"
     ]
    }
   ],
   "source": [
    "from sklearn.ensemble import RandomForestClassifier\n",
    "\n",
    "model = RandomForestClassifier()\n",
    "model.fit(X_train, y_train)\n",
    "\n",
    "y_pred = model.predict(X_test)\n",
    "\n",
    "print(\"Training Accuracy :\", model.score(X_train, y_train))\n",
    "print(\"Testing Accuracy :\", model.score(X_test, y_test))\n",
    "\n",
    "cm = confusion_matrix(y_test, y_pred)\n",
    "print(cm)\n",
    "\n",
    "print(roc_auc_score(y_pred, y_test))\n",
    "\n",
    "a= roc_auc_score(y_pred, y_test)\n",
    "Gini = 2*a-1\n",
    "print('Gini score is: ',Gini)"
   ]
  },
  {
   "cell_type": "code",
   "execution_count": null,
   "id": "415e1e65",
   "metadata": {},
   "outputs": [],
   "source": []
  },
  {
   "cell_type": "code",
   "execution_count": null,
   "id": "d65a85ee",
   "metadata": {},
   "outputs": [],
   "source": []
  },
  {
   "cell_type": "code",
   "execution_count": null,
   "id": "039c9ad2",
   "metadata": {},
   "outputs": [],
   "source": []
  },
  {
   "cell_type": "code",
   "execution_count": null,
   "id": "50b7470c",
   "metadata": {},
   "outputs": [],
   "source": []
  },
  {
   "cell_type": "code",
   "execution_count": null,
   "id": "06e6b535",
   "metadata": {},
   "outputs": [],
   "source": []
  },
  {
   "cell_type": "code",
   "execution_count": null,
   "id": "3d94a008",
   "metadata": {},
   "outputs": [],
   "source": []
  },
  {
   "cell_type": "code",
   "execution_count": null,
   "id": "4917013c",
   "metadata": {},
   "outputs": [],
   "source": []
  },
  {
   "cell_type": "code",
   "execution_count": null,
   "id": "d56d5b43",
   "metadata": {},
   "outputs": [],
   "source": []
  },
  {
   "cell_type": "code",
   "execution_count": null,
   "id": "207100fe",
   "metadata": {},
   "outputs": [],
   "source": []
  },
  {
   "cell_type": "code",
   "execution_count": null,
   "id": "f17d7162",
   "metadata": {},
   "outputs": [],
   "source": []
  },
  {
   "cell_type": "code",
   "execution_count": null,
   "id": "f385983e",
   "metadata": {},
   "outputs": [],
   "source": []
  },
  {
   "cell_type": "code",
   "execution_count": null,
   "id": "efab29aa",
   "metadata": {},
   "outputs": [],
   "source": []
  },
  {
   "cell_type": "code",
   "execution_count": null,
   "id": "2ff8e007",
   "metadata": {},
   "outputs": [],
   "source": []
  },
  {
   "cell_type": "code",
   "execution_count": null,
   "id": "8b6ea4ec",
   "metadata": {},
   "outputs": [],
   "source": []
  },
  {
   "cell_type": "code",
   "execution_count": null,
   "id": "b0e648cf",
   "metadata": {},
   "outputs": [],
   "source": []
  },
  {
   "cell_type": "code",
   "execution_count": null,
   "id": "c6a21d4d",
   "metadata": {},
   "outputs": [],
   "source": []
  },
  {
   "cell_type": "code",
   "execution_count": null,
   "id": "cefd4fdc",
   "metadata": {},
   "outputs": [],
   "source": []
  },
  {
   "cell_type": "code",
   "execution_count": null,
   "id": "6871bd7a",
   "metadata": {},
   "outputs": [],
   "source": []
  },
  {
   "cell_type": "code",
   "execution_count": null,
   "id": "d563a7a8",
   "metadata": {},
   "outputs": [],
   "source": []
  },
  {
   "cell_type": "code",
   "execution_count": null,
   "id": "3867b724",
   "metadata": {},
   "outputs": [],
   "source": []
  },
  {
   "cell_type": "code",
   "execution_count": null,
   "id": "20f7aab7",
   "metadata": {},
   "outputs": [],
   "source": []
  },
  {
   "cell_type": "code",
   "execution_count": null,
   "id": "ef68ccc2",
   "metadata": {},
   "outputs": [],
   "source": []
  },
  {
   "cell_type": "code",
   "execution_count": 140,
   "id": "8ea1b0b3",
   "metadata": {},
   "outputs": [
    {
     "name": "stdout",
     "output_type": "stream",
     "text": [
      "(14999, 8)\n",
      "(14999,)\n",
      "Index(['Utilazn_unsecure_lines', 'Age', 'Times_30-59_DPD', 'DebtRatio',\n",
      "       'MonthlyIncome', 'No_ofOpenCreditLinesAndLoans',\n",
      "       'No_ofRealEstateLoansOrLines', 'NumberOfDependents'],\n",
      "      dtype='object')\n",
      "0        1\n",
      "1        0\n",
      "2        0\n",
      "3        0\n",
      "4        0\n",
      "        ..\n",
      "14994    0\n",
      "14995    0\n",
      "14996    0\n",
      "14997    0\n",
      "14998    0\n",
      "Name: SeriousDlqin2yrs, Length: 14999, dtype: int64\n"
     ]
    }
   ],
   "source": [
    "# splitting the dataset into x(independent variables) and y(dependent variables)\n",
    "\n",
    "X = df.iloc[:,1:10]\n",
    "y = df.iloc[:,0]\n",
    "\n",
    "print(X.shape)\n",
    "print(y.shape)\n",
    "\n",
    "print(X.columns)\n",
    "print(y)"
   ]
  },
  {
   "cell_type": "markdown",
   "id": "7df0c8ae",
   "metadata": {},
   "source": [
    "# PCA"
   ]
  },
  {
   "cell_type": "code",
   "execution_count": 141,
   "id": "36df3f55",
   "metadata": {},
   "outputs": [
    {
     "data": {
      "text/plain": [
       "StandardScaler()"
      ]
     },
     "execution_count": 141,
     "metadata": {},
     "output_type": "execute_result"
    }
   ],
   "source": [
    "#PCA\n",
    "#always do standard scaling before doing pca\n",
    "\n",
    "from sklearn.preprocessing import StandardScaler\n",
    "\n",
    "scaler= StandardScaler()\n",
    "scaler.fit(df)"
   ]
  },
  {
   "cell_type": "code",
   "execution_count": 142,
   "id": "b3c228c6",
   "metadata": {},
   "outputs": [],
   "source": [
    "scaled_data = scaler.transform(df)"
   ]
  },
  {
   "cell_type": "code",
   "execution_count": 143,
   "id": "d757f875",
   "metadata": {},
   "outputs": [
    {
     "data": {
      "text/plain": [
       "array([[ 3.80091593, -0.02415608, -0.49166676, ...,  4.61133246,\n",
       "        -0.05682754,  1.13588783],\n",
       "       [-0.26309448, -0.02296107, -0.82974851, ..., -0.93617317,\n",
       "        -0.05682754,  0.24150064],\n",
       "       [-0.26309448, -0.02483137, -0.96498121, ..., -0.93617317,\n",
       "        -0.05682754, -0.65288655],\n",
       "       ...,\n",
       "       [-0.26309448, -0.028672  ,  1.60444012, ..., -0.0115889 ,\n",
       "        -0.05682754, -0.65288655],\n",
       "       [-0.26309448, -0.02885831,  0.52257851, ...,  0.91299538,\n",
       "        -0.05682754,  0.24150064],\n",
       "       [-0.26309448, -0.02858957, -0.35643406, ..., -0.93617317,\n",
       "        -0.05682754, -0.65288655]])"
      ]
     },
     "execution_count": 143,
     "metadata": {},
     "output_type": "execute_result"
    }
   ],
   "source": [
    "scaled_data"
   ]
  },
  {
   "cell_type": "code",
   "execution_count": 144,
   "id": "aa84531b",
   "metadata": {},
   "outputs": [
    {
     "data": {
      "text/plain": [
       "(14999, 11)"
      ]
     },
     "execution_count": 144,
     "metadata": {},
     "output_type": "execute_result"
    }
   ],
   "source": [
    "df.shape"
   ]
  },
  {
   "cell_type": "code",
   "execution_count": 145,
   "id": "e7c7a243",
   "metadata": {},
   "outputs": [],
   "source": [
    "from sklearn.decomposition import PCA"
   ]
  },
  {
   "cell_type": "code",
   "execution_count": 146,
   "id": "a560a0b6",
   "metadata": {},
   "outputs": [
    {
     "data": {
      "text/plain": [
       "array([8.95457833e-01, 1.03822618e-01, 7.11449753e-04])"
      ]
     },
     "execution_count": 146,
     "metadata": {},
     "output_type": "execute_result"
    }
   ],
   "source": [
    "pca= PCA(0.9999)  #It means retain 99.99% of the useful features\n",
    "\n",
    "df_pca = pca.fit_transform(df)\n",
    "df_pca.shape\n",
    "\n",
    "\n",
    "###If we choose to retain and caluculate 9 dimensions\n",
    "#pca= PCA(n_components = 9)\n",
    "#df_pca = pca.fit_transform(df)\n",
    "\n",
    "pca.explained_variance_ratio_"
   ]
  },
  {
   "cell_type": "code",
   "execution_count": 147,
   "id": "0019f959",
   "metadata": {},
   "outputs": [],
   "source": [
    "#it means the newly formed 1st column is explaining 89.5% of variation, 2nd is explaining 10% while 3rd 0.07%\n",
    "\n",
    "#NOte: we cannot know what are those columns"
   ]
  },
  {
   "cell_type": "code",
   "execution_count": 148,
   "id": "c3657a4b",
   "metadata": {},
   "outputs": [],
   "source": [
    "from sklearn.model_selection import train_test_split\n",
    "\n",
    "X_train, X_test, y_train, y_test = train_test_split(X, y, test_size=0.3, random_state=101)"
   ]
  },
  {
   "cell_type": "code",
   "execution_count": 152,
   "id": "b94f4763",
   "metadata": {},
   "outputs": [],
   "source": [
    "#LOGISTIC REGRESSION"
   ]
  },
  {
   "cell_type": "code",
   "execution_count": 150,
   "id": "fc180672",
   "metadata": {},
   "outputs": [
    {
     "name": "stdout",
     "output_type": "stream",
     "text": [
      "Training Accuracy : 0.9351366796837794\n",
      "Testing Accuracy : 0.9364444444444444\n",
      "[[4210    4]\n",
      " [ 282    4]]\n",
      "0.7186108637577916\n",
      "Gini score is:  0.4372217275155832\n"
     ]
    }
   ],
   "source": [
    "from sklearn.linear_model import LogisticRegression\n",
    "from sklearn.metrics import confusion_matrix, roc_auc_score\n",
    "\n",
    "model = LogisticRegression()\n",
    "model.fit(X_train, y_train)\n",
    "\n",
    "y_pred = model.predict(X_test)\n",
    "\n",
    "print(\"Training Accuracy :\", model.score(X_train, y_train))\n",
    "print(\"Testing Accuracy :\", model.score(X_test, y_test))\n",
    "\n",
    "cm = confusion_matrix(y_test, y_pred)\n",
    "print(cm)\n",
    "\n",
    "print(roc_auc_score(y_pred, y_test))\n",
    "a= roc_auc_score(y_pred, y_test)\n",
    "Gini = 2*a-1\n",
    "print('Gini score is: ',Gini)"
   ]
  },
  {
   "cell_type": "code",
   "execution_count": null,
   "id": "4ae51886",
   "metadata": {},
   "outputs": [],
   "source": []
  },
  {
   "cell_type": "code",
   "execution_count": null,
   "id": "c58d1243",
   "metadata": {},
   "outputs": [],
   "source": []
  },
  {
   "cell_type": "code",
   "execution_count": null,
   "id": "82d5758e",
   "metadata": {},
   "outputs": [],
   "source": []
  },
  {
   "cell_type": "code",
   "execution_count": null,
   "id": "472dc376",
   "metadata": {},
   "outputs": [],
   "source": []
  },
  {
   "cell_type": "code",
   "execution_count": null,
   "id": "b04911ed",
   "metadata": {},
   "outputs": [],
   "source": []
  },
  {
   "cell_type": "code",
   "execution_count": null,
   "id": "636a3328",
   "metadata": {},
   "outputs": [],
   "source": []
  },
  {
   "cell_type": "code",
   "execution_count": null,
   "id": "a714450f",
   "metadata": {},
   "outputs": [],
   "source": [
    "#Ref: https://github.com/Sundar0989/Variable-Selection-Using-Python/blob/master/Variable%20Selection%20using%20Python%20-%20Vote%20based%20approach.ipynb\n",
    "#https://sundarstyles89.medium.com/variable-selection-using-python-vote-based-approach-faa42da960f0\n",
    "\n",
    "#very useful in finding our variable importance \n",
    "#https://github.com/Sundar0989/Variable-Selection-Using-Python/blob/master/Variable%20Selection%20using%20Python%20-%20Vote%20based%20approach.ipynb"
   ]
  }
 ],
 "metadata": {
  "kernelspec": {
   "display_name": "Python 3",
   "language": "python",
   "name": "python3"
  },
  "language_info": {
   "codemirror_mode": {
    "name": "ipython",
    "version": 3
   },
   "file_extension": ".py",
   "mimetype": "text/x-python",
   "name": "python",
   "nbconvert_exporter": "python",
   "pygments_lexer": "ipython3",
   "version": "3.8.8"
  }
 },
 "nbformat": 4,
 "nbformat_minor": 5
}
