{
 "cells": [
  {
   "cell_type": "markdown",
   "metadata": {},
   "source": [
    "# K Nearest Neighbors with Python"
   ]
  },
  {
   "cell_type": "markdown",
   "metadata": {},
   "source": [
    "## Import Libraries\n",
    "\n"
   ]
  },
  {
   "cell_type": "code",
   "execution_count": 1,
   "metadata": {},
   "outputs": [],
   "source": [
    "import pandas as pd\n",
    "import seaborn as sns\n",
    "import matplotlib.pyplot as plt\n",
    "import numpy as np\n",
    "%matplotlib inline"
   ]
  },
  {
   "cell_type": "markdown",
   "metadata": {},
   "source": [
    "## The Data\n",
    "\n",
    "Let's start by reading in the Churn_Modelling.csv file into a pandas dataframe."
   ]
  },
  {
   "cell_type": "code",
   "execution_count": 2,
   "metadata": {},
   "outputs": [],
   "source": [
    "df = pd.read_csv('D:\\\\iAnalyst\\\\Machine Learning\\\\KNN\\\\Churn_Modelling.csv')"
   ]
  },
  {
   "cell_type": "code",
   "execution_count": 3,
   "metadata": {},
   "outputs": [
    {
     "data": {
      "text/html": [
       "<div>\n",
       "<style scoped>\n",
       "    .dataframe tbody tr th:only-of-type {\n",
       "        vertical-align: middle;\n",
       "    }\n",
       "\n",
       "    .dataframe tbody tr th {\n",
       "        vertical-align: top;\n",
       "    }\n",
       "\n",
       "    .dataframe thead th {\n",
       "        text-align: right;\n",
       "    }\n",
       "</style>\n",
       "<table border=\"1\" class=\"dataframe\">\n",
       "  <thead>\n",
       "    <tr style=\"text-align: right;\">\n",
       "      <th></th>\n",
       "      <th>RowNumber</th>\n",
       "      <th>CustomerId</th>\n",
       "      <th>Surname</th>\n",
       "      <th>CreditScore</th>\n",
       "      <th>Geography</th>\n",
       "      <th>Gender</th>\n",
       "      <th>Age</th>\n",
       "      <th>Tenure</th>\n",
       "      <th>Balance</th>\n",
       "      <th>NumOfProducts</th>\n",
       "      <th>HasCrCard</th>\n",
       "      <th>IsActiveMember</th>\n",
       "      <th>EstimatedSalary</th>\n",
       "      <th>Exited</th>\n",
       "    </tr>\n",
       "  </thead>\n",
       "  <tbody>\n",
       "    <tr>\n",
       "      <th>0</th>\n",
       "      <td>1</td>\n",
       "      <td>15634602</td>\n",
       "      <td>Hargrave</td>\n",
       "      <td>619</td>\n",
       "      <td>France</td>\n",
       "      <td>Female</td>\n",
       "      <td>42</td>\n",
       "      <td>2</td>\n",
       "      <td>0.00</td>\n",
       "      <td>1</td>\n",
       "      <td>1</td>\n",
       "      <td>1</td>\n",
       "      <td>101348.88</td>\n",
       "      <td>1</td>\n",
       "    </tr>\n",
       "    <tr>\n",
       "      <th>1</th>\n",
       "      <td>2</td>\n",
       "      <td>15647311</td>\n",
       "      <td>Hill</td>\n",
       "      <td>608</td>\n",
       "      <td>Spain</td>\n",
       "      <td>Female</td>\n",
       "      <td>41</td>\n",
       "      <td>1</td>\n",
       "      <td>83807.86</td>\n",
       "      <td>1</td>\n",
       "      <td>0</td>\n",
       "      <td>1</td>\n",
       "      <td>112542.58</td>\n",
       "      <td>0</td>\n",
       "    </tr>\n",
       "    <tr>\n",
       "      <th>2</th>\n",
       "      <td>3</td>\n",
       "      <td>15619304</td>\n",
       "      <td>Onio</td>\n",
       "      <td>502</td>\n",
       "      <td>France</td>\n",
       "      <td>Female</td>\n",
       "      <td>42</td>\n",
       "      <td>8</td>\n",
       "      <td>159660.80</td>\n",
       "      <td>3</td>\n",
       "      <td>1</td>\n",
       "      <td>0</td>\n",
       "      <td>113931.57</td>\n",
       "      <td>1</td>\n",
       "    </tr>\n",
       "    <tr>\n",
       "      <th>3</th>\n",
       "      <td>4</td>\n",
       "      <td>15701354</td>\n",
       "      <td>Boni</td>\n",
       "      <td>699</td>\n",
       "      <td>France</td>\n",
       "      <td>Female</td>\n",
       "      <td>39</td>\n",
       "      <td>1</td>\n",
       "      <td>0.00</td>\n",
       "      <td>2</td>\n",
       "      <td>0</td>\n",
       "      <td>0</td>\n",
       "      <td>93826.63</td>\n",
       "      <td>0</td>\n",
       "    </tr>\n",
       "    <tr>\n",
       "      <th>4</th>\n",
       "      <td>5</td>\n",
       "      <td>15737888</td>\n",
       "      <td>Mitchell</td>\n",
       "      <td>850</td>\n",
       "      <td>Spain</td>\n",
       "      <td>Female</td>\n",
       "      <td>43</td>\n",
       "      <td>2</td>\n",
       "      <td>125510.82</td>\n",
       "      <td>1</td>\n",
       "      <td>1</td>\n",
       "      <td>1</td>\n",
       "      <td>79084.10</td>\n",
       "      <td>0</td>\n",
       "    </tr>\n",
       "  </tbody>\n",
       "</table>\n",
       "</div>"
      ],
      "text/plain": [
       "   RowNumber  CustomerId   Surname  CreditScore Geography  Gender  Age  \\\n",
       "0          1    15634602  Hargrave          619    France  Female   42   \n",
       "1          2    15647311      Hill          608     Spain  Female   41   \n",
       "2          3    15619304      Onio          502    France  Female   42   \n",
       "3          4    15701354      Boni          699    France  Female   39   \n",
       "4          5    15737888  Mitchell          850     Spain  Female   43   \n",
       "\n",
       "   Tenure    Balance  NumOfProducts  HasCrCard  IsActiveMember  \\\n",
       "0       2       0.00              1          1               1   \n",
       "1       1   83807.86              1          0               1   \n",
       "2       8  159660.80              3          1               0   \n",
       "3       1       0.00              2          0               0   \n",
       "4       2  125510.82              1          1               1   \n",
       "\n",
       "   EstimatedSalary  Exited  \n",
       "0        101348.88       1  \n",
       "1        112542.58       0  \n",
       "2        113931.57       1  \n",
       "3         93826.63       0  \n",
       "4         79084.10       0  "
      ]
     },
     "execution_count": 3,
     "metadata": {},
     "output_type": "execute_result"
    }
   ],
   "source": [
    "df.head()"
   ]
  },
  {
   "cell_type": "markdown",
   "metadata": {},
   "source": [
    "## Data Selection"
   ]
  },
  {
   "cell_type": "code",
   "execution_count": 4,
   "metadata": {},
   "outputs": [
    {
     "data": {
      "text/html": [
       "<div>\n",
       "<style scoped>\n",
       "    .dataframe tbody tr th:only-of-type {\n",
       "        vertical-align: middle;\n",
       "    }\n",
       "\n",
       "    .dataframe tbody tr th {\n",
       "        vertical-align: top;\n",
       "    }\n",
       "\n",
       "    .dataframe thead th {\n",
       "        text-align: right;\n",
       "    }\n",
       "</style>\n",
       "<table border=\"1\" class=\"dataframe\">\n",
       "  <thead>\n",
       "    <tr style=\"text-align: right;\">\n",
       "      <th></th>\n",
       "      <th>CreditScore</th>\n",
       "      <th>Age</th>\n",
       "      <th>Balance</th>\n",
       "      <th>EstimatedSalary</th>\n",
       "      <th>Tenure</th>\n",
       "      <th>Exited</th>\n",
       "      <th>NumOfProducts</th>\n",
       "    </tr>\n",
       "  </thead>\n",
       "  <tbody>\n",
       "    <tr>\n",
       "      <th>0</th>\n",
       "      <td>619</td>\n",
       "      <td>42</td>\n",
       "      <td>0.00</td>\n",
       "      <td>101348.88</td>\n",
       "      <td>2</td>\n",
       "      <td>1</td>\n",
       "      <td>1</td>\n",
       "    </tr>\n",
       "    <tr>\n",
       "      <th>1</th>\n",
       "      <td>608</td>\n",
       "      <td>41</td>\n",
       "      <td>83807.86</td>\n",
       "      <td>112542.58</td>\n",
       "      <td>1</td>\n",
       "      <td>0</td>\n",
       "      <td>1</td>\n",
       "    </tr>\n",
       "    <tr>\n",
       "      <th>2</th>\n",
       "      <td>502</td>\n",
       "      <td>42</td>\n",
       "      <td>159660.80</td>\n",
       "      <td>113931.57</td>\n",
       "      <td>8</td>\n",
       "      <td>1</td>\n",
       "      <td>3</td>\n",
       "    </tr>\n",
       "    <tr>\n",
       "      <th>3</th>\n",
       "      <td>699</td>\n",
       "      <td>39</td>\n",
       "      <td>0.00</td>\n",
       "      <td>93826.63</td>\n",
       "      <td>1</td>\n",
       "      <td>0</td>\n",
       "      <td>2</td>\n",
       "    </tr>\n",
       "    <tr>\n",
       "      <th>4</th>\n",
       "      <td>850</td>\n",
       "      <td>43</td>\n",
       "      <td>125510.82</td>\n",
       "      <td>79084.10</td>\n",
       "      <td>2</td>\n",
       "      <td>0</td>\n",
       "      <td>1</td>\n",
       "    </tr>\n",
       "  </tbody>\n",
       "</table>\n",
       "</div>"
      ],
      "text/plain": [
       "   CreditScore  Age    Balance  EstimatedSalary  Tenure  Exited  NumOfProducts\n",
       "0          619   42       0.00        101348.88       2       1              1\n",
       "1          608   41   83807.86        112542.58       1       0              1\n",
       "2          502   42  159660.80        113931.57       8       1              3\n",
       "3          699   39       0.00         93826.63       1       0              2\n",
       "4          850   43  125510.82         79084.10       2       0              1"
      ]
     },
     "execution_count": 4,
     "metadata": {},
     "output_type": "execute_result"
    }
   ],
   "source": [
    "df=df[['CreditScore','Age','Balance','EstimatedSalary','Tenure','Exited','NumOfProducts']]#,'HasCrCard']]  \n",
    "#IS IT OKAY TO INCLUDE CATEGORICAL VARIABLES IF BY INCLUDING THEM THE ACCURACY INCREASES.???\n",
    "df.head()"
   ]
  },
  {
   "cell_type": "code",
   "execution_count": null,
   "metadata": {},
   "outputs": [],
   "source": []
  },
  {
   "cell_type": "markdown",
   "metadata": {},
   "source": [
    "# WITHOUT STANDARDIZING"
   ]
  },
  {
   "cell_type": "code",
   "execution_count": 5,
   "metadata": {},
   "outputs": [],
   "source": [
    "\n",
    "from sklearn.model_selection import train_test_split\n",
    "\n",
    "X=df.drop('Exited',axis=1)\n",
    "Y=df['Exited']\n",
    "\n",
    "X_train, X_test, y_train, y_test = train_test_split(X,Y,  test_size=0.2)\n"
   ]
  },
  {
   "cell_type": "code",
   "execution_count": 6,
   "metadata": {},
   "outputs": [
    {
     "name": "stdout",
     "output_type": "stream",
     "text": [
      "KNeighborsClassifier(n_neighbors=3)\n"
     ]
    },
    {
     "data": {
      "text/plain": [
       "224     1\n",
       "2218    0\n",
       "4686    1\n",
       "9906    0\n",
       "7640    0\n",
       "3441    0\n",
       "2335    1\n",
       "7684    0\n",
       "1394    0\n",
       "2650    0\n",
       "Name: Exited, dtype: int64"
      ]
     },
     "execution_count": 6,
     "metadata": {},
     "output_type": "execute_result"
    }
   ],
   "source": [
    "from sklearn.neighbors import KNeighborsClassifier\n",
    "\n",
    "knn = KNeighborsClassifier(n_neighbors=3,p=2) #when p=2 (default), it is Euclidean  distance. The general form is the Minkowski distance\n",
    "print(knn)\n",
    "\n",
    "knn.fit(X_train,y_train)\n",
    "\n",
    "pred = knn.predict(X_test)\n",
    "\n",
    "pred\n",
    "\n",
    "y_test[0:10]\n",
    "\n"
   ]
  },
  {
   "cell_type": "code",
   "execution_count": 7,
   "metadata": {},
   "outputs": [
    {
     "name": "stdout",
     "output_type": "stream",
     "text": [
      "              precision    recall  f1-score   support\n",
      "\n",
      "           0       0.79      0.89      0.84      1574\n",
      "           1       0.23      0.12      0.16       426\n",
      "\n",
      "    accuracy                           0.73      2000\n",
      "   macro avg       0.51      0.51      0.50      2000\n",
      "weighted avg       0.67      0.73      0.69      2000\n",
      "\n"
     ]
    },
    {
     "data": {
      "text/plain": [
       "0.5063949985384565"
      ]
     },
     "execution_count": 7,
     "metadata": {},
     "output_type": "execute_result"
    }
   ],
   "source": [
    "\n",
    "## Predictions and Evaluations\n",
    "\n",
    "#Let's evaluate our KNN model!  \n",
    "\n",
    "#We cannot use RMSE in classifier!!!!!!!!!!!!!! Hence using roc curve\n",
    "\n",
    "from sklearn.metrics import roc_auc_score\n",
    "from sklearn.metrics import roc_curve\n",
    "import matplotlib.pyplot as plt\n",
    "%matplotlib inline\n",
    "\n",
    "from sklearn.metrics import classification_report\n",
    "print(classification_report(y_test,pred))\n",
    "\n",
    "roc_auc_score(y_test, pred)"
   ]
  },
  {
   "cell_type": "code",
   "execution_count": 8,
   "metadata": {},
   "outputs": [
    {
     "name": "stdout",
     "output_type": "stream",
     "text": [
      "ROC score for k=  1 is: 0.5041758385978727\n",
      "ROC score for k=  2 is: 0.49752283288890486\n",
      "ROC score for k=  3 is: 0.5063949985384565\n",
      "ROC score for k=  4 is: 0.5035315663570581\n",
      "ROC score for k=  5 is: 0.5070631327141162\n",
      "ROC score for k=  6 is: 0.5098848065095358\n",
      "ROC score for k=  7 is: 0.5077148618095699\n",
      "ROC score for k=  8 is: 0.5038924781215884\n",
      "ROC score for k=  9 is: 0.5062667406386647\n",
      "ROC score for k=  10 is: 0.5031333703193324\n",
      "ROC score for k=  11 is: 0.507095942874528\n",
      "ROC score for k=  12 is: 0.5012005535968884\n",
      "ROC score for k=  13 is: 0.505163126152084\n",
      "ROC score for k=  14 is: 0.5009798306995722\n",
      "ROC score for k=  15 is: 0.5017389385018285\n",
      "ROC score for k=  16 is: 0.4992677368744444\n",
      "ROC score for k=  17 is: 0.5015182156045123\n",
      "ROC score for k=  18 is: 0.4983147508515728\n",
      "ROC score for k=  19 is: 0.49885313575651286\n",
      "ROC score for k=  20 is: 0.50107676980988\n",
      "ROC score for k=  21 is: 0.5012974927071961\n",
      "ROC score for k=  22 is: 0.50053838490494\n",
      "ROC score for k=  23 is: 0.4995853988820683\n",
      "ROC score for k=  24 is: 0.50053838490494\n",
      "ROC score for k=  25 is: 0.4995853988820683\n",
      "ROC score for k=  26 is: 0.5011737089201878\n",
      "ROC score for k=  27 is: 0.50053838490494\n",
      "ROC score for k=  28 is: 0.5008560469125639\n",
      "ROC score for k=  29 is: 0.5008560469125639\n",
      "ROC score for k=  30 is: 0.4996823379923761\n",
      "ROC score for k=  31 is: 0.4996823379923761\n",
      "ROC score for k=  32 is: 0.4996823379923761\n",
      "ROC score for k=  33 is: 0.4996823379923761\n",
      "ROC score for k=  34 is: 0.4996823379923761\n",
      "ROC score for k=  35 is: 0.4996823379923761\n",
      "ROC score for k=  36 is: 0.5\n",
      "ROC score for k=  37 is: 0.5\n",
      "ROC score for k=  38 is: 0.5\n",
      "ROC score for k=  39 is: 0.5\n",
      "ROC score for k=  40 is: 0.5\n"
     ]
    },
    {
     "data": {
      "image/png": "[encoded data removed]",
      "text/plain": [
       "<Figure size 432x288 with 1 Axes>"
      ]
     },
     "metadata": {
      "needs_background": "light"
     },
     "output_type": "display_data"
    }
   ],
   "source": [
    "## Choosing a K Value\n",
    "\n",
    "\n",
    "roc_val= []\n",
    "for K in range(40):\n",
    "    K = K+1\n",
    "    knn = KNeighborsClassifier(n_neighbors=K,p=2)\n",
    "\n",
    "    knn.fit(X_train, y_train)  #fit the model\n",
    "    pred=knn.predict(X_test) #make prediction on test set\n",
    "    score= roc_auc_score(y_test, pred) #roc scores\n",
    "    roc_val.append(score)\n",
    "    print('ROC score for k= ' , K , 'is:', score)  #maximum ROC score is preferred.\n",
    "\n",
    "curve = pd.DataFrame(roc_val) \n",
    "curve.plot()\n",
    "plt.grid()\n",
    "\n",
    "#Here we can see that that after arouns K>3 the error rate just tends to decline. So we will finalize k=3 as after 3 error declines. Let's retrain the model with that and check the classification report!\n"
   ]
  },
  {
   "cell_type": "code",
   "execution_count": 10,
   "metadata": {},
   "outputs": [
    {
     "name": "stdout",
     "output_type": "stream",
     "text": [
      "WITH K=5 \n",
      "\n",
      "0.5070631327141162\n"
     ]
    }
   ],
   "source": [
    "# FIRST A QUICK COMPARISON TO OUR ORIGINAL \n",
    "K=5\n",
    "knn = KNeighborsClassifier(n_neighbors=K,p=2)\n",
    "\n",
    "knn.fit(X_train,y_train)\n",
    "pred = knn.predict(X_test)\n",
    "\n",
    "print('WITH K={} \\n'.format(K))\n",
    "print(roc_auc_score(y_test, pred))\n"
   ]
  },
  {
   "cell_type": "markdown",
   "metadata": {},
   "source": [
    "\n",
    " WE GET TO KNOW THAT WITHOUT USING STANDARD SCALING THE ACCURACY IS WORSE"
   ]
  },
  {
   "cell_type": "markdown",
   "metadata": {},
   "source": [
    "# USING STANDARD SCALER"
   ]
  },
  {
   "cell_type": "code",
   "execution_count": 6,
   "metadata": {},
   "outputs": [],
   "source": [
    "from sklearn.preprocessing import StandardScaler"
   ]
  },
  {
   "cell_type": "code",
   "execution_count": 7,
   "metadata": {},
   "outputs": [],
   "source": [
    "scaler = StandardScaler()  #Standard Scalar converts the variables/features to N(0,1) i.e. mu+-3(sigma)^sq. It's range will be from -3 to +3"
   ]
  },
  {
   "cell_type": "code",
   "execution_count": 8,
   "metadata": {},
   "outputs": [
    {
     "data": {
      "text/plain": [
       "StandardScaler()"
      ]
     },
     "execution_count": 8,
     "metadata": {},
     "output_type": "execute_result"
    }
   ],
   "source": [
    "scaler.fit(df.drop('Exited',axis=1))"
   ]
  },
  {
   "cell_type": "code",
   "execution_count": 9,
   "metadata": {},
   "outputs": [],
   "source": [
    "scaled_features = scaler.transform(df.drop('Exited',axis=1))"
   ]
  },
  {
   "cell_type": "code",
   "execution_count": 10,
   "metadata": {},
   "outputs": [],
   "source": [
    "#df.drop('Exited',axis=1)"
   ]
  },
  {
   "cell_type": "code",
   "execution_count": 11,
   "metadata": {},
   "outputs": [
    {
     "data": {
      "text/html": [
       "<div>\n",
       "<style scoped>\n",
       "    .dataframe tbody tr th:only-of-type {\n",
       "        vertical-align: middle;\n",
       "    }\n",
       "\n",
       "    .dataframe tbody tr th {\n",
       "        vertical-align: top;\n",
       "    }\n",
       "\n",
       "    .dataframe thead th {\n",
       "        text-align: right;\n",
       "    }\n",
       "</style>\n",
       "<table border=\"1\" class=\"dataframe\">\n",
       "  <thead>\n",
       "    <tr style=\"text-align: right;\">\n",
       "      <th></th>\n",
       "      <th>CreditScore</th>\n",
       "      <th>Age</th>\n",
       "      <th>Balance</th>\n",
       "      <th>EstimatedSalary</th>\n",
       "      <th>Tenure</th>\n",
       "      <th>Exited</th>\n",
       "    </tr>\n",
       "  </thead>\n",
       "  <tbody>\n",
       "    <tr>\n",
       "      <th>0</th>\n",
       "      <td>-0.326221</td>\n",
       "      <td>0.293517</td>\n",
       "      <td>-1.225848</td>\n",
       "      <td>0.021886</td>\n",
       "      <td>-1.041760</td>\n",
       "      <td>-0.911583</td>\n",
       "    </tr>\n",
       "    <tr>\n",
       "      <th>1</th>\n",
       "      <td>-0.440036</td>\n",
       "      <td>0.198164</td>\n",
       "      <td>0.117350</td>\n",
       "      <td>0.216534</td>\n",
       "      <td>-1.387538</td>\n",
       "      <td>-0.911583</td>\n",
       "    </tr>\n",
       "    <tr>\n",
       "      <th>2</th>\n",
       "      <td>-1.536794</td>\n",
       "      <td>0.293517</td>\n",
       "      <td>1.333053</td>\n",
       "      <td>0.240687</td>\n",
       "      <td>1.032908</td>\n",
       "      <td>2.527057</td>\n",
       "    </tr>\n",
       "    <tr>\n",
       "      <th>3</th>\n",
       "      <td>0.501521</td>\n",
       "      <td>0.007457</td>\n",
       "      <td>-1.225848</td>\n",
       "      <td>-0.108918</td>\n",
       "      <td>-1.387538</td>\n",
       "      <td>0.807737</td>\n",
       "    </tr>\n",
       "    <tr>\n",
       "      <th>4</th>\n",
       "      <td>2.063884</td>\n",
       "      <td>0.388871</td>\n",
       "      <td>0.785728</td>\n",
       "      <td>-0.365276</td>\n",
       "      <td>-1.041760</td>\n",
       "      <td>-0.911583</td>\n",
       "    </tr>\n",
       "  </tbody>\n",
       "</table>\n",
       "</div>"
      ],
      "text/plain": [
       "   CreditScore       Age   Balance  EstimatedSalary    Tenure    Exited\n",
       "0    -0.326221  0.293517 -1.225848         0.021886 -1.041760 -0.911583\n",
       "1    -0.440036  0.198164  0.117350         0.216534 -1.387538 -0.911583\n",
       "2    -1.536794  0.293517  1.333053         0.240687  1.032908  2.527057\n",
       "3     0.501521  0.007457 -1.225848        -0.108918 -1.387538  0.807737\n",
       "4     2.063884  0.388871  0.785728        -0.365276 -1.041760 -0.911583"
      ]
     },
     "execution_count": 11,
     "metadata": {},
     "output_type": "execute_result"
    }
   ],
   "source": [
    "df_feat = pd.DataFrame(scaled_features,columns=df.columns[:6])\n",
    "df_feat.head()"
   ]
  },
  {
   "cell_type": "markdown",
   "metadata": {},
   "source": [
    "from sklearn.preprocessing import MinMaxScaler\n",
    "\n",
    "scaler = MinMaxScaler(feature_range=(0, 1))\n",
    "\n",
    "x_train_scaled = scaler.fit_transform(x_train)\n",
    "\n",
    "x_train = pd.DataFrame(x_train_scaled)\n",
    "\n",
    "x_test_scaled = scaler.fit_transform(x_test)\n",
    "\n",
    "x_test = pd.DataFrame(x_test_scaled)"
   ]
  },
  {
   "cell_type": "code",
   "execution_count": 12,
   "metadata": {},
   "outputs": [
    {
     "data": {
      "text/html": [
       "<div>\n",
       "<style scoped>\n",
       "    .dataframe tbody tr th:only-of-type {\n",
       "        vertical-align: middle;\n",
       "    }\n",
       "\n",
       "    .dataframe tbody tr th {\n",
       "        vertical-align: top;\n",
       "    }\n",
       "\n",
       "    .dataframe thead th {\n",
       "        text-align: right;\n",
       "    }\n",
       "</style>\n",
       "<table border=\"1\" class=\"dataframe\">\n",
       "  <thead>\n",
       "    <tr style=\"text-align: right;\">\n",
       "      <th></th>\n",
       "      <th>CreditScore</th>\n",
       "      <th>Age</th>\n",
       "      <th>Balance</th>\n",
       "      <th>EstimatedSalary</th>\n",
       "      <th>Tenure</th>\n",
       "      <th>Exited</th>\n",
       "    </tr>\n",
       "  </thead>\n",
       "  <tbody>\n",
       "    <tr>\n",
       "      <th>0</th>\n",
       "      <td>-0.326221</td>\n",
       "      <td>0.293517</td>\n",
       "      <td>-1.225848</td>\n",
       "      <td>0.021886</td>\n",
       "      <td>-1.041760</td>\n",
       "      <td>-0.911583</td>\n",
       "    </tr>\n",
       "    <tr>\n",
       "      <th>1</th>\n",
       "      <td>-0.440036</td>\n",
       "      <td>0.198164</td>\n",
       "      <td>0.117350</td>\n",
       "      <td>0.216534</td>\n",
       "      <td>-1.387538</td>\n",
       "      <td>-0.911583</td>\n",
       "    </tr>\n",
       "    <tr>\n",
       "      <th>2</th>\n",
       "      <td>-1.536794</td>\n",
       "      <td>0.293517</td>\n",
       "      <td>1.333053</td>\n",
       "      <td>0.240687</td>\n",
       "      <td>1.032908</td>\n",
       "      <td>2.527057</td>\n",
       "    </tr>\n",
       "    <tr>\n",
       "      <th>3</th>\n",
       "      <td>0.501521</td>\n",
       "      <td>0.007457</td>\n",
       "      <td>-1.225848</td>\n",
       "      <td>-0.108918</td>\n",
       "      <td>-1.387538</td>\n",
       "      <td>0.807737</td>\n",
       "    </tr>\n",
       "    <tr>\n",
       "      <th>4</th>\n",
       "      <td>2.063884</td>\n",
       "      <td>0.388871</td>\n",
       "      <td>0.785728</td>\n",
       "      <td>-0.365276</td>\n",
       "      <td>-1.041760</td>\n",
       "      <td>-0.911583</td>\n",
       "    </tr>\n",
       "    <tr>\n",
       "      <th>...</th>\n",
       "      <td>...</td>\n",
       "      <td>...</td>\n",
       "      <td>...</td>\n",
       "      <td>...</td>\n",
       "      <td>...</td>\n",
       "      <td>...</td>\n",
       "    </tr>\n",
       "    <tr>\n",
       "      <th>9995</th>\n",
       "      <td>1.246488</td>\n",
       "      <td>0.007457</td>\n",
       "      <td>-1.225848</td>\n",
       "      <td>-0.066419</td>\n",
       "      <td>-0.004426</td>\n",
       "      <td>0.807737</td>\n",
       "    </tr>\n",
       "    <tr>\n",
       "      <th>9996</th>\n",
       "      <td>-1.391939</td>\n",
       "      <td>-0.373958</td>\n",
       "      <td>-0.306379</td>\n",
       "      <td>0.027988</td>\n",
       "      <td>1.724464</td>\n",
       "      <td>-0.911583</td>\n",
       "    </tr>\n",
       "    <tr>\n",
       "      <th>9997</th>\n",
       "      <td>0.604988</td>\n",
       "      <td>-0.278604</td>\n",
       "      <td>-1.225848</td>\n",
       "      <td>-1.008643</td>\n",
       "      <td>0.687130</td>\n",
       "      <td>-0.911583</td>\n",
       "    </tr>\n",
       "    <tr>\n",
       "      <th>9998</th>\n",
       "      <td>1.256835</td>\n",
       "      <td>0.293517</td>\n",
       "      <td>-0.022608</td>\n",
       "      <td>-0.125231</td>\n",
       "      <td>-0.695982</td>\n",
       "      <td>0.807737</td>\n",
       "    </tr>\n",
       "    <tr>\n",
       "      <th>9999</th>\n",
       "      <td>1.463771</td>\n",
       "      <td>-1.041433</td>\n",
       "      <td>0.859965</td>\n",
       "      <td>-1.076370</td>\n",
       "      <td>-0.350204</td>\n",
       "      <td>-0.911583</td>\n",
       "    </tr>\n",
       "  </tbody>\n",
       "</table>\n",
       "<p>10000 rows × 6 columns</p>\n",
       "</div>"
      ],
      "text/plain": [
       "      CreditScore       Age   Balance  EstimatedSalary    Tenure    Exited\n",
       "0       -0.326221  0.293517 -1.225848         0.021886 -1.041760 -0.911583\n",
       "1       -0.440036  0.198164  0.117350         0.216534 -1.387538 -0.911583\n",
       "2       -1.536794  0.293517  1.333053         0.240687  1.032908  2.527057\n",
       "3        0.501521  0.007457 -1.225848        -0.108918 -1.387538  0.807737\n",
       "4        2.063884  0.388871  0.785728        -0.365276 -1.041760 -0.911583\n",
       "...           ...       ...       ...              ...       ...       ...\n",
       "9995     1.246488  0.007457 -1.225848        -0.066419 -0.004426  0.807737\n",
       "9996    -1.391939 -0.373958 -0.306379         0.027988  1.724464 -0.911583\n",
       "9997     0.604988 -0.278604 -1.225848        -1.008643  0.687130 -0.911583\n",
       "9998     1.256835  0.293517 -0.022608        -0.125231 -0.695982  0.807737\n",
       "9999     1.463771 -1.041433  0.859965        -1.076370 -0.350204 -0.911583\n",
       "\n",
       "[10000 rows x 6 columns]"
      ]
     },
     "execution_count": 12,
     "metadata": {},
     "output_type": "execute_result"
    }
   ],
   "source": [
    "df_feat"
   ]
  },
  {
   "cell_type": "markdown",
   "metadata": {},
   "source": [
    "## Train Test Split"
   ]
  },
  {
   "cell_type": "code",
   "execution_count": 13,
   "metadata": {},
   "outputs": [],
   "source": [
    "from sklearn.model_selection import train_test_split"
   ]
  },
  {
   "cell_type": "code",
   "execution_count": 14,
   "metadata": {},
   "outputs": [],
   "source": [
    "#X_train, X_test, y_train, y_test = train_test_split(scaled_features,df['CreditScore'],\n",
    "#                                                    test_size=0.30)"
   ]
  },
  {
   "cell_type": "code",
   "execution_count": 15,
   "metadata": {},
   "outputs": [],
   "source": [
    "X=df_feat\n",
    "Y=df['Exited']"
   ]
  },
  {
   "cell_type": "code",
   "execution_count": 16,
   "metadata": {},
   "outputs": [],
   "source": [
    "X_train, X_test, y_train, y_test = train_test_split(X,Y,\n",
    "                                                    test_size=0.2)"
   ]
  },
  {
   "cell_type": "code",
   "execution_count": 17,
   "metadata": {},
   "outputs": [],
   "source": [
    "#X_train[0:5,0:3]"
   ]
  },
  {
   "cell_type": "markdown",
   "metadata": {},
   "source": [
    "## Using KNN\n",
    "\n",
    "Remember that we are trying to come up with a model to predict whether someone will Exited or not. We'll start with k=1."
   ]
  },
  {
   "cell_type": "code",
   "execution_count": 2,
   "metadata": {},
   "outputs": [],
   "source": [
    "from sklearn.neighbors import KNeighborsClassifier"
   ]
  },
  {
   "cell_type": "code",
   "execution_count": 19,
   "metadata": {},
   "outputs": [
    {
     "name": "stdout",
     "output_type": "stream",
     "text": [
      "KNeighborsClassifier(n_neighbors=3)\n"
     ]
    }
   ],
   "source": [
    "knn = KNeighborsClassifier(n_neighbors=3,p=2) #when p=2 (default), it is Euclidean  distance. The general form is the Minkowski distance\n",
    "print(knn)"
   ]
  },
  {
   "cell_type": "code",
   "execution_count": 20,
   "metadata": {},
   "outputs": [
    {
     "data": {
      "text/plain": [
       "KNeighborsClassifier(n_neighbors=3)"
      ]
     },
     "execution_count": 20,
     "metadata": {},
     "output_type": "execute_result"
    }
   ],
   "source": [
    "knn.fit(X_train,y_train)"
   ]
  },
  {
   "cell_type": "code",
   "execution_count": 21,
   "metadata": {},
   "outputs": [],
   "source": [
    "pred = knn.predict(X_test)"
   ]
  },
  {
   "cell_type": "code",
   "execution_count": 22,
   "metadata": {},
   "outputs": [
    {
     "data": {
      "text/plain": [
       "array([0, 0, 0, ..., 0, 0, 0], dtype=int64)"
      ]
     },
     "execution_count": 22,
     "metadata": {},
     "output_type": "execute_result"
    }
   ],
   "source": [
    "pred"
   ]
  },
  {
   "cell_type": "code",
   "execution_count": 23,
   "metadata": {},
   "outputs": [
    {
     "data": {
      "text/plain": [
       "2581    0\n",
       "2544    0\n",
       "2147    0\n",
       "3240    1\n",
       "962     0\n",
       "5809    0\n",
       "7874    0\n",
       "587     0\n",
       "8813    0\n",
       "1277    0\n",
       "Name: Exited, dtype: int64"
      ]
     },
     "execution_count": 23,
     "metadata": {},
     "output_type": "execute_result"
    }
   ],
   "source": [
    "y_test[0:10]"
   ]
  },
  {
   "cell_type": "markdown",
   "metadata": {},
   "source": [
    "## Predictions and Evaluations\n",
    "\n",
    "Let's evaluate our KNN model!  \n",
    "\n",
    "We cannot use RMSE in classifier!!!!!!!!!!!!!! Hence using roc curve"
   ]
  },
  {
   "cell_type": "code",
   "execution_count": 24,
   "metadata": {},
   "outputs": [],
   "source": [
    "from sklearn.metrics import roc_auc_score\n",
    "from sklearn.metrics import roc_curve\n",
    "import matplotlib.pyplot as plt\n",
    "%matplotlib inline"
   ]
  },
  {
   "cell_type": "code",
   "execution_count": 25,
   "metadata": {},
   "outputs": [
    {
     "name": "stdout",
     "output_type": "stream",
     "text": [
      "              precision    recall  f1-score   support\n",
      "\n",
      "           0       0.84      0.92      0.88      1561\n",
      "           1       0.56      0.38      0.45       439\n",
      "\n",
      "    accuracy                           0.80      2000\n",
      "   macro avg       0.70      0.65      0.66      2000\n",
      "weighted avg       0.78      0.80      0.78      2000\n",
      "\n"
     ]
    },
    {
     "data": {
      "text/plain": [
       "0.6459668251909076"
      ]
     },
     "execution_count": 25,
     "metadata": {},
     "output_type": "execute_result"
    }
   ],
   "source": [
    "from sklearn.metrics import classification_report\n",
    "print(classification_report(y_test,pred))\n",
    "\n",
    "roc_auc_score(y_test, pred)"
   ]
  },
  {
   "cell_type": "code",
   "execution_count": null,
   "metadata": {},
   "outputs": [],
   "source": []
  },
  {
   "cell_type": "markdown",
   "metadata": {},
   "source": [
    "## Choosing a K Value\n",
    "\n",
    "Let's go ahead and use the elbow method to pick a good K Value:"
   ]
  },
  {
   "cell_type": "code",
   "execution_count": 26,
   "metadata": {},
   "outputs": [
    {
     "name": "stdout",
     "output_type": "stream",
     "text": [
      "ROC score for k=  1 is: 0.6162139799993871\n",
      "ROC score for k=  2 is: 0.5919005251875514\n",
      "ROC score for k=  3 is: 0.6459668251909076\n",
      "ROC score for k=  4 is: 0.6135048644420739\n",
      "ROC score for k=  5 is: 0.6387763232201775\n",
      "ROC score for k=  6 is: 0.6243960489085468\n",
      "ROC score for k=  7 is: 0.640164079156081\n",
      "ROC score for k=  8 is: 0.6172777802909473\n",
      "ROC score for k=  9 is: 0.629913509679999\n",
      "ROC score for k=  10 is: 0.6216555592685606\n",
      "ROC score for k=  11 is: 0.6318353546511714\n",
      "ROC score for k=  12 is: 0.625072415760588\n",
      "ROC score for k=  13 is: 0.634255536795962\n",
      "ROC score for k=  14 is: 0.623755433918156\n",
      "ROC score for k=  15 is: 0.635679044593516\n",
      "ROC score for k=  16 is: 0.6190215955836965\n",
      "ROC score for k=  17 is: 0.6272080422718338\n",
      "ROC score for k=  18 is: 0.6221181445805286\n",
      "ROC score for k=  19 is: 0.6317638509278702\n",
      "ROC score for k=  20 is: 0.6170997506125242\n",
      "ROC score for k=  21 is: 0.6332231105870747\n",
      "ROC score for k=  22 is: 0.6238977117349284\n",
      "ROC score for k=  23 is: 0.6356432927318654\n",
      "ROC score for k=  24 is: 0.626495923558142\n",
      "ROC score for k=  25 is: 0.6348246480630517\n",
      "ROC score for k=  26 is: 0.6206588849213239\n",
      "ROC score for k=  27 is: 0.6299485319118199\n",
      "ROC score for k=  28 is: 0.6229367892493421\n",
      "ROC score for k=  29 is: 0.6293079169214291\n",
      "ROC score for k=  30 is: 0.6238977117349284\n",
      "ROC score for k=  31 is: 0.6302688394070153\n",
      "ROC score for k=  32 is: 0.6208011627380965\n",
      "ROC score for k=  33 is: 0.6300908097285922\n",
      "ROC score for k=  34 is: 0.6225807298924962\n",
      "ROC score for k=  35 is: 0.6255350010725559\n",
      "ROC score for k=  36 is: 0.6198044883908599\n",
      "ROC score for k=  37 is: 0.6204808552429011\n",
      "ROC score for k=  38 is: 0.6167079393940278\n",
      "ROC score for k=  39 is: 0.6227587595709193\n",
      "ROC score for k=  40 is: 0.6158892947252141\n"
     ]
    }
   ],
   "source": [
    "roc_val= []\n",
    "for K in range(40):\n",
    "    K = K+1\n",
    "    knn = KNeighborsClassifier(n_neighbors=K,p=2)\n",
    "\n",
    "    knn.fit(X_train, y_train)  #fit the model\n",
    "    pred=knn.predict(X_test) #make prediction on test set\n",
    "    score= roc_auc_score(y_test, pred) #roc scores\n",
    "    roc_val.append(score)\n",
    "    print('ROC score for k= ' , K , 'is:', score)  #maximum ROC score is preferred."
   ]
  },
  {
   "cell_type": "code",
   "execution_count": 27,
   "metadata": {},
   "outputs": [
    {
     "data": {
      "image/png": "[encoded data removed]",
      "text/plain": [
       "<Figure size 432x288 with 1 Axes>"
      ]
     },
     "metadata": {
      "needs_background": "light"
     },
     "output_type": "display_data"
    }
   ],
   "source": [
    "curve = pd.DataFrame(roc_val) \n",
    "curve.plot()\n",
    "plt.grid()"
   ]
  },
  {
   "cell_type": "markdown",
   "metadata": {},
   "source": [
    "Here we can see that that after arouns K>3 the error rate just tends to decline. So we will finalize k=3 as after 3 error declines. Let's retrain the model with that and check the classification report!"
   ]
  },
  {
   "cell_type": "code",
   "execution_count": 29,
   "metadata": {},
   "outputs": [
    {
     "name": "stdout",
     "output_type": "stream",
     "text": [
      "WITH K=3 \n",
      "\n",
      "0.6459668251909076\n"
     ]
    }
   ],
   "source": [
    "# FIRST A QUICK COMPARISON TO OUR ORIGINAL \n",
    "K=3\n",
    "knn = KNeighborsClassifier(n_neighbors=K,p=2)\n",
    "\n",
    "knn.fit(X_train,y_train)\n",
    "pred = knn.predict(X_test)\n",
    "\n",
    "print('WITH K={} \\n'.format(K))\n",
    "print(roc_auc_score(y_test, pred))"
   ]
  },
  {
   "cell_type": "markdown",
   "metadata": {},
   "source": [
    "# using k fold"
   ]
  },
  {
   "cell_type": "code",
   "execution_count": 1,
   "metadata": {},
   "outputs": [],
   "source": [
    "from sklearn.model_selection import KFold"
   ]
  },
  {
   "cell_type": "code",
   "execution_count": 14,
   "metadata": {},
   "outputs": [],
   "source": [
    "kf= KFold(n_splits=2)"
   ]
  },
  {
   "cell_type": "code",
   "execution_count": null,
   "metadata": {},
   "outputs": [],
   "source": []
  },
  {
   "cell_type": "code",
   "execution_count": 16,
   "metadata": {},
   "outputs": [
    {
     "name": "stdout",
     "output_type": "stream",
     "text": [
      "TRAIN: [5000 5001 5002 ... 9997 9998 9999] TEST: [   0    1    2 ... 4997 4998 4999]\n",
      "TRAIN: [   0    1    2 ... 4997 4998 4999] TEST: [5000 5001 5002 ... 9997 9998 9999]\n"
     ]
    }
   ],
   "source": [
    "for train_index, test_index in kf.split(X):\n",
    "    print(\"TRAIN:\", train_index, \"TEST:\", test_index)\n",
    "    X_train, X_test = X.iloc[train_index], X.iloc[test_index]\n",
    "    y_train, y_test = Y.iloc[train_index], Y.iloc[test_index]"
   ]
  },
  {
   "cell_type": "code",
   "execution_count": 17,
   "metadata": {},
   "outputs": [
    {
     "name": "stdout",
     "output_type": "stream",
     "text": [
      "KNeighborsClassifier(n_neighbors=3)\n"
     ]
    },
    {
     "data": {
      "text/plain": [
       "5000    0\n",
       "5001    0\n",
       "5002    1\n",
       "5003    0\n",
       "5004    1\n",
       "5005    0\n",
       "5006    0\n",
       "5007    1\n",
       "5008    0\n",
       "5009    0\n",
       "Name: Exited, dtype: int64"
      ]
     },
     "execution_count": 17,
     "metadata": {},
     "output_type": "execute_result"
    }
   ],
   "source": [
    "knn = KNeighborsClassifier(n_neighbors=3,p=2) #when p=2 (default), it is Euclidean  distance. The general form is the Minkowski distance\n",
    "print(knn)\n",
    "\n",
    "knn.fit(X_train,y_train)\n",
    "\n",
    "pred = knn.predict(X_test)\n",
    "\n",
    "pred\n",
    "\n",
    "y_test[0:10]"
   ]
  },
  {
   "cell_type": "code",
   "execution_count": 18,
   "metadata": {},
   "outputs": [
    {
     "name": "stdout",
     "output_type": "stream",
     "text": [
      "              precision    recall  f1-score   support\n",
      "\n",
      "           0       0.81      0.89      0.85      4009\n",
      "           1       0.24      0.14      0.17       991\n",
      "\n",
      "    accuracy                           0.74      5000\n",
      "   macro avg       0.53      0.52      0.51      5000\n",
      "weighted avg       0.70      0.74      0.72      5000\n",
      "\n"
     ]
    },
    {
     "data": {
      "text/plain": [
       "0.515606157588413"
      ]
     },
     "execution_count": 18,
     "metadata": {},
     "output_type": "execute_result"
    }
   ],
   "source": [
    "from sklearn.metrics import roc_auc_score\n",
    "from sklearn.metrics import roc_curve\n",
    "import matplotlib.pyplot as plt\n",
    "%matplotlib inline\n",
    "\n",
    "from sklearn.metrics import classification_report\n",
    "print(classification_report(y_test,pred))\n",
    "\n",
    "roc_auc_score(y_test, pred)"
   ]
  },
  {
   "cell_type": "code",
   "execution_count": 19,
   "metadata": {},
   "outputs": [
    {
     "name": "stdout",
     "output_type": "stream",
     "text": [
      "ROC score for k=  1 is: 0.5083322866637855\n",
      "ROC score for k=  2 is: 0.5086620190343674\n",
      "ROC score for k=  3 is: 0.515606157588413\n",
      "ROC score for k=  4 is: 0.5094840846239251\n",
      "ROC score for k=  5 is: 0.5090700313799501\n",
      "ROC score for k=  6 is: 0.5075509971383761\n",
      "ROC score for k=  7 is: 0.5053909984069648\n",
      "ROC score for k=  8 is: 0.5005951543436954\n",
      "ROC score for k=  9 is: 0.5029193900001484\n",
      "ROC score for k=  10 is: 0.501967067539006\n",
      "ROC score for k=  11 is: 0.5038944916823123\n",
      "ROC score for k=  12 is: 0.5029478325634124\n",
      "ROC score for k=  13 is: 0.5038605116288553\n",
      "ROC score for k=  14 is: 0.5001586994348487\n",
      "ROC score for k=  15 is: 0.5016949754072509\n",
      "ROC score for k=  16 is: 0.49976755126394473\n",
      "ROC score for k=  17 is: 0.5019274241433062\n",
      "ROC score for k=  18 is: 0.502023826813484\n",
      "ROC score for k=  19 is: 0.501660995353794\n",
      "ROC score for k=  20 is: 0.5016440053270655\n",
      "ROC score for k=  21 is: 0.5010204084201062\n",
      "ROC score for k=  22 is: 0.5000056633422427\n",
      "ROC score for k=  23 is: 0.49975622457945906\n",
      "ROC score for k=  24 is: 0.49987528061860814\n",
      "ROC score for k=  25 is: 0.5000056633422427\n",
      "ROC score for k=  26 is: 0.5003798214864185\n",
      "ROC score for k=  27 is: 0.5003798214864185\n",
      "ROC score for k=  28 is: 0.49987528061860814\n",
      "ROC score for k=  29 is: 0.49987528061860814\n",
      "ROC score for k=  30 is: 0.5\n",
      "ROC score for k=  31 is: 0.5\n",
      "ROC score for k=  32 is: 0.5\n",
      "ROC score for k=  33 is: 0.5\n",
      "ROC score for k=  34 is: 0.5\n",
      "ROC score for k=  35 is: 0.5\n",
      "ROC score for k=  36 is: 0.5\n",
      "ROC score for k=  37 is: 0.5\n",
      "ROC score for k=  38 is: 0.5\n",
      "ROC score for k=  39 is: 0.5\n",
      "ROC score for k=  40 is: 0.5\n"
     ]
    },
    {
     "data": {
      "image/png": "[encoded data removed]",
      "text/plain": [
       "<Figure size 432x288 with 1 Axes>"
      ]
     },
     "metadata": {
      "needs_background": "light"
     },
     "output_type": "display_data"
    }
   ],
   "source": [
    "## Choosing a K Value\n",
    "\n",
    "#Let's go ahead and use the elbow method to pick a good K Value:\n",
    "\n",
    "roc_val= []\n",
    "for K in range(40):\n",
    "    K = K+1\n",
    "    knn = KNeighborsClassifier(n_neighbors=K,p=2)\n",
    "\n",
    "    knn.fit(X_train, y_train)  #fit the model\n",
    "    pred=knn.predict(X_test) #make prediction on test set\n",
    "    score= roc_auc_score(y_test, pred) #roc scores\n",
    "    roc_val.append(score)\n",
    "    print('ROC score for k= ' , K , 'is:', score)  #maximum ROC score is preferred.\n",
    "\n",
    "curve = pd.DataFrame(roc_val) \n",
    "curve.plot()\n",
    "plt.grid()\n",
    "\n",
    "#Here we can see that that after arouns K>3 the error rate just tends to decline. So we will finalize k=3 as after 3 error declines. Let's retrain the model with that and check the classification report!\n"
   ]
  },
  {
   "cell_type": "code",
   "execution_count": 20,
   "metadata": {},
   "outputs": [
    {
     "name": "stdout",
     "output_type": "stream",
     "text": [
      "WITH K=3 \n",
      "\n",
      "0.515606157588413\n"
     ]
    }
   ],
   "source": [
    "\n",
    "# FIRST A QUICK COMPARISON TO OUR ORIGINAL \n",
    "K=3\n",
    "knn = KNeighborsClassifier(n_neighbors=K,p=2)\n",
    "\n",
    "knn.fit(X_train,y_train)\n",
    "pred = knn.predict(X_test)\n",
    "\n",
    "print('WITH K={} \\n'.format(K))\n",
    "print(roc_auc_score(y_test, pred))"
   ]
  },
  {
   "cell_type": "code",
   "execution_count": null,
   "metadata": {},
   "outputs": [],
   "source": []
  },
  {
   "cell_type": "code",
   "execution_count": null,
   "metadata": {},
   "outputs": [],
   "source": []
  }
 ],
 "metadata": {
  "kernelspec": {
   "display_name": "Python 3",
   "language": "python",
   "name": "python3"
  },
  "language_info": {
   "codemirror_mode": {
    "name": "ipython",
    "version": 3
   },
   "file_extension": ".py",
   "mimetype": "text/x-python",
   "name": "python",
   "nbconvert_exporter": "python",
   "pygments_lexer": "ipython3",
   "version": "3.8.8"
  }
 },
 "nbformat": 4,
 "nbformat_minor": 1
}
