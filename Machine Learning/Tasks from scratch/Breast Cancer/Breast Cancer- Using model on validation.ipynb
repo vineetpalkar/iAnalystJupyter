{
 "cells": [
  {
   "cell_type": "code",
   "execution_count": 21,
   "id": "610177ef",
   "metadata": {},
   "outputs": [],
   "source": [
    "import pickle\n",
    "import os\n",
    "os.chdir(\"C:/Users/Vineet/Desktop/iAnalyst jupyter/Machine Learning/Tasks from scratch/Breast Cancer\")"
   ]
  },
  {
   "cell_type": "code",
   "execution_count": 41,
   "id": "c4ea97ef",
   "metadata": {},
   "outputs": [],
   "source": [
    "loaded_model = pickle.load(open('Model_BC_ADA.pkl', 'rb'))"
   ]
  },
  {
   "cell_type": "code",
   "execution_count": 42,
   "id": "4a6cab4f",
   "metadata": {},
   "outputs": [],
   "source": [
    "import pandas as pd\n",
    "data = pd.read_excel(\"Validation.xlsx\")\n",
    "\n",
    "X_test= data.drop('Severity', axis=1)\n",
    "Y_test= data['Severity']"
   ]
  },
  {
   "cell_type": "code",
   "execution_count": 43,
   "id": "1771b771",
   "metadata": {},
   "outputs": [
    {
     "name": "stdout",
     "output_type": "stream",
     "text": [
      "0.6666666666666666\n"
     ]
    }
   ],
   "source": [
    "result = loaded_model.score(X_test, Y_test)\n",
    "print(result)"
   ]
  },
  {
   "cell_type": "code",
   "execution_count": null,
   "id": "d1a86cd7",
   "metadata": {},
   "outputs": [],
   "source": []
  }
 ],
 "metadata": {
  "kernelspec": {
   "display_name": "Python 3",
   "language": "python",
   "name": "python3"
  },
  "language_info": {
   "codemirror_mode": {
    "name": "ipython",
    "version": 3
   },
   "file_extension": ".py",
   "mimetype": "text/x-python",
   "name": "python",
   "nbconvert_exporter": "python",
   "pygments_lexer": "ipython3",
   "version": "3.8.8"
  }
 },
 "nbformat": 4,
 "nbformat_minor": 5
}
