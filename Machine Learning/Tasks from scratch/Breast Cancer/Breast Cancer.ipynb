{
 "cells": [
  {
   "cell_type": "markdown",
   "id": "7634e81d",
   "metadata": {},
   "source": [
    "# Dataset Description"
   ]
  },
  {
   "cell_type": "markdown",
   "id": "428d8164",
   "metadata": {},
   "source": [
    "Mammography is the most effective method for breast cancer screening available today. However, the low\n",
    "positive predictive value of breast biopsy resulting from mammogram interpretation leads to approximately\n",
    "70% unnecessary biopsies with benign outcomes. To reduce the high number of unnecessary breast biopsies,\n",
    "several computer-aided diagnoses (CAD) systems have been proposed in the last years."
   ]
  },
  {
   "cell_type": "markdown",
   "id": "fe6b4dae",
   "metadata": {},
   "source": [
    " These systems help\n",
    "physicians in their decision to perform a breast biopsy on a suspicious lesion seen in a mammogram or to\n",
    "perform a short-term follow-up examination instead"
   ]
  },
  {
   "cell_type": "markdown",
   "id": "b6b1501a",
   "metadata": {},
   "source": [
    "The BI-RADS score is an acronym for the Breast Imaging Reporting and Database System score. It's a scoring system radiologists use to describe mammogram results. A mammogram is an X-ray imaging test that examines breast health."
   ]
  },
  {
   "cell_type": "markdown",
   "id": "d1dbb343",
   "metadata": {},
   "source": [
    "### Objective: Building a model where we want to suggest a doctor to refer the patient for biopsy or not."
   ]
  },
  {
   "cell_type": "markdown",
   "id": "def47725",
   "metadata": {},
   "source": [
    "#    Attribute Information:\n",
    "1. BI-RADS assessment: 1 to 5 (ordinal, non-predictive!)\n",
    "\n",
    "2. Age: patient's age in years (integer)\n",
    "\n",
    "3. Shape: mass shape:\n",
    "    lobular=1  oval=2  irregular=3  round=4 (nominal)\n",
    "    \n",
    "4. Margin: mass margin:\n",
    "    circumscribed=0    ill-defined=1    microlobulated=2    obscured=3   spiculated=4 (nominal)\n",
    "    \n",
    "5. Density: mass density \n",
    "    high=1 iso=2 low=3 fat-containing=4 (ordinal)\n",
    "    \n",
    "6. Severity: benign=0 or malignant=1 (binominal, goal field!)\n",
    "\n",
    "If severity is 1 then the doctor suggests the patient to go for biopsy"
   ]
  },
  {
   "cell_type": "code",
   "execution_count": 1,
   "id": "029410e5",
   "metadata": {},
   "outputs": [],
   "source": [
    "#Importing required libraries\n",
    "import pandas as pd\n",
    "import numpy as np\n",
    "import matplotlib.pyplot as plt\n",
    "import seaborn as sns"
   ]
  },
  {
   "cell_type": "code",
   "execution_count": 2,
   "id": "211cd23d",
   "metadata": {},
   "outputs": [
    {
     "data": {
      "text/html": [
       "<div>\n",
       "<style scoped>\n",
       "    .dataframe tbody tr th:only-of-type {\n",
       "        vertical-align: middle;\n",
       "    }\n",
       "\n",
       "    .dataframe tbody tr th {\n",
       "        vertical-align: top;\n",
       "    }\n",
       "\n",
       "    .dataframe thead th {\n",
       "        text-align: right;\n",
       "    }\n",
       "</style>\n",
       "<table border=\"1\" class=\"dataframe\">\n",
       "  <thead>\n",
       "    <tr style=\"text-align: right;\">\n",
       "      <th></th>\n",
       "      <th>Index</th>\n",
       "      <th>BI_RADS</th>\n",
       "      <th>Age</th>\n",
       "      <th>Shape</th>\n",
       "      <th>Margin</th>\n",
       "      <th>Mass_Density</th>\n",
       "      <th>Severity</th>\n",
       "    </tr>\n",
       "  </thead>\n",
       "  <tbody>\n",
       "    <tr>\n",
       "      <th>0</th>\n",
       "      <td>1</td>\n",
       "      <td>5.0</td>\n",
       "      <td>67.0</td>\n",
       "      <td>lobular</td>\n",
       "      <td>spiculated</td>\n",
       "      <td>low</td>\n",
       "      <td>1</td>\n",
       "    </tr>\n",
       "    <tr>\n",
       "      <th>1</th>\n",
       "      <td>2</td>\n",
       "      <td>4.0</td>\n",
       "      <td>43.0</td>\n",
       "      <td>round</td>\n",
       "      <td>circumscribed</td>\n",
       "      <td>NaN</td>\n",
       "      <td>1</td>\n",
       "    </tr>\n",
       "    <tr>\n",
       "      <th>2</th>\n",
       "      <td>3</td>\n",
       "      <td>5.0</td>\n",
       "      <td>58.0</td>\n",
       "      <td>irregular</td>\n",
       "      <td>spiculated</td>\n",
       "      <td>low</td>\n",
       "      <td>1</td>\n",
       "    </tr>\n",
       "    <tr>\n",
       "      <th>3</th>\n",
       "      <td>4</td>\n",
       "      <td>4.0</td>\n",
       "      <td>28.0</td>\n",
       "      <td>round</td>\n",
       "      <td>circumscribed</td>\n",
       "      <td>low</td>\n",
       "      <td>0</td>\n",
       "    </tr>\n",
       "    <tr>\n",
       "      <th>4</th>\n",
       "      <td>5</td>\n",
       "      <td>5.0</td>\n",
       "      <td>74.0</td>\n",
       "      <td>round</td>\n",
       "      <td>spiculated</td>\n",
       "      <td>NaN</td>\n",
       "      <td>1</td>\n",
       "    </tr>\n",
       "  </tbody>\n",
       "</table>\n",
       "</div>"
      ],
      "text/plain": [
       "   Index  BI_RADS   Age      Shape         Margin Mass_Density  Severity\n",
       "0      1      5.0  67.0    lobular     spiculated          low         1\n",
       "1      2      4.0  43.0      round  circumscribed          NaN         1\n",
       "2      3      5.0  58.0  irregular     spiculated          low         1\n",
       "3      4      4.0  28.0      round  circumscribed          low         0\n",
       "4      5      5.0  74.0      round     spiculated          NaN         1"
      ]
     },
     "execution_count": 2,
     "metadata": {},
     "output_type": "execute_result"
    }
   ],
   "source": [
    "#Importing the train and test data to merge them and remove the missing values from them.\n",
    "data_train= pd.read_excel(\"D:/iAnalyst/Machine Learning/Task from scratch/Breast Cancer/Train.xlsx\")\n",
    "data_test= pd.read_excel(\"D:/iAnalyst/Machine Learning/Task from scratch/Breast Cancer/Test.xlsx\")\n",
    "data= data_train.merge(data_test,  how='outer')\n",
    "df=data.copy()\n",
    "df.head()"
   ]
  },
  {
   "cell_type": "code",
   "execution_count": 3,
   "id": "2e5e3b89",
   "metadata": {},
   "outputs": [
    {
     "data": {
      "text/html": [
       "<div>\n",
       "<style scoped>\n",
       "    .dataframe tbody tr th:only-of-type {\n",
       "        vertical-align: middle;\n",
       "    }\n",
       "\n",
       "    .dataframe tbody tr th {\n",
       "        vertical-align: top;\n",
       "    }\n",
       "\n",
       "    .dataframe thead th {\n",
       "        text-align: right;\n",
       "    }\n",
       "</style>\n",
       "<table border=\"1\" class=\"dataframe\">\n",
       "  <thead>\n",
       "    <tr style=\"text-align: right;\">\n",
       "      <th></th>\n",
       "      <th>Index</th>\n",
       "      <th>BI_RADS</th>\n",
       "      <th>Age</th>\n",
       "      <th>Severity</th>\n",
       "    </tr>\n",
       "  </thead>\n",
       "  <tbody>\n",
       "    <tr>\n",
       "      <th>count</th>\n",
       "      <td>960.000000</td>\n",
       "      <td>958.000000</td>\n",
       "      <td>861.000000</td>\n",
       "      <td>960.000000</td>\n",
       "    </tr>\n",
       "    <tr>\n",
       "      <th>mean</th>\n",
       "      <td>354.705208</td>\n",
       "      <td>4.347599</td>\n",
       "      <td>55.860627</td>\n",
       "      <td>0.462500</td>\n",
       "    </tr>\n",
       "    <tr>\n",
       "      <th>std</th>\n",
       "      <td>246.942833</td>\n",
       "      <td>1.783838</td>\n",
       "      <td>16.969647</td>\n",
       "      <td>0.498852</td>\n",
       "    </tr>\n",
       "    <tr>\n",
       "      <th>min</th>\n",
       "      <td>1.000000</td>\n",
       "      <td>0.000000</td>\n",
       "      <td>5.000000</td>\n",
       "      <td>0.000000</td>\n",
       "    </tr>\n",
       "    <tr>\n",
       "      <th>25%</th>\n",
       "      <td>121.000000</td>\n",
       "      <td>4.000000</td>\n",
       "      <td>45.000000</td>\n",
       "      <td>0.000000</td>\n",
       "    </tr>\n",
       "    <tr>\n",
       "      <th>50%</th>\n",
       "      <td>331.500000</td>\n",
       "      <td>4.000000</td>\n",
       "      <td>56.000000</td>\n",
       "      <td>0.000000</td>\n",
       "    </tr>\n",
       "    <tr>\n",
       "      <th>75%</th>\n",
       "      <td>571.250000</td>\n",
       "      <td>5.000000</td>\n",
       "      <td>66.000000</td>\n",
       "      <td>1.000000</td>\n",
       "    </tr>\n",
       "    <tr>\n",
       "      <th>max</th>\n",
       "      <td>811.000000</td>\n",
       "      <td>55.000000</td>\n",
       "      <td>130.000000</td>\n",
       "      <td>1.000000</td>\n",
       "    </tr>\n",
       "  </tbody>\n",
       "</table>\n",
       "</div>"
      ],
      "text/plain": [
       "            Index     BI_RADS         Age    Severity\n",
       "count  960.000000  958.000000  861.000000  960.000000\n",
       "mean   354.705208    4.347599   55.860627    0.462500\n",
       "std    246.942833    1.783838   16.969647    0.498852\n",
       "min      1.000000    0.000000    5.000000    0.000000\n",
       "25%    121.000000    4.000000   45.000000    0.000000\n",
       "50%    331.500000    4.000000   56.000000    0.000000\n",
       "75%    571.250000    5.000000   66.000000    1.000000\n",
       "max    811.000000   55.000000  130.000000    1.000000"
      ]
     },
     "execution_count": 3,
     "metadata": {},
     "output_type": "execute_result"
    }
   ],
   "source": [
    "df.describe()"
   ]
  },
  {
   "cell_type": "markdown",
   "id": "e2f51f74",
   "metadata": {},
   "source": [
    "#### The 5 point statistical summary indicates that there are no outliers."
   ]
  },
  {
   "cell_type": "code",
   "execution_count": 4,
   "id": "af3cef4e",
   "metadata": {},
   "outputs": [
    {
     "data": {
      "text/plain": [
       "Index            0\n",
       "BI_RADS          2\n",
       "Age             99\n",
       "Shape           31\n",
       "Margin          48\n",
       "Mass_Density    76\n",
       "Severity         0\n",
       "dtype: int64"
      ]
     },
     "execution_count": 4,
     "metadata": {},
     "output_type": "execute_result"
    }
   ],
   "source": [
    "#Checking for missing values\n",
    "df.isnull().sum()"
   ]
  },
  {
   "cell_type": "markdown",
   "id": "875ca9f7",
   "metadata": {},
   "source": [
    "Filling missing values in Age and BI-RADS according to severity"
   ]
  },
  {
   "cell_type": "code",
   "execution_count": 5,
   "id": "8bab03bf",
   "metadata": {},
   "outputs": [],
   "source": [
    "A1 = df[df.Severity==1].Age.median()  #63\n",
    "A0 = df[df.Severity==0].Age.median()  #50\n",
    "df.loc[((df['Age'].isnull()) & (df['Severity'] == 1)), 'Age'] = A1\n",
    "df.loc[((df['Age'].isnull()) & (df['Severity'] == 0)), 'Age'] = A0\n",
    "\n",
    "df['BI_RADS'].fillna(value = df['BI_RADS'].median(), inplace= True)"
   ]
  },
  {
   "cell_type": "markdown",
   "id": "3f4cec44",
   "metadata": {},
   "source": [
    "Filling missing values in shape, margin, mass density according to severity"
   ]
  },
  {
   "cell_type": "code",
   "execution_count": 6,
   "id": "bdd67b4c",
   "metadata": {},
   "outputs": [
    {
     "data": {
      "text/plain": [
       "Index           0\n",
       "BI_RADS         0\n",
       "Age             0\n",
       "Shape           0\n",
       "Margin          0\n",
       "Mass_Density    0\n",
       "Severity        0\n",
       "dtype: int64"
      ]
     },
     "execution_count": 6,
     "metadata": {},
     "output_type": "execute_result"
    }
   ],
   "source": [
    "Sh1 = df[df.Severity==1].Shape.mode()[0]   #irregular\n",
    "Sh0 = df[df.Severity==0].Shape.mode()[0]   #round\n",
    "df.loc[((df['Shape'].isnull()) & (df['Severity'] == 1)), 'Shape'] = Sh1\n",
    "df.loc[((df['Shape'].isnull()) & (df['Severity'] == 0)), 'Shape'] = Sh0\n",
    "\n",
    "M1 = df[df.Severity==1].Margin.mode()[0]  \n",
    "M0 = df[df.Severity==0].Margin.mode()[0]  \n",
    "df.loc[((df['Margin'].isnull()) & (df['Severity'] == 1)), 'Margin'] = M1\n",
    "df.loc[((df['Margin'].isnull()) & (df['Severity'] == 0)), 'Margin'] = M0\n",
    "\n",
    "Md1 = df[df.Severity==1].Mass_Density.mode()[0]  \n",
    "Md0 = df[df.Severity==0].Mass_Density.mode()[0]  \n",
    "df.loc[((df['Mass_Density'].isnull()) & (df['Severity'] == 1)), 'Mass_Density'] = M1\n",
    "df.loc[((df['Mass_Density'].isnull()) & (df['Severity'] == 0)), 'Mass_Density'] = M0\n",
    "\n",
    "df.isnull().sum()  #No missing values!!"
   ]
  },
  {
   "cell_type": "markdown",
   "id": "181d0d1c",
   "metadata": {},
   "source": [
    "Imputed all the missing values by the median or the mode"
   ]
  },
  {
   "cell_type": "code",
   "execution_count": 7,
   "id": "4ae4d656",
   "metadata": {},
   "outputs": [
    {
     "data": {
      "text/plain": [
       "<AxesSubplot:title={'center':'Frequency of Shape'}>"
      ]
     },
     "execution_count": 7,
     "metadata": {},
     "output_type": "execute_result"
    },
    {
     "data": {
      "image/png": "[encoded data removed]",
      "text/plain": [
       "<Figure size 432x288 with 1 Axes>"
      ]
     },
     "metadata": {
      "needs_background": "light"
     },
     "output_type": "display_data"
    }
   ],
   "source": [
    "shape = df['Shape'].value_counts()\n",
    "shape.plot.bar(title= 'Frequency of Shape', color= ['grey', 'blue', 'green', 'orange'])"
   ]
  },
  {
   "cell_type": "code",
   "execution_count": 8,
   "id": "8a8e865d",
   "metadata": {},
   "outputs": [
    {
     "data": {
      "text/plain": [
       "<AxesSubplot:title={'center':'Frequency of Shape'}>"
      ]
     },
     "execution_count": 8,
     "metadata": {},
     "output_type": "execute_result"
    },
    {
     "data": {
      "image/png": "[encoded data removed]",
      "text/plain": [
       "<Figure size 432x288 with 1 Axes>"
      ]
     },
     "metadata": {
      "needs_background": "light"
     },
     "output_type": "display_data"
    }
   ],
   "source": [
    "margin = df['Margin'].value_counts()\n",
    "margin.plot.bar(title= 'Frequency of Margin', color= ['grey', 'blue', 'green', 'orange','yellow'])"
   ]
  },
  {
   "cell_type": "code",
   "execution_count": 9,
   "id": "9101f394",
   "metadata": {},
   "outputs": [
    {
     "data": {
      "text/plain": [
       "<AxesSubplot:title={'center':'Frequency of Shape'}>"
      ]
     },
     "execution_count": 9,
     "metadata": {},
     "output_type": "execute_result"
    },
    {
     "data": {
      "image/png": "[encoded data removed]",
      "text/plain": [
       "<Figure size 432x288 with 1 Axes>"
      ]
     },
     "metadata": {
      "needs_background": "light"
     },
     "output_type": "display_data"
    }
   ],
   "source": [
    "massdensity = df['Mass_Density'].value_counts()\n",
    "massdensity.plot.bar(title= 'Frequency of Shape', color= ['grey', 'blue', 'green', 'orange', 'yellow'])"
   ]
  },
  {
   "cell_type": "code",
   "execution_count": 10,
   "id": "a01b9e39",
   "metadata": {
    "scrolled": true
   },
   "outputs": [
    {
     "data": {
      "text/plain": [
       "(array([516.,   0.,   0.,   0.,   0.,   0.,   0.,   0.,   0., 444.]),\n",
       " array([0. , 0.1, 0.2, 0.3, 0.4, 0.5, 0.6, 0.7, 0.8, 0.9, 1. ]),\n",
       " <BarContainer object of 10 artists>)"
      ]
     },
     "execution_count": 10,
     "metadata": {},
     "output_type": "execute_result"
    },
    {
     "data": {
      "image/png": "[encoded data removed]",
      "text/plain": [
       "<Figure size 432x288 with 1 Axes>"
      ]
     },
     "metadata": {
      "needs_background": "light"
     },
     "output_type": "display_data"
    }
   ],
   "source": [
    "plt.hist(df['Severity'])"
   ]
  },
  {
   "cell_type": "markdown",
   "id": "9ba9e996",
   "metadata": {},
   "source": [
    "#### From the above graph we come to know that the data is almost balanced."
   ]
  },
  {
   "cell_type": "markdown",
   "id": "593c3a22",
   "metadata": {},
   "source": [
    "# Plots based on Severity"
   ]
  },
  {
   "cell_type": "code",
   "execution_count": 11,
   "id": "188956dd",
   "metadata": {},
   "outputs": [
    {
     "data": {
      "text/plain": [
       "<AxesSubplot:title={'center':'Sub-divided bar plot of Shape'}, xlabel='Shape'>"
      ]
     },
     "execution_count": 11,
     "metadata": {},
     "output_type": "execute_result"
    },
    {
     "data": {
      "image/png": "[encoded data removed]",
      "text/plain": [
       "<Figure size 432x288 with 1 Axes>"
      ]
     },
     "metadata": {
      "needs_background": "light"
     },
     "output_type": "display_data"
    }
   ],
   "source": [
    "t1=pd.crosstab(df.Shape,df.Severity)\n",
    "t1.plot.bar(stacked=True,title='Sub-divided bar plot of Shape',color=['green','red'],\n",
    "            ylim=[0,1200],legend=True)"
   ]
  },
  {
   "cell_type": "code",
   "execution_count": 12,
   "id": "60ca13ac",
   "metadata": {},
   "outputs": [
    {
     "data": {
      "text/plain": [
       "<AxesSubplot:title={'center':'Sub-divided bar plot of Margin'}, xlabel='Margin'>"
      ]
     },
     "execution_count": 12,
     "metadata": {},
     "output_type": "execute_result"
    },
    {
     "data": {
      "image/png": "[encoded data removed]",
      "text/plain": [
       "<Figure size 432x288 with 1 Axes>"
      ]
     },
     "metadata": {
      "needs_background": "light"
     },
     "output_type": "display_data"
    }
   ],
   "source": [
    "t1=pd.crosstab(df.Margin,df.Severity)\n",
    "t1.plot.bar(stacked=True,title='Sub-divided bar plot of Margin',color=['green','red'],\n",
    "            ylim=[0,1200],legend=True)"
   ]
  },
  {
   "cell_type": "code",
   "execution_count": 13,
   "id": "5a48ca57",
   "metadata": {},
   "outputs": [
    {
     "data": {
      "text/plain": [
       "<AxesSubplot:title={'center':'Sub-divided bar plot of Mass_Density'}, xlabel='Mass_Density'>"
      ]
     },
     "execution_count": 13,
     "metadata": {},
     "output_type": "execute_result"
    },
    {
     "data": {
      "image/png": "[encoded data removed]",
      "text/plain": [
       "<Figure size 432x288 with 1 Axes>"
      ]
     },
     "metadata": {
      "needs_background": "light"
     },
     "output_type": "display_data"
    }
   ],
   "source": [
    "t1=pd.crosstab(df.Mass_Density,df.Severity)\n",
    "t1.plot.bar(stacked=True,title='Sub-divided bar plot of Mass_Density',color=['green','red'],\n",
    "            ylim=[0,1200],legend=True)"
   ]
  },
  {
   "cell_type": "code",
   "execution_count": null,
   "id": "12f42563",
   "metadata": {},
   "outputs": [],
   "source": []
  },
  {
   "cell_type": "markdown",
   "id": "7ebc5c76",
   "metadata": {},
   "source": [
    "# Label Encoding"
   ]
  },
  {
   "cell_type": "code",
   "execution_count": 14,
   "id": "1f353ba6",
   "metadata": {},
   "outputs": [
    {
     "data": {
      "text/html": [
       "<div>\n",
       "<style scoped>\n",
       "    .dataframe tbody tr th:only-of-type {\n",
       "        vertical-align: middle;\n",
       "    }\n",
       "\n",
       "    .dataframe tbody tr th {\n",
       "        vertical-align: top;\n",
       "    }\n",
       "\n",
       "    .dataframe thead th {\n",
       "        text-align: right;\n",
       "    }\n",
       "</style>\n",
       "<table border=\"1\" class=\"dataframe\">\n",
       "  <thead>\n",
       "    <tr style=\"text-align: right;\">\n",
       "      <th></th>\n",
       "      <th>Index</th>\n",
       "      <th>BI_RADS</th>\n",
       "      <th>Age</th>\n",
       "      <th>Shape</th>\n",
       "      <th>Margin</th>\n",
       "      <th>Mass_Density</th>\n",
       "      <th>Severity</th>\n",
       "    </tr>\n",
       "  </thead>\n",
       "  <tbody>\n",
       "    <tr>\n",
       "      <th>0</th>\n",
       "      <td>1</td>\n",
       "      <td>5.0</td>\n",
       "      <td>67.0</td>\n",
       "      <td>1</td>\n",
       "      <td>4</td>\n",
       "      <td>5</td>\n",
       "      <td>1</td>\n",
       "    </tr>\n",
       "    <tr>\n",
       "      <th>1</th>\n",
       "      <td>2</td>\n",
       "      <td>4.0</td>\n",
       "      <td>43.0</td>\n",
       "      <td>3</td>\n",
       "      <td>0</td>\n",
       "      <td>3</td>\n",
       "      <td>1</td>\n",
       "    </tr>\n",
       "    <tr>\n",
       "      <th>2</th>\n",
       "      <td>3</td>\n",
       "      <td>5.0</td>\n",
       "      <td>58.0</td>\n",
       "      <td>0</td>\n",
       "      <td>4</td>\n",
       "      <td>5</td>\n",
       "      <td>1</td>\n",
       "    </tr>\n",
       "    <tr>\n",
       "      <th>3</th>\n",
       "      <td>4</td>\n",
       "      <td>4.0</td>\n",
       "      <td>28.0</td>\n",
       "      <td>3</td>\n",
       "      <td>0</td>\n",
       "      <td>5</td>\n",
       "      <td>0</td>\n",
       "    </tr>\n",
       "    <tr>\n",
       "      <th>4</th>\n",
       "      <td>5</td>\n",
       "      <td>5.0</td>\n",
       "      <td>74.0</td>\n",
       "      <td>3</td>\n",
       "      <td>4</td>\n",
       "      <td>3</td>\n",
       "      <td>1</td>\n",
       "    </tr>\n",
       "    <tr>\n",
       "      <th>...</th>\n",
       "      <td>...</td>\n",
       "      <td>...</td>\n",
       "      <td>...</td>\n",
       "      <td>...</td>\n",
       "      <td>...</td>\n",
       "      <td>...</td>\n",
       "      <td>...</td>\n",
       "    </tr>\n",
       "    <tr>\n",
       "      <th>955</th>\n",
       "      <td>146</td>\n",
       "      <td>4.0</td>\n",
       "      <td>47.0</td>\n",
       "      <td>2</td>\n",
       "      <td>0</td>\n",
       "      <td>5</td>\n",
       "      <td>0</td>\n",
       "    </tr>\n",
       "    <tr>\n",
       "      <th>956</th>\n",
       "      <td>147</td>\n",
       "      <td>4.0</td>\n",
       "      <td>56.0</td>\n",
       "      <td>0</td>\n",
       "      <td>4</td>\n",
       "      <td>5</td>\n",
       "      <td>1</td>\n",
       "    </tr>\n",
       "    <tr>\n",
       "      <th>957</th>\n",
       "      <td>148</td>\n",
       "      <td>4.0</td>\n",
       "      <td>64.0</td>\n",
       "      <td>0</td>\n",
       "      <td>4</td>\n",
       "      <td>5</td>\n",
       "      <td>0</td>\n",
       "    </tr>\n",
       "    <tr>\n",
       "      <th>958</th>\n",
       "      <td>149</td>\n",
       "      <td>5.0</td>\n",
       "      <td>66.0</td>\n",
       "      <td>0</td>\n",
       "      <td>4</td>\n",
       "      <td>5</td>\n",
       "      <td>1</td>\n",
       "    </tr>\n",
       "    <tr>\n",
       "      <th>959</th>\n",
       "      <td>150</td>\n",
       "      <td>4.0</td>\n",
       "      <td>62.0</td>\n",
       "      <td>1</td>\n",
       "      <td>3</td>\n",
       "      <td>5</td>\n",
       "      <td>0</td>\n",
       "    </tr>\n",
       "  </tbody>\n",
       "</table>\n",
       "<p>960 rows × 7 columns</p>\n",
       "</div>"
      ],
      "text/plain": [
       "     Index  BI_RADS   Age  Shape  Margin  Mass_Density  Severity\n",
       "0        1      5.0  67.0      1       4             5         1\n",
       "1        2      4.0  43.0      3       0             3         1\n",
       "2        3      5.0  58.0      0       4             5         1\n",
       "3        4      4.0  28.0      3       0             5         0\n",
       "4        5      5.0  74.0      3       4             3         1\n",
       "..     ...      ...   ...    ...     ...           ...       ...\n",
       "955    146      4.0  47.0      2       0             5         0\n",
       "956    147      4.0  56.0      0       4             5         1\n",
       "957    148      4.0  64.0      0       4             5         0\n",
       "958    149      5.0  66.0      0       4             5         1\n",
       "959    150      4.0  62.0      1       3             5         0\n",
       "\n",
       "[960 rows x 7 columns]"
      ]
     },
     "execution_count": 14,
     "metadata": {},
     "output_type": "execute_result"
    }
   ],
   "source": [
    "##Use label hot encoding on Shape, margin and density\n",
    "from sklearn import preprocessing\n",
    "\n",
    "label_encoder = preprocessing.LabelEncoder()\n",
    "\n",
    "df['Shape']= label_encoder.fit_transform(df['Shape'])\n",
    "df['Margin']= label_encoder.fit_transform(df['Margin'])\n",
    "df['Mass_Density']= label_encoder.fit_transform(df['Mass_Density'])\n",
    "df"
   ]
  },
  {
   "cell_type": "code",
   "execution_count": 15,
   "id": "832dcc9e",
   "metadata": {},
   "outputs": [
    {
     "data": {
      "text/plain": [
       "Text(0.5, 1.0, 'abs')"
      ]
     },
     "execution_count": 15,
     "metadata": {},
     "output_type": "execute_result"
    },
    {
     "data": {
      "image/png": "[encoded data removed]",
      "text/plain": [
       "<Figure size 432x288 with 1 Axes>"
      ]
     },
     "metadata": {
      "needs_background": "light"
     },
     "output_type": "display_data"
    }
   ],
   "source": [
    "data2= df[df['Severity']==1]['Shape']\n",
    "data2.plot(kind ='hist')\n",
    "plt.title(\"abs\")"
   ]
  },
  {
   "cell_type": "code",
   "execution_count": 16,
   "id": "5063f496",
   "metadata": {},
   "outputs": [
    {
     "data": {
      "text/plain": [
       "<AxesSubplot:title={'center':'Boxplot for Shape when Severity is malignant'}>"
      ]
     },
     "execution_count": 16,
     "metadata": {},
     "output_type": "execute_result"
    },
    {
     "data": {
      "image/png": "[encoded data removed]",
      "text/plain": [
       "<Figure size 432x288 with 1 Axes>"
      ]
     },
     "metadata": {
      "needs_background": "light"
     },
     "output_type": "display_data"
    }
   ],
   "source": [
    "a=df[df['Severity']==1]['Shape']    \n",
    "a.plot.box(color='red',title='Boxplot for Shape when Severity is malignant')"
   ]
  },
  {
   "cell_type": "code",
   "execution_count": 17,
   "id": "f3903cc0",
   "metadata": {},
   "outputs": [
    {
     "data": {
      "text/plain": [
       "<AxesSubplot:title={'center':'Boxplot for Shape when Severity is benign'}>"
      ]
     },
     "execution_count": 17,
     "metadata": {},
     "output_type": "execute_result"
    },
    {
     "data": {
      "image/png": "[encoded data removed]",
      "text/plain": [
       "<Figure size 432x288 with 1 Axes>"
      ]
     },
     "metadata": {
      "needs_background": "light"
     },
     "output_type": "display_data"
    }
   ],
   "source": [
    "a=df[df['Severity']==0]['Shape']    \n",
    "a.plot.box(color='green',title='Boxplot for Shape when Severity is benign')"
   ]
  },
  {
   "cell_type": "code",
   "execution_count": 18,
   "id": "5e030c51",
   "metadata": {},
   "outputs": [
    {
     "data": {
      "text/plain": [
       "<AxesSubplot:title={'center':'Boxplot for Mass when Severity is malignant'}>"
      ]
     },
     "execution_count": 18,
     "metadata": {},
     "output_type": "execute_result"
    },
    {
     "data": {
      "image/png": "[encoded data removed]",
      "text/plain": [
       "<Figure size 432x288 with 1 Axes>"
      ]
     },
     "metadata": {
      "needs_background": "light"
     },
     "output_type": "display_data"
    }
   ],
   "source": [
    "a=df[df['Severity']==1]['Margin']    \n",
    "a.plot.box(color='red',title='Boxplot for Mass when Severity is malignant')"
   ]
  },
  {
   "cell_type": "code",
   "execution_count": 19,
   "id": "090d0e0a",
   "metadata": {},
   "outputs": [
    {
     "data": {
      "text/plain": [
       "<AxesSubplot:title={'center':'Boxplot for Mass when Severity is benign'}>"
      ]
     },
     "execution_count": 19,
     "metadata": {},
     "output_type": "execute_result"
    },
    {
     "data": {
      "image/png": "[encoded data removed]",
      "text/plain": [
       "<Figure size 432x288 with 1 Axes>"
      ]
     },
     "metadata": {
      "needs_background": "light"
     },
     "output_type": "display_data"
    }
   ],
   "source": [
    "a=df[df['Severity']==0]['Margin']    \n",
    "a.plot.box(color='green',title='Boxplot for Mass when Severity is benign')"
   ]
  },
  {
   "cell_type": "raw",
   "id": "1a211b2f",
   "metadata": {},
   "source": [
    "''' a= df[df['Severity']==1].groupby('Shape').mode()['Age']\n",
    "b= (df[df['Severity']==0].groupby('Shape').mode()['Age'])\n",
    "print (a)\n",
    "print (b)\n",
    "print (a-b) \n",
    "\n",
    "Try groupby for all types of variables'''"
   ]
  },
  {
   "cell_type": "raw",
   "id": "546c86b8",
   "metadata": {},
   "source": [
    "#Alternative for filling missing values\n",
    "for i in range(len(df)):\n",
    "    if pd.Series(df.Age[i]).isna().values[0]:\n",
    "        print(i)\n",
    "        if df['Severity'][i] == 1:\n",
    "            df['Age'][i].fillna(value = df[df.Severity==1].Age.median(), inplace=True)\n",
    "        else:\n",
    "            df['Age'][i].fillna(value = df[df.Severity==0].Age.median(), inplace=True)\n",
    "            "
   ]
  },
  {
   "cell_type": "code",
   "execution_count": null,
   "id": "b207a3e7",
   "metadata": {},
   "outputs": [],
   "source": []
  },
  {
   "cell_type": "markdown",
   "id": "af7da852",
   "metadata": {},
   "source": [
    "# Train Test Split"
   ]
  },
  {
   "cell_type": "code",
   "execution_count": 20,
   "id": "6582f499",
   "metadata": {},
   "outputs": [],
   "source": [
    "X= df.drop('Severity', axis=1)\n",
    "y= df['Severity']\n",
    "\n",
    "#Train test split\n",
    "from sklearn.model_selection import train_test_split\n",
    "\n",
    "X_train, X_test, y_train, y_test = train_test_split(X, y, test_size=0.2, random_state=100)"
   ]
  },
  {
   "cell_type": "markdown",
   "id": "ade5d762",
   "metadata": {},
   "source": [
    "# Logistic"
   ]
  },
  {
   "cell_type": "code",
   "execution_count": 21,
   "id": "57cb8d2d",
   "metadata": {},
   "outputs": [
    {
     "name": "stderr",
     "output_type": "stream",
     "text": [
      "C:\\Users\\Vineet\\anaconda3\\lib\\site-packages\\sklearn\\linear_model\\_logistic.py:763: ConvergenceWarning: lbfgs failed to converge (status=1):\n",
      "STOP: TOTAL NO. of ITERATIONS REACHED LIMIT.\n",
      "\n",
      "Increase the number of iterations (max_iter) or scale the data as shown in:\n",
      "    https://scikit-learn.org/stable/modules/preprocessing.html\n",
      "Please also refer to the documentation for alternative solver options:\n",
      "    https://scikit-learn.org/stable/modules/linear_model.html#logistic-regression\n",
      "  n_iter_i = _check_optimize_result(\n"
     ]
    }
   ],
   "source": [
    "#Logistic \n",
    "\n",
    "from sklearn.linear_model import LogisticRegression\n",
    "\n",
    "logmodel = LogisticRegression()\n",
    "logmodel.fit(X_train,y_train)\n",
    "\n",
    "predictions = logmodel.predict(X_test) \n",
    "#predictions = logmodel.predict_proba(X_test)"
   ]
  },
  {
   "cell_type": "code",
   "execution_count": 22,
   "id": "bf292f0f",
   "metadata": {},
   "outputs": [
    {
     "name": "stdout",
     "output_type": "stream",
     "text": [
      "[[86 22]\n",
      " [15 69]]\n",
      "              precision    recall  f1-score   support\n",
      "\n",
      "           0       0.85      0.80      0.82       108\n",
      "           1       0.76      0.82      0.79        84\n",
      "\n",
      "    accuracy                           0.81       192\n",
      "   macro avg       0.80      0.81      0.81       192\n",
      "weighted avg       0.81      0.81      0.81       192\n",
      "\n"
     ]
    }
   ],
   "source": [
    "#Evaluation\n",
    "from sklearn.metrics import classification_report, confusion_matrix\n",
    "print(confusion_matrix(y_test,predictions))\n",
    "\n",
    "print(classification_report(y_test,predictions))\n"
   ]
  },
  {
   "cell_type": "code",
   "execution_count": 23,
   "id": "2827ac9e",
   "metadata": {},
   "outputs": [
    {
     "data": {
      "image/png": "[encoded data removed]",
      "text/plain": [
       "<Figure size 432x288 with 1 Axes>"
      ]
     },
     "metadata": {
      "needs_background": "light"
     },
     "output_type": "display_data"
    }
   ],
   "source": [
    "from sklearn.metrics import roc_auc_score\n",
    "from sklearn.metrics import roc_curve\n",
    "logit_roc_auc = roc_auc_score(y_test, predictions)\n",
    "logit_roc_auc\n",
    "\n",
    "fpr, tpr, thresholds = roc_curve(y_test, logmodel.predict_proba(X_test)[:,1])\n",
    "plt.figure()\n",
    "plt.plot(fpr, tpr, label='Logistic Regression (area = %0.2f)' % logit_roc_auc)\n",
    "plt.plot([0, 1], [0, 1],'r--')\n",
    "plt.xlim([0.0, 1.0])\n",
    "plt.ylim([0.0, 1.05])\n",
    "plt.xlabel('False Positive Rate')\n",
    "plt.ylabel('True Positive Rate')\n",
    "plt.title('Receiver operating characteristic')\n",
    "plt.legend(loc=\"lower right\")\n",
    "#plt.savefig('Log_ROC')\n",
    "plt.show()"
   ]
  },
  {
   "cell_type": "code",
   "execution_count": null,
   "id": "b8f05867",
   "metadata": {},
   "outputs": [],
   "source": []
  },
  {
   "cell_type": "markdown",
   "id": "61ecd6bd",
   "metadata": {},
   "source": [
    "# Using KNN with standardizing"
   ]
  },
  {
   "cell_type": "code",
   "execution_count": 24,
   "id": "c792be00",
   "metadata": {},
   "outputs": [
    {
     "data": {
      "text/html": [
       "<div>\n",
       "<style scoped>\n",
       "    .dataframe tbody tr th:only-of-type {\n",
       "        vertical-align: middle;\n",
       "    }\n",
       "\n",
       "    .dataframe tbody tr th {\n",
       "        vertical-align: top;\n",
       "    }\n",
       "\n",
       "    .dataframe thead th {\n",
       "        text-align: right;\n",
       "    }\n",
       "</style>\n",
       "<table border=\"1\" class=\"dataframe\">\n",
       "  <thead>\n",
       "    <tr style=\"text-align: right;\">\n",
       "      <th></th>\n",
       "      <th>Index</th>\n",
       "      <th>BI_RADS</th>\n",
       "      <th>Age</th>\n",
       "      <th>Shape</th>\n",
       "      <th>Margin</th>\n",
       "      <th>Mass_Density</th>\n",
       "    </tr>\n",
       "  </thead>\n",
       "  <tbody>\n",
       "    <tr>\n",
       "      <th>0</th>\n",
       "      <td>-1.433083</td>\n",
       "      <td>0.366694</td>\n",
       "      <td>0.689218</td>\n",
       "      <td>-0.237638</td>\n",
       "      <td>1.869606</td>\n",
       "      <td>0.377965</td>\n",
       "    </tr>\n",
       "    <tr>\n",
       "      <th>1</th>\n",
       "      <td>-1.429031</td>\n",
       "      <td>-0.194751</td>\n",
       "      <td>-0.792777</td>\n",
       "      <td>1.357692</td>\n",
       "      <td>-0.881079</td>\n",
       "      <td>-1.169356</td>\n",
       "    </tr>\n",
       "    <tr>\n",
       "      <th>2</th>\n",
       "      <td>-1.424980</td>\n",
       "      <td>0.366694</td>\n",
       "      <td>0.133470</td>\n",
       "      <td>-1.035302</td>\n",
       "      <td>1.869606</td>\n",
       "      <td>0.377965</td>\n",
       "    </tr>\n",
       "    <tr>\n",
       "      <th>3</th>\n",
       "      <td>-1.420928</td>\n",
       "      <td>-0.194751</td>\n",
       "      <td>-1.719024</td>\n",
       "      <td>1.357692</td>\n",
       "      <td>-0.881079</td>\n",
       "      <td>0.377965</td>\n",
       "    </tr>\n",
       "    <tr>\n",
       "      <th>4</th>\n",
       "      <td>-1.416876</td>\n",
       "      <td>0.366694</td>\n",
       "      <td>1.121466</td>\n",
       "      <td>1.357692</td>\n",
       "      <td>1.869606</td>\n",
       "      <td>-1.169356</td>\n",
       "    </tr>\n",
       "  </tbody>\n",
       "</table>\n",
       "</div>"
      ],
      "text/plain": [
       "      Index   BI_RADS       Age     Shape    Margin  Mass_Density\n",
       "0 -1.433083  0.366694  0.689218 -0.237638  1.869606      0.377965\n",
       "1 -1.429031 -0.194751 -0.792777  1.357692 -0.881079     -1.169356\n",
       "2 -1.424980  0.366694  0.133470 -1.035302  1.869606      0.377965\n",
       "3 -1.420928 -0.194751 -1.719024  1.357692 -0.881079      0.377965\n",
       "4 -1.416876  0.366694  1.121466  1.357692  1.869606     -1.169356"
      ]
     },
     "execution_count": 24,
     "metadata": {},
     "output_type": "execute_result"
    }
   ],
   "source": [
    "from sklearn.preprocessing import StandardScaler\n",
    "\n",
    "scaler = StandardScaler()  #Standard Scalar converts the variables/features to N(0,1) i.e. mu+-3(sigma)^sq. It's range will be from -3 to +3\n",
    "\n",
    "scaler.fit(df.drop('Severity',axis=1))\n",
    "\n",
    "scaled_features = scaler.transform(df.drop('Severity',axis=1))\n",
    "\n",
    "df_feat = pd.DataFrame(scaled_features,columns=df.columns[:6])\n",
    "df_feat.head()"
   ]
  },
  {
   "cell_type": "code",
   "execution_count": 25,
   "id": "49ee492b",
   "metadata": {},
   "outputs": [],
   "source": [
    "from sklearn.model_selection import train_test_split\n",
    "\n",
    "X=df_feat\n",
    "y=df['Severity']\n",
    "\n",
    "X_train, X_test, y_train, y_test = train_test_split(X,y,test_size=0.2, random_state=100)"
   ]
  },
  {
   "cell_type": "code",
   "execution_count": 26,
   "id": "c0ddaee0",
   "metadata": {},
   "outputs": [
    {
     "name": "stdout",
     "output_type": "stream",
     "text": [
      "KNeighborsClassifier(n_neighbors=3)\n",
      "              precision    recall  f1-score   support\n",
      "\n",
      "           0       0.89      0.86      0.88       108\n",
      "           1       0.83      0.87      0.85        84\n",
      "\n",
      "    accuracy                           0.86       192\n",
      "   macro avg       0.86      0.87      0.86       192\n",
      "weighted avg       0.87      0.86      0.86       192\n",
      "\n"
     ]
    },
    {
     "data": {
      "text/plain": [
       "0.8650793650793651"
      ]
     },
     "execution_count": 26,
     "metadata": {},
     "output_type": "execute_result"
    }
   ],
   "source": [
    "from sklearn.neighbors import KNeighborsClassifier\n",
    "\n",
    "knn = KNeighborsClassifier(n_neighbors=3,p=2) #when p=2 (default), it is Euclidean  distance. The general form is the Minkowski distance\n",
    "print(knn)\n",
    "\n",
    "knn.fit(X_train,y_train)\n",
    "\n",
    "pred = knn.predict(X_test)\n",
    "\n",
    "print(classification_report(y_test,pred))\n",
    "\n",
    "roc_auc_score(y_test, pred)"
   ]
  },
  {
   "cell_type": "code",
   "execution_count": 27,
   "id": "c55c89b8",
   "metadata": {},
   "outputs": [
    {
     "name": "stdout",
     "output_type": "stream",
     "text": [
      "ROC score for k=  1 is: 0.8042328042328042\n",
      "ROC score for k=  2 is: 0.8167989417989419\n",
      "ROC score for k=  3 is: 0.8650793650793651\n",
      "ROC score for k=  4 is: 0.8267195767195767\n",
      "ROC score for k=  5 is: 0.8425925925925926\n",
      "ROC score for k=  6 is: 0.8293650793650794\n",
      "ROC score for k=  7 is: 0.8333333333333334\n",
      "ROC score for k=  8 is: 0.832010582010582\n",
      "ROC score for k=  9 is: 0.8300264550264551\n",
      "ROC score for k=  10 is: 0.8333333333333334\n",
      "ROC score for k=  11 is: 0.835978835978836\n",
      "ROC score for k=  12 is: 0.8392857142857143\n",
      "ROC score for k=  13 is: 0.8253968253968255\n",
      "ROC score for k=  14 is: 0.8240740740740742\n",
      "ROC score for k=  15 is: 0.8220899470899471\n",
      "ROC score for k=  16 is: 0.8075396825396826\n",
      "ROC score for k=  17 is: 0.8101851851851852\n",
      "ROC score for k=  18 is: 0.8029100529100529\n",
      "ROC score for k=  19 is: 0.8148148148148149\n",
      "ROC score for k=  20 is: 0.8075396825396826\n"
     ]
    },
    {
     "data": {
      "image/png": "[encoded data removed]",
      "text/plain": [
       "<Figure size 432x288 with 1 Axes>"
      ]
     },
     "metadata": {
      "needs_background": "light"
     },
     "output_type": "display_data"
    }
   ],
   "source": [
    "roc_val= []\n",
    "for K in range(20):\n",
    "    K = K+1\n",
    "    knn = KNeighborsClassifier(n_neighbors=K,p=2)\n",
    "\n",
    "    knn.fit(X_train, y_train)  #fit the model\n",
    "    pred=knn.predict(X_test) #make prediction on test set\n",
    "    score= roc_auc_score(y_test, pred) #roc scores\n",
    "    roc_val.append(score)\n",
    "    print('ROC score for k= ' , K , 'is:', score)\n",
    "    \n",
    "curve = pd.DataFrame(roc_val) \n",
    "curve.plot()\n",
    "plt.grid()"
   ]
  },
  {
   "cell_type": "markdown",
   "id": "7d7ad4f4",
   "metadata": {},
   "source": [
    "#Here we can see that that after arouns K>3 the error rate just tends to decline. So we will finalize k=3 as after 3 error declines. Let's retrain the model with that and check the classification report!\n",
    "\n"
   ]
  },
  {
   "cell_type": "code",
   "execution_count": 28,
   "id": "8a352f18",
   "metadata": {},
   "outputs": [
    {
     "name": "stdout",
     "output_type": "stream",
     "text": [
      "WITH K=3 \n",
      "\n",
      "0.8650793650793651\n"
     ]
    }
   ],
   "source": [
    "# FIRST A QUICK COMPARISON TO OUR ORIGINAL \n",
    "K=3\n",
    "knn = KNeighborsClassifier(n_neighbors=K,p=2)\n",
    "\n",
    "knn.fit(X_train,y_train)\n",
    "pred = knn.predict(X_test)\n",
    "\n",
    "print('WITH K={} \\n'.format(K))\n",
    "print(roc_auc_score(y_test, pred))"
   ]
  },
  {
   "cell_type": "code",
   "execution_count": null,
   "id": "e42f2480",
   "metadata": {},
   "outputs": [],
   "source": []
  },
  {
   "cell_type": "markdown",
   "id": "b8c7db25",
   "metadata": {},
   "source": [
    "# Decision Tree\n",
    "\n"
   ]
  },
  {
   "cell_type": "code",
   "execution_count": 29,
   "id": "22025346",
   "metadata": {},
   "outputs": [
    {
     "name": "stdout",
     "output_type": "stream",
     "text": [
      "Training Accuracy : 0.8671875\n",
      "Testing Accuaracy : 0.8489583333333334\n",
      "[[94 14]\n",
      " [15 69]]\n",
      "0.8468553111528684\n"
     ]
    }
   ],
   "source": [
    "from sklearn.tree import DecisionTreeClassifier\n",
    "from sklearn.metrics import confusion_matrix\n",
    "\n",
    "dt = DecisionTreeClassifier(min_samples_split=35, random_state=50)  #Getting best accuracy when 35\n",
    "dt.fit(X_train, y_train)\n",
    "\n",
    "y_pred = dt.predict(X_test)\n",
    "\n",
    "print(\"Training Accuracy :\", dt.score(X_train, y_train))\n",
    "print(\"Testing Accuaracy :\", dt.score(X_test, y_test))\n",
    "\n",
    "cm = confusion_matrix(y_test, y_pred)\n",
    "print(cm)\n",
    "\n",
    "print(roc_auc_score(y_pred, y_test))"
   ]
  },
  {
   "cell_type": "markdown",
   "id": "bd6c57aa",
   "metadata": {},
   "source": [
    "# Random Forest"
   ]
  },
  {
   "cell_type": "code",
   "execution_count": 30,
   "id": "0eaa5a3d",
   "metadata": {},
   "outputs": [
    {
     "name": "stdout",
     "output_type": "stream",
     "text": [
      "Training Accuracy : 0.90234375\n",
      "Testing Accuracy : 0.8645833333333334\n",
      "[[93 15]\n",
      " [11 73]]\n",
      "0.8618881118881119\n"
     ]
    }
   ],
   "source": [
    "from sklearn.ensemble import RandomForestClassifier\n",
    "\n",
    "rf = RandomForestClassifier(min_samples_split=15, random_state=50)\n",
    "rf.fit(X_train, y_train)\n",
    "\n",
    "y_pred = rf.predict(X_test)\n",
    "\n",
    "print(\"Training Accuracy :\", rf.score(X_train, y_train))\n",
    "print(\"Testing Accuracy :\", rf.score(X_test, y_test))\n",
    "\n",
    "cm = confusion_matrix(y_test, y_pred)\n",
    "print(cm)\n",
    "\n",
    "print(roc_auc_score(y_pred, y_test))"
   ]
  },
  {
   "cell_type": "markdown",
   "id": "f2dcf281",
   "metadata": {},
   "source": [
    "# AdaBoost model"
   ]
  },
  {
   "cell_type": "code",
   "execution_count": 31,
   "id": "2a86e14e",
   "metadata": {
    "scrolled": true
   },
   "outputs": [
    {
     "name": "stdout",
     "output_type": "stream",
     "text": [
      "0.8541666666666666\n",
      "              precision    recall  f1-score   support\n",
      "\n",
      "           0       0.88      0.85      0.87       108\n",
      "           1       0.82      0.86      0.84        84\n",
      "\n",
      "    accuracy                           0.85       192\n",
      "   macro avg       0.85      0.85      0.85       192\n",
      "weighted avg       0.86      0.85      0.85       192\n",
      "\n"
     ]
    },
    {
     "data": {
      "text/plain": [
       "0.8544973544973545"
      ]
     },
     "execution_count": 31,
     "metadata": {},
     "output_type": "execute_result"
    }
   ],
   "source": [
    "from sklearn.ensemble import AdaBoostClassifier\n",
    "from sklearn.metrics import accuracy_score\n",
    "\n",
    "ada = AdaBoostClassifier(n_estimators=50,learning_rate=1,random_state=50)\n",
    "ada.fit(X_train, y_train)\n",
    "y_pred = ada.predict(X_test)\n",
    "print(accuracy_score(y_test, y_pred))\n",
    "\n",
    "print(classification_report(y_test,y_pred))\n",
    "roc_auc_score(y_test, ada.predict(X_test))"
   ]
  },
  {
   "cell_type": "code",
   "execution_count": 32,
   "id": "53b057c1",
   "metadata": {},
   "outputs": [
    {
     "data": {
      "image/png": "[encoded data removed]",
      "text/plain": [
       "<Figure size 432x288 with 1 Axes>"
      ]
     },
     "metadata": {
      "needs_background": "light"
     },
     "output_type": "display_data"
    }
   ],
   "source": [
    "Boost_roc_auc = roc_auc_score(y_test, ada.predict(X_test))\n",
    "fpr, tpr, thresholds = roc_curve(y_test, ada.predict_proba(X_test)[:,1])\n",
    "plt.figure()\n",
    "plt.plot(fpr, tpr, label='Boost (area = %0.2f)' % Boost_roc_auc)\n",
    "plt.plot([0, 1], [0, 1],'r--')\n",
    "plt.xlim([0.0, 1.0])\n",
    "plt.ylim([0.0, 1.05])\n",
    "plt.xlabel('False Positive Rate')\n",
    "plt.ylabel('True Positive Rate')\n",
    "plt.title('Receiver operating characteristic')\n",
    "plt.legend(loc=\"lower right\")\n",
    "#plt.savefig('Log_ROC')\n",
    "plt.show()"
   ]
  },
  {
   "cell_type": "markdown",
   "id": "99337f92",
   "metadata": {},
   "source": [
    "# Gradient Boosting model"
   ]
  },
  {
   "cell_type": "code",
   "execution_count": 33,
   "id": "14d870a1",
   "metadata": {},
   "outputs": [
    {
     "name": "stdout",
     "output_type": "stream",
     "text": [
      "0.859375\n",
      "              precision    recall  f1-score   support\n",
      "\n",
      "           0       0.88      0.87      0.87       108\n",
      "           1       0.84      0.85      0.84        84\n",
      "\n",
      "    accuracy                           0.86       192\n",
      "   macro avg       0.86      0.86      0.86       192\n",
      "weighted avg       0.86      0.86      0.86       192\n",
      "\n"
     ]
    },
    {
     "data": {
      "text/plain": [
       "0.8578042328042328"
      ]
     },
     "execution_count": 33,
     "metadata": {},
     "output_type": "execute_result"
    }
   ],
   "source": [
    "from sklearn.ensemble import GradientBoostingClassifier\n",
    "\n",
    "gb = GradientBoostingClassifier(n_estimators=100,max_depth=2, random_state=50)\n",
    "gb.fit(X_train, y_train)\n",
    "y_pred = gb.predict(X_test)\n",
    "print(accuracy_score(y_test, y_pred))\n",
    "\n",
    "print(classification_report(y_test,y_pred))\n",
    "roc_auc_score(y_test, gb.predict(X_test))"
   ]
  },
  {
   "cell_type": "code",
   "execution_count": 34,
   "id": "5ce7edaa",
   "metadata": {},
   "outputs": [
    {
     "data": {
      "image/png": "[encoded data removed]",
      "text/plain": [
       "<Figure size 432x288 with 1 Axes>"
      ]
     },
     "metadata": {
      "needs_background": "light"
     },
     "output_type": "display_data"
    }
   ],
   "source": [
    "GB_roc_auc = roc_auc_score(y_test, gb.predict(X_test))\n",
    "fpr, tpr, thresholds = roc_curve(y_test, gb.predict_proba(X_test)[:,1])\n",
    "plt.figure()\n",
    "plt.plot(fpr, tpr, label='GB (area = %0.2f)' % GB_roc_auc)\n",
    "plt.plot([0, 1], [0, 1],'r--')\n",
    "plt.xlim([0.0, 1.0])\n",
    "plt.ylim([0.0, 1.05])\n",
    "plt.xlabel('False Positive Rate')\n",
    "plt.ylabel('True Positive Rate')\n",
    "plt.title('Receiver operating characteristic')\n",
    "plt.legend(loc=\"lower right\")\n",
    "#plt.savefig('Log_ROC')\n",
    "plt.show()"
   ]
  },
  {
   "cell_type": "markdown",
   "id": "49e1bc27",
   "metadata": {},
   "source": [
    "# Support Vector Machine"
   ]
  },
  {
   "cell_type": "code",
   "execution_count": 35,
   "id": "518290f3",
   "metadata": {},
   "outputs": [
    {
     "name": "stdout",
     "output_type": "stream",
     "text": [
      "Training Accuracy : 0.8489583333333334\n",
      "Testing Accuracy : 0.8333333333333334\n",
      "[[88 20]\n",
      " [12 72]]\n"
     ]
    },
    {
     "data": {
      "text/plain": [
       "0.831304347826087"
      ]
     },
     "execution_count": 35,
     "metadata": {},
     "output_type": "execute_result"
    }
   ],
   "source": [
    "from sklearn.svm import SVC\n",
    "from sklearn.metrics import roc_auc_score, roc_curve\n",
    "from sklearn.metrics import confusion_matrix\n",
    "\n",
    "svc = SVC(kernel = 'rbf', random_state=50)\n",
    "svc.fit(X_train, y_train)\n",
    "\n",
    "y_pred = svc.predict(X_test)\n",
    "\n",
    "print(\"Training Accuracy :\", svc.score(X_train, y_train))\n",
    "print(\"Testing Accuracy :\", svc.score(X_test, y_test))\n",
    "\n",
    "cm = confusion_matrix(y_test, y_pred)\n",
    "print(cm)\n",
    "roc_auc_score(y_pred, y_test)\n"
   ]
  },
  {
   "cell_type": "code",
   "execution_count": 36,
   "id": "a9009011",
   "metadata": {},
   "outputs": [
    {
     "data": {
      "text/plain": [
       "Text(0.5, 1.0, 'Receiver operating characteristic')"
      ]
     },
     "execution_count": 36,
     "metadata": {},
     "output_type": "execute_result"
    },
    {
     "data": {
      "image/png": "[encoded data removed]",
      "text/plain": [
       "<Figure size 432x288 with 1 Axes>"
      ]
     },
     "metadata": {
      "needs_background": "light"
     },
     "output_type": "display_data"
    }
   ],
   "source": [
    "SVC_roc_auc =roc_auc_score(y_pred, y_test)\n",
    "\n",
    "fpr, tpr,threshold = roc_curve(y_test, svc.predict(X_test))   #this fn returns 3 values. thats why 3 names  \n",
    "plt.figure()\n",
    "plt.plot(fpr, tpr, label='SVC (area = %0.2f)' % SVC_roc_auc)\n",
    "plt.plot([0, 1], [0, 1],'r--')\n",
    "plt.legend(loc=\"lower right\")\n",
    "\n",
    "plt.xlim([0.0, 1.0])          #can be used to set or get limits for X-axis\n",
    "plt.ylim([0.0, 1.05])\n",
    "plt.xlabel('False Positive Rate')\n",
    "plt.ylabel('True Positive Rate')\n",
    "plt.title('Receiver operating characteristic')"
   ]
  },
  {
   "cell_type": "code",
   "execution_count": null,
   "id": "490486bd",
   "metadata": {},
   "outputs": [],
   "source": []
  },
  {
   "cell_type": "code",
   "execution_count": 37,
   "id": "819220fe",
   "metadata": {
    "scrolled": true
   },
   "outputs": [
    {
     "name": "stdout",
     "output_type": "stream",
     "text": [
      "[0.96409214 0.89566396 0.92750678 0.899729   0.86314363 0.899729\n",
      " 0.91056911 0.88211382 0.91666667 0.85      ]\n",
      "Mean Accuracy : 0.900921409214092\n",
      "Variance : 0.03072893503026971\n"
     ]
    }
   ],
   "source": [
    "# k fold cross validation\n",
    "\n",
    "from sklearn.model_selection import cross_val_score\n",
    "\n",
    "cvs = cross_val_score(estimator =logmodel, X = X_train, y = y_train, cv = 10, scoring='roc_auc', n_jobs=-1)   \n",
    "\n",
    "#cross_val_score(rf, X_train, y_train, scoring='roc_auc' n_jobs=-1) \n",
    "#Use sorted(sklearn.metrics.SCORERS.keys()) to get valid options for scoring.\n",
    "print(cvs)\n",
    "\n",
    "print(\"Mean Accuracy :\", cvs.mean())\n",
    "print(\"Variance :\", cvs.std())\n"
   ]
  },
  {
   "cell_type": "raw",
   "id": "5c2f2517",
   "metadata": {},
   "source": [
    "## Mean Accuracy for\n",
    "LOGISTIC = 0.9009\n",
    "KNN = 0.9024\n",
    "DT = 0.8852\n",
    "RF = 0.9151\n",
    "SVC = 0.9102\n",
    "ADA = 0.9033\n",
    "GB = 0.9165"
   ]
  },
  {
   "cell_type": "code",
   "execution_count": 43,
   "id": "4c63d4f6",
   "metadata": {},
   "outputs": [],
   "source": [
    "import pickle\n",
    "# Save to file in the current working directory\n",
    "pkl_filename = \"Model_BC_ADA.pkl\"\n",
    "with open(pkl_filename, 'wb') as file:  #wb= write binary\n",
    "    pickle.dump(ada, file)"
   ]
  },
  {
   "cell_type": "code",
   "execution_count": null,
   "id": "2045f506",
   "metadata": {},
   "outputs": [],
   "source": []
  },
  {
   "cell_type": "code",
   "execution_count": null,
   "id": "b0960c8c",
   "metadata": {},
   "outputs": [],
   "source": []
  },
  {
   "cell_type": "code",
   "execution_count": null,
   "id": "ddf21bc8",
   "metadata": {},
   "outputs": [],
   "source": []
  },
  {
   "cell_type": "code",
   "execution_count": null,
   "id": "a31dee34",
   "metadata": {},
   "outputs": [],
   "source": []
  }
 ],
 "metadata": {
  "kernelspec": {
   "display_name": "Python 3",
   "language": "python",
   "name": "python3"
  },
  "language_info": {
   "codemirror_mode": {
    "name": "ipython",
    "version": 3
   },
   "file_extension": ".py",
   "mimetype": "text/x-python",
   "name": "python",
   "nbconvert_exporter": "python",
   "pygments_lexer": "ipython3",
   "version": "3.8.8"
  }
 },
 "nbformat": 4,
 "nbformat_minor": 5
}
