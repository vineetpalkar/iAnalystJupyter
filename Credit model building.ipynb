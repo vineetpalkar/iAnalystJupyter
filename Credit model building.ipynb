{
 "cells": [
  {
   "cell_type": "markdown",
   "id": "fb7e624b",
   "metadata": {},
   "source": [
    "Steps:\n",
    "1. Importing the libraries and data\n",
    "2. Cleaning (Dealing with missing values)\n",
    "3. Importance of variables affecting the model\n",
    "4. Train test split\n",
    "5. Running the model on train and checking accuracy on test\n",
    "6. Saving the model and using it for future predictions"
   ]
  },
  {
   "cell_type": "markdown",
   "id": "2ea3e2b7",
   "metadata": {},
   "source": [
    "### Importing libraries"
   ]
  },
  {
   "cell_type": "code",
   "execution_count": 1,
   "id": "9103f0d3",
   "metadata": {},
   "outputs": [],
   "source": [
    "import os\n",
    "os.chdir(\"D:/credit scoring\")\n",
    "import pandas as pd\n",
    "import numpy as np\n",
    "import matplotlib.pyplot as plt\n",
    "import seaborn as sns"
   ]
  },
  {
   "cell_type": "code",
   "execution_count": 2,
   "id": "61424839",
   "metadata": {
    "scrolled": true
   },
   "outputs": [
    {
     "data": {
      "text/html": [
       "<div>\n",
       "<style scoped>\n",
       "    .dataframe tbody tr th:only-of-type {\n",
       "        vertical-align: middle;\n",
       "    }\n",
       "\n",
       "    .dataframe tbody tr th {\n",
       "        vertical-align: top;\n",
       "    }\n",
       "\n",
       "    .dataframe thead th {\n",
       "        text-align: right;\n",
       "    }\n",
       "</style>\n",
       "<table border=\"1\" class=\"dataframe\">\n",
       "  <thead>\n",
       "    <tr style=\"text-align: right;\">\n",
       "      <th></th>\n",
       "      <th>Sr.no</th>\n",
       "      <th>SeriousDlqin2yrs</th>\n",
       "      <th>RevolvingUtilizationOfUnsecuredLines</th>\n",
       "      <th>age</th>\n",
       "      <th>NumberOfTime30-59DaysPastDueNotWorse</th>\n",
       "      <th>DebtRatio</th>\n",
       "      <th>MonthlyIncome</th>\n",
       "      <th>NumberOfOpenCreditLinesAndLoans</th>\n",
       "      <th>NumberOfTimes90DaysLate</th>\n",
       "      <th>NumberRealEstateLoansOrLines</th>\n",
       "      <th>NumberOfTime60-89DaysPastDueNotWorse</th>\n",
       "      <th>NumberOfDependents</th>\n",
       "    </tr>\n",
       "  </thead>\n",
       "  <tbody>\n",
       "    <tr>\n",
       "      <th>0</th>\n",
       "      <td>1</td>\n",
       "      <td>1</td>\n",
       "      <td>0.766127</td>\n",
       "      <td>45</td>\n",
       "      <td>2</td>\n",
       "      <td>0.802982</td>\n",
       "      <td>9120.0</td>\n",
       "      <td>13</td>\n",
       "      <td>0</td>\n",
       "      <td>6</td>\n",
       "      <td>0</td>\n",
       "      <td>2.0</td>\n",
       "    </tr>\n",
       "    <tr>\n",
       "      <th>1</th>\n",
       "      <td>2</td>\n",
       "      <td>0</td>\n",
       "      <td>0.957151</td>\n",
       "      <td>40</td>\n",
       "      <td>0</td>\n",
       "      <td>0.121876</td>\n",
       "      <td>2600.0</td>\n",
       "      <td>4</td>\n",
       "      <td>0</td>\n",
       "      <td>0</td>\n",
       "      <td>0</td>\n",
       "      <td>1.0</td>\n",
       "    </tr>\n",
       "    <tr>\n",
       "      <th>2</th>\n",
       "      <td>3</td>\n",
       "      <td>0</td>\n",
       "      <td>0.658180</td>\n",
       "      <td>38</td>\n",
       "      <td>1</td>\n",
       "      <td>0.085113</td>\n",
       "      <td>3042.0</td>\n",
       "      <td>2</td>\n",
       "      <td>1</td>\n",
       "      <td>0</td>\n",
       "      <td>0</td>\n",
       "      <td>0.0</td>\n",
       "    </tr>\n",
       "    <tr>\n",
       "      <th>3</th>\n",
       "      <td>4</td>\n",
       "      <td>0</td>\n",
       "      <td>0.233810</td>\n",
       "      <td>30</td>\n",
       "      <td>0</td>\n",
       "      <td>0.036050</td>\n",
       "      <td>3300.0</td>\n",
       "      <td>5</td>\n",
       "      <td>0</td>\n",
       "      <td>0</td>\n",
       "      <td>0</td>\n",
       "      <td>0.0</td>\n",
       "    </tr>\n",
       "    <tr>\n",
       "      <th>4</th>\n",
       "      <td>5</td>\n",
       "      <td>0</td>\n",
       "      <td>0.907239</td>\n",
       "      <td>49</td>\n",
       "      <td>1</td>\n",
       "      <td>0.024926</td>\n",
       "      <td>63588.0</td>\n",
       "      <td>7</td>\n",
       "      <td>0</td>\n",
       "      <td>1</td>\n",
       "      <td>0</td>\n",
       "      <td>0.0</td>\n",
       "    </tr>\n",
       "  </tbody>\n",
       "</table>\n",
       "</div>"
      ],
      "text/plain": [
       "   Sr.no  SeriousDlqin2yrs  RevolvingUtilizationOfUnsecuredLines  age  \\\n",
       "0      1                 1                              0.766127   45   \n",
       "1      2                 0                              0.957151   40   \n",
       "2      3                 0                              0.658180   38   \n",
       "3      4                 0                              0.233810   30   \n",
       "4      5                 0                              0.907239   49   \n",
       "\n",
       "   NumberOfTime30-59DaysPastDueNotWorse  DebtRatio  MonthlyIncome  \\\n",
       "0                                     2   0.802982         9120.0   \n",
       "1                                     0   0.121876         2600.0   \n",
       "2                                     1   0.085113         3042.0   \n",
       "3                                     0   0.036050         3300.0   \n",
       "4                                     1   0.024926        63588.0   \n",
       "\n",
       "   NumberOfOpenCreditLinesAndLoans  NumberOfTimes90DaysLate  \\\n",
       "0                               13                        0   \n",
       "1                                4                        0   \n",
       "2                                2                        1   \n",
       "3                                5                        0   \n",
       "4                                7                        0   \n",
       "\n",
       "   NumberRealEstateLoansOrLines  NumberOfTime60-89DaysPastDueNotWorse  \\\n",
       "0                             6                                     0   \n",
       "1                             0                                     0   \n",
       "2                             0                                     0   \n",
       "3                             0                                     0   \n",
       "4                             1                                     0   \n",
       "\n",
       "   NumberOfDependents  \n",
       "0                 2.0  \n",
       "1                 1.0  \n",
       "2                 0.0  \n",
       "3                 0.0  \n",
       "4                 0.0  "
      ]
     },
     "execution_count": 2,
     "metadata": {},
     "output_type": "execute_result"
    }
   ],
   "source": [
    "data= pd.read_excel(\"cs-training - Copy.xlsx\")\n",
    "df= data.copy()\n",
    "df.head()"
   ]
  },
  {
   "cell_type": "code",
   "execution_count": 3,
   "id": "fe50f61e",
   "metadata": {},
   "outputs": [
    {
     "name": "stdout",
     "output_type": "stream",
     "text": [
      "<class 'pandas.core.frame.DataFrame'>\n",
      "RangeIndex: 150000 entries, 0 to 149999\n",
      "Data columns (total 12 columns):\n",
      " #   Column                                Non-Null Count   Dtype  \n",
      "---  ------                                --------------   -----  \n",
      " 0   Sr.no                                 150000 non-null  int64  \n",
      " 1   SeriousDlqin2yrs                      150000 non-null  int64  \n",
      " 2   RevolvingUtilizationOfUnsecuredLines  150000 non-null  float64\n",
      " 3   age                                   150000 non-null  int64  \n",
      " 4   NumberOfTime30-59DaysPastDueNotWorse  150000 non-null  int64  \n",
      " 5   DebtRatio                             150000 non-null  float64\n",
      " 6   MonthlyIncome                         120269 non-null  float64\n",
      " 7   NumberOfOpenCreditLinesAndLoans       150000 non-null  int64  \n",
      " 8   NumberOfTimes90DaysLate               150000 non-null  int64  \n",
      " 9   NumberRealEstateLoansOrLines          150000 non-null  int64  \n",
      " 10  NumberOfTime60-89DaysPastDueNotWorse  150000 non-null  int64  \n",
      " 11  NumberOfDependents                    146076 non-null  float64\n",
      "dtypes: float64(4), int64(8)\n",
      "memory usage: 13.7 MB\n"
     ]
    }
   ],
   "source": [
    "df.info()   #Total 1.5 Lacks observations"
   ]
  },
  {
   "cell_type": "code",
   "execution_count": 4,
   "id": "ef355655",
   "metadata": {},
   "outputs": [
    {
     "data": {
      "text/plain": [
       "Sr.no                                       0\n",
       "SeriousDlqin2yrs                            0\n",
       "RevolvingUtilizationOfUnsecuredLines        0\n",
       "age                                         0\n",
       "NumberOfTime30-59DaysPastDueNotWorse        0\n",
       "DebtRatio                                   0\n",
       "MonthlyIncome                           29731\n",
       "NumberOfOpenCreditLinesAndLoans             0\n",
       "NumberOfTimes90DaysLate                     0\n",
       "NumberRealEstateLoansOrLines                0\n",
       "NumberOfTime60-89DaysPastDueNotWorse        0\n",
       "NumberOfDependents                       3924\n",
       "dtype: int64"
      ]
     },
     "execution_count": 4,
     "metadata": {},
     "output_type": "execute_result"
    }
   ],
   "source": [
    "#Finding out the missing values in the data\n",
    "\n",
    "df.isnull().sum()         "
   ]
  },
  {
   "cell_type": "markdown",
   "id": "3a06dd9e",
   "metadata": {},
   "source": [
    "\n",
    "#Monthly income and number of dependents values are missing. Imputing them with mean and median"
   ]
  },
  {
   "cell_type": "code",
   "execution_count": 5,
   "id": "3ff146a3",
   "metadata": {},
   "outputs": [],
   "source": [
    "m1 = df.MonthlyIncome.mean()\n",
    "m2= df.NumberOfDependents.median()\n",
    "\n",
    "df.loc[df.MonthlyIncome.isnull(),'MonthlyIncome'] = m1\n",
    "df.loc[df.NumberOfDependents.isnull(),'NumberOfDependents'] = m2"
   ]
  },
  {
   "cell_type": "code",
   "execution_count": 6,
   "id": "2b096f3c",
   "metadata": {},
   "outputs": [],
   "source": [
    "#df.NumberOfDependents.value_counts()"
   ]
  },
  {
   "cell_type": "markdown",
   "id": "2c49882b",
   "metadata": {},
   "source": [
    "### Let's find out the balance in our dependent variable.\n",
    "### We get to know that out of 1.5 lac observation we have default cases of 6.67%  (10026 observations of NPA)"
   ]
  },
  {
   "cell_type": "code",
   "execution_count": 7,
   "id": "ef15ccea",
   "metadata": {},
   "outputs": [
    {
     "name": "stdout",
     "output_type": "stream",
     "text": [
      "0    139974\n",
      "1     10026\n",
      "Name: SeriousDlqin2yrs, dtype: int64\n"
     ]
    },
    {
     "data": {
      "image/png": "[encoded data removed]",
      "text/plain": [
       "<Figure size 432x288 with 1 Axes>"
      ]
     },
     "metadata": {},
     "output_type": "display_data"
    }
   ],
   "source": [
    "pie = df.SeriousDlqin2yrs.value_counts()\n",
    "print(pie)\n",
    "lab= '1','0'\n",
    "plt.pie(pie, labels = lab)\n",
    "plt.show()"
   ]
  },
  {
   "cell_type": "markdown",
   "id": "79b69c11",
   "metadata": {},
   "source": [
    "#We have imbalanced data which is fine as number of defaults will always be very low compared to normal accounts"
   ]
  },
  {
   "cell_type": "markdown",
   "id": "2b71d110",
   "metadata": {},
   "source": [
    "### Data Preprocessing\n",
    "\n",
    "#### Finding out which columns are not needed"
   ]
  },
  {
   "cell_type": "code",
   "execution_count": 8,
   "id": "6fa1bd8d",
   "metadata": {},
   "outputs": [
    {
     "data": {
      "text/plain": [
       "Index(['Sr.no', 'SeriousDlqin2yrs', 'RevolvingUtilizationOfUnsecuredLines',\n",
       "       'age', 'NumberOfTime30-59DaysPastDueNotWorse', 'DebtRatio',\n",
       "       'MonthlyIncome', 'NumberOfOpenCreditLinesAndLoans',\n",
       "       'NumberOfTimes90DaysLate', 'NumberRealEstateLoansOrLines',\n",
       "       'NumberOfTime60-89DaysPastDueNotWorse', 'NumberOfDependents'],\n",
       "      dtype='object')"
      ]
     },
     "execution_count": 8,
     "metadata": {},
     "output_type": "execute_result"
    }
   ],
   "source": [
    "df.columns"
   ]
  },
  {
   "cell_type": "code",
   "execution_count": 9,
   "id": "bce79ed6",
   "metadata": {},
   "outputs": [
    {
     "name": "stdout",
     "output_type": "stream",
     "text": [
      "Index(['SeriousDlqin2yrs', 'RevolvingUtilizationOfUnsecuredLines', 'age',\n",
      "       'NumberOfTime30-59DaysPastDueNotWorse', 'DebtRatio', 'MonthlyIncome',\n",
      "       'NumberOfOpenCreditLinesAndLoans', 'NumberOfTimes90DaysLate',\n",
      "       'NumberRealEstateLoansOrLines', 'NumberOfTime60-89DaysPastDueNotWorse',\n",
      "       'NumberOfDependents'],\n",
      "      dtype='object')\n"
     ]
    }
   ],
   "source": [
    "#Removing Serial Numbers\n",
    "\n",
    "df= df.drop(['Sr.no'], axis=1)\n",
    "print(df.columns)"
   ]
  },
  {
   "cell_type": "markdown",
   "id": "8b358b2e",
   "metadata": {},
   "source": [
    "Renaming variables"
   ]
  },
  {
   "cell_type": "code",
   "execution_count": 10,
   "id": "612aa475",
   "metadata": {},
   "outputs": [
    {
     "name": "stdout",
     "output_type": "stream",
     "text": [
      "Index(['SeriousDlqin2yrs', 'Utilazn_unsecure_lines', 'Age', 'Times_30-59_DPD',\n",
      "       'DebtRatio', 'MonthlyIncome', 'No_ofOpenCreditLinesAndLoans',\n",
      "       'Times_90_DPD', 'No_ofRealEstateLoansOrLines', 'Times_60-89_DPD',\n",
      "       'NumberOfDependents'],\n",
      "      dtype='object')\n"
     ]
    }
   ],
   "source": [
    "df= df.rename(columns={'age':'Age'})\n",
    "df= df.rename(columns={'NumberOfTime30-59DaysPastDueNotWorse':'Times_30-59_DPD'})\n",
    "df= df.rename(columns={'NumberOfTimes90DaysLate':'Times_90_DPD'})\n",
    "df= df.rename(columns={'NumberOfTime60-89DaysPastDueNotWorse':'Times_60-89_DPD'})\n",
    "df= df.rename(columns={'RevolvingUtilizationOfUnsecuredLines':'Utilazn_unsecure_lines'})\n",
    "df= df.rename(columns={'NumberOfOpenCreditLinesAndLoans':'No_ofOpenCreditLinesAndLoans'})\n",
    "df= df.rename(columns={'NumberRealEstateLoansOrLines':'No_ofRealEstateLoansOrLines'})\n",
    "print(df.columns)"
   ]
  },
  {
   "cell_type": "markdown",
   "id": "4984b780",
   "metadata": {},
   "source": [
    "# Correlation"
   ]
  },
  {
   "cell_type": "code",
   "execution_count": 11,
   "id": "a5d1486d",
   "metadata": {},
   "outputs": [
    {
     "data": {
      "text/html": [
       "<div>\n",
       "<style scoped>\n",
       "    .dataframe tbody tr th:only-of-type {\n",
       "        vertical-align: middle;\n",
       "    }\n",
       "\n",
       "    .dataframe tbody tr th {\n",
       "        vertical-align: top;\n",
       "    }\n",
       "\n",
       "    .dataframe thead th {\n",
       "        text-align: right;\n",
       "    }\n",
       "</style>\n",
       "<table border=\"1\" class=\"dataframe\">\n",
       "  <thead>\n",
       "    <tr style=\"text-align: right;\">\n",
       "      <th></th>\n",
       "      <th>SeriousDlqin2yrs</th>\n",
       "      <th>Utilazn_unsecure_lines</th>\n",
       "      <th>Age</th>\n",
       "      <th>Times_30-59_DPD</th>\n",
       "      <th>DebtRatio</th>\n",
       "      <th>MonthlyIncome</th>\n",
       "      <th>No_ofOpenCreditLinesAndLoans</th>\n",
       "      <th>Times_90_DPD</th>\n",
       "      <th>No_ofRealEstateLoansOrLines</th>\n",
       "      <th>Times_60-89_DPD</th>\n",
       "      <th>NumberOfDependents</th>\n",
       "    </tr>\n",
       "  </thead>\n",
       "  <tbody>\n",
       "    <tr>\n",
       "      <th>SeriousDlqin2yrs</th>\n",
       "      <td>1.000000</td>\n",
       "      <td>-0.001802</td>\n",
       "      <td>-0.115386</td>\n",
       "      <td>0.125587</td>\n",
       "      <td>-0.007602</td>\n",
       "      <td>-0.018002</td>\n",
       "      <td>-0.029669</td>\n",
       "      <td>0.117175</td>\n",
       "      <td>-0.007038</td>\n",
       "      <td>0.102261</td>\n",
       "      <td>0.046869</td>\n",
       "    </tr>\n",
       "    <tr>\n",
       "      <th>Utilazn_unsecure_lines</th>\n",
       "      <td>-0.001802</td>\n",
       "      <td>1.000000</td>\n",
       "      <td>-0.005898</td>\n",
       "      <td>-0.001314</td>\n",
       "      <td>0.003961</td>\n",
       "      <td>0.006565</td>\n",
       "      <td>-0.011281</td>\n",
       "      <td>-0.001061</td>\n",
       "      <td>0.006235</td>\n",
       "      <td>-0.001048</td>\n",
       "      <td>0.001193</td>\n",
       "    </tr>\n",
       "    <tr>\n",
       "      <th>Age</th>\n",
       "      <td>-0.115386</td>\n",
       "      <td>-0.005898</td>\n",
       "      <td>1.000000</td>\n",
       "      <td>-0.062995</td>\n",
       "      <td>0.024188</td>\n",
       "      <td>0.032984</td>\n",
       "      <td>0.147705</td>\n",
       "      <td>-0.061005</td>\n",
       "      <td>0.033150</td>\n",
       "      <td>-0.057159</td>\n",
       "      <td>-0.215693</td>\n",
       "    </tr>\n",
       "    <tr>\n",
       "      <th>Times_30-59_DPD</th>\n",
       "      <td>0.125587</td>\n",
       "      <td>-0.001314</td>\n",
       "      <td>-0.062995</td>\n",
       "      <td>1.000000</td>\n",
       "      <td>-0.006542</td>\n",
       "      <td>-0.007636</td>\n",
       "      <td>-0.055312</td>\n",
       "      <td>0.983603</td>\n",
       "      <td>-0.030565</td>\n",
       "      <td>0.987005</td>\n",
       "      <td>-0.004590</td>\n",
       "    </tr>\n",
       "    <tr>\n",
       "      <th>DebtRatio</th>\n",
       "      <td>-0.007602</td>\n",
       "      <td>0.003961</td>\n",
       "      <td>0.024188</td>\n",
       "      <td>-0.006542</td>\n",
       "      <td>1.000000</td>\n",
       "      <td>-0.005355</td>\n",
       "      <td>0.049565</td>\n",
       "      <td>-0.008320</td>\n",
       "      <td>0.120046</td>\n",
       "      <td>-0.007533</td>\n",
       "      <td>-0.044476</td>\n",
       "    </tr>\n",
       "    <tr>\n",
       "      <th>MonthlyIncome</th>\n",
       "      <td>-0.018002</td>\n",
       "      <td>0.006565</td>\n",
       "      <td>0.032984</td>\n",
       "      <td>-0.007636</td>\n",
       "      <td>-0.005355</td>\n",
       "      <td>1.000000</td>\n",
       "      <td>0.082319</td>\n",
       "      <td>-0.009484</td>\n",
       "      <td>0.113823</td>\n",
       "      <td>-0.008259</td>\n",
       "      <td>0.058192</td>\n",
       "    </tr>\n",
       "    <tr>\n",
       "      <th>No_ofOpenCreditLinesAndLoans</th>\n",
       "      <td>-0.029669</td>\n",
       "      <td>-0.011281</td>\n",
       "      <td>0.147705</td>\n",
       "      <td>-0.055312</td>\n",
       "      <td>0.049565</td>\n",
       "      <td>0.082319</td>\n",
       "      <td>1.000000</td>\n",
       "      <td>-0.079984</td>\n",
       "      <td>0.433959</td>\n",
       "      <td>-0.071077</td>\n",
       "      <td>0.074026</td>\n",
       "    </tr>\n",
       "    <tr>\n",
       "      <th>Times_90_DPD</th>\n",
       "      <td>0.117175</td>\n",
       "      <td>-0.001061</td>\n",
       "      <td>-0.061005</td>\n",
       "      <td>0.983603</td>\n",
       "      <td>-0.008320</td>\n",
       "      <td>-0.009484</td>\n",
       "      <td>-0.079984</td>\n",
       "      <td>1.000000</td>\n",
       "      <td>-0.045205</td>\n",
       "      <td>0.992796</td>\n",
       "      <td>-0.011962</td>\n",
       "    </tr>\n",
       "    <tr>\n",
       "      <th>No_ofRealEstateLoansOrLines</th>\n",
       "      <td>-0.007038</td>\n",
       "      <td>0.006235</td>\n",
       "      <td>0.033150</td>\n",
       "      <td>-0.030565</td>\n",
       "      <td>0.120046</td>\n",
       "      <td>0.113823</td>\n",
       "      <td>0.433959</td>\n",
       "      <td>-0.045205</td>\n",
       "      <td>1.000000</td>\n",
       "      <td>-0.039722</td>\n",
       "      <td>0.129399</td>\n",
       "    </tr>\n",
       "    <tr>\n",
       "      <th>Times_60-89_DPD</th>\n",
       "      <td>0.102261</td>\n",
       "      <td>-0.001048</td>\n",
       "      <td>-0.057159</td>\n",
       "      <td>0.987005</td>\n",
       "      <td>-0.007533</td>\n",
       "      <td>-0.008259</td>\n",
       "      <td>-0.071077</td>\n",
       "      <td>0.992796</td>\n",
       "      <td>-0.039722</td>\n",
       "      <td>1.000000</td>\n",
       "      <td>-0.012678</td>\n",
       "    </tr>\n",
       "    <tr>\n",
       "      <th>NumberOfDependents</th>\n",
       "      <td>0.046869</td>\n",
       "      <td>0.001193</td>\n",
       "      <td>-0.215693</td>\n",
       "      <td>-0.004590</td>\n",
       "      <td>-0.044476</td>\n",
       "      <td>0.058192</td>\n",
       "      <td>0.074026</td>\n",
       "      <td>-0.011962</td>\n",
       "      <td>0.129399</td>\n",
       "      <td>-0.012678</td>\n",
       "      <td>1.000000</td>\n",
       "    </tr>\n",
       "  </tbody>\n",
       "</table>\n",
       "</div>"
      ],
      "text/plain": [
       "                              SeriousDlqin2yrs  Utilazn_unsecure_lines  \\\n",
       "SeriousDlqin2yrs                      1.000000               -0.001802   \n",
       "Utilazn_unsecure_lines               -0.001802                1.000000   \n",
       "Age                                  -0.115386               -0.005898   \n",
       "Times_30-59_DPD                       0.125587               -0.001314   \n",
       "DebtRatio                            -0.007602                0.003961   \n",
       "MonthlyIncome                        -0.018002                0.006565   \n",
       "No_ofOpenCreditLinesAndLoans         -0.029669               -0.011281   \n",
       "Times_90_DPD                          0.117175               -0.001061   \n",
       "No_ofRealEstateLoansOrLines          -0.007038                0.006235   \n",
       "Times_60-89_DPD                       0.102261               -0.001048   \n",
       "NumberOfDependents                    0.046869                0.001193   \n",
       "\n",
       "                                   Age  Times_30-59_DPD  DebtRatio  \\\n",
       "SeriousDlqin2yrs             -0.115386         0.125587  -0.007602   \n",
       "Utilazn_unsecure_lines       -0.005898        -0.001314   0.003961   \n",
       "Age                           1.000000        -0.062995   0.024188   \n",
       "Times_30-59_DPD              -0.062995         1.000000  -0.006542   \n",
       "DebtRatio                     0.024188        -0.006542   1.000000   \n",
       "MonthlyIncome                 0.032984        -0.007636  -0.005355   \n",
       "No_ofOpenCreditLinesAndLoans  0.147705        -0.055312   0.049565   \n",
       "Times_90_DPD                 -0.061005         0.983603  -0.008320   \n",
       "No_ofRealEstateLoansOrLines   0.033150        -0.030565   0.120046   \n",
       "Times_60-89_DPD              -0.057159         0.987005  -0.007533   \n",
       "NumberOfDependents           -0.215693        -0.004590  -0.044476   \n",
       "\n",
       "                              MonthlyIncome  No_ofOpenCreditLinesAndLoans  \\\n",
       "SeriousDlqin2yrs                  -0.018002                     -0.029669   \n",
       "Utilazn_unsecure_lines             0.006565                     -0.011281   \n",
       "Age                                0.032984                      0.147705   \n",
       "Times_30-59_DPD                   -0.007636                     -0.055312   \n",
       "DebtRatio                         -0.005355                      0.049565   \n",
       "MonthlyIncome                      1.000000                      0.082319   \n",
       "No_ofOpenCreditLinesAndLoans       0.082319                      1.000000   \n",
       "Times_90_DPD                      -0.009484                     -0.079984   \n",
       "No_ofRealEstateLoansOrLines        0.113823                      0.433959   \n",
       "Times_60-89_DPD                   -0.008259                     -0.071077   \n",
       "NumberOfDependents                 0.058192                      0.074026   \n",
       "\n",
       "                              Times_90_DPD  No_ofRealEstateLoansOrLines  \\\n",
       "SeriousDlqin2yrs                  0.117175                    -0.007038   \n",
       "Utilazn_unsecure_lines           -0.001061                     0.006235   \n",
       "Age                              -0.061005                     0.033150   \n",
       "Times_30-59_DPD                   0.983603                    -0.030565   \n",
       "DebtRatio                        -0.008320                     0.120046   \n",
       "MonthlyIncome                    -0.009484                     0.113823   \n",
       "No_ofOpenCreditLinesAndLoans     -0.079984                     0.433959   \n",
       "Times_90_DPD                      1.000000                    -0.045205   \n",
       "No_ofRealEstateLoansOrLines      -0.045205                     1.000000   \n",
       "Times_60-89_DPD                   0.992796                    -0.039722   \n",
       "NumberOfDependents               -0.011962                     0.129399   \n",
       "\n",
       "                              Times_60-89_DPD  NumberOfDependents  \n",
       "SeriousDlqin2yrs                     0.102261            0.046869  \n",
       "Utilazn_unsecure_lines              -0.001048            0.001193  \n",
       "Age                                 -0.057159           -0.215693  \n",
       "Times_30-59_DPD                      0.987005           -0.004590  \n",
       "DebtRatio                           -0.007533           -0.044476  \n",
       "MonthlyIncome                       -0.008259            0.058192  \n",
       "No_ofOpenCreditLinesAndLoans        -0.071077            0.074026  \n",
       "Times_90_DPD                         0.992796           -0.011962  \n",
       "No_ofRealEstateLoansOrLines         -0.039722            0.129399  \n",
       "Times_60-89_DPD                      1.000000           -0.012678  \n",
       "NumberOfDependents                  -0.012678            1.000000  "
      ]
     },
     "execution_count": 11,
     "metadata": {},
     "output_type": "execute_result"
    }
   ],
   "source": [
    "df.corr()"
   ]
  },
  {
   "cell_type": "code",
   "execution_count": 12,
   "id": "b985a723",
   "metadata": {},
   "outputs": [
    {
     "data": {
      "text/plain": [
       "<AxesSubplot:>"
      ]
     },
     "execution_count": 12,
     "metadata": {},
     "output_type": "execute_result"
    },
    {
     "data": {
      "image/png": "[encoded data removed]",
      "text/plain": [
       "<Figure size 1080x720 with 2 Axes>"
      ]
     },
     "metadata": {
      "needs_background": "light"
     },
     "output_type": "display_data"
    }
   ],
   "source": [
    "plt.figure(figsize=(15,10))\n",
    "sns.heatmap(df.corr(),cmap='coolwarm',annot=True)"
   ]
  },
  {
   "cell_type": "markdown",
   "id": "b2216774",
   "metadata": {},
   "source": [
    "# High correlation filter"
   ]
  },
  {
   "cell_type": "code",
   "execution_count": 13,
   "id": "98bcfa37",
   "metadata": {},
   "outputs": [
    {
     "data": {
      "text/plain": [
       "\"\\ndf1= df.copy()\\ndf1= df1.drop(['Times_90_DPD','Times_60-89_DPD'], axis=1)\\ndf1.columns\\n\\nplt.figure(figsize=(15,10))\\nsns.heatmap(df1.corr(),cmap='coolwarm',annot=True)\\n\""
      ]
     },
     "execution_count": 13,
     "metadata": {},
     "output_type": "execute_result"
    }
   ],
   "source": [
    "#High correlation filter\n",
    "#Deleted the highly correlated variables and performed the whole analysis with logistic reg\n",
    "'''\n",
    "df1= df.copy()\n",
    "df1= df1.drop(['Times_90_DPD','Times_60-89_DPD'], axis=1)\n",
    "df1.columns\n",
    "\n",
    "plt.figure(figsize=(15,10))\n",
    "sns.heatmap(df1.corr(),cmap='coolwarm',annot=True)\n",
    "'''\n",
    "\n",
    "#ROC score= 0.71, Gini = 0.43  #not acceptable"
   ]
  },
  {
   "cell_type": "code",
   "execution_count": null,
   "id": "78e5d171",
   "metadata": {},
   "outputs": [],
   "source": []
  },
  {
   "cell_type": "markdown",
   "id": "30afc9d5",
   "metadata": {},
   "source": [
    "# Multicollinearity"
   ]
  },
  {
   "cell_type": "code",
   "execution_count": 14,
   "id": "2f68e8b2",
   "metadata": {},
   "outputs": [
    {
     "data": {
      "text/html": [
       "<div>\n",
       "<style scoped>\n",
       "    .dataframe tbody tr th:only-of-type {\n",
       "        vertical-align: middle;\n",
       "    }\n",
       "\n",
       "    .dataframe tbody tr th {\n",
       "        vertical-align: top;\n",
       "    }\n",
       "\n",
       "    .dataframe thead th {\n",
       "        text-align: right;\n",
       "    }\n",
       "</style>\n",
       "<table border=\"1\" class=\"dataframe\">\n",
       "  <thead>\n",
       "    <tr style=\"text-align: right;\">\n",
       "      <th></th>\n",
       "      <th>VIF</th>\n",
       "      <th>Column</th>\n",
       "    </tr>\n",
       "  </thead>\n",
       "  <tbody>\n",
       "    <tr>\n",
       "      <th>8</th>\n",
       "      <td>91.181454</td>\n",
       "      <td>Times_60-89_DPD</td>\n",
       "    </tr>\n",
       "    <tr>\n",
       "      <th>6</th>\n",
       "      <td>73.196302</td>\n",
       "      <td>Times_90_DPD</td>\n",
       "    </tr>\n",
       "    <tr>\n",
       "      <th>2</th>\n",
       "      <td>41.173336</td>\n",
       "      <td>Times_30-59_DPD</td>\n",
       "    </tr>\n",
       "    <tr>\n",
       "      <th>5</th>\n",
       "      <td>4.569067</td>\n",
       "      <td>No_ofOpenCreditLinesAndLoans</td>\n",
       "    </tr>\n",
       "    <tr>\n",
       "      <th>1</th>\n",
       "      <td>3.655581</td>\n",
       "      <td>Age</td>\n",
       "    </tr>\n",
       "    <tr>\n",
       "      <th>7</th>\n",
       "      <td>2.304289</td>\n",
       "      <td>No_ofRealEstateLoansOrLines</td>\n",
       "    </tr>\n",
       "    <tr>\n",
       "      <th>9</th>\n",
       "      <td>1.402417</td>\n",
       "      <td>NumberOfDependents</td>\n",
       "    </tr>\n",
       "    <tr>\n",
       "      <th>4</th>\n",
       "      <td>1.287284</td>\n",
       "      <td>MonthlyIncome</td>\n",
       "    </tr>\n",
       "    <tr>\n",
       "      <th>3</th>\n",
       "      <td>1.048958</td>\n",
       "      <td>DebtRatio</td>\n",
       "    </tr>\n",
       "    <tr>\n",
       "      <th>0</th>\n",
       "      <td>1.000778</td>\n",
       "      <td>Utilazn_unsecure_lines</td>\n",
       "    </tr>\n",
       "  </tbody>\n",
       "</table>\n",
       "</div>"
      ],
      "text/plain": [
       "         VIF                        Column\n",
       "8  91.181454               Times_60-89_DPD\n",
       "6  73.196302                  Times_90_DPD\n",
       "2  41.173336               Times_30-59_DPD\n",
       "5   4.569067  No_ofOpenCreditLinesAndLoans\n",
       "1   3.655581                           Age\n",
       "7   2.304289   No_ofRealEstateLoansOrLines\n",
       "9   1.402417            NumberOfDependents\n",
       "4   1.287284                 MonthlyIncome\n",
       "3   1.048958                     DebtRatio\n",
       "0   1.000778        Utilazn_unsecure_lines"
      ]
     },
     "execution_count": 14,
     "metadata": {},
     "output_type": "execute_result"
    }
   ],
   "source": [
    "import statsmodels.api as sm\n",
    "from statsmodels.stats.outliers_influence import variance_inflation_factor\n",
    "\n",
    "X = df[list(df.columns[1:])]\n",
    "\n",
    "vif_info = pd.DataFrame()\n",
    "vif_info['VIF'] = [variance_inflation_factor(X.values, i) for i in range(X.shape[1])]\n",
    "vif_info['Column'] = X.columns\n",
    "vif_info.sort_values('VIF', ascending=False)"
   ]
  },
  {
   "cell_type": "code",
   "execution_count": 15,
   "id": "dc96ed9a",
   "metadata": {},
   "outputs": [],
   "source": [
    "#To remove multicollinearities, we can do two things. We can create new features or remove them from our data.\n",
    "\n",
    "#Removing features is not recommended at first. The reason is that there’s a possibility of information loss because we remove that feature.\n",
    "#The result will be same as above. Hence not deleting the variables and proceeding with a diff method\n"
   ]
  },
  {
   "cell_type": "code",
   "execution_count": null,
   "id": "9351aa03",
   "metadata": {},
   "outputs": [],
   "source": []
  },
  {
   "cell_type": "markdown",
   "id": "7197a49f",
   "metadata": {},
   "source": [
    "# Weight of Evidence and Information Value"
   ]
  },
  {
   "cell_type": "code",
   "execution_count": 16,
   "id": "bfd83b5f",
   "metadata": {},
   "outputs": [],
   "source": [
    "features = df[df.columns.difference(['SeriousDlqin2yrs'])]\n",
    "labels = df['SeriousDlqin2yrs']"
   ]
  },
  {
   "cell_type": "code",
   "execution_count": 17,
   "id": "b322b45c",
   "metadata": {},
   "outputs": [],
   "source": [
    "import pandas.core.algorithms as algos\n",
    "from pandas import Series\n",
    "import scipy.stats.stats as stats\n",
    "import re\n",
    "import traceback\n",
    "import string\n",
    "\n",
    "max_bin = 20\n",
    "force_bin = 3\n",
    "\n",
    "# define a binning function\n",
    "def mono_bin(Y, X, n = max_bin):\n",
    "    \n",
    "    df1 = pd.DataFrame({\"X\": X, \"Y\": Y})\n",
    "    justmiss = df1[['X','Y']][df1.X.isnull()]\n",
    "    notmiss = df1[['X','Y']][df1.X.notnull()]\n",
    "    r = 0\n",
    "    while np.abs(r) < 1:\n",
    "        try:\n",
    "            d1 = pd.DataFrame({\"X\": notmiss.X, \"Y\": notmiss.Y, \"Bucket\": pd.qcut(notmiss.X, n)})\n",
    "            d2 = d1.groupby('Bucket', as_index=True)\n",
    "            r, p = stats.spearmanr(d2.mean().X, d2.mean().Y)\n",
    "            n = n - 1 \n",
    "        except Exception as e:\n",
    "            n = n - 1\n",
    "\n",
    "    if len(d2) == 1:\n",
    "        n = force_bin         \n",
    "        bins = algos.quantile(notmiss.X, np.linspace(0, 1, n))\n",
    "        if len(np.unique(bins)) == 2:\n",
    "            bins = np.insert(bins, 0, 1)\n",
    "            bins[1] = bins[1]-(bins[1]/2)\n",
    "        d1 = pd.DataFrame({\"X\": notmiss.X, \"Y\": notmiss.Y, \"Bucket\": pd.cut(notmiss.X, np.unique(bins),include_lowest=True)}) \n",
    "        d2 = d1.groupby('Bucket', as_index=True)\n",
    "    \n",
    "    d3 = pd.DataFrame({},index=[])\n",
    "    d3[\"MIN_VALUE\"] = d2.min().X\n",
    "    d3[\"MAX_VALUE\"] = d2.max().X\n",
    "    d3[\"COUNT\"] = d2.count().Y\n",
    "    d3[\"EVENT\"] = d2.sum().Y\n",
    "    d3[\"NONEVENT\"] = d2.count().Y - d2.sum().Y\n",
    "    d3=d3.reset_index(drop=True)\n",
    "    \n",
    "    if len(justmiss.index) > 0:\n",
    "        d4 = pd.DataFrame({'MIN_VALUE':np.nan},index=[0])\n",
    "        d4[\"MAX_VALUE\"] = np.nan\n",
    "        d4[\"COUNT\"] = justmiss.count().Y\n",
    "        d4[\"EVENT\"] = justmiss.sum().Y\n",
    "        d4[\"NONEVENT\"] = justmiss.count().Y - justmiss.sum().Y\n",
    "        d3 = d3.append(d4,ignore_index=True)\n",
    "    \n",
    "    d3[\"EVENT_RATE\"] = d3.EVENT/d3.COUNT\n",
    "    d3[\"NON_EVENT_RATE\"] = d3.NONEVENT/d3.COUNT\n",
    "    d3[\"DIST_EVENT\"] = d3.EVENT/d3.sum().EVENT\n",
    "    d3[\"DIST_NON_EVENT\"] = d3.NONEVENT/d3.sum().NONEVENT\n",
    "    d3[\"WOE\"] = np.log(d3.DIST_EVENT/d3.DIST_NON_EVENT)\n",
    "    d3[\"IV\"] = (d3.DIST_EVENT-d3.DIST_NON_EVENT)*np.log(d3.DIST_EVENT/d3.DIST_NON_EVENT)\n",
    "    d3[\"VAR_NAME\"] = \"VAR\"\n",
    "    d3 = d3[['VAR_NAME','MIN_VALUE', 'MAX_VALUE', 'COUNT', 'EVENT', 'EVENT_RATE', 'NONEVENT', 'NON_EVENT_RATE', 'DIST_EVENT','DIST_NON_EVENT','WOE', 'IV']]       \n",
    "    d3 = d3.replace([np.inf, -np.inf], 0)\n",
    "    d3.IV = d3.IV.sum()\n",
    "    \n",
    "    return(d3)\n",
    "\n",
    "def char_bin(Y, X):\n",
    "        \n",
    "    df1 = pd.DataFrame({\"X\": X, \"Y\": Y})\n",
    "    justmiss = df1[['X','Y']][df1.X.isnull()]\n",
    "    notmiss = df1[['X','Y']][df1.X.notnull()]    \n",
    "    df2 = notmiss.groupby('X',as_index=True)\n",
    "    \n",
    "    d3 = pd.DataFrame({},index=[])\n",
    "    d3[\"COUNT\"] = df2.count().Y\n",
    "    d3[\"MIN_VALUE\"] = df2.sum().Y.index\n",
    "    d3[\"MAX_VALUE\"] = d3[\"MIN_VALUE\"]\n",
    "    d3[\"EVENT\"] = df2.sum().Y\n",
    "    d3[\"NONEVENT\"] = df2.count().Y - df2.sum().Y\n",
    "    \n",
    "    if len(justmiss.index) > 0:\n",
    "        d4 = pd.DataFrame({'MIN_VALUE':np.nan},index=[0])\n",
    "        d4[\"MAX_VALUE\"] = np.nan\n",
    "        d4[\"COUNT\"] = justmiss.count().Y\n",
    "        d4[\"EVENT\"] = justmiss.sum().Y\n",
    "        d4[\"NONEVENT\"] = justmiss.count().Y - justmiss.sum().Y\n",
    "        d3 = d3.append(d4,ignore_index=True)\n",
    "    \n",
    "    d3[\"EVENT_RATE\"] = d3.EVENT/d3.COUNT\n",
    "    d3[\"NON_EVENT_RATE\"] = d3.NONEVENT/d3.COUNT\n",
    "    d3[\"DIST_EVENT\"] = d3.EVENT/d3.sum().EVENT\n",
    "    d3[\"DIST_NON_EVENT\"] = d3.NONEVENT/d3.sum().NONEVENT\n",
    "    d3[\"WOE\"] = np.log(d3.DIST_EVENT/d3.DIST_NON_EVENT)\n",
    "    d3[\"IV\"] = (d3.DIST_EVENT-d3.DIST_NON_EVENT)*np.log(d3.DIST_EVENT/d3.DIST_NON_EVENT)\n",
    "    d3[\"VAR_NAME\"] = \"VAR\"\n",
    "    d3 = d3[['VAR_NAME','MIN_VALUE', 'MAX_VALUE', 'COUNT', 'EVENT', 'EVENT_RATE', 'NONEVENT', 'NON_EVENT_RATE', 'DIST_EVENT','DIST_NON_EVENT','WOE', 'IV']]      \n",
    "    d3 = d3.replace([np.inf, -np.inf], 0)\n",
    "    d3.IV = d3.IV.sum()\n",
    "    d3 = d3.reset_index(drop=True)\n",
    "    \n",
    "    return(d3)\n",
    "\n",
    "def data_vars(df1, target):\n",
    "    \n",
    "    stack = traceback.extract_stack()\n",
    "    filename, lineno, function_name, code = stack[-2]\n",
    "    vars_name = re.compile(r'\\((.*?)\\).*$').search(code).groups()[0]\n",
    "    final = (re.findall(r\"[\\w']+\", vars_name))[-1]\n",
    "    \n",
    "    x = df1.dtypes.index\n",
    "    count = -1\n",
    "    \n",
    "    for i in x:\n",
    "        if i.upper() not in (final.upper()):\n",
    "            if np.issubdtype(df1[i], np.number) and len(Series.unique(df1[i])) > 2:\n",
    "                conv = mono_bin(target, df1[i])\n",
    "                conv[\"VAR_NAME\"] = i\n",
    "                count = count + 1\n",
    "            else:\n",
    "                conv = char_bin(target, df1[i])\n",
    "                conv[\"VAR_NAME\"] = i            \n",
    "                count = count + 1\n",
    "                \n",
    "            if count == 0:\n",
    "                iv_df = conv\n",
    "            else:\n",
    "                iv_df = iv_df.append(conv,ignore_index=True)\n",
    "    \n",
    "    iv = pd.DataFrame({'IV':iv_df.groupby('VAR_NAME').IV.max()})\n",
    "    iv = iv.reset_index()\n",
    "    return(iv_df,iv) "
   ]
  },
  {
   "cell_type": "code",
   "execution_count": 18,
   "id": "65b03d4f",
   "metadata": {},
   "outputs": [
    {
     "data": {
      "text/html": [
       "<div>\n",
       "<style scoped>\n",
       "    .dataframe tbody tr th:only-of-type {\n",
       "        vertical-align: middle;\n",
       "    }\n",
       "\n",
       "    .dataframe tbody tr th {\n",
       "        vertical-align: top;\n",
       "    }\n",
       "\n",
       "    .dataframe thead th {\n",
       "        text-align: right;\n",
       "    }\n",
       "</style>\n",
       "<table border=\"1\" class=\"dataframe\">\n",
       "  <thead>\n",
       "    <tr style=\"text-align: right;\">\n",
       "      <th></th>\n",
       "      <th>index</th>\n",
       "      <th>IV</th>\n",
       "    </tr>\n",
       "  </thead>\n",
       "  <tbody>\n",
       "    <tr>\n",
       "      <th>9</th>\n",
       "      <td>Utilazn_unsecure_lines</td>\n",
       "      <td>1.016361</td>\n",
       "    </tr>\n",
       "    <tr>\n",
       "      <th>8</th>\n",
       "      <td>Times_90_DPD</td>\n",
       "      <td>0.484202</td>\n",
       "    </tr>\n",
       "    <tr>\n",
       "      <th>6</th>\n",
       "      <td>Times_30-59_DPD</td>\n",
       "      <td>0.471831</td>\n",
       "    </tr>\n",
       "    <tr>\n",
       "      <th>7</th>\n",
       "      <td>Times_60-89_DPD</td>\n",
       "      <td>0.264824</td>\n",
       "    </tr>\n",
       "    <tr>\n",
       "      <th>0</th>\n",
       "      <td>Age</td>\n",
       "      <td>0.261261</td>\n",
       "    </tr>\n",
       "    <tr>\n",
       "      <th>2</th>\n",
       "      <td>MonthlyIncome</td>\n",
       "      <td>0.072611</td>\n",
       "    </tr>\n",
       "    <tr>\n",
       "      <th>5</th>\n",
       "      <td>NumberOfDependents</td>\n",
       "      <td>0.023730</td>\n",
       "    </tr>\n",
       "    <tr>\n",
       "      <th>1</th>\n",
       "      <td>DebtRatio</td>\n",
       "      <td>0.012360</td>\n",
       "    </tr>\n",
       "    <tr>\n",
       "      <th>3</th>\n",
       "      <td>No_ofOpenCreditLinesAndLoans</td>\n",
       "      <td>0.003695</td>\n",
       "    </tr>\n",
       "    <tr>\n",
       "      <th>4</th>\n",
       "      <td>No_ofRealEstateLoansOrLines</td>\n",
       "      <td>0.001605</td>\n",
       "    </tr>\n",
       "  </tbody>\n",
       "</table>\n",
       "</div>"
      ],
      "text/plain": [
       "                          index        IV\n",
       "9        Utilazn_unsecure_lines  1.016361\n",
       "8                  Times_90_DPD  0.484202\n",
       "6               Times_30-59_DPD  0.471831\n",
       "7               Times_60-89_DPD  0.264824\n",
       "0                           Age  0.261261\n",
       "2                 MonthlyIncome  0.072611\n",
       "5            NumberOfDependents  0.023730\n",
       "1                     DebtRatio  0.012360\n",
       "3  No_ofOpenCreditLinesAndLoans  0.003695\n",
       "4   No_ofRealEstateLoansOrLines  0.001605"
      ]
     },
     "execution_count": 18,
     "metadata": {},
     "output_type": "execute_result"
    }
   ],
   "source": [
    "final_iv, IV = data_vars(df,df.SeriousDlqin2yrs)\n",
    "IV = IV.rename(columns={'VAR_NAME':'index'})\n",
    "IV.sort_values(['IV'],ascending=0)"
   ]
  },
  {
   "cell_type": "markdown",
   "id": "63abf4b2",
   "metadata": {},
   "source": [
    "#Information value is not an optimal feature (variable) selection method when you are building a classification model other than binary logistic regression (for eg. random forest or SVM) as conditional log odds (which we predict in a logistic regression model) is highly related to the calculation of weight of evidence. In other words, it's designed mainly for binary logistic regression model. Also think this way - Random forest can detect non-linear relationship very well so selecting variables via Information Value and using them in random forest model might not produce the most accurate and robust predictive model."
   ]
  },
  {
   "cell_type": "markdown",
   "id": "f6d15e53",
   "metadata": {},
   "source": [
    "df1= df.copy()\n",
    "df1= df1.drop(['Utilazn_unsecure_lines','NumberOfDependents', 'No_ofOpenCreditLinesAndLoans', 'No_ofRealEstateLoansOrLines'], axis=1)\n",
    "df1.columns"
   ]
  },
  {
   "cell_type": "code",
   "execution_count": 44,
   "id": "149ae3db",
   "metadata": {},
   "outputs": [
    {
     "name": "stdout",
     "output_type": "stream",
     "text": [
      "(150000, 9)\n",
      "(150000,)\n",
      "Index(['Utilazn_unsecure_lines', 'Age', 'Times_30-59_DPD', 'DebtRatio',\n",
      "       'MonthlyIncome', 'No_ofOpenCreditLinesAndLoans', 'Times_90_DPD',\n",
      "       'No_ofRealEstateLoansOrLines', 'Times_60-89_DPD'],\n",
      "      dtype='object')\n",
      "0         1\n",
      "1         0\n",
      "2         0\n",
      "3         0\n",
      "4         0\n",
      "         ..\n",
      "149995    0\n",
      "149996    0\n",
      "149997    0\n",
      "149998    0\n",
      "149999    0\n",
      "Name: SeriousDlqin2yrs, Length: 150000, dtype: int64\n"
     ]
    }
   ],
   "source": [
    "# splitting the dataset into x(independent variables) and y(dependent variables)\n",
    "\n",
    "X = df.iloc[:,1:10]\n",
    "y = df.iloc[:,0]\n",
    "\n",
    "print(X.shape)\n",
    "print(y.shape)\n",
    "\n",
    "print(X.columns)\n",
    "print(y)\n",
    "\n",
    "from sklearn.model_selection import train_test_split\n",
    "\n",
    "X_train, X_test, y_train, y_test = train_test_split(X, y, test_size=0.2, random_state=101)"
   ]
  },
  {
   "cell_type": "code",
   "execution_count": 33,
   "id": "f9b36846",
   "metadata": {},
   "outputs": [
    {
     "name": "stderr",
     "output_type": "stream",
     "text": [
      "C:\\Users\\Vineet\\anaconda3\\lib\\site-packages\\sklearn\\linear_model\\_logistic.py:763: ConvergenceWarning: lbfgs failed to converge (status=1):\n",
      "STOP: TOTAL NO. of ITERATIONS REACHED LIMIT.\n",
      "\n",
      "Increase the number of iterations (max_iter) or scale the data as shown in:\n",
      "    https://scikit-learn.org/stable/modules/preprocessing.html\n",
      "Please also refer to the documentation for alternative solver options:\n",
      "    https://scikit-learn.org/stable/modules/linear_model.html#logistic-regression\n",
      "  n_iter_i = _check_optimize_result(\n"
     ]
    },
    {
     "name": "stdout",
     "output_type": "stream",
     "text": [
      "Training Accuracy : 0.9332190476190476\n",
      "Testing Accuracy : 0.9334888888888889\n",
      "[[41922    61]\n",
      " [ 2932    85]]\n",
      "0.7584120717994638\n",
      "Gini score is:  0.5168241435989276\n",
      "              precision    recall  f1-score   support\n",
      "\n",
      "           0       1.00      0.93      0.97     44854\n",
      "           1       0.03      0.58      0.05       146\n",
      "\n",
      "    accuracy                           0.93     45000\n",
      "   macro avg       0.51      0.76      0.51     45000\n",
      "weighted avg       1.00      0.93      0.96     45000\n",
      "\n"
     ]
    }
   ],
   "source": [
    "#Logistic\n",
    "\n",
    "from sklearn.linear_model import LogisticRegression\n",
    "from sklearn.metrics import confusion_matrix, roc_auc_score,classification_report\n",
    "\n",
    "model = LogisticRegression()\n",
    "model.fit(X_train, y_train)\n",
    "\n",
    "y_pred = model.predict(X_test)\n",
    "\n",
    "print(\"Training Accuracy :\", model.score(X_train, y_train))\n",
    "print(\"Testing Accuracy :\", model.score(X_test, y_test))\n",
    "\n",
    "cm = confusion_matrix(y_test, y_pred)\n",
    "print(cm)\n",
    "\n",
    "print(roc_auc_score(y_pred, y_test))\n",
    "a= roc_auc_score(y_pred, y_test)\n",
    "Gini = 2*a-1\n",
    "print('Gini score is: ',Gini)\n",
    "\n",
    "print(classification_report(y_pred, y_test))"
   ]
  },
  {
   "cell_type": "code",
   "execution_count": null,
   "id": "694f5fa5",
   "metadata": {},
   "outputs": [],
   "source": []
  },
  {
   "cell_type": "code",
   "execution_count": 36,
   "id": "86baf99e",
   "metadata": {},
   "outputs": [],
   "source": [
    "import pickle\n",
    "\n",
    "pickle.dump(model,open(\"D:/credit scoring/savedmodel.pkl\", \"wb\"))"
   ]
  },
  {
   "cell_type": "code",
   "execution_count": 38,
   "id": "5b97ccf9",
   "metadata": {},
   "outputs": [],
   "source": [
    "savedmodel=pickle.load(open(\"D:/credit scoring/savedmodel.pkl\", \"rb\"))"
   ]
  },
  {
   "cell_type": "code",
   "execution_count": 39,
   "id": "e2fffb83",
   "metadata": {},
   "outputs": [],
   "source": [
    "ypredict= savedmodel.predict(X_test)"
   ]
  },
  {
   "cell_type": "code",
   "execution_count": 41,
   "id": "a9ac8b10",
   "metadata": {},
   "outputs": [
    {
     "name": "stderr",
     "output_type": "stream",
     "text": [
      "<ipython-input-41-59eae9dc0685>:1: SettingWithCopyWarning: \n",
      "A value is trying to be set on a copy of a slice from a DataFrame.\n",
      "Try using .loc[row_indexer,col_indexer] = value instead\n",
      "\n",
      "See the caveats in the documentation: https://pandas.pydata.org/pandas-docs/stable/user_guide/indexing.html#returning-a-view-versus-a-copy\n",
      "  X_test[\"Predictions\"]=ypredict\n"
     ]
    }
   ],
   "source": [
    "X_test[\"Predictions\"]=ypredict"
   ]
  },
  {
   "cell_type": "code",
   "execution_count": 42,
   "id": "c8242b4a",
   "metadata": {},
   "outputs": [
    {
     "data": {
      "text/html": [
       "<div>\n",
       "<style scoped>\n",
       "    .dataframe tbody tr th:only-of-type {\n",
       "        vertical-align: middle;\n",
       "    }\n",
       "\n",
       "    .dataframe tbody tr th {\n",
       "        vertical-align: top;\n",
       "    }\n",
       "\n",
       "    .dataframe thead th {\n",
       "        text-align: right;\n",
       "    }\n",
       "</style>\n",
       "<table border=\"1\" class=\"dataframe\">\n",
       "  <thead>\n",
       "    <tr style=\"text-align: right;\">\n",
       "      <th></th>\n",
       "      <th>Utilazn_unsecure_lines</th>\n",
       "      <th>Age</th>\n",
       "      <th>Times_30-59_DPD</th>\n",
       "      <th>DebtRatio</th>\n",
       "      <th>MonthlyIncome</th>\n",
       "      <th>No_ofOpenCreditLinesAndLoans</th>\n",
       "      <th>Times_90_DPD</th>\n",
       "      <th>No_ofRealEstateLoansOrLines</th>\n",
       "      <th>Times_60-89_DPD</th>\n",
       "      <th>Predictions</th>\n",
       "    </tr>\n",
       "  </thead>\n",
       "  <tbody>\n",
       "    <tr>\n",
       "      <th>145857</th>\n",
       "      <td>0.032827</td>\n",
       "      <td>80</td>\n",
       "      <td>0</td>\n",
       "      <td>0.383087</td>\n",
       "      <td>3925.000000</td>\n",
       "      <td>7</td>\n",
       "      <td>0</td>\n",
       "      <td>1</td>\n",
       "      <td>0</td>\n",
       "      <td>0</td>\n",
       "    </tr>\n",
       "    <tr>\n",
       "      <th>144226</th>\n",
       "      <td>0.016114</td>\n",
       "      <td>55</td>\n",
       "      <td>0</td>\n",
       "      <td>2666.000000</td>\n",
       "      <td>6670.221237</td>\n",
       "      <td>8</td>\n",
       "      <td>0</td>\n",
       "      <td>2</td>\n",
       "      <td>0</td>\n",
       "      <td>0</td>\n",
       "    </tr>\n",
       "    <tr>\n",
       "      <th>48475</th>\n",
       "      <td>0.000000</td>\n",
       "      <td>43</td>\n",
       "      <td>0</td>\n",
       "      <td>0.272497</td>\n",
       "      <td>7500.000000</td>\n",
       "      <td>6</td>\n",
       "      <td>0</td>\n",
       "      <td>2</td>\n",
       "      <td>0</td>\n",
       "      <td>0</td>\n",
       "    </tr>\n",
       "    <tr>\n",
       "      <th>116712</th>\n",
       "      <td>0.150282</td>\n",
       "      <td>32</td>\n",
       "      <td>0</td>\n",
       "      <td>0.362440</td>\n",
       "      <td>6000.000000</td>\n",
       "      <td>10</td>\n",
       "      <td>0</td>\n",
       "      <td>2</td>\n",
       "      <td>0</td>\n",
       "      <td>0</td>\n",
       "    </tr>\n",
       "    <tr>\n",
       "      <th>31364</th>\n",
       "      <td>0.513385</td>\n",
       "      <td>46</td>\n",
       "      <td>0</td>\n",
       "      <td>0.180825</td>\n",
       "      <td>8416.000000</td>\n",
       "      <td>7</td>\n",
       "      <td>0</td>\n",
       "      <td>0</td>\n",
       "      <td>0</td>\n",
       "      <td>0</td>\n",
       "    </tr>\n",
       "  </tbody>\n",
       "</table>\n",
       "</div>"
      ],
      "text/plain": [
       "        Utilazn_unsecure_lines  Age  Times_30-59_DPD    DebtRatio  \\\n",
       "145857                0.032827   80                0     0.383087   \n",
       "144226                0.016114   55                0  2666.000000   \n",
       "48475                 0.000000   43                0     0.272497   \n",
       "116712                0.150282   32                0     0.362440   \n",
       "31364                 0.513385   46                0     0.180825   \n",
       "\n",
       "        MonthlyIncome  No_ofOpenCreditLinesAndLoans  Times_90_DPD  \\\n",
       "145857    3925.000000                             7             0   \n",
       "144226    6670.221237                             8             0   \n",
       "48475     7500.000000                             6             0   \n",
       "116712    6000.000000                            10             0   \n",
       "31364     8416.000000                             7             0   \n",
       "\n",
       "        No_ofRealEstateLoansOrLines  Times_60-89_DPD  Predictions  \n",
       "145857                            1                0            0  \n",
       "144226                            2                0            0  \n",
       "48475                             2                0            0  \n",
       "116712                            2                0            0  \n",
       "31364                             0                0            0  "
      ]
     },
     "execution_count": 42,
     "metadata": {},
     "output_type": "execute_result"
    }
   ],
   "source": [
    "X_test"
   ]
  },
  {
   "cell_type": "code",
   "execution_count": null,
   "id": "81d990c8",
   "metadata": {},
   "outputs": [],
   "source": []
  },
  {
   "cell_type": "code",
   "execution_count": null,
   "id": "c967dd1d",
   "metadata": {},
   "outputs": [],
   "source": []
  },
  {
   "cell_type": "code",
   "execution_count": null,
   "id": "3cf17d4c",
   "metadata": {},
   "outputs": [],
   "source": []
  },
  {
   "cell_type": "code",
   "execution_count": null,
   "id": "a61a8d1d",
   "metadata": {},
   "outputs": [],
   "source": []
  },
  {
   "cell_type": "code",
   "execution_count": 45,
   "id": "6da67a41",
   "metadata": {},
   "outputs": [
    {
     "name": "stdout",
     "output_type": "stream",
     "text": [
      "Training Accuracy : 0.9995333333333334\n",
      "Testing Accuracy : 0.9337666666666666\n",
      "[[27602   358]\n",
      " [ 1629   411]]\n",
      "0.739365915347455\n",
      "Gini score is:  0.47873183069491\n"
     ]
    }
   ],
   "source": [
    "from sklearn.ensemble import RandomForestClassifier\n",
    "\n",
    "model = RandomForestClassifier()\n",
    "model.fit(X_train, y_train)\n",
    "\n",
    "y_pred = model.predict(X_test)\n",
    "\n",
    "print(\"Training Accuracy :\", model.score(X_train, y_train))\n",
    "print(\"Testing Accuracy :\", model.score(X_test, y_test))\n",
    "\n",
    "cm = confusion_matrix(y_test, y_pred)\n",
    "print(cm)\n",
    "\n",
    "print(roc_auc_score(y_pred, y_test))\n",
    "\n",
    "a= roc_auc_score(y_pred, y_test)\n",
    "Gini = 2*a-1\n",
    "print('Gini score is: ',Gini)"
   ]
  },
  {
   "cell_type": "code",
   "execution_count": 47,
   "id": "53ff4ec9",
   "metadata": {},
   "outputs": [],
   "source": [
    "a=model.feature_importances_"
   ]
  },
  {
   "cell_type": "code",
   "execution_count": 48,
   "id": "712e1c7e",
   "metadata": {},
   "outputs": [
    {
     "data": {
      "text/plain": [
       "array([0.20102791, 0.13176745, 0.04816102, 0.19163706, 0.15544037,\n",
       "       0.09137905, 0.09640949, 0.03520953, 0.04896812])"
      ]
     },
     "execution_count": 48,
     "metadata": {},
     "output_type": "execute_result"
    }
   ],
   "source": [
    "a"
   ]
  },
  {
   "cell_type": "code",
   "execution_count": 49,
   "id": "415e1e65",
   "metadata": {},
   "outputs": [],
   "source": [
    "abc= pd.DataFrame()\n",
    "abc[\"Feature Name\"] = X_test.columns\n",
    "abc[\"Importance\"] = a"
   ]
  },
  {
   "cell_type": "code",
   "execution_count": 50,
   "id": "89905309",
   "metadata": {},
   "outputs": [
    {
     "data": {
      "text/html": [
       "<div>\n",
       "<style scoped>\n",
       "    .dataframe tbody tr th:only-of-type {\n",
       "        vertical-align: middle;\n",
       "    }\n",
       "\n",
       "    .dataframe tbody tr th {\n",
       "        vertical-align: top;\n",
       "    }\n",
       "\n",
       "    .dataframe thead th {\n",
       "        text-align: right;\n",
       "    }\n",
       "</style>\n",
       "<table border=\"1\" class=\"dataframe\">\n",
       "  <thead>\n",
       "    <tr style=\"text-align: right;\">\n",
       "      <th></th>\n",
       "      <th>Feature Name</th>\n",
       "      <th>Importance</th>\n",
       "    </tr>\n",
       "  </thead>\n",
       "  <tbody>\n",
       "    <tr>\n",
       "      <th>0</th>\n",
       "      <td>Utilazn_unsecure_lines</td>\n",
       "      <td>0.201028</td>\n",
       "    </tr>\n",
       "    <tr>\n",
       "      <th>1</th>\n",
       "      <td>Age</td>\n",
       "      <td>0.131767</td>\n",
       "    </tr>\n",
       "    <tr>\n",
       "      <th>2</th>\n",
       "      <td>Times_30-59_DPD</td>\n",
       "      <td>0.048161</td>\n",
       "    </tr>\n",
       "    <tr>\n",
       "      <th>3</th>\n",
       "      <td>DebtRatio</td>\n",
       "      <td>0.191637</td>\n",
       "    </tr>\n",
       "    <tr>\n",
       "      <th>4</th>\n",
       "      <td>MonthlyIncome</td>\n",
       "      <td>0.155440</td>\n",
       "    </tr>\n",
       "    <tr>\n",
       "      <th>5</th>\n",
       "      <td>No_ofOpenCreditLinesAndLoans</td>\n",
       "      <td>0.091379</td>\n",
       "    </tr>\n",
       "    <tr>\n",
       "      <th>6</th>\n",
       "      <td>Times_90_DPD</td>\n",
       "      <td>0.096409</td>\n",
       "    </tr>\n",
       "    <tr>\n",
       "      <th>7</th>\n",
       "      <td>No_ofRealEstateLoansOrLines</td>\n",
       "      <td>0.035210</td>\n",
       "    </tr>\n",
       "    <tr>\n",
       "      <th>8</th>\n",
       "      <td>Times_60-89_DPD</td>\n",
       "      <td>0.048968</td>\n",
       "    </tr>\n",
       "  </tbody>\n",
       "</table>\n",
       "</div>"
      ],
      "text/plain": [
       "                   Feature Name  Importance\n",
       "0        Utilazn_unsecure_lines    0.201028\n",
       "1                           Age    0.131767\n",
       "2               Times_30-59_DPD    0.048161\n",
       "3                     DebtRatio    0.191637\n",
       "4                 MonthlyIncome    0.155440\n",
       "5  No_ofOpenCreditLinesAndLoans    0.091379\n",
       "6                  Times_90_DPD    0.096409\n",
       "7   No_ofRealEstateLoansOrLines    0.035210\n",
       "8               Times_60-89_DPD    0.048968"
      ]
     },
     "execution_count": 50,
     "metadata": {},
     "output_type": "execute_result"
    }
   ],
   "source": [
    "abc"
   ]
  },
  {
   "cell_type": "markdown",
   "id": "7df0c8ae",
   "metadata": {},
   "source": [
    "# PCA + Logistic\n"
   ]
  },
  {
   "cell_type": "code",
   "execution_count": 22,
   "id": "36df3f55",
   "metadata": {},
   "outputs": [
    {
     "data": {
      "text/plain": [
       "StandardScaler()"
      ]
     },
     "execution_count": 22,
     "metadata": {},
     "output_type": "execute_result"
    }
   ],
   "source": [
    "#PCA\n",
    "#always do standard scaling before doing pca\n",
    "\n",
    "from sklearn.preprocessing import StandardScaler\n",
    "\n",
    "scaler= StandardScaler()\n",
    "scaler.fit(df)"
   ]
  },
  {
   "cell_type": "code",
   "execution_count": 23,
   "id": "b3c228c6",
   "metadata": {},
   "outputs": [],
   "source": [
    "scaled_data = scaler.transform(df)"
   ]
  },
  {
   "cell_type": "code",
   "execution_count": 24,
   "id": "d757f875",
   "metadata": {},
   "outputs": [
    {
     "data": {
      "text/plain": [
       "array([[ 3.73645569, -0.02115001, -0.49385982, ...,  4.40954554,\n",
       "        -0.05785249,  1.14052977],\n",
       "       [-0.26763331, -0.02038516, -0.83234222, ..., -0.90128301,\n",
       "        -0.05785249,  0.23720186],\n",
       "       [-0.26763331, -0.02158222, -0.96773518, ..., -0.90128301,\n",
       "        -0.05785249, -0.66612604],\n",
       "       ...,\n",
       "       [-0.26763331, -0.02323239,  0.38619443, ..., -0.01614492,\n",
       "        -0.05785249, -0.66612604],\n",
       "       [-0.26763331, -0.02421753, -1.50930703, ..., -0.90128301,\n",
       "        -0.05785249, -0.66612604],\n",
       "       [-0.26763331, -0.02081306,  0.79237332, ...,  0.86899317,\n",
       "        -0.05785249, -0.66612604]])"
      ]
     },
     "execution_count": 24,
     "metadata": {},
     "output_type": "execute_result"
    }
   ],
   "source": [
    "scaled_data"
   ]
  },
  {
   "cell_type": "code",
   "execution_count": 25,
   "id": "aa84531b",
   "metadata": {},
   "outputs": [
    {
     "data": {
      "text/plain": [
       "(150000, 11)"
      ]
     },
     "execution_count": 25,
     "metadata": {},
     "output_type": "execute_result"
    }
   ],
   "source": [
    "df.shape"
   ]
  },
  {
   "cell_type": "code",
   "execution_count": 26,
   "id": "e7c7a243",
   "metadata": {},
   "outputs": [],
   "source": [
    "from sklearn.decomposition import PCA"
   ]
  },
  {
   "cell_type": "code",
   "execution_count": 27,
   "id": "a560a0b6",
   "metadata": {},
   "outputs": [
    {
     "data": {
      "text/plain": [
       "array([9.75222049e-01, 2.44095495e-02, 3.66644680e-04])"
      ]
     },
     "execution_count": 27,
     "metadata": {},
     "output_type": "execute_result"
    }
   ],
   "source": [
    "pca= PCA(0.9999)  #It means retain 99.99% of the useful features\n",
    "\n",
    "df_pca = pca.fit_transform(df)\n",
    "df_pca.shape\n",
    "\n",
    "\n",
    "###If we choose to retain and caluculate 9 dimensions\n",
    "#pca= PCA(n_components = 9)\n",
    "#df_pca = pca.fit_transform(df)\n",
    "\n",
    "pca.explained_variance_ratio_"
   ]
  },
  {
   "cell_type": "code",
   "execution_count": 28,
   "id": "0019f959",
   "metadata": {},
   "outputs": [],
   "source": [
    "#it means the newly formed 1st column is explaining 89.5% of variation, 2nd is explaining 10% while 3rd 0.07%\n",
    "\n",
    "#NOte: we cannot know what are those columns"
   ]
  },
  {
   "cell_type": "code",
   "execution_count": 29,
   "id": "c3657a4b",
   "metadata": {},
   "outputs": [],
   "source": [
    "from sklearn.model_selection import train_test_split\n",
    "\n",
    "X_train, X_test, y_train, y_test = train_test_split(X, y, test_size=0.3, random_state=101)"
   ]
  },
  {
   "cell_type": "code",
   "execution_count": 30,
   "id": "b94f4763",
   "metadata": {},
   "outputs": [],
   "source": [
    "#LOGISTIC REGRESSION"
   ]
  },
  {
   "cell_type": "code",
   "execution_count": 31,
   "id": "fc180672",
   "metadata": {},
   "outputs": [
    {
     "name": "stdout",
     "output_type": "stream",
     "text": [
      "Training Accuracy : 0.9332190476190476\n",
      "Testing Accuracy : 0.9334888888888889\n",
      "[[41922    61]\n",
      " [ 2932    85]]\n",
      "0.7584120717994638\n",
      "Gini score is:  0.5168241435989276\n"
     ]
    },
    {
     "name": "stderr",
     "output_type": "stream",
     "text": [
      "C:\\Users\\Vineet\\anaconda3\\lib\\site-packages\\sklearn\\linear_model\\_logistic.py:763: ConvergenceWarning: lbfgs failed to converge (status=1):\n",
      "STOP: TOTAL NO. of ITERATIONS REACHED LIMIT.\n",
      "\n",
      "Increase the number of iterations (max_iter) or scale the data as shown in:\n",
      "    https://scikit-learn.org/stable/modules/preprocessing.html\n",
      "Please also refer to the documentation for alternative solver options:\n",
      "    https://scikit-learn.org/stable/modules/linear_model.html#logistic-regression\n",
      "  n_iter_i = _check_optimize_result(\n"
     ]
    }
   ],
   "source": [
    "from sklearn.linear_model import LogisticRegression\n",
    "from sklearn.metrics import confusion_matrix, roc_auc_score,classification_report\n",
    "\n",
    "model = LogisticRegression()\n",
    "model.fit(X_train, y_train)\n",
    "\n",
    "y_pred = model.predict(X_test)\n",
    "\n",
    "print(\"Training Accuracy :\", model.score(X_train, y_train))\n",
    "print(\"Testing Accuracy :\", model.score(X_test, y_test))\n",
    "\n",
    "cm = confusion_matrix(y_test, y_pred)\n",
    "print(cm)\n",
    "\n",
    "print(roc_auc_score(y_pred, y_test))\n",
    "a= roc_auc_score(y_pred, y_test)\n",
    "Gini = 2*a-1\n",
    "print('Gini score is: ',Gini)"
   ]
  },
  {
   "cell_type": "code",
   "execution_count": null,
   "id": "4ae51886",
   "metadata": {},
   "outputs": [],
   "source": []
  },
  {
   "cell_type": "code",
   "execution_count": null,
   "id": "c58d1243",
   "metadata": {},
   "outputs": [],
   "source": []
  },
  {
   "cell_type": "code",
   "execution_count": null,
   "id": "82d5758e",
   "metadata": {},
   "outputs": [],
   "source": []
  },
  {
   "cell_type": "code",
   "execution_count": null,
   "id": "472dc376",
   "metadata": {},
   "outputs": [],
   "source": []
  },
  {
   "cell_type": "code",
   "execution_count": null,
   "id": "b04911ed",
   "metadata": {},
   "outputs": [],
   "source": []
  },
  {
   "cell_type": "code",
   "execution_count": null,
   "id": "636a3328",
   "metadata": {},
   "outputs": [],
   "source": []
  },
  {
   "cell_type": "code",
   "execution_count": 32,
   "id": "a714450f",
   "metadata": {},
   "outputs": [],
   "source": [
    "#Ref: https://github.com/Sundar0989/Variable-Selection-Using-Python/blob/master/Variable%20Selection%20using%20Python%20-%20Vote%20based%20approach.ipynb\n",
    "#https://sundarstyles89.medium.com/variable-selection-using-python-vote-based-approach-faa42da960f0\n",
    "\n",
    "#very useful in finding our variable importance \n",
    "#https://github.com/Sundar0989/Variable-Selection-Using-Python/blob/master/Variable%20Selection%20using%20Python%20-%20Vote%20based%20approach.ipynb"
   ]
  }
 ],
 "metadata": {
  "kernelspec": {
   "display_name": "Python 3",
   "language": "python",
   "name": "python3"
  },
  "language_info": {
   "codemirror_mode": {
    "name": "ipython",
    "version": 3
   },
   "file_extension": ".py",
   "mimetype": "text/x-python",
   "name": "python",
   "nbconvert_exporter": "python",
   "pygments_lexer": "ipython3",
   "version": "3.8.8"
  }
 },
 "nbformat": 4,
 "nbformat_minor": 5
}
