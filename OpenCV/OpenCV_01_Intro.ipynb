{
 "cells": [
  {
   "cell_type": "markdown",
   "metadata": {},
   "source": [
    "### Computer Vision :\n",
    "    => Computer vision is a process by which we can understand the images and videos how they are stored and\n",
    "        how we can manipulate and retrieve data from them..,\n",
    "    => The term essentially means giving a computer the ability to see the world as we humans do..,\n",
    "    => Computer Vision is a field of study which enables computers to replicate the human visual system..,\n",
    "    => It’s a subset of artificial intelligence which collects information from digital images or videos and\n",
    "       processes them to define the attributes..,\n",
    "    => The entire process involves image acquiring, screening, analysing, identifying and extracting\n",
    "       information..,\n",
    "    ==>> The main objective of this branch of artificial intelligence is to teach machines to collect\n",
    "         information from pixels..,"
   ]
  },
  {
   "cell_type": "markdown",
   "metadata": {},
   "source": [
    "### Open Source Computer Vision Library (OpenCV) :\n",
    "    => OpenCV is the huge open-source library for the computer vision, machine learning, and image\n",
    "       processing..,\n",
    "    => By using it, one can process images and videos to identify objects, faces, or even handwriting of a\n",
    "       human..,\n",
    "    => Gary Bradsky invented OpenCV in 1999 and soon the first release came in 2000..,\n",
    "    => "
   ]
  },
  {
   "cell_type": "markdown",
   "metadata": {},
   "source": [
    "### OpenCV Functionality :\n",
    "    => Image/Video I/O Processing, Display (core, imgproc, highgui).,\n",
    "    => Object/Feature detection (objdetect, features2d, nonfree).,\n",
    "    => Computational Photography (photo, video, superres).,\n",
    "    => Machine Learning & Clustering (ml, flann).,\n",
    "    => CUDA acceleration (gpu) Nvidia.,"
   ]
  },
  {
   "cell_type": "markdown",
   "metadata": {},
   "source": [
    "## Introduction to OpenCV :-\n",
    "This article will cover following topics :\n",
    "\n",
    "    => Reading an image\n",
    "    => Extracting the RGB values of a pixel\n",
    "    => Extracting the Region of Interest (ROI)\n",
    "    => Resizing the Image\n",
    "    => Rotating the Image\n",
    "    => Drawing a Rectangle\n",
    "    => Displaying text\n"
   ]
  },
  {
   "cell_type": "markdown",
   "metadata": {},
   "source": [
    "### i) Reading an Image :"
   ]
  },
  {
   "cell_type": "code",
   "execution_count": null,
   "metadata": {},
   "outputs": [],
   "source": [
    "pip install opencv-python\n",
    "\n",
    "#read this blog for better understanding\n",
    "https://www.pyimagesearch.com/2018/07/19/opencv-tutorial-a-guide-to-learn-opencv/   "
   ]
  },
  {
   "cell_type": "code",
   "execution_count": 2,
   "metadata": {},
   "outputs": [],
   "source": [
    "import numpy as np\n",
    "import pandas as pd\n",
    "import cv2\n",
    "import os\n",
    "os.getcwd()\n",
    "os.chdir(\"F:/iAnalyst/OpenCV/Tutorial_data\")"
   ]
  },
  {
   "cell_type": "code",
   "execution_count": 3,
   "metadata": {},
   "outputs": [
    {
     "name": "stdout",
     "output_type": "stream",
     "text": [
      "Height : 1603, Width : 2400\n"
     ]
    }
   ],
   "source": [
    "\n",
    "# Reading the image using imread() function.,\n",
    "image = cv2.imread('road.jpg')\n",
    "#print(image)\n"
   ]
  },
  {
   "cell_type": "code",
   "execution_count": null,
   "metadata": {},
   "outputs": [],
   "source": [
    "cv2.namedWindow('Sample Image', cv2.WINDOW_NORMAL)\n",
    "cv2.imshow('Sample Image', image)\n",
    "cv2.waitKey(0)\n",
    "cv2.destroyAllWindows()\n",
    "\n",
    "# Extracting the height and width of an image.,\n",
    "H, W = image.shape[ : 2]\n",
    "\n",
    "print('Height : {}, Width : {}'. format(H, W))"
   ]
  },
  {
   "cell_type": "markdown",
   "metadata": {},
   "source": [
    "### ii) Extracting the RGB values of a pixel :"
   ]
  },
  {
   "cell_type": "code",
   "execution_count": 26,
   "metadata": {},
   "outputs": [
    {
     "name": "stdout",
     "output_type": "stream",
     "text": [
      "The Values..,\n",
      " R : 211 \n",
      " G : 172 \n",
      " B : 165\n",
      "B : 165\n",
      "G : 172\n"
     ]
    }
   ],
   "source": [
    "# Here we have randomly chosen a pixel by passing in 100, 100 for height and width..,\n",
    "\n",
    "(B, G, R) = image[100, 100]  #try any values   #The code, image[100, 50] , yields a 3-tuple of BGR values from the pixel located at x=50 and y=100 (again, keep in mind that the height is the number of rows and the width is the number of columns\n",
    "# Display the pixel values..,\n",
    "print('The Values..,\\n R : {} \\n G : {} \\n B : {}'.format(R, G, B))\n",
    "\n",
    "# We can also pass the channel to extract the value for a specific channel..,\n",
    "B = image[100, 100, 0]   \n",
    "print('B : {}'.format(B))\n",
    "\n",
    "G = image[100, 100, 1]   #similarly try for [100,100,2]. #works only for 0,1,2\n",
    "print('G : {}'.format(G))   "
   ]
  },
  {
   "cell_type": "markdown",
   "metadata": {},
   "source": [
    "### iii) Extracting the Region of Interest (ROI) :"
   ]
  },
  {
   "cell_type": "code",
   "execution_count": 4,
   "metadata": {},
   "outputs": [],
   "source": [
    "# We will calculate the region of interest by slicing the pixels of the image..,\n",
    "roi = image[100 : 500, 200 : 700]\n",
    "#print(roi)\n",
    "\n",
    "cv2.namedWindow('Region of Interest', cv2.WINDOW_NORMAL)  #The namedWindow() function takes the image to be displayed in the window as the input along with the flag to specify the window size.\n",
    "#If you need to show an image that is bigger than screen resolution then we use WINDOW_NORMAL.\n",
    "cv2.imshow('Region of Interest', roi)\n",
    "cv2.waitKey(0)  #Parameters: cv2.waitkey(wait time in milliseconds)\n",
    "                #Thus if the wait time is entered as 6000, the picture will be displayed for 6s and then get closed (provided you have cv2. destroyAllWindows() in the script). If you use '0' as the parmater then the image will be displayed for infinite time until you press the esc key.\n",
    "cv2.destroyAllWindows()"
   ]
  },
  {
   "cell_type": "markdown",
   "metadata": {},
   "source": [
    "### iv)  Resizing the Image :"
   ]
  },
  {
   "cell_type": "code",
   "execution_count": 8,
   "metadata": {},
   "outputs": [
    {
     "name": "stdout",
     "output_type": "stream",
     "text": [
      "<class 'numpy.ndarray'>\n"
     ]
    }
   ],
   "source": [
    "# resize() function takes 2 parameters, the image and the dimensions.,\n",
    "resized_image = cv2.resize(image, (900, 900))\n",
    "print(type(resized_image))\n",
    "\n",
    "cv2.namedWindow('Resized Image', cv2.WINDOW_NORMAL)\n",
    "cv2.imshow('Resized Image', resized_image)\n",
    "cv2.waitKey(0)\n",
    "cv2.destroyAllWindows()"
   ]
  },
  {
   "cell_type": "raw",
   "metadata": {},
   "source": [
    "    ==>> The problem with this approach is that the aspect ratio of the image is not maintained. So we need to do some extra work in order to maintain a proper aspect ratio..,"
   ]
  },
  {
   "cell_type": "code",
   "execution_count": 5,
   "metadata": {},
   "outputs": [
    {
     "name": "stdout",
     "output_type": "stream",
     "text": [
      "0.3333333333333333\n",
      "(800, 534)\n"
     ]
    }
   ],
   "source": [
    "# Calculating the ratio.,\n",
    "ratio = 800 / W \n",
    "print(ratio)\n",
    "#print(W)\n",
    "\n",
    "# Creating a tuple containing width and height..,\n",
    "dim = (800, int(H * ratio))\n",
    "print(dim)\n",
    "\n",
    "resized_image = cv2.resize(image, dim)\n",
    "\n",
    "cv2.namedWindow('Resized Image', cv2.WINDOW_NORMAL)\n",
    "cv2.imshow('Resized Image', resized_image)\n",
    "cv2.waitKey(0)\n",
    "cv2.destroyAllWindows()"
   ]
  },
  {
   "cell_type": "markdown",
   "metadata": {},
   "source": [
    "### v) Rotating the Image :"
   ]
  },
  {
   "cell_type": "code",
   "execution_count": null,
   "metadata": {},
   "outputs": [],
   "source": [
    "# Calculating the center of the image.,\n",
    "center = (W//2, H//2)\n",
    "print(center)\n",
    "\n",
    "# Generating a rotation matrix.,\n",
    "matrix = cv2.getRotationMatrix2D(center, -45, 1)\n",
    "print(matrix)\n",
    "\n",
    "# Performing the affine transformation.,\n",
    "rotate = cv2.warpAffine(image, matrix, (W, H))\n",
    "#print(rotate)\n",
    "\n",
    "cv2.namedWindow('Rotation Image', cv2.WINDOW_NORMAL)\n",
    "cv2.imshow('Rotation Image', rotate)\n",
    "cv2.waitKey(0)\n",
    "cv2.destroyAllWindows()"
   ]
  },
  {
   "cell_type": "markdown",
   "metadata": {},
   "source": [
    "### getRotationMatrix2D()\n",
    "    It takes 3 arguments..,\n",
    "    => center – The center coordinates of the image.,\n",
    "    => Angle – The angle (in degrees) by which the image should be rotated.,\n",
    "    => Scale – The scaling factor.,\n",
    "    \n",
    "    It returns a 2*3 matrix consisting of values derived from alpha and beta :\n",
    "    alpha = scale * cos(angle)\n",
    "    beta = scale * sine(angle)\n",
    "### warpAffine()\n",
    "    => The function warpAffine transforms the source image using the rotation matrix:\n",
    "    \n",
    "    dst(x, y) = src(M11X + M12Y + M13, M21X + M22Y + M23)\n",
    "    \n",
    "    Here M is the rotation matrix, described above.\n",
    "    It calculates new x, y co-ordinates of the image and transforms it."
   ]
  },
  {
   "cell_type": "markdown",
   "metadata": {},
   "source": [
    "### vi) Drawing a Rectangle :\n",
    "    =>  It is an in-place operation."
   ]
  },
  {
   "cell_type": "code",
   "execution_count": null,
   "metadata": {},
   "outputs": [],
   "source": [
    "# We are copying the original image, as it is an in-place operation..,\n",
    "output = image.copy()\n",
    "\n",
    "# Using the rectangle() function to create a rectangle..,\n",
    "rectangle = cv2.rectangle(output, (1500, 900), (600, 400), (255, 0, 0), 5)\n",
    "print(type(rectangle))\n",
    "\n",
    "cv2.namedWindow('Rectangle Image', cv2.WINDOW_NORMAL)\n",
    "cv2.imshow('Rectangle Image', rectangle)\n",
    "cv2.waitKey(0)\n",
    "cv2.destroyAllWindows()"
   ]
  },
  {
   "cell_type": "raw",
   "metadata": {},
   "source": [
    "It takes in 5 arguments –\n",
    "\n",
    "    Image\n",
    "    Top-left corner co-ordinates\n",
    "    Bottom-right corner co-ordinates\n",
    "    Color (in BGR format)\n",
    "    Line width"
   ]
  },
  {
   "cell_type": "markdown",
   "metadata": {},
   "source": [
    "### vii)  Displaying Text :\n",
    "    => It is an in-place operation."
   ]
  },
  {
   "cell_type": "code",
   "execution_count": null,
   "metadata": {
    "scrolled": true
   },
   "outputs": [],
   "source": [
    "# We are copying the original image, as it is an in-place operation..,\n",
    "output = image.copy()\n",
    "\n",
    "# Adding the text using putText() function.,\n",
    "text = cv2.putText(output, 'OpenCV Demo Text', (500, 550), cv2.FONT_HERSHEY_SIMPLEX, 4, (255, 0, 0), 10)\n",
    "print(text)\n",
    "\n",
    "cv2.namedWindow('Display Text Image', cv2.WINDOW_NORMAL)\n",
    "cv2.imshow('Display Text Image', text)\n",
    "cv2.waitKey(0)\n",
    "cv2.destroyAllWindows()"
   ]
  },
  {
   "cell_type": "raw",
   "metadata": {},
   "source": [
    "It takes in 7 arguments –\n",
    "\n",
    "    Image\n",
    "    Text to be displayed\n",
    "    Bottom-left corner co-ordinates, from where the text should start\n",
    "    Font\n",
    "    Font size\n",
    "    Color (BGR format)\n",
    "    Line width"
   ]
  },
  {
   "cell_type": "code",
   "execution_count": null,
   "metadata": {},
   "outputs": [],
   "source": []
  },
  {
   "cell_type": "code",
   "execution_count": null,
   "metadata": {},
   "outputs": [],
   "source": []
  },
  {
   "cell_type": "code",
   "execution_count": null,
   "metadata": {},
   "outputs": [],
   "source": []
  },
  {
   "cell_type": "code",
   "execution_count": null,
   "metadata": {},
   "outputs": [],
   "source": []
  },
  {
   "cell_type": "code",
   "execution_count": null,
   "metadata": {},
   "outputs": [],
   "source": []
  },
  {
   "cell_type": "code",
   "execution_count": null,
   "metadata": {},
   "outputs": [],
   "source": []
  }
 ],
 "metadata": {
  "kernelspec": {
   "display_name": "Python 3",
   "language": "python",
   "name": "python3"
  },
  "language_info": {
   "codemirror_mode": {
    "name": "ipython",
    "version": 3
   },
   "file_extension": ".py",
   "mimetype": "text/x-python",
   "name": "python",
   "nbconvert_exporter": "python",
   "pygments_lexer": "ipython3",
   "version": "3.8.8"
  }
 },
 "nbformat": 4,
 "nbformat_minor": 4
}
