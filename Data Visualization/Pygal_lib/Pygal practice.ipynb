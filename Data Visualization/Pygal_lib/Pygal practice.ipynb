{
 "cells": [
  {
   "cell_type": "code",
   "execution_count": 1,
   "id": "b51532ce",
   "metadata": {},
   "outputs": [
    {
     "name": "stdout",
     "output_type": "stream",
     "text": [
      "Collecting pygalNote: you may need to restart the kernel to use updated packages.\n",
      "  Downloading pygal-2.4.0-py2.py3-none-any.whl (127 kB)\n",
      "Installing collected packages: pygal\n",
      "Successfully installed pygal-2.4.0\n",
      "\n"
     ]
    }
   ],
   "source": [
    "pip install pygal"
   ]
  },
  {
   "cell_type": "code",
   "execution_count": 21,
   "id": "9014a39d",
   "metadata": {},
   "outputs": [],
   "source": [
    "import pandas as pd\n",
    "import numpy as np\n",
    "import pygal\n",
    "import codecs\n",
    "from html.parser import HTMLParser\n",
    "import html"
   ]
  },
  {
   "cell_type": "markdown",
   "id": "45fee449",
   "metadata": {},
   "source": [
    "Pygal offers a wide variety of charts that we can use to visualize data, to be precise, there are 14 charts categories in Pygal, such as histogram, bar charts, pie charts, treemaps, gauge, and more."
   ]
  },
  {
   "cell_type": "code",
   "execution_count": 22,
   "id": "1159e79b",
   "metadata": {},
   "outputs": [],
   "source": [
    "#To plot a bar chart using Pygal, we need to create a chart object and then add some values to it.\n",
    "bar_chart = pygal.Bar()"
   ]
  },
  {
   "cell_type": "markdown",
   "id": "5ea70eae",
   "metadata": {},
   "source": [
    "We Will plot the factorial for numbers from 0 to 5. Here I defined a simple function to calculate the factorial of a number and then used it to generate a list of factorials for numbers from 0 to 5."
   ]
  },
  {
   "cell_type": "code",
   "execution_count": 23,
   "id": "56df8f9f",
   "metadata": {},
   "outputs": [],
   "source": [
    "def factorial(n):\n",
    "    if n == 1 or n == 0:\n",
    "        return 1\n",
    "    else:\n",
    "        return n * factorial(n-1)\n",
    "fact_list = [factorial(i) for i in range(11)]"
   ]
  },
  {
   "cell_type": "code",
   "execution_count": 24,
   "id": "44bb6c9b",
   "metadata": {},
   "outputs": [
    {
     "ename": "NameError",
     "evalue": "name 'HTML' is not defined",
     "output_type": "error",
     "traceback": [
      "\u001b[1;31m---------------------------------------------------------------------------\u001b[0m",
      "\u001b[1;31mNameError\u001b[0m                                 Traceback (most recent call last)",
      "\u001b[1;32m<ipython-input-24-ccd73a3ad351>\u001b[0m in \u001b[0;36m<module>\u001b[1;34m\u001b[0m\n\u001b[0;32m      1\u001b[0m \u001b[0mbar_chart\u001b[0m \u001b[1;33m=\u001b[0m \u001b[0mpygal\u001b[0m\u001b[1;33m.\u001b[0m\u001b[0mBar\u001b[0m\u001b[1;33m(\u001b[0m\u001b[0mheight\u001b[0m\u001b[1;33m=\u001b[0m\u001b[1;36m400\u001b[0m\u001b[1;33m)\u001b[0m\u001b[1;33m\u001b[0m\u001b[1;33m\u001b[0m\u001b[0m\n\u001b[0;32m      2\u001b[0m \u001b[0mbar_chart\u001b[0m\u001b[1;33m.\u001b[0m\u001b[0madd\u001b[0m\u001b[1;33m(\u001b[0m\u001b[1;34m'Factorial'\u001b[0m\u001b[1;33m,\u001b[0m \u001b[0mfact_list\u001b[0m\u001b[1;33m)\u001b[0m\u001b[1;33m\u001b[0m\u001b[1;33m\u001b[0m\u001b[0m\n\u001b[1;32m----> 3\u001b[1;33m \u001b[0mdisplay\u001b[0m\u001b[1;33m(\u001b[0m\u001b[0mHTML\u001b[0m\u001b[1;33m(\u001b[0m\u001b[0mbase_html\u001b[0m\u001b[1;33m.\u001b[0m\u001b[0mformat\u001b[0m\u001b[1;33m(\u001b[0m\u001b[0mrendered_chart\u001b[0m\u001b[1;33m=\u001b[0m\u001b[0mbar_chart\u001b[0m\u001b[1;33m.\u001b[0m\u001b[0mrender\u001b[0m\u001b[1;33m(\u001b[0m\u001b[0mis_unicode\u001b[0m\u001b[1;33m=\u001b[0m\u001b[1;32mTrue\u001b[0m\u001b[1;33m)\u001b[0m\u001b[1;33m)\u001b[0m\u001b[1;33m)\u001b[0m\u001b[1;33m)\u001b[0m\u001b[1;33m\u001b[0m\u001b[1;33m\u001b[0m\u001b[0m\n\u001b[0m",
      "\u001b[1;31mNameError\u001b[0m: name 'HTML' is not defined"
     ]
    }
   ],
   "source": [
    "bar_chart = pygal.Bar(height=400)\n",
    "bar_chart.add('Factorial', fact_list)\n",
    "display(HTML(base_html.format(rendered_chart=bar_chart.render(is_unicode=True))))"
   ]
  },
  {
   "cell_type": "code",
   "execution_count": null,
   "id": "c3d3a1c8",
   "metadata": {},
   "outputs": [],
   "source": []
  },
  {
   "cell_type": "code",
   "execution_count": null,
   "id": "6fc21d71",
   "metadata": {},
   "outputs": [],
   "source": []
  },
  {
   "cell_type": "code",
   "execution_count": 27,
   "id": "43468ad8",
   "metadata": {},
   "outputs": [],
   "source": [
    "data = pd.read_csv(\"https://raw.githubusercontent.com/nytimes/covid-19-data/master/us-counties.csv\")"
   ]
  },
  {
   "cell_type": "markdown",
   "id": "9410c757",
   "metadata": {},
   "source": [
    "This dataset contains information about the COVID-19 cases, deaths based on dates, counties, and states. We can see that using data.column to get an idea of the shape of the data. Executing that command will return:"
   ]
  },
  {
   "cell_type": "code",
   "execution_count": 28,
   "id": "001e6610",
   "metadata": {},
   "outputs": [
    {
     "ename": "NameError",
     "evalue": "name 'Index' is not defined",
     "output_type": "error",
     "traceback": [
      "\u001b[1;31m---------------------------------------------------------------------------\u001b[0m",
      "\u001b[1;31mNameError\u001b[0m                                 Traceback (most recent call last)",
      "\u001b[1;32m<ipython-input-28-28e78c9b6f08>\u001b[0m in \u001b[0;36m<module>\u001b[1;34m\u001b[0m\n\u001b[1;32m----> 1\u001b[1;33m \u001b[0mIndex\u001b[0m\u001b[1;33m(\u001b[0m\u001b[1;33m[\u001b[0m\u001b[1;34m'date'\u001b[0m\u001b[1;33m,\u001b[0m \u001b[1;34m'county'\u001b[0m\u001b[1;33m,\u001b[0m \u001b[1;34m'state'\u001b[0m\u001b[1;33m,\u001b[0m \u001b[1;34m'fips'\u001b[0m\u001b[1;33m,\u001b[0m \u001b[1;34m'cases'\u001b[0m\u001b[1;33m,\u001b[0m \u001b[1;34m'deaths'\u001b[0m\u001b[1;33m]\u001b[0m\u001b[1;33m,\u001b[0m \u001b[0mdtype\u001b[0m\u001b[1;33m=\u001b[0m\u001b[1;34m'object'\u001b[0m\u001b[1;33m)\u001b[0m\u001b[1;33m\u001b[0m\u001b[1;33m\u001b[0m\u001b[0m\n\u001b[0m",
      "\u001b[1;31mNameError\u001b[0m: name 'Index' is not defined"
     ]
    }
   ],
   "source": [
    "Index(['date', 'county', 'state', 'fips', 'cases', 'deaths'], dtype='object')"
   ]
  },
  {
   "cell_type": "code",
   "execution_count": null,
   "id": "1fb5a06f",
   "metadata": {},
   "outputs": [],
   "source": [
    "data.sample(10)"
   ]
  },
  {
   "cell_type": "markdown",
   "id": "c46138f3",
   "metadata": {},
   "source": [
    "# Bar Chart"
   ]
  },
  {
   "cell_type": "code",
   "execution_count": null,
   "id": "94dbc276",
   "metadata": {},
   "outputs": [],
   "source": [
    "mean_per_state = data.groupby('state')['cases'].mean()"
   ]
  },
  {
   "cell_type": "code",
   "execution_count": null,
   "id": "7fed92d2",
   "metadata": {},
   "outputs": [],
   "source": [
    "barChart = pygal.Bar(height=400)\n",
    "[barChart.add(x[0], x[1]) for x in mean_per_state.items()]\n",
    "display(HTML(base_html.format(rendered_chart=barChart.render(is_unicode=True))))"
   ]
  },
  {
   "cell_type": "code",
   "execution_count": null,
   "id": "70f1eee8",
   "metadata": {},
   "outputs": [],
   "source": []
  },
  {
   "cell_type": "markdown",
   "id": "48c3412b",
   "metadata": {},
   "source": [
    "Treemap\n",
    "Bar charts help show the overall data, but if we want to get more specific, we can choose a different type of char, namely, a treemap. Treemaps are useful for showing categories within the data. For example, in our dataset, we have the number of cases based on each county in every state. The bar chart was able to show us the mean of every state, but we couldn’t see the case distribution per county per state. One way we can approach that is by using treemaps.\n",
    "Let’s assume we want to see the distribution of the detailed cases for the 10 states with the most significant number of cases. Then, we need to manipulate our data first before plotting it.\n",
    "We need to sort the data based on cases and then group them by states."
   ]
  },
  {
   "cell_type": "code",
   "execution_count": null,
   "id": "a889f269",
   "metadata": {},
   "outputs": [],
   "source": [
    "sort_by_cases = data.sort_values(by=['cases'],ascending=False).groupby(['state'])['cases'].apply(list)"
   ]
  },
  {
   "cell_type": "code",
   "execution_count": null,
   "id": "f44e04ab",
   "metadata": {},
   "outputs": [],
   "source": [
    "top_10_states = sort_by_cases[:10]"
   ]
  },
  {
   "cell_type": "code",
   "execution_count": null,
   "id": "191abf7c",
   "metadata": {},
   "outputs": [],
   "source": [
    "treemap = pygal.Treemap(height=400)\n",
    "[treemap.add(x[0], x[1][:10]) for x in top_10_states.items()]\n",
    "display(HTML(base_html.format(rendered_chart=treemap.render(is_unicode=True))))"
   ]
  },
  {
   "cell_type": "code",
   "execution_count": null,
   "id": "eb3c808f",
   "metadata": {},
   "outputs": [],
   "source": [
    "#Get the cases by county for all states\n",
    "cases_by_county = data.sort_values(by=['cases'],ascending=False).groupby(['state'], axis=0).apply(\n",
    "    lambda x : [{\"value\" : l, \"label\" : c } for l, c in zip(x['cases'], x['county'])])\n",
    "cases_by_county= cases_by_county[:10]\n",
    "#Create a new dictionary that contains the cleaned up version of the data\n",
    "clean_dict = {}\n",
    "start_dict= cases_by_county.to_dict()\n",
    "for key in start_dict.keys():\n",
    "    values = []\n",
    "    labels = []\n",
    "    county = []\n",
    "    for item in start_dict[key]:\n",
    "        if item['label'] not in labels:\n",
    "            labels.append(item['label'])\n",
    "            values.append(item['value'])\n",
    "        else:\n",
    "            i = labels.index(item['label'])\n",
    "            values[i] += item['value']\n",
    "    \n",
    "    for l,v in zip(labels, values):\n",
    "        county.append({'value':v, 'label':l})\n",
    "    clean_dict[key] = county\n",
    "#Convert the data to Pandas series to add it to the treemap\n",
    "new_series = pd.Series(clean_dict)"
   ]
  },
  {
   "cell_type": "code",
   "execution_count": null,
   "id": "6dfcfcb4",
   "metadata": {},
   "outputs": [],
   "source": [
    "treemap = pygal.Treemap(height=200)\n",
    "[treemap.add(x[0], x[1][:10]) for x in new_series.iteritems()]\n",
    "display(HTML(base_html.format(rendered_chart=treemap.render(is_unicode=True))))"
   ]
  },
  {
   "cell_type": "markdown",
   "id": "c78251a3",
   "metadata": {},
   "source": [
    "Pie Chart\n",
    "Another form we can present this information is using a pie chart to show the 10 states with the most significant number of cases. Using a pie chart, we can see the percentage of the number of cases of one state relative to the others.\n",
    "Since we already did all the data frame manipulation, we can use that to create the pie chart right away."
   ]
  },
  {
   "cell_type": "code",
   "execution_count": null,
   "id": "2b26fc23",
   "metadata": {},
   "outputs": [],
   "source": [
    "first10 = list(sort_by_cases.items())[:10]\n",
    "[pi_chart.add(x[0], x[1]) for x in first10]\n",
    "display(HTML(base_html.format(rendered_chart=pi_chart.render(is_unicode=True))))"
   ]
  },
  {
   "cell_type": "code",
   "execution_count": null,
   "id": "d8e6f51b",
   "metadata": {},
   "outputs": [],
   "source": []
  },
  {
   "cell_type": "code",
   "execution_count": null,
   "id": "3d0c7fee",
   "metadata": {},
   "outputs": [],
   "source": []
  },
  {
   "cell_type": "code",
   "execution_count": null,
   "id": "9b78382f",
   "metadata": {},
   "outputs": [],
   "source": []
  }
 ],
 "metadata": {
  "kernelspec": {
   "display_name": "Python 3",
   "language": "python",
   "name": "python3"
  },
  "language_info": {
   "codemirror_mode": {
    "name": "ipython",
    "version": 3
   },
   "file_extension": ".py",
   "mimetype": "text/x-python",
   "name": "python",
   "nbconvert_exporter": "python",
   "pygments_lexer": "ipython3",
   "version": "3.8.8"
  }
 },
 "nbformat": 4,
 "nbformat_minor": 5
}
