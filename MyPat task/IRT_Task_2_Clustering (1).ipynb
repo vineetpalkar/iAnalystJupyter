{
 "cells": [
  {
   "cell_type": "code",
   "execution_count": 1,
   "id": "90a98879",
   "metadata": {},
   "outputs": [],
   "source": [
    "import pandas as pd\n",
    "import numpy as np\n",
    "import matplotlib.pyplot as plt\n",
    "%matplotlib inline"
   ]
  },
  {
   "cell_type": "code",
   "execution_count": 2,
   "id": "bad29277",
   "metadata": {},
   "outputs": [
    {
     "data": {
      "text/html": [
       "<div>\n",
       "<style scoped>\n",
       "    .dataframe tbody tr th:only-of-type {\n",
       "        vertical-align: middle;\n",
       "    }\n",
       "\n",
       "    .dataframe tbody tr th {\n",
       "        vertical-align: top;\n",
       "    }\n",
       "\n",
       "    .dataframe thead th {\n",
       "        text-align: right;\n",
       "    }\n",
       "</style>\n",
       "<table border=\"1\" class=\"dataframe\">\n",
       "  <thead>\n",
       "    <tr style=\"text-align: right;\">\n",
       "      <th></th>\n",
       "      <th>Goal Levels</th>\n",
       "      <th>x1</th>\n",
       "      <th>x2</th>\n",
       "      <th>x3</th>\n",
       "      <th>x4</th>\n",
       "      <th>x5</th>\n",
       "      <th>x6</th>\n",
       "      <th>x7</th>\n",
       "      <th>x8</th>\n",
       "      <th>x9</th>\n",
       "      <th>x10</th>\n",
       "      <th>x11</th>\n",
       "      <th>x12</th>\n",
       "      <th>x13</th>\n",
       "      <th>x14</th>\n",
       "      <th>x15</th>\n",
       "    </tr>\n",
       "  </thead>\n",
       "  <tbody>\n",
       "    <tr>\n",
       "      <th>0</th>\n",
       "      <td>5ace20379fe7b01d5806bec9</td>\n",
       "      <td>-0.29</td>\n",
       "      <td>-0.30</td>\n",
       "      <td>-0.95</td>\n",
       "      <td>-0.96</td>\n",
       "      <td>-0.97</td>\n",
       "      <td>-0.98</td>\n",
       "      <td>-0.99</td>\n",
       "      <td>-1.00</td>\n",
       "      <td>-1.08</td>\n",
       "      <td>-1.12</td>\n",
       "      <td>-1.24</td>\n",
       "      <td>-1.29</td>\n",
       "      <td>-1.31</td>\n",
       "      <td>-1.35</td>\n",
       "      <td>-1.37</td>\n",
       "    </tr>\n",
       "    <tr>\n",
       "      <th>1</th>\n",
       "      <td>5ace20379fe7b01d5806bebb</td>\n",
       "      <td>1.23</td>\n",
       "      <td>0.91</td>\n",
       "      <td>-0.51</td>\n",
       "      <td>-0.77</td>\n",
       "      <td>-1.49</td>\n",
       "      <td>-1.99</td>\n",
       "      <td>-2.19</td>\n",
       "      <td>-2.24</td>\n",
       "      <td>-2.31</td>\n",
       "      <td>-2.34</td>\n",
       "      <td>-2.35</td>\n",
       "      <td>-2.36</td>\n",
       "      <td>-2.37</td>\n",
       "      <td>-2.39</td>\n",
       "      <td>-2.41</td>\n",
       "    </tr>\n",
       "    <tr>\n",
       "      <th>2</th>\n",
       "      <td>5ace203f9fe7b01d5806c144</td>\n",
       "      <td>0.27</td>\n",
       "      <td>0.26</td>\n",
       "      <td>-0.22</td>\n",
       "      <td>-0.62</td>\n",
       "      <td>-0.81</td>\n",
       "      <td>-0.82</td>\n",
       "      <td>-1.12</td>\n",
       "      <td>-1.28</td>\n",
       "      <td>-1.29</td>\n",
       "      <td>-1.58</td>\n",
       "      <td>-1.75</td>\n",
       "      <td>-1.88</td>\n",
       "      <td>-1.96</td>\n",
       "      <td>-2.02</td>\n",
       "      <td>-2.05</td>\n",
       "    </tr>\n",
       "    <tr>\n",
       "      <th>3</th>\n",
       "      <td>5ace203f9fe7b01d5806c145</td>\n",
       "      <td>1.46</td>\n",
       "      <td>1.45</td>\n",
       "      <td>0.90</td>\n",
       "      <td>0.89</td>\n",
       "      <td>0.81</td>\n",
       "      <td>0.51</td>\n",
       "      <td>0.22</td>\n",
       "      <td>0.03</td>\n",
       "      <td>0.02</td>\n",
       "      <td>-0.19</td>\n",
       "      <td>-0.39</td>\n",
       "      <td>-0.55</td>\n",
       "      <td>-0.64</td>\n",
       "      <td>-0.70</td>\n",
       "      <td>-0.72</td>\n",
       "    </tr>\n",
       "    <tr>\n",
       "      <th>4</th>\n",
       "      <td>5ace203d9fe7b01d5806c082</td>\n",
       "      <td>3.85</td>\n",
       "      <td>2.27</td>\n",
       "      <td>-0.30</td>\n",
       "      <td>-0.30</td>\n",
       "      <td>-0.31</td>\n",
       "      <td>-0.32</td>\n",
       "      <td>-0.33</td>\n",
       "      <td>-0.34</td>\n",
       "      <td>-0.35</td>\n",
       "      <td>-0.36</td>\n",
       "      <td>-0.37</td>\n",
       "      <td>-0.38</td>\n",
       "      <td>-0.39</td>\n",
       "      <td>-0.40</td>\n",
       "      <td>-0.41</td>\n",
       "    </tr>\n",
       "  </tbody>\n",
       "</table>\n",
       "</div>"
      ],
      "text/plain": [
       "                Goal Levels    x1    x2    x3    x4    x5    x6    x7    x8  \\\n",
       "0  5ace20379fe7b01d5806bec9 -0.29 -0.30 -0.95 -0.96 -0.97 -0.98 -0.99 -1.00   \n",
       "1  5ace20379fe7b01d5806bebb  1.23  0.91 -0.51 -0.77 -1.49 -1.99 -2.19 -2.24   \n",
       "2  5ace203f9fe7b01d5806c144  0.27  0.26 -0.22 -0.62 -0.81 -0.82 -1.12 -1.28   \n",
       "3  5ace203f9fe7b01d5806c145  1.46  1.45  0.90  0.89  0.81  0.51  0.22  0.03   \n",
       "4  5ace203d9fe7b01d5806c082  3.85  2.27 -0.30 -0.30 -0.31 -0.32 -0.33 -0.34   \n",
       "\n",
       "     x9   x10   x11   x12   x13   x14   x15  \n",
       "0 -1.08 -1.12 -1.24 -1.29 -1.31 -1.35 -1.37  \n",
       "1 -2.31 -2.34 -2.35 -2.36 -2.37 -2.39 -2.41  \n",
       "2 -1.29 -1.58 -1.75 -1.88 -1.96 -2.02 -2.05  \n",
       "3  0.02 -0.19 -0.39 -0.55 -0.64 -0.70 -0.72  \n",
       "4 -0.35 -0.36 -0.37 -0.38 -0.39 -0.40 -0.41  "
      ]
     },
     "execution_count": 2,
     "metadata": {},
     "output_type": "execute_result"
    }
   ],
   "source": [
    "data = pd.read_csv('Updated_theta.csv')\n",
    "df = data.copy()\n",
    "df.head()"
   ]
  },
  {
   "cell_type": "code",
   "execution_count": 6,
   "id": "13738503",
   "metadata": {},
   "outputs": [],
   "source": [
    "#dropping goal levels to make DF of only numeric columns\n",
    "d = df.drop('Goal Levels',axis = 1).iloc[0:10]"
   ]
  },
  {
   "cell_type": "code",
   "execution_count": 7,
   "id": "c4464379",
   "metadata": {},
   "outputs": [],
   "source": [
    "from sklearn.cluster import KMeans"
   ]
  },
  {
   "cell_type": "markdown",
   "id": "74831b03",
   "metadata": {},
   "source": [
    "### Elbow Method"
   ]
  },
  {
   "cell_type": "markdown",
   "id": "72f58c2b",
   "metadata": {},
   "source": [
    "For each k value, we will initialise k-means and use the inertia attribute to identify the sum of squared distances of samples to the nearest cluster centre.\n",
    "\n",
    "As k increases, the sum of squared distance tends to zero. Imagine we set k to its maximum value n (where n is number of samples) each sample will form its own cluster meaning sum of squared distances equals zero.\n",
    "\n",
    "Below is a plot of sum of squared distances for k in the range specified above. If the plot looks like an arm, then the elbow on the arm is optimal k."
   ]
  },
  {
   "cell_type": "code",
   "execution_count": 11,
   "id": "1aa8bdfd",
   "metadata": {},
   "outputs": [
    {
     "name": "stderr",
     "output_type": "stream",
     "text": [
      "C:\\Users\\jaych\\anaconda3\\lib\\site-packages\\sklearn\\cluster\\_kmeans.py:881: UserWarning: KMeans is known to have a memory leak on Windows with MKL, when there are less chunks than available threads. You can avoid it by setting the environment variable OMP_NUM_THREADS=3.\n",
      "  warnings.warn(\n"
     ]
    },
    {
     "data": {
      "image/png": "[encoded data removed]",
      "text/plain": [
       "<Figure size 432x288 with 1 Axes>"
      ]
     },
     "metadata": {
      "needs_background": "light"
     },
     "output_type": "display_data"
    }
   ],
   "source": [
    "Sum_of_squared_distances = []\n",
    "K = range(1,15)\n",
    "for k in K:\n",
    "    km = KMeans(n_clusters=k)\n",
    "    km = km.fit(d)\n",
    "    Sum_of_squared_distances.append(km.inertia_)\n",
    "    \n",
    "plt.plot(K, Sum_of_squared_distances)\n",
    "plt.xlabel('k')\n",
    "plt.ylabel('Sum_of_squared_distances')\n",
    "plt.title('Elbow Method For Optimal k')\n",
    "plt.show()"
   ]
  },
  {
   "cell_type": "markdown",
   "id": "a6aff294",
   "metadata": {},
   "source": [
    "Elbow graph bends from k=3,so we'll take 3 clusters"
   ]
  },
  {
   "cell_type": "code",
   "execution_count": 9,
   "id": "ad2d3e8a",
   "metadata": {},
   "outputs": [],
   "source": [
    "kmeans = KMeans(n_clusters = 3)"
   ]
  },
  {
   "cell_type": "code",
   "execution_count": 10,
   "id": "cc9be4fb",
   "metadata": {},
   "outputs": [],
   "source": [
    "d = df.drop('Goal Levels',axis = 1)"
   ]
  },
  {
   "cell_type": "code",
   "execution_count": 12,
   "id": "813bccaa",
   "metadata": {},
   "outputs": [
    {
     "data": {
      "text/plain": [
       "KMeans(n_clusters=3)"
      ]
     },
     "execution_count": 12,
     "metadata": {},
     "output_type": "execute_result"
    }
   ],
   "source": [
    "kmeans.fit(d)"
   ]
  },
  {
   "cell_type": "code",
   "execution_count": 13,
   "id": "d9dd75c6",
   "metadata": {
    "scrolled": true
   },
   "outputs": [
    {
     "data": {
      "text/plain": [
       "array([[ 2.10003937,  1.15834646,  0.69106299,  0.60610236,  0.41685039,\n",
       "         0.27003937,  0.09      , -0.06535433, -0.14755906, -0.36759843,\n",
       "        -0.53472441, -0.64429134, -0.70685039, -0.75417323, -0.78559055],\n",
       "       [ 2.94216418,  2.32104478,  1.93947761,  1.84044776,  1.62679104,\n",
       "         1.49776119,  1.29955224,  1.16283582,  1.08104478,  0.8758209 ,\n",
       "         0.70134328,  0.5738806 ,  0.49776119,  0.445     ,  0.40858209],\n",
       "       [ 0.5137037 , -0.21302469, -0.57018519, -0.71154321, -0.83901235,\n",
       "        -0.95716049, -1.08783951, -1.1991358 , -1.2645679 , -1.44283951,\n",
       "        -1.56635802, -1.64055556, -1.68351852, -1.71530864, -1.74061728]])"
      ]
     },
     "execution_count": 13,
     "metadata": {},
     "output_type": "execute_result"
    }
   ],
   "source": [
    "kmeans.cluster_centers_"
   ]
  },
  {
   "cell_type": "code",
   "execution_count": 14,
   "id": "605380c0",
   "metadata": {},
   "outputs": [
    {
     "data": {
      "text/plain": [
       "array([2, 2, 2, 0, 0, 0, 0, 2, 2, 2, 2, 2, 2, 0, 0, 0, 2, 1, 1, 0, 0, 0,\n",
       "       2, 2, 0, 2, 0, 0, 1, 1, 0, 1, 2, 2, 1, 1, 1, 0, 0, 1, 0, 0, 0, 0,\n",
       "       0, 2, 0, 1, 2, 2, 2, 2, 1, 0, 0, 1, 2, 0, 2, 1, 1, 1, 0, 2, 2, 0,\n",
       "       2, 0, 0, 2, 0, 1, 2, 1, 0, 0, 0, 0, 2, 2, 1, 1, 2, 1, 0, 0, 2, 2,\n",
       "       0, 1, 0, 0, 0, 2, 1, 1, 1, 0, 2, 1, 0, 2, 0, 2, 0, 0, 1, 0, 1, 1,\n",
       "       0, 0, 0, 0, 0, 1, 0, 0, 1, 0, 1, 0, 2, 2, 0, 1, 0, 0, 0, 0, 0, 2,\n",
       "       0, 0, 1, 1, 2, 2, 1, 1, 2, 0, 0, 2, 1, 1, 1, 2, 1, 1, 0, 1, 1, 0,\n",
       "       0, 0, 1, 2, 2, 2, 2, 0, 2, 0, 1, 2, 0, 1, 0, 2, 0, 2, 1, 0, 0, 1,\n",
       "       2, 1, 1, 2, 0, 0, 0, 1, 2, 1, 1, 2, 0, 0, 1, 2, 0, 0, 2, 0, 0, 0,\n",
       "       2, 0, 0, 2, 0, 0, 0, 0, 0, 2, 0, 0, 0, 0, 0, 0, 0, 2, 2, 0, 0, 0,\n",
       "       1, 0, 1, 0, 0, 2, 1, 0, 1, 0, 0, 0, 1, 2, 2, 2, 1, 1, 1, 0, 2, 2,\n",
       "       0, 1, 1, 0, 1, 2, 0, 2, 0, 2, 2, 2, 2, 0, 0, 1, 0, 0, 1, 0, 2, 0,\n",
       "       0, 0, 0, 1, 2, 0, 2, 0, 0, 2, 1, 0, 0, 0, 1, 2, 2, 1, 1, 0, 0, 0,\n",
       "       0, 0, 0, 1, 2, 2, 0, 1, 0, 0, 1, 0, 2, 0, 0, 1, 2, 2, 2, 2, 0, 1,\n",
       "       0, 0, 0, 0, 2, 1, 0, 0, 0, 2, 0, 1, 1, 0, 2, 1, 0, 0, 0, 0, 1, 2,\n",
       "       0, 0, 2, 2, 0, 2, 1, 1, 0, 0, 1, 1, 2, 2, 2, 0, 1, 1, 1, 1, 1, 0,\n",
       "       0, 0, 2, 1, 2, 0, 0, 2, 1, 0, 0, 0, 1, 1, 2, 0, 0, 0, 2, 1, 1, 2,\n",
       "       0, 2, 1, 0, 2, 2, 0, 1, 2, 0, 0, 2, 2, 0, 0, 1, 1, 0, 1, 0, 1, 0,\n",
       "       0, 1, 0, 1, 0, 0, 2, 0, 1, 1, 2, 2, 0, 0, 1, 0, 0, 2, 1, 0, 2, 0,\n",
       "       0, 2, 2, 0, 0, 1, 1, 1, 2, 0, 0, 2, 1, 0, 0, 2, 0, 0, 2, 0, 1, 0,\n",
       "       0, 2, 0, 0, 2, 2, 2, 2, 0, 2, 0, 0, 2, 2, 1, 0, 0, 1, 0, 0, 0, 2,\n",
       "       1, 0, 0, 2, 2, 0, 0, 0, 1, 1, 2, 2, 2, 2, 1, 1, 2, 0, 2, 1, 2, 0,\n",
       "       1, 2, 2, 2, 0, 0, 2, 2, 0, 0, 1, 2, 2, 0, 0, 2, 0, 0, 2, 0, 0, 0,\n",
       "       0, 0, 0, 2, 0, 2, 1, 1, 1, 2, 0, 0, 2, 0, 0, 0, 1, 1, 2, 2, 1, 1,\n",
       "       0, 0, 1, 2, 0, 1, 2, 0, 1, 0, 2, 2, 0, 0, 2, 2, 2, 0, 0, 0, 0, 2])"
      ]
     },
     "execution_count": 14,
     "metadata": {},
     "output_type": "execute_result"
    }
   ],
   "source": [
    "cluster_grp = kmeans.labels_\n",
    "cluster_grp"
   ]
  },
  {
   "cell_type": "code",
   "execution_count": 15,
   "id": "283ff481",
   "metadata": {},
   "outputs": [
    {
     "data": {
      "text/html": [
       "<div>\n",
       "<style scoped>\n",
       "    .dataframe tbody tr th:only-of-type {\n",
       "        vertical-align: middle;\n",
       "    }\n",
       "\n",
       "    .dataframe tbody tr th {\n",
       "        vertical-align: top;\n",
       "    }\n",
       "\n",
       "    .dataframe thead th {\n",
       "        text-align: right;\n",
       "    }\n",
       "</style>\n",
       "<table border=\"1\" class=\"dataframe\">\n",
       "  <thead>\n",
       "    <tr style=\"text-align: right;\">\n",
       "      <th></th>\n",
       "      <th>Cluster_grp</th>\n",
       "    </tr>\n",
       "  </thead>\n",
       "  <tbody>\n",
       "    <tr>\n",
       "      <th>0</th>\n",
       "      <td>2</td>\n",
       "    </tr>\n",
       "    <tr>\n",
       "      <th>1</th>\n",
       "      <td>2</td>\n",
       "    </tr>\n",
       "    <tr>\n",
       "      <th>2</th>\n",
       "      <td>2</td>\n",
       "    </tr>\n",
       "    <tr>\n",
       "      <th>3</th>\n",
       "      <td>0</td>\n",
       "    </tr>\n",
       "    <tr>\n",
       "      <th>4</th>\n",
       "      <td>0</td>\n",
       "    </tr>\n",
       "  </tbody>\n",
       "</table>\n",
       "</div>"
      ],
      "text/plain": [
       "   Cluster_grp\n",
       "0            2\n",
       "1            2\n",
       "2            2\n",
       "3            0\n",
       "4            0"
      ]
     },
     "execution_count": 15,
     "metadata": {},
     "output_type": "execute_result"
    }
   ],
   "source": [
    "dict = {'Cluster_grp':cluster_grp}\n",
    "cluster = pd.DataFrame(dict)\n",
    "cluster.head()"
   ]
  },
  {
   "cell_type": "code",
   "execution_count": 16,
   "id": "190c220c",
   "metadata": {},
   "outputs": [
    {
     "data": {
      "text/html": [
       "<div>\n",
       "<style scoped>\n",
       "    .dataframe tbody tr th:only-of-type {\n",
       "        vertical-align: middle;\n",
       "    }\n",
       "\n",
       "    .dataframe tbody tr th {\n",
       "        vertical-align: top;\n",
       "    }\n",
       "\n",
       "    .dataframe thead th {\n",
       "        text-align: right;\n",
       "    }\n",
       "</style>\n",
       "<table border=\"1\" class=\"dataframe\">\n",
       "  <thead>\n",
       "    <tr style=\"text-align: right;\">\n",
       "      <th></th>\n",
       "      <th>x1</th>\n",
       "      <th>x2</th>\n",
       "      <th>x3</th>\n",
       "      <th>x4</th>\n",
       "      <th>x5</th>\n",
       "      <th>x6</th>\n",
       "      <th>x7</th>\n",
       "      <th>x8</th>\n",
       "      <th>x9</th>\n",
       "      <th>x10</th>\n",
       "      <th>x11</th>\n",
       "      <th>x12</th>\n",
       "      <th>x13</th>\n",
       "      <th>x14</th>\n",
       "      <th>x15</th>\n",
       "      <th>Cluster_grp</th>\n",
       "    </tr>\n",
       "  </thead>\n",
       "  <tbody>\n",
       "    <tr>\n",
       "      <th>0</th>\n",
       "      <td>-0.29</td>\n",
       "      <td>-0.30</td>\n",
       "      <td>-0.95</td>\n",
       "      <td>-0.96</td>\n",
       "      <td>-0.97</td>\n",
       "      <td>-0.98</td>\n",
       "      <td>-0.99</td>\n",
       "      <td>-1.00</td>\n",
       "      <td>-1.08</td>\n",
       "      <td>-1.12</td>\n",
       "      <td>-1.24</td>\n",
       "      <td>-1.29</td>\n",
       "      <td>-1.31</td>\n",
       "      <td>-1.35</td>\n",
       "      <td>-1.37</td>\n",
       "      <td>2</td>\n",
       "    </tr>\n",
       "    <tr>\n",
       "      <th>1</th>\n",
       "      <td>1.23</td>\n",
       "      <td>0.91</td>\n",
       "      <td>-0.51</td>\n",
       "      <td>-0.77</td>\n",
       "      <td>-1.49</td>\n",
       "      <td>-1.99</td>\n",
       "      <td>-2.19</td>\n",
       "      <td>-2.24</td>\n",
       "      <td>-2.31</td>\n",
       "      <td>-2.34</td>\n",
       "      <td>-2.35</td>\n",
       "      <td>-2.36</td>\n",
       "      <td>-2.37</td>\n",
       "      <td>-2.39</td>\n",
       "      <td>-2.41</td>\n",
       "      <td>2</td>\n",
       "    </tr>\n",
       "    <tr>\n",
       "      <th>2</th>\n",
       "      <td>0.27</td>\n",
       "      <td>0.26</td>\n",
       "      <td>-0.22</td>\n",
       "      <td>-0.62</td>\n",
       "      <td>-0.81</td>\n",
       "      <td>-0.82</td>\n",
       "      <td>-1.12</td>\n",
       "      <td>-1.28</td>\n",
       "      <td>-1.29</td>\n",
       "      <td>-1.58</td>\n",
       "      <td>-1.75</td>\n",
       "      <td>-1.88</td>\n",
       "      <td>-1.96</td>\n",
       "      <td>-2.02</td>\n",
       "      <td>-2.05</td>\n",
       "      <td>2</td>\n",
       "    </tr>\n",
       "    <tr>\n",
       "      <th>3</th>\n",
       "      <td>1.46</td>\n",
       "      <td>1.45</td>\n",
       "      <td>0.90</td>\n",
       "      <td>0.89</td>\n",
       "      <td>0.81</td>\n",
       "      <td>0.51</td>\n",
       "      <td>0.22</td>\n",
       "      <td>0.03</td>\n",
       "      <td>0.02</td>\n",
       "      <td>-0.19</td>\n",
       "      <td>-0.39</td>\n",
       "      <td>-0.55</td>\n",
       "      <td>-0.64</td>\n",
       "      <td>-0.70</td>\n",
       "      <td>-0.72</td>\n",
       "      <td>0</td>\n",
       "    </tr>\n",
       "    <tr>\n",
       "      <th>4</th>\n",
       "      <td>3.85</td>\n",
       "      <td>2.27</td>\n",
       "      <td>-0.30</td>\n",
       "      <td>-0.30</td>\n",
       "      <td>-0.31</td>\n",
       "      <td>-0.32</td>\n",
       "      <td>-0.33</td>\n",
       "      <td>-0.34</td>\n",
       "      <td>-0.35</td>\n",
       "      <td>-0.36</td>\n",
       "      <td>-0.37</td>\n",
       "      <td>-0.38</td>\n",
       "      <td>-0.39</td>\n",
       "      <td>-0.40</td>\n",
       "      <td>-0.41</td>\n",
       "      <td>0</td>\n",
       "    </tr>\n",
       "    <tr>\n",
       "      <th>...</th>\n",
       "      <td>...</td>\n",
       "      <td>...</td>\n",
       "      <td>...</td>\n",
       "      <td>...</td>\n",
       "      <td>...</td>\n",
       "      <td>...</td>\n",
       "      <td>...</td>\n",
       "      <td>...</td>\n",
       "      <td>...</td>\n",
       "      <td>...</td>\n",
       "      <td>...</td>\n",
       "      <td>...</td>\n",
       "      <td>...</td>\n",
       "      <td>...</td>\n",
       "      <td>...</td>\n",
       "      <td>...</td>\n",
       "    </tr>\n",
       "    <tr>\n",
       "      <th>545</th>\n",
       "      <td>1.46</td>\n",
       "      <td>1.45</td>\n",
       "      <td>0.90</td>\n",
       "      <td>0.89</td>\n",
       "      <td>0.81</td>\n",
       "      <td>0.51</td>\n",
       "      <td>0.22</td>\n",
       "      <td>0.03</td>\n",
       "      <td>0.02</td>\n",
       "      <td>-0.19</td>\n",
       "      <td>-0.39</td>\n",
       "      <td>-0.55</td>\n",
       "      <td>-0.64</td>\n",
       "      <td>-0.70</td>\n",
       "      <td>-0.72</td>\n",
       "      <td>0</td>\n",
       "    </tr>\n",
       "    <tr>\n",
       "      <th>546</th>\n",
       "      <td>3.85</td>\n",
       "      <td>2.27</td>\n",
       "      <td>-0.30</td>\n",
       "      <td>-0.30</td>\n",
       "      <td>-0.31</td>\n",
       "      <td>-0.32</td>\n",
       "      <td>-0.33</td>\n",
       "      <td>-0.34</td>\n",
       "      <td>-0.35</td>\n",
       "      <td>-0.36</td>\n",
       "      <td>-0.37</td>\n",
       "      <td>-0.38</td>\n",
       "      <td>-0.39</td>\n",
       "      <td>-0.40</td>\n",
       "      <td>-0.41</td>\n",
       "      <td>0</td>\n",
       "    </tr>\n",
       "    <tr>\n",
       "      <th>547</th>\n",
       "      <td>1.25</td>\n",
       "      <td>1.24</td>\n",
       "      <td>1.23</td>\n",
       "      <td>1.22</td>\n",
       "      <td>0.80</td>\n",
       "      <td>0.68</td>\n",
       "      <td>0.65</td>\n",
       "      <td>0.40</td>\n",
       "      <td>0.33</td>\n",
       "      <td>0.08</td>\n",
       "      <td>0.01</td>\n",
       "      <td>-0.12</td>\n",
       "      <td>-0.17</td>\n",
       "      <td>-0.23</td>\n",
       "      <td>-0.27</td>\n",
       "      <td>0</td>\n",
       "    </tr>\n",
       "    <tr>\n",
       "      <th>548</th>\n",
       "      <td>0.10</td>\n",
       "      <td>0.09</td>\n",
       "      <td>0.08</td>\n",
       "      <td>0.07</td>\n",
       "      <td>0.06</td>\n",
       "      <td>0.05</td>\n",
       "      <td>0.04</td>\n",
       "      <td>-0.29</td>\n",
       "      <td>-0.33</td>\n",
       "      <td>-0.56</td>\n",
       "      <td>-0.67</td>\n",
       "      <td>-0.75</td>\n",
       "      <td>-0.83</td>\n",
       "      <td>-0.88</td>\n",
       "      <td>-0.90</td>\n",
       "      <td>0</td>\n",
       "    </tr>\n",
       "    <tr>\n",
       "      <th>549</th>\n",
       "      <td>0.32</td>\n",
       "      <td>-1.18</td>\n",
       "      <td>-1.74</td>\n",
       "      <td>-1.75</td>\n",
       "      <td>-1.76</td>\n",
       "      <td>-1.77</td>\n",
       "      <td>-1.94</td>\n",
       "      <td>-2.11</td>\n",
       "      <td>-2.15</td>\n",
       "      <td>-2.32</td>\n",
       "      <td>-2.33</td>\n",
       "      <td>-2.36</td>\n",
       "      <td>-2.37</td>\n",
       "      <td>-2.38</td>\n",
       "      <td>-2.39</td>\n",
       "      <td>2</td>\n",
       "    </tr>\n",
       "  </tbody>\n",
       "</table>\n",
       "<p>550 rows × 16 columns</p>\n",
       "</div>"
      ],
      "text/plain": [
       "       x1    x2    x3    x4    x5    x6    x7    x8    x9   x10   x11   x12  \\\n",
       "0   -0.29 -0.30 -0.95 -0.96 -0.97 -0.98 -0.99 -1.00 -1.08 -1.12 -1.24 -1.29   \n",
       "1    1.23  0.91 -0.51 -0.77 -1.49 -1.99 -2.19 -2.24 -2.31 -2.34 -2.35 -2.36   \n",
       "2    0.27  0.26 -0.22 -0.62 -0.81 -0.82 -1.12 -1.28 -1.29 -1.58 -1.75 -1.88   \n",
       "3    1.46  1.45  0.90  0.89  0.81  0.51  0.22  0.03  0.02 -0.19 -0.39 -0.55   \n",
       "4    3.85  2.27 -0.30 -0.30 -0.31 -0.32 -0.33 -0.34 -0.35 -0.36 -0.37 -0.38   \n",
       "..    ...   ...   ...   ...   ...   ...   ...   ...   ...   ...   ...   ...   \n",
       "545  1.46  1.45  0.90  0.89  0.81  0.51  0.22  0.03  0.02 -0.19 -0.39 -0.55   \n",
       "546  3.85  2.27 -0.30 -0.30 -0.31 -0.32 -0.33 -0.34 -0.35 -0.36 -0.37 -0.38   \n",
       "547  1.25  1.24  1.23  1.22  0.80  0.68  0.65  0.40  0.33  0.08  0.01 -0.12   \n",
       "548  0.10  0.09  0.08  0.07  0.06  0.05  0.04 -0.29 -0.33 -0.56 -0.67 -0.75   \n",
       "549  0.32 -1.18 -1.74 -1.75 -1.76 -1.77 -1.94 -2.11 -2.15 -2.32 -2.33 -2.36   \n",
       "\n",
       "      x13   x14   x15  Cluster_grp  \n",
       "0   -1.31 -1.35 -1.37            2  \n",
       "1   -2.37 -2.39 -2.41            2  \n",
       "2   -1.96 -2.02 -2.05            2  \n",
       "3   -0.64 -0.70 -0.72            0  \n",
       "4   -0.39 -0.40 -0.41            0  \n",
       "..    ...   ...   ...          ...  \n",
       "545 -0.64 -0.70 -0.72            0  \n",
       "546 -0.39 -0.40 -0.41            0  \n",
       "547 -0.17 -0.23 -0.27            0  \n",
       "548 -0.83 -0.88 -0.90            0  \n",
       "549 -2.37 -2.38 -2.39            2  \n",
       "\n",
       "[550 rows x 16 columns]"
      ]
     },
     "execution_count": 16,
     "metadata": {},
     "output_type": "execute_result"
    }
   ],
   "source": [
    "#Joining cluster group DF to our DF\n",
    "df2 = d.join(cluster)\n",
    "df2"
   ]
  },
  {
   "cell_type": "code",
   "execution_count": 17,
   "id": "d58e4e1d",
   "metadata": {},
   "outputs": [
    {
     "data": {
      "text/html": [
       "<div>\n",
       "<style scoped>\n",
       "    .dataframe tbody tr th:only-of-type {\n",
       "        vertical-align: middle;\n",
       "    }\n",
       "\n",
       "    .dataframe tbody tr th {\n",
       "        vertical-align: top;\n",
       "    }\n",
       "\n",
       "    .dataframe thead th {\n",
       "        text-align: right;\n",
       "    }\n",
       "</style>\n",
       "<table border=\"1\" class=\"dataframe\">\n",
       "  <thead>\n",
       "    <tr style=\"text-align: right;\">\n",
       "      <th>Cluster_grp</th>\n",
       "      <th>0</th>\n",
       "      <th>1</th>\n",
       "      <th>2</th>\n",
       "    </tr>\n",
       "  </thead>\n",
       "  <tbody>\n",
       "    <tr>\n",
       "      <th>x1</th>\n",
       "      <td>2.100039</td>\n",
       "      <td>2.942164</td>\n",
       "      <td>0.513704</td>\n",
       "    </tr>\n",
       "    <tr>\n",
       "      <th>x2</th>\n",
       "      <td>1.158346</td>\n",
       "      <td>2.321045</td>\n",
       "      <td>-0.213025</td>\n",
       "    </tr>\n",
       "    <tr>\n",
       "      <th>x3</th>\n",
       "      <td>0.691063</td>\n",
       "      <td>1.939478</td>\n",
       "      <td>-0.570185</td>\n",
       "    </tr>\n",
       "    <tr>\n",
       "      <th>x4</th>\n",
       "      <td>0.606102</td>\n",
       "      <td>1.840448</td>\n",
       "      <td>-0.711543</td>\n",
       "    </tr>\n",
       "    <tr>\n",
       "      <th>x5</th>\n",
       "      <td>0.416850</td>\n",
       "      <td>1.626791</td>\n",
       "      <td>-0.839012</td>\n",
       "    </tr>\n",
       "    <tr>\n",
       "      <th>x6</th>\n",
       "      <td>0.270039</td>\n",
       "      <td>1.497761</td>\n",
       "      <td>-0.957160</td>\n",
       "    </tr>\n",
       "    <tr>\n",
       "      <th>x7</th>\n",
       "      <td>0.090000</td>\n",
       "      <td>1.299552</td>\n",
       "      <td>-1.087840</td>\n",
       "    </tr>\n",
       "    <tr>\n",
       "      <th>x8</th>\n",
       "      <td>-0.065354</td>\n",
       "      <td>1.162836</td>\n",
       "      <td>-1.199136</td>\n",
       "    </tr>\n",
       "    <tr>\n",
       "      <th>x9</th>\n",
       "      <td>-0.147559</td>\n",
       "      <td>1.081045</td>\n",
       "      <td>-1.264568</td>\n",
       "    </tr>\n",
       "    <tr>\n",
       "      <th>x10</th>\n",
       "      <td>-0.367598</td>\n",
       "      <td>0.875821</td>\n",
       "      <td>-1.442840</td>\n",
       "    </tr>\n",
       "    <tr>\n",
       "      <th>x11</th>\n",
       "      <td>-0.534724</td>\n",
       "      <td>0.701343</td>\n",
       "      <td>-1.566358</td>\n",
       "    </tr>\n",
       "    <tr>\n",
       "      <th>x12</th>\n",
       "      <td>-0.644291</td>\n",
       "      <td>0.573881</td>\n",
       "      <td>-1.640556</td>\n",
       "    </tr>\n",
       "    <tr>\n",
       "      <th>x13</th>\n",
       "      <td>-0.706850</td>\n",
       "      <td>0.497761</td>\n",
       "      <td>-1.683519</td>\n",
       "    </tr>\n",
       "    <tr>\n",
       "      <th>x14</th>\n",
       "      <td>-0.754173</td>\n",
       "      <td>0.445000</td>\n",
       "      <td>-1.715309</td>\n",
       "    </tr>\n",
       "    <tr>\n",
       "      <th>x15</th>\n",
       "      <td>-0.785591</td>\n",
       "      <td>0.408582</td>\n",
       "      <td>-1.740617</td>\n",
       "    </tr>\n",
       "  </tbody>\n",
       "</table>\n",
       "</div>"
      ],
      "text/plain": [
       "Cluster_grp         0         1         2\n",
       "x1           2.100039  2.942164  0.513704\n",
       "x2           1.158346  2.321045 -0.213025\n",
       "x3           0.691063  1.939478 -0.570185\n",
       "x4           0.606102  1.840448 -0.711543\n",
       "x5           0.416850  1.626791 -0.839012\n",
       "x6           0.270039  1.497761 -0.957160\n",
       "x7           0.090000  1.299552 -1.087840\n",
       "x8          -0.065354  1.162836 -1.199136\n",
       "x9          -0.147559  1.081045 -1.264568\n",
       "x10         -0.367598  0.875821 -1.442840\n",
       "x11         -0.534724  0.701343 -1.566358\n",
       "x12         -0.644291  0.573881 -1.640556\n",
       "x13         -0.706850  0.497761 -1.683519\n",
       "x14         -0.754173  0.445000 -1.715309\n",
       "x15         -0.785591  0.408582 -1.740617"
      ]
     },
     "execution_count": 17,
     "metadata": {},
     "output_type": "execute_result"
    }
   ],
   "source": [
    "#Extracting mean of each cluster group\n",
    "cluster_grp_mean = df2.groupby('Cluster_grp').mean().T\n",
    "cluster_grp_mean"
   ]
  },
  {
   "cell_type": "code",
   "execution_count": 18,
   "id": "422dc749",
   "metadata": {},
   "outputs": [
    {
     "data": {
      "text/plain": [
       "array([[2.94216418],\n",
       "       [2.32104478],\n",
       "       [1.93947761],\n",
       "       [1.84044776],\n",
       "       [1.62679104],\n",
       "       [1.49776119],\n",
       "       [1.29955224],\n",
       "       [1.16283582],\n",
       "       [1.08104478],\n",
       "       [0.8758209 ],\n",
       "       [0.70134328],\n",
       "       [0.5738806 ],\n",
       "       [0.49776119],\n",
       "       [0.445     ],\n",
       "       [0.40858209]])"
      ]
     },
     "execution_count": 18,
     "metadata": {},
     "output_type": "execute_result"
    }
   ],
   "source": [
    "#Dividing data to X and y\n",
    "X = np.arange(1,16,1).reshape(15,1)\n",
    "y = cluster_grp_mean[1].values.reshape(15,1)\n",
    "y"
   ]
  },
  {
   "cell_type": "code",
   "execution_count": 19,
   "id": "2865b0bc",
   "metadata": {},
   "outputs": [],
   "source": [
    "from sklearn.linear_model import LinearRegression\n",
    "from sklearn.preprocessing import PolynomialFeatures"
   ]
  },
  {
   "cell_type": "markdown",
   "id": "5ff1293d",
   "metadata": {},
   "source": [
    "### Fitting Linear Regression"
   ]
  },
  {
   "cell_type": "code",
   "execution_count": 20,
   "id": "a47d6f58",
   "metadata": {},
   "outputs": [
    {
     "data": {
      "text/plain": [
       "LinearRegression()"
      ]
     },
     "execution_count": 20,
     "metadata": {},
     "output_type": "execute_result"
    }
   ],
   "source": [
    "lm = LinearRegression()\n",
    "lm.fit(X,y)"
   ]
  },
  {
   "cell_type": "markdown",
   "id": "9a6b9da8",
   "metadata": {},
   "source": [
    "### Fitting Polynomial Regression"
   ]
  },
  {
   "cell_type": "code",
   "execution_count": 61,
   "id": "43133177",
   "metadata": {},
   "outputs": [
    {
     "data": {
      "text/plain": [
       "LinearRegression()"
      ]
     },
     "execution_count": 61,
     "metadata": {},
     "output_type": "execute_result"
    }
   ],
   "source": [
    "poly = PolynomialFeatures(degree = 4)\n",
    "x_poly = poly.fit_transform(X)\n",
    "\n",
    "#poly.fit(x_poly,y)\n",
    "lm2 = LinearRegression()\n",
    "lm2.fit(x_poly, y)"
   ]
  },
  {
   "cell_type": "code",
   "execution_count": 50,
   "id": "78603b49",
   "metadata": {
    "scrolled": true
   },
   "outputs": [
    {
     "data": {
      "image/png": "[encoded data removed]",
      "text/plain": [
       "<Figure size 432x288 with 1 Axes>"
      ]
     },
     "metadata": {
      "needs_background": "light"
     },
     "output_type": "display_data"
    }
   ],
   "source": [
    "plt.scatter(X,y,color='b')\n",
    "plt.plot(X , lm2.predict(poly.fit_transform(X)),color = 'r')\n",
    "plt.title('Polynomial Regression')\n",
    "plt.xlabel('Cohort')\n",
    "plt.ylabel('theta')\n",
    "plt.tight_layout()"
   ]
  },
  {
   "cell_type": "code",
   "execution_count": 33,
   "id": "fc22e78b",
   "metadata": {},
   "outputs": [],
   "source": [
    "def cluster(cluster_no,degree):\n",
    "    X = np.arange(1,16,1).reshape(15,1)\n",
    "    y = cluster_grp_mean[cluster_no].values.reshape(15,1)\n",
    "\n",
    "    lm = LinearRegression()\n",
    "    lm.fit(X,y)\n",
    "\n",
    "    poly = PolynomialFeatures(degree = degree)\n",
    "    x_poly = poly.fit_transform(X)\n",
    "\n",
    "    poly.fit(x_poly,y)\n",
    "    lm2 = LinearRegression()\n",
    "    lm2.fit(x_poly, y)\n",
    "\n",
    "    plt.scatter(X,y,color='b')\n",
    "    plt.plot(X , lm2.predict(poly.fit_transform(X)),color = 'r')\n",
    "    plt.title('Polynomial Regression')\n",
    "    plt.xlabel('Cohort')\n",
    "    plt.ylabel('theta')\n",
    "    plt.tight_layout()\n",
    "    "
   ]
  },
  {
   "cell_type": "code",
   "execution_count": 70,
   "id": "a4674962",
   "metadata": {},
   "outputs": [
    {
     "data": {
      "image/png": "[encoded data removed]",
      "text/plain": [
       "<Figure size 432x288 with 1 Axes>"
      ]
     },
     "metadata": {
      "needs_background": "light"
     },
     "output_type": "display_data"
    }
   ],
   "source": [
    "cluster(0,4)\n",
    "cluster(1,4)\n",
    "cluster(2,4)"
   ]
  },
  {
   "cell_type": "code",
   "execution_count": 71,
   "id": "6c0b5bb2",
   "metadata": {},
   "outputs": [
    {
     "data": {
      "image/png": "[encoded data removed]",
      "text/plain": [
       "<Figure size 432x288 with 1 Axes>"
      ]
     },
     "metadata": {
      "needs_background": "light"
     },
     "output_type": "display_data"
    }
   ],
   "source": [
    "cluster(0,4)"
   ]
  },
  {
   "cell_type": "code",
   "execution_count": 66,
   "id": "769a07ae",
   "metadata": {
    "scrolled": true
   },
   "outputs": [
    {
     "data": {
      "image/png": "[encoded data removed]",
      "text/plain": [
       "<Figure size 432x288 with 1 Axes>"
      ]
     },
     "metadata": {
      "needs_background": "light"
     },
     "output_type": "display_data"
    }
   ],
   "source": [
    "cluster(1,4)"
   ]
  },
  {
   "cell_type": "code",
   "execution_count": 67,
   "id": "d81fdc18",
   "metadata": {},
   "outputs": [
    {
     "data": {
      "image/png": "[encoded data removed]",
      "text/plain": [
       "<Figure size 432x288 with 1 Axes>"
      ]
     },
     "metadata": {
      "needs_background": "light"
     },
     "output_type": "display_data"
    }
   ],
   "source": [
    "cluster(2,4)"
   ]
  },
  {
   "cell_type": "code",
   "execution_count": null,
   "id": "372229e8",
   "metadata": {},
   "outputs": [],
   "source": []
  }
 ],
 "metadata": {
  "kernelspec": {
   "display_name": "Python 3",
   "language": "python",
   "name": "python3"
  },
  "language_info": {
   "codemirror_mode": {
    "name": "ipython",
    "version": 3
   },
   "file_extension": ".py",
   "mimetype": "text/x-python",
   "name": "python",
   "nbconvert_exporter": "python",
   "pygments_lexer": "ipython3",
   "version": "3.8.8"
  }
 },
 "nbformat": 4,
 "nbformat_minor": 5
}
