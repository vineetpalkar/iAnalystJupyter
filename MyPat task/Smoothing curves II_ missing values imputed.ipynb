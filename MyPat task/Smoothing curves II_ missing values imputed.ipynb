{
 "cells": [
  {
   "cell_type": "code",
   "execution_count": 23,
   "id": "5288342c",
   "metadata": {},
   "outputs": [],
   "source": [
    "import os\n",
    "import pandas as pd\n",
    "import numpy as np\n",
    "import matplotlib.pyplot as plt"
   ]
  },
  {
   "cell_type": "code",
   "execution_count": 24,
   "id": "3c99fdc9",
   "metadata": {},
   "outputs": [
    {
     "name": "stdout",
     "output_type": "stream",
     "text": [
      "                Goal Levels    x1    x2    x3    x4    x5    x6    x7    x8  \\\n",
      "0  5ace20379fe7b01d5806bec9 -0.30 -0.30 -1.53 -2.27 -1.98 -1.57 -1.26 -1.00   \n",
      "1  5ace20379fe7b01d5806bebb  1.23  0.91 -0.51 -0.77 -1.49 -1.99 -2.19 -2.24   \n",
      "2  5ace203f9fe7b01d5806c144 -0.05  0.26 -0.22 -0.62 -1.05 -0.82 -1.12 -1.29   \n",
      "3  5ace203f9fe7b01d5806c145 -0.05  1.45  0.24  0.89  0.81  0.51  0.22  0.03   \n",
      "4  5ace20349fe7b01d5806bdcc   NaN  2.67  0.55  1.05  1.20  1.01  0.48  0.71   \n",
      "\n",
      "     x9   x10   x11   x12   x13   x14   x15  \n",
      "0 -1.08 -1.12 -1.24 -1.29 -1.31 -1.35 -1.37  \n",
      "1 -2.31 -2.41 -2.38 -2.38 -2.37 -2.39 -2.41  \n",
      "2 -1.29 -1.58 -1.75 -1.88 -1.96 -2.02 -2.05  \n",
      "3  0.02 -0.19 -0.39 -0.55 -0.64 -0.70 -0.72  \n",
      "4  0.66  0.40  0.28  0.21  0.21  0.19  0.19  \n",
      "<class 'pandas.core.frame.DataFrame'>\n",
      "RangeIndex: 648 entries, 0 to 647\n",
      "Data columns (total 16 columns):\n",
      " #   Column       Non-Null Count  Dtype  \n",
      "---  ------       --------------  -----  \n",
      " 0   Goal Levels  648 non-null    object \n",
      " 1   x1           553 non-null    float64\n",
      " 2   x2           621 non-null    float64\n",
      " 3   x3           636 non-null    float64\n",
      " 4   x4           644 non-null    float64\n",
      " 5   x5           646 non-null    float64\n",
      " 6   x6           647 non-null    float64\n",
      " 7   x7           647 non-null    float64\n",
      " 8   x8           648 non-null    float64\n",
      " 9   x9           648 non-null    float64\n",
      " 10  x10          648 non-null    float64\n",
      " 11  x11          648 non-null    float64\n",
      " 12  x12          648 non-null    float64\n",
      " 13  x13          648 non-null    float64\n",
      " 14  x14          648 non-null    float64\n",
      " 15  x15          648 non-null    float64\n",
      "dtypes: float64(15), object(1)\n",
      "memory usage: 81.1+ KB\n",
      "None\n",
      "               x1          x2          x3          x4          x5          x6  \\\n",
      "count  553.000000  621.000000  636.000000  644.000000  646.000000  647.000000   \n",
      "mean     1.150127    0.491546    0.079623    0.199860    0.066858    0.033679   \n",
      "std      2.292796    1.706384    1.402894    1.382101    1.267742    1.206579   \n",
      "min     -4.000000   -4.000000   -4.000000   -4.000000   -4.000000   -4.000000   \n",
      "25%     -0.200000   -0.550000   -0.772500   -0.562500   -0.637500   -0.690000   \n",
      "50%      1.700000    0.560000    0.080000    0.285000    0.130000    0.090000   \n",
      "75%      3.030000    1.700000    1.022500    1.122500    0.947500    0.830000   \n",
      "max      4.000000    4.000000    4.000000    4.000000    3.410000    3.220000   \n",
      "\n",
      "               x7          x8          x9         x10         x11         x12  \\\n",
      "count  647.000000  648.000000  648.000000  648.000000  648.000000  648.000000   \n",
      "mean    -0.108547   -0.238472   -0.302145   -0.489059   -0.637392   -0.736080   \n",
      "std      1.158866    1.137292    1.129045    1.107643    1.094798    1.081579   \n",
      "min     -4.000000   -4.000000   -4.000000   -4.000000   -4.000000   -4.000000   \n",
      "25%     -0.750000   -0.892500   -0.930000   -1.140000   -1.270000   -1.330000   \n",
      "50%     -0.050000   -0.200000   -0.285000   -0.510000   -0.640000   -0.745000   \n",
      "75%      0.620000    0.490000    0.400000    0.200000    0.010000   -0.110000   \n",
      "max      3.190000    3.170000    3.210000    3.230000    3.210000    3.140000   \n",
      "\n",
      "              x13         x14         x15  \n",
      "count  648.000000  648.000000  648.000000  \n",
      "mean    -0.794846   -0.836204   -0.862793  \n",
      "std      1.074110    1.070627    1.066161  \n",
      "min     -4.000000   -4.000000   -4.000000  \n",
      "25%     -1.402500   -1.450000   -1.480000  \n",
      "50%     -0.805000   -0.850000   -0.875000  \n",
      "75%     -0.170000   -0.210000   -0.250000  \n",
      "max      3.090000    3.070000    3.070000  \n",
      "Goal Levels     0\n",
      "x1             95\n",
      "x2             27\n",
      "x3             12\n",
      "x4              4\n",
      "x5              2\n",
      "x6              1\n",
      "x7              1\n",
      "x8              0\n",
      "x9              0\n",
      "x10             0\n",
      "x11             0\n",
      "x12             0\n",
      "x13             0\n",
      "x14             0\n",
      "x15             0\n",
      "dtype: int64\n"
     ]
    }
   ],
   "source": [
    "os.chdir(\"D:/iAnalyst/MyPat task\")\n",
    "\n",
    "df= pd.read_csv(\"Theta.csv\")\n",
    "\n",
    "data= df.copy()\n",
    "\n",
    "print(data.head())\n",
    "\n",
    "print(data.info())\n",
    "\n",
    "print(data.describe())\n",
    "\n",
    "print(data.isnull().sum())"
   ]
  },
  {
   "cell_type": "markdown",
   "id": "48ecd21f",
   "metadata": {},
   "source": [
    "### refer for dealing with missing data \n",
    "https://www.analyticsvidhya.com/blog/2021/05/dealing-with-missing-values-in-python-a-complete-guide/"
   ]
  },
  {
   "cell_type": "code",
   "execution_count": 25,
   "id": "3f962783",
   "metadata": {},
   "outputs": [
    {
     "name": "stdout",
     "output_type": "stream",
     "text": [
      "Goal Levels    0\n",
      "x1             0\n",
      "x2             0\n",
      "x3             0\n",
      "x4             0\n",
      "x5             0\n",
      "x6             0\n",
      "x7             0\n",
      "x8             0\n",
      "x9             0\n",
      "x10            0\n",
      "x11            0\n",
      "x12            0\n",
      "x13            0\n",
      "x14            0\n",
      "x15            0\n",
      "dtype: int64\n"
     ]
    }
   ],
   "source": [
    "newdata = data\n",
    "var=data.columns[1:]\n",
    "for i in var:\n",
    "    newdata[i]=newdata[i].fillna(newdata[i].mean())\n",
    "print(newdata.isnull().sum())"
   ]
  },
  {
   "cell_type": "code",
   "execution_count": 26,
   "id": "c7dc4038",
   "metadata": {},
   "outputs": [
    {
     "data": {
      "text/plain": [
       "True"
      ]
     },
     "execution_count": 26,
     "metadata": {},
     "output_type": "execute_result"
    }
   ],
   "source": [
    "#r1= newdata.iloc[0,1:]  #taking row 1\n",
    "#print(r1)\n",
    "#plt.plot(r1)\n",
    "\n",
    "d=newdata.iloc[5,1:]  #Take any random row. Here 5th`\n",
    "\n",
    "#print(d.values)  \n",
    "#print(np.diff(d.values))  #differences between the values. x2-x1\n",
    "\n",
    "d1= np.diff(d.values)   #Ideally all the values must be 0 or negative.\n",
    "any(d1>0)\n",
    "\n",
    "#print(d1[d1>0])    #Finding the values which needs change"
   ]
  },
  {
   "cell_type": "code",
   "execution_count": 27,
   "id": "b8a405db",
   "metadata": {},
   "outputs": [
    {
     "data": {
      "text/plain": [
       "array([11,  8,  7,  6], dtype=int64)"
      ]
     },
     "execution_count": 27,
     "metadata": {},
     "output_type": "execute_result"
    }
   ],
   "source": [
    "pos= np.where(d1>0)  #Finding their position. o\\p is an array\n",
    "#pos\n",
    "revpos= pos[0][::-1]  #reversing the array\n",
    "revpos"
   ]
  },
  {
   "cell_type": "code",
   "execution_count": 33,
   "id": "bb5702d9",
   "metadata": {},
   "outputs": [
    {
     "name": "stdout",
     "output_type": "stream",
     "text": [
      "[ 85 482 491 367 338 150 261  65 282  28 344 103  29 310 251  54 310  95\n",
      " 454 252 508 217  87 447 380 348 426 194 154 396 122 133  87 267 228 456\n",
      " 170  55 142 409 246 352 133  93 455 253 452 507 342 485 481  67 414 133\n",
      "  96 356 360 282 200   9  91 521  85 413 492 176 314 173 193 515 105 232\n",
      " 468 431 450 317 386 146 367  21 548 493 287 290  94 316 499 373 531  38\n",
      " 384 213 521 206 100 273 404 339   3 326 411 263  10 159 529 337 142  71\n",
      " 404  92  52 135 200 249 380 459 210  46 306 453 274 536 537 135 241 543\n",
      " 210 117 217   7 404 254 122 294 297 199 322 186 148 482 354 329 118 470\n",
      "  86 433 251 302 268 420 115 422  34 138 325  47 417 174 469 319   1 390\n",
      "   7 295 331 207 539 315  84 347 385 159 279 478 461 386 109 137 376 240\n",
      " 329 532  91 515 215 247 490  54  72 522 195 175 451 232 265 185 293 125\n",
      " 195 307 103 155 379 209 119  27 306 452 498 360 543 186 444 463 339 478\n",
      " 398 271  22  42 507 398 275  10 102 440 482 276 318 505   4 251 333 343\n",
      " 135  23 327  76 367  52 420 273 191 338 514 148 233 137  12 543 171 190\n",
      " 341 378  60 271 251 392  87   2 151 169 199 104 216 357 346 353 180 455\n",
      " 476 512 161 531 372  92 318 316 230 515 112 259 472 193  65 292 157  32\n",
      " 100 475  31 336  24 299 144 480 242 246  67 377 296 337 318  60 456 304\n",
      " 122 164 439 101  86  13   1 242 167 482 394 354 292 109 510 441 496 103\n",
      " 442 258 135 272 420  22 409 285 162 122 458 444  17 437 134 507 258 185\n",
      "   4 512 338 487 124 226 398  74 223 287  21 484 465 226 509 445 231 214\n",
      "  18   0 237 373 148 176 434 431  79 328 295 118 390 250 342 134 346 288\n",
      " 437 308  49 315  36 212 158 119  90 463  88 520  10 380 242  37  29 395\n",
      " 263 440 301 306 271 218 309  66  39 530 249  63 406 343  60  67 324 399\n",
      " 326 119 225  30 516 178 193 461 375 512 128 384 423 525 248 359 332 134\n",
      " 280 128 266  22 128 281 291  19 135 252 292   7  50  76 419 413 370 204\n",
      " 526 237 326  22 492 388 455 169 487 441 230 229   8 244 342 108  48 501\n",
      " 455  41 388 275 170 285 190 329 197  53 377 188   6  92 356  45 434 537\n",
      "  88 111 486 403 481 529 164 468 405 118 333 231 413 378 507 190 502 387\n",
      "  98 250 423 289 302  13 379  97 210 251  12  54  51  27 376 331  93 461\n",
      " 513 344 239 449 375 446 194 253 364 186 391 367 364 159 496 405 221 448\n",
      " 364 296 415 218  13 537 131 230 252 506]\n"
     ]
    }
   ],
   "source": [
    "#Take any random rows and smooth them.\n",
    "\n",
    "ran= np.random.randint(0,550,550)\n",
    "print(ran)\n",
    "\n",
    "empty=pd.DataFrame()\n",
    "\n",
    "for num in ran:\n",
    "    d=newdata.iloc[num,1:]\n",
    "    d1= np.diff(d.values)\n",
    "\n",
    "    while any(d1>0):\n",
    "        \n",
    "        d1[d1>0] \n",
    "        pos= np.where(d1>0)\n",
    "        revpos= pos[0][::-1]\n",
    "        for i in revpos:\n",
    "            if d[i+1]<3.95 and d[i+1]>=-4:\n",
    "                d[i]=d[i+1]+0.05\n",
    "                \n",
    "            else:\n",
    "                d[i]= d[i+1]\n",
    "                \n",
    "        d1= np.diff(d.values)\n",
    "        #print(pos)\n",
    "       \n",
    "    #plt.plot(d)\n",
    "    empty=empty.append(d)\n",
    "   "
   ]
  },
  {
   "cell_type": "code",
   "execution_count": null,
   "id": "9cbeb450",
   "metadata": {},
   "outputs": [],
   "source": []
  },
  {
   "cell_type": "code",
   "execution_count": null,
   "id": "bffcac02",
   "metadata": {},
   "outputs": [],
   "source": []
  },
  {
   "cell_type": "code",
   "execution_count": null,
   "id": "001a8bdd",
   "metadata": {},
   "outputs": [],
   "source": []
  },
  {
   "cell_type": "code",
   "execution_count": null,
   "id": "49cd2bd4",
   "metadata": {},
   "outputs": [],
   "source": []
  },
  {
   "cell_type": "code",
   "execution_count": null,
   "id": "274e168d",
   "metadata": {},
   "outputs": [],
   "source": []
  }
 ],
 "metadata": {
  "kernelspec": {
   "display_name": "Python 3",
   "language": "python",
   "name": "python3"
  },
  "language_info": {
   "codemirror_mode": {
    "name": "ipython",
    "version": 3
   },
   "file_extension": ".py",
   "mimetype": "text/x-python",
   "name": "python",
   "nbconvert_exporter": "python",
   "pygments_lexer": "ipython3",
   "version": "3.8.8"
  }
 },
 "nbformat": 4,
 "nbformat_minor": 5
}
