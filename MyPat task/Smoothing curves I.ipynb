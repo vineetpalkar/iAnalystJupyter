{
 "cells": [
  {
   "cell_type": "markdown",
   "id": "395c40a3",
   "metadata": {},
   "source": [
    "# Smoothing"
   ]
  },
  {
   "cell_type": "markdown",
   "id": "3f80b1cd",
   "metadata": {},
   "source": [
    "#data is in between 4 and -4. Columns data is 15, rows data is 550\n",
    "columns= x1= top10\n",
    "x2= top20\n",
    "x3= top50 and so on. it is assumed that the top10 students will be able to solve the qs better than the rest. Thus removing the anamolies is necessary as many students may answer by fluke and get their answers right."
   ]
  },
  {
   "cell_type": "code",
   "execution_count": 1,
   "id": "f93658fd",
   "metadata": {},
   "outputs": [],
   "source": [
    "import os\n",
    "import pandas as pd\n",
    "import numpy as np\n",
    "import matplotlib.pyplot as plt"
   ]
  },
  {
   "cell_type": "code",
   "execution_count": 2,
   "id": "a126e762",
   "metadata": {},
   "outputs": [],
   "source": [
    "os.chdir(\"D:/iAnalyst/MyPat task\")"
   ]
  },
  {
   "cell_type": "code",
   "execution_count": 3,
   "id": "67659038",
   "metadata": {},
   "outputs": [],
   "source": [
    "df= pd.read_csv(\"Theta.csv\")"
   ]
  },
  {
   "cell_type": "code",
   "execution_count": 4,
   "id": "c10df5e5",
   "metadata": {},
   "outputs": [],
   "source": [
    "data= df.copy()"
   ]
  },
  {
   "cell_type": "code",
   "execution_count": 5,
   "id": "a7216f35",
   "metadata": {},
   "outputs": [
    {
     "data": {
      "text/html": [
       "<div>\n",
       "<style scoped>\n",
       "    .dataframe tbody tr th:only-of-type {\n",
       "        vertical-align: middle;\n",
       "    }\n",
       "\n",
       "    .dataframe tbody tr th {\n",
       "        vertical-align: top;\n",
       "    }\n",
       "\n",
       "    .dataframe thead th {\n",
       "        text-align: right;\n",
       "    }\n",
       "</style>\n",
       "<table border=\"1\" class=\"dataframe\">\n",
       "  <thead>\n",
       "    <tr style=\"text-align: right;\">\n",
       "      <th></th>\n",
       "      <th>Goal Levels</th>\n",
       "      <th>x1</th>\n",
       "      <th>x2</th>\n",
       "      <th>x3</th>\n",
       "      <th>x4</th>\n",
       "      <th>x5</th>\n",
       "      <th>x6</th>\n",
       "      <th>x7</th>\n",
       "      <th>x8</th>\n",
       "      <th>x9</th>\n",
       "      <th>x10</th>\n",
       "      <th>x11</th>\n",
       "      <th>x12</th>\n",
       "      <th>x13</th>\n",
       "      <th>x14</th>\n",
       "      <th>x15</th>\n",
       "    </tr>\n",
       "  </thead>\n",
       "  <tbody>\n",
       "    <tr>\n",
       "      <th>0</th>\n",
       "      <td>5ace20379fe7b01d5806bec9</td>\n",
       "      <td>-0.30</td>\n",
       "      <td>-0.30</td>\n",
       "      <td>-1.53</td>\n",
       "      <td>-2.27</td>\n",
       "      <td>-1.98</td>\n",
       "      <td>-1.57</td>\n",
       "      <td>-1.26</td>\n",
       "      <td>-1.00</td>\n",
       "      <td>-1.08</td>\n",
       "      <td>-1.12</td>\n",
       "      <td>-1.24</td>\n",
       "      <td>-1.29</td>\n",
       "      <td>-1.31</td>\n",
       "      <td>-1.35</td>\n",
       "      <td>-1.37</td>\n",
       "    </tr>\n",
       "    <tr>\n",
       "      <th>1</th>\n",
       "      <td>5ace20379fe7b01d5806bebb</td>\n",
       "      <td>1.23</td>\n",
       "      <td>0.91</td>\n",
       "      <td>-0.51</td>\n",
       "      <td>-0.77</td>\n",
       "      <td>-1.49</td>\n",
       "      <td>-1.99</td>\n",
       "      <td>-2.19</td>\n",
       "      <td>-2.24</td>\n",
       "      <td>-2.31</td>\n",
       "      <td>-2.41</td>\n",
       "      <td>-2.38</td>\n",
       "      <td>-2.38</td>\n",
       "      <td>-2.37</td>\n",
       "      <td>-2.39</td>\n",
       "      <td>-2.41</td>\n",
       "    </tr>\n",
       "    <tr>\n",
       "      <th>2</th>\n",
       "      <td>5ace203f9fe7b01d5806c144</td>\n",
       "      <td>-0.05</td>\n",
       "      <td>0.26</td>\n",
       "      <td>-0.22</td>\n",
       "      <td>-0.62</td>\n",
       "      <td>-1.05</td>\n",
       "      <td>-0.82</td>\n",
       "      <td>-1.12</td>\n",
       "      <td>-1.29</td>\n",
       "      <td>-1.29</td>\n",
       "      <td>-1.58</td>\n",
       "      <td>-1.75</td>\n",
       "      <td>-1.88</td>\n",
       "      <td>-1.96</td>\n",
       "      <td>-2.02</td>\n",
       "      <td>-2.05</td>\n",
       "    </tr>\n",
       "    <tr>\n",
       "      <th>3</th>\n",
       "      <td>5ace203f9fe7b01d5806c145</td>\n",
       "      <td>-0.05</td>\n",
       "      <td>1.45</td>\n",
       "      <td>0.24</td>\n",
       "      <td>0.89</td>\n",
       "      <td>0.81</td>\n",
       "      <td>0.51</td>\n",
       "      <td>0.22</td>\n",
       "      <td>0.03</td>\n",
       "      <td>0.02</td>\n",
       "      <td>-0.19</td>\n",
       "      <td>-0.39</td>\n",
       "      <td>-0.55</td>\n",
       "      <td>-0.64</td>\n",
       "      <td>-0.70</td>\n",
       "      <td>-0.72</td>\n",
       "    </tr>\n",
       "    <tr>\n",
       "      <th>4</th>\n",
       "      <td>5ace20349fe7b01d5806bdcc</td>\n",
       "      <td>NaN</td>\n",
       "      <td>2.67</td>\n",
       "      <td>0.55</td>\n",
       "      <td>1.05</td>\n",
       "      <td>1.20</td>\n",
       "      <td>1.01</td>\n",
       "      <td>0.48</td>\n",
       "      <td>0.71</td>\n",
       "      <td>0.66</td>\n",
       "      <td>0.40</td>\n",
       "      <td>0.28</td>\n",
       "      <td>0.21</td>\n",
       "      <td>0.21</td>\n",
       "      <td>0.19</td>\n",
       "      <td>0.19</td>\n",
       "    </tr>\n",
       "  </tbody>\n",
       "</table>\n",
       "</div>"
      ],
      "text/plain": [
       "                Goal Levels    x1    x2    x3    x4    x5    x6    x7    x8  \\\n",
       "0  5ace20379fe7b01d5806bec9 -0.30 -0.30 -1.53 -2.27 -1.98 -1.57 -1.26 -1.00   \n",
       "1  5ace20379fe7b01d5806bebb  1.23  0.91 -0.51 -0.77 -1.49 -1.99 -2.19 -2.24   \n",
       "2  5ace203f9fe7b01d5806c144 -0.05  0.26 -0.22 -0.62 -1.05 -0.82 -1.12 -1.29   \n",
       "3  5ace203f9fe7b01d5806c145 -0.05  1.45  0.24  0.89  0.81  0.51  0.22  0.03   \n",
       "4  5ace20349fe7b01d5806bdcc   NaN  2.67  0.55  1.05  1.20  1.01  0.48  0.71   \n",
       "\n",
       "     x9   x10   x11   x12   x13   x14   x15  \n",
       "0 -1.08 -1.12 -1.24 -1.29 -1.31 -1.35 -1.37  \n",
       "1 -2.31 -2.41 -2.38 -2.38 -2.37 -2.39 -2.41  \n",
       "2 -1.29 -1.58 -1.75 -1.88 -1.96 -2.02 -2.05  \n",
       "3  0.02 -0.19 -0.39 -0.55 -0.64 -0.70 -0.72  \n",
       "4  0.66  0.40  0.28  0.21  0.21  0.19  0.19  "
      ]
     },
     "execution_count": 5,
     "metadata": {},
     "output_type": "execute_result"
    }
   ],
   "source": [
    "data.head()"
   ]
  },
  {
   "cell_type": "code",
   "execution_count": 6,
   "id": "fe72efb8",
   "metadata": {},
   "outputs": [
    {
     "data": {
      "text/html": [
       "<div>\n",
       "<style scoped>\n",
       "    .dataframe tbody tr th:only-of-type {\n",
       "        vertical-align: middle;\n",
       "    }\n",
       "\n",
       "    .dataframe tbody tr th {\n",
       "        vertical-align: top;\n",
       "    }\n",
       "\n",
       "    .dataframe thead th {\n",
       "        text-align: right;\n",
       "    }\n",
       "</style>\n",
       "<table border=\"1\" class=\"dataframe\">\n",
       "  <thead>\n",
       "    <tr style=\"text-align: right;\">\n",
       "      <th></th>\n",
       "      <th>Goal Levels</th>\n",
       "      <th>x1</th>\n",
       "      <th>x2</th>\n",
       "      <th>x3</th>\n",
       "      <th>x4</th>\n",
       "      <th>x5</th>\n",
       "      <th>x6</th>\n",
       "      <th>x7</th>\n",
       "      <th>x8</th>\n",
       "      <th>x9</th>\n",
       "      <th>x10</th>\n",
       "      <th>x11</th>\n",
       "      <th>x12</th>\n",
       "      <th>x13</th>\n",
       "      <th>x14</th>\n",
       "      <th>x15</th>\n",
       "    </tr>\n",
       "  </thead>\n",
       "  <tbody>\n",
       "    <tr>\n",
       "      <th>643</th>\n",
       "      <td>5ace20369fe7b01d5806be48</td>\n",
       "      <td>NaN</td>\n",
       "      <td>-1.60</td>\n",
       "      <td>-1.60</td>\n",
       "      <td>-0.63</td>\n",
       "      <td>-1.98</td>\n",
       "      <td>-1.53</td>\n",
       "      <td>-1.61</td>\n",
       "      <td>-1.44</td>\n",
       "      <td>-1.14</td>\n",
       "      <td>-1.40</td>\n",
       "      <td>-1.73</td>\n",
       "      <td>-1.81</td>\n",
       "      <td>-1.88</td>\n",
       "      <td>-1.89</td>\n",
       "      <td>-1.90</td>\n",
       "    </tr>\n",
       "    <tr>\n",
       "      <th>644</th>\n",
       "      <td>5ace20369fe7b01d5806be45</td>\n",
       "      <td>3.85</td>\n",
       "      <td>2.27</td>\n",
       "      <td>-0.60</td>\n",
       "      <td>-0.52</td>\n",
       "      <td>-0.67</td>\n",
       "      <td>-0.52</td>\n",
       "      <td>-0.63</td>\n",
       "      <td>-0.63</td>\n",
       "      <td>-0.50</td>\n",
       "      <td>-0.53</td>\n",
       "      <td>-0.50</td>\n",
       "      <td>-0.44</td>\n",
       "      <td>-0.42</td>\n",
       "      <td>-0.41</td>\n",
       "      <td>-0.41</td>\n",
       "    </tr>\n",
       "    <tr>\n",
       "      <th>645</th>\n",
       "      <td>5ace20369fe7b01d5806be47</td>\n",
       "      <td>-1.33</td>\n",
       "      <td>-0.11</td>\n",
       "      <td>0.72</td>\n",
       "      <td>1.22</td>\n",
       "      <td>0.80</td>\n",
       "      <td>0.68</td>\n",
       "      <td>0.65</td>\n",
       "      <td>0.40</td>\n",
       "      <td>0.33</td>\n",
       "      <td>0.08</td>\n",
       "      <td>0.01</td>\n",
       "      <td>-0.12</td>\n",
       "      <td>-0.17</td>\n",
       "      <td>-0.23</td>\n",
       "      <td>-0.27</td>\n",
       "    </tr>\n",
       "    <tr>\n",
       "      <th>646</th>\n",
       "      <td>5ace20369fe7b01d5806be44</td>\n",
       "      <td>-2.33</td>\n",
       "      <td>-1.25</td>\n",
       "      <td>-0.63</td>\n",
       "      <td>-0.23</td>\n",
       "      <td>0.02</td>\n",
       "      <td>-0.02</td>\n",
       "      <td>0.04</td>\n",
       "      <td>-0.29</td>\n",
       "      <td>-0.33</td>\n",
       "      <td>-0.56</td>\n",
       "      <td>-0.67</td>\n",
       "      <td>-0.75</td>\n",
       "      <td>-0.83</td>\n",
       "      <td>-0.88</td>\n",
       "      <td>-0.90</td>\n",
       "    </tr>\n",
       "    <tr>\n",
       "      <th>647</th>\n",
       "      <td>5ace20369fe7b01d5806be41</td>\n",
       "      <td>0.32</td>\n",
       "      <td>-1.18</td>\n",
       "      <td>-2.08</td>\n",
       "      <td>-1.98</td>\n",
       "      <td>-1.89</td>\n",
       "      <td>-1.77</td>\n",
       "      <td>-1.94</td>\n",
       "      <td>-2.11</td>\n",
       "      <td>-2.15</td>\n",
       "      <td>-2.35</td>\n",
       "      <td>-2.33</td>\n",
       "      <td>-2.36</td>\n",
       "      <td>-2.39</td>\n",
       "      <td>-2.40</td>\n",
       "      <td>-2.39</td>\n",
       "    </tr>\n",
       "  </tbody>\n",
       "</table>\n",
       "</div>"
      ],
      "text/plain": [
       "                  Goal Levels    x1    x2    x3    x4    x5    x6    x7    x8  \\\n",
       "643  5ace20369fe7b01d5806be48   NaN -1.60 -1.60 -0.63 -1.98 -1.53 -1.61 -1.44   \n",
       "644  5ace20369fe7b01d5806be45  3.85  2.27 -0.60 -0.52 -0.67 -0.52 -0.63 -0.63   \n",
       "645  5ace20369fe7b01d5806be47 -1.33 -0.11  0.72  1.22  0.80  0.68  0.65  0.40   \n",
       "646  5ace20369fe7b01d5806be44 -2.33 -1.25 -0.63 -0.23  0.02 -0.02  0.04 -0.29   \n",
       "647  5ace20369fe7b01d5806be41  0.32 -1.18 -2.08 -1.98 -1.89 -1.77 -1.94 -2.11   \n",
       "\n",
       "       x9   x10   x11   x12   x13   x14   x15  \n",
       "643 -1.14 -1.40 -1.73 -1.81 -1.88 -1.89 -1.90  \n",
       "644 -0.50 -0.53 -0.50 -0.44 -0.42 -0.41 -0.41  \n",
       "645  0.33  0.08  0.01 -0.12 -0.17 -0.23 -0.27  \n",
       "646 -0.33 -0.56 -0.67 -0.75 -0.83 -0.88 -0.90  \n",
       "647 -2.15 -2.35 -2.33 -2.36 -2.39 -2.40 -2.39  "
      ]
     },
     "execution_count": 6,
     "metadata": {},
     "output_type": "execute_result"
    }
   ],
   "source": [
    "data.tail()"
   ]
  },
  {
   "cell_type": "code",
   "execution_count": 7,
   "id": "98577bcb",
   "metadata": {},
   "outputs": [
    {
     "name": "stdout",
     "output_type": "stream",
     "text": [
      "<class 'pandas.core.frame.DataFrame'>\n",
      "RangeIndex: 648 entries, 0 to 647\n",
      "Data columns (total 16 columns):\n",
      " #   Column       Non-Null Count  Dtype  \n",
      "---  ------       --------------  -----  \n",
      " 0   Goal Levels  648 non-null    object \n",
      " 1   x1           553 non-null    float64\n",
      " 2   x2           621 non-null    float64\n",
      " 3   x3           636 non-null    float64\n",
      " 4   x4           644 non-null    float64\n",
      " 5   x5           646 non-null    float64\n",
      " 6   x6           647 non-null    float64\n",
      " 7   x7           647 non-null    float64\n",
      " 8   x8           648 non-null    float64\n",
      " 9   x9           648 non-null    float64\n",
      " 10  x10          648 non-null    float64\n",
      " 11  x11          648 non-null    float64\n",
      " 12  x12          648 non-null    float64\n",
      " 13  x13          648 non-null    float64\n",
      " 14  x14          648 non-null    float64\n",
      " 15  x15          648 non-null    float64\n",
      "dtypes: float64(15), object(1)\n",
      "memory usage: 81.1+ KB\n"
     ]
    }
   ],
   "source": [
    "data.info()"
   ]
  },
  {
   "cell_type": "code",
   "execution_count": 8,
   "id": "7b0c1f76",
   "metadata": {},
   "outputs": [
    {
     "data": {
      "text/html": [
       "<div>\n",
       "<style scoped>\n",
       "    .dataframe tbody tr th:only-of-type {\n",
       "        vertical-align: middle;\n",
       "    }\n",
       "\n",
       "    .dataframe tbody tr th {\n",
       "        vertical-align: top;\n",
       "    }\n",
       "\n",
       "    .dataframe thead th {\n",
       "        text-align: right;\n",
       "    }\n",
       "</style>\n",
       "<table border=\"1\" class=\"dataframe\">\n",
       "  <thead>\n",
       "    <tr style=\"text-align: right;\">\n",
       "      <th></th>\n",
       "      <th>x1</th>\n",
       "      <th>x2</th>\n",
       "      <th>x3</th>\n",
       "      <th>x4</th>\n",
       "      <th>x5</th>\n",
       "      <th>x6</th>\n",
       "      <th>x7</th>\n",
       "      <th>x8</th>\n",
       "      <th>x9</th>\n",
       "      <th>x10</th>\n",
       "      <th>x11</th>\n",
       "      <th>x12</th>\n",
       "      <th>x13</th>\n",
       "      <th>x14</th>\n",
       "      <th>x15</th>\n",
       "    </tr>\n",
       "  </thead>\n",
       "  <tbody>\n",
       "    <tr>\n",
       "      <th>count</th>\n",
       "      <td>553.000000</td>\n",
       "      <td>621.000000</td>\n",
       "      <td>636.000000</td>\n",
       "      <td>644.000000</td>\n",
       "      <td>646.000000</td>\n",
       "      <td>647.000000</td>\n",
       "      <td>647.000000</td>\n",
       "      <td>648.000000</td>\n",
       "      <td>648.000000</td>\n",
       "      <td>648.000000</td>\n",
       "      <td>648.000000</td>\n",
       "      <td>648.000000</td>\n",
       "      <td>648.000000</td>\n",
       "      <td>648.000000</td>\n",
       "      <td>648.000000</td>\n",
       "    </tr>\n",
       "    <tr>\n",
       "      <th>mean</th>\n",
       "      <td>1.150127</td>\n",
       "      <td>0.491546</td>\n",
       "      <td>0.079623</td>\n",
       "      <td>0.199860</td>\n",
       "      <td>0.066858</td>\n",
       "      <td>0.033679</td>\n",
       "      <td>-0.108547</td>\n",
       "      <td>-0.238472</td>\n",
       "      <td>-0.302145</td>\n",
       "      <td>-0.489059</td>\n",
       "      <td>-0.637392</td>\n",
       "      <td>-0.736080</td>\n",
       "      <td>-0.794846</td>\n",
       "      <td>-0.836204</td>\n",
       "      <td>-0.862793</td>\n",
       "    </tr>\n",
       "    <tr>\n",
       "      <th>std</th>\n",
       "      <td>2.292796</td>\n",
       "      <td>1.706384</td>\n",
       "      <td>1.402894</td>\n",
       "      <td>1.382101</td>\n",
       "      <td>1.267742</td>\n",
       "      <td>1.206579</td>\n",
       "      <td>1.158866</td>\n",
       "      <td>1.137292</td>\n",
       "      <td>1.129045</td>\n",
       "      <td>1.107643</td>\n",
       "      <td>1.094798</td>\n",
       "      <td>1.081579</td>\n",
       "      <td>1.074110</td>\n",
       "      <td>1.070627</td>\n",
       "      <td>1.066161</td>\n",
       "    </tr>\n",
       "    <tr>\n",
       "      <th>min</th>\n",
       "      <td>-4.000000</td>\n",
       "      <td>-4.000000</td>\n",
       "      <td>-4.000000</td>\n",
       "      <td>-4.000000</td>\n",
       "      <td>-4.000000</td>\n",
       "      <td>-4.000000</td>\n",
       "      <td>-4.000000</td>\n",
       "      <td>-4.000000</td>\n",
       "      <td>-4.000000</td>\n",
       "      <td>-4.000000</td>\n",
       "      <td>-4.000000</td>\n",
       "      <td>-4.000000</td>\n",
       "      <td>-4.000000</td>\n",
       "      <td>-4.000000</td>\n",
       "      <td>-4.000000</td>\n",
       "    </tr>\n",
       "    <tr>\n",
       "      <th>25%</th>\n",
       "      <td>-0.200000</td>\n",
       "      <td>-0.550000</td>\n",
       "      <td>-0.772500</td>\n",
       "      <td>-0.562500</td>\n",
       "      <td>-0.637500</td>\n",
       "      <td>-0.690000</td>\n",
       "      <td>-0.750000</td>\n",
       "      <td>-0.892500</td>\n",
       "      <td>-0.930000</td>\n",
       "      <td>-1.140000</td>\n",
       "      <td>-1.270000</td>\n",
       "      <td>-1.330000</td>\n",
       "      <td>-1.402500</td>\n",
       "      <td>-1.450000</td>\n",
       "      <td>-1.480000</td>\n",
       "    </tr>\n",
       "    <tr>\n",
       "      <th>50%</th>\n",
       "      <td>1.700000</td>\n",
       "      <td>0.560000</td>\n",
       "      <td>0.080000</td>\n",
       "      <td>0.285000</td>\n",
       "      <td>0.130000</td>\n",
       "      <td>0.090000</td>\n",
       "      <td>-0.050000</td>\n",
       "      <td>-0.200000</td>\n",
       "      <td>-0.285000</td>\n",
       "      <td>-0.510000</td>\n",
       "      <td>-0.640000</td>\n",
       "      <td>-0.745000</td>\n",
       "      <td>-0.805000</td>\n",
       "      <td>-0.850000</td>\n",
       "      <td>-0.875000</td>\n",
       "    </tr>\n",
       "    <tr>\n",
       "      <th>75%</th>\n",
       "      <td>3.030000</td>\n",
       "      <td>1.700000</td>\n",
       "      <td>1.022500</td>\n",
       "      <td>1.122500</td>\n",
       "      <td>0.947500</td>\n",
       "      <td>0.830000</td>\n",
       "      <td>0.620000</td>\n",
       "      <td>0.490000</td>\n",
       "      <td>0.400000</td>\n",
       "      <td>0.200000</td>\n",
       "      <td>0.010000</td>\n",
       "      <td>-0.110000</td>\n",
       "      <td>-0.170000</td>\n",
       "      <td>-0.210000</td>\n",
       "      <td>-0.250000</td>\n",
       "    </tr>\n",
       "    <tr>\n",
       "      <th>max</th>\n",
       "      <td>4.000000</td>\n",
       "      <td>4.000000</td>\n",
       "      <td>4.000000</td>\n",
       "      <td>4.000000</td>\n",
       "      <td>3.410000</td>\n",
       "      <td>3.220000</td>\n",
       "      <td>3.190000</td>\n",
       "      <td>3.170000</td>\n",
       "      <td>3.210000</td>\n",
       "      <td>3.230000</td>\n",
       "      <td>3.210000</td>\n",
       "      <td>3.140000</td>\n",
       "      <td>3.090000</td>\n",
       "      <td>3.070000</td>\n",
       "      <td>3.070000</td>\n",
       "    </tr>\n",
       "  </tbody>\n",
       "</table>\n",
       "</div>"
      ],
      "text/plain": [
       "               x1          x2          x3          x4          x5          x6  \\\n",
       "count  553.000000  621.000000  636.000000  644.000000  646.000000  647.000000   \n",
       "mean     1.150127    0.491546    0.079623    0.199860    0.066858    0.033679   \n",
       "std      2.292796    1.706384    1.402894    1.382101    1.267742    1.206579   \n",
       "min     -4.000000   -4.000000   -4.000000   -4.000000   -4.000000   -4.000000   \n",
       "25%     -0.200000   -0.550000   -0.772500   -0.562500   -0.637500   -0.690000   \n",
       "50%      1.700000    0.560000    0.080000    0.285000    0.130000    0.090000   \n",
       "75%      3.030000    1.700000    1.022500    1.122500    0.947500    0.830000   \n",
       "max      4.000000    4.000000    4.000000    4.000000    3.410000    3.220000   \n",
       "\n",
       "               x7          x8          x9         x10         x11         x12  \\\n",
       "count  647.000000  648.000000  648.000000  648.000000  648.000000  648.000000   \n",
       "mean    -0.108547   -0.238472   -0.302145   -0.489059   -0.637392   -0.736080   \n",
       "std      1.158866    1.137292    1.129045    1.107643    1.094798    1.081579   \n",
       "min     -4.000000   -4.000000   -4.000000   -4.000000   -4.000000   -4.000000   \n",
       "25%     -0.750000   -0.892500   -0.930000   -1.140000   -1.270000   -1.330000   \n",
       "50%     -0.050000   -0.200000   -0.285000   -0.510000   -0.640000   -0.745000   \n",
       "75%      0.620000    0.490000    0.400000    0.200000    0.010000   -0.110000   \n",
       "max      3.190000    3.170000    3.210000    3.230000    3.210000    3.140000   \n",
       "\n",
       "              x13         x14         x15  \n",
       "count  648.000000  648.000000  648.000000  \n",
       "mean    -0.794846   -0.836204   -0.862793  \n",
       "std      1.074110    1.070627    1.066161  \n",
       "min     -4.000000   -4.000000   -4.000000  \n",
       "25%     -1.402500   -1.450000   -1.480000  \n",
       "50%     -0.805000   -0.850000   -0.875000  \n",
       "75%     -0.170000   -0.210000   -0.250000  \n",
       "max      3.090000    3.070000    3.070000  "
      ]
     },
     "execution_count": 8,
     "metadata": {},
     "output_type": "execute_result"
    }
   ],
   "source": [
    "data.describe()"
   ]
  },
  {
   "cell_type": "code",
   "execution_count": 9,
   "id": "403a78a7",
   "metadata": {},
   "outputs": [
    {
     "data": {
      "text/plain": [
       "Index(['Goal Levels', 'x1', 'x2', 'x3', 'x4', 'x5', 'x6', 'x7', 'x8', 'x9',\n",
       "       'x10', 'x11', 'x12', 'x13', 'x14', 'x15'],\n",
       "      dtype='object')"
      ]
     },
     "execution_count": 9,
     "metadata": {},
     "output_type": "execute_result"
    }
   ],
   "source": [
    "data.columns"
   ]
  },
  {
   "cell_type": "code",
   "execution_count": 10,
   "id": "14856fed",
   "metadata": {},
   "outputs": [],
   "source": [
    "newdata= data.dropna()   #removing rows containing missing data"
   ]
  },
  {
   "cell_type": "raw",
   "id": "831c0cbd",
   "metadata": {},
   "source": [
    "# refer for dealing with missing data \n",
    "## https://www.analyticsvidhya.com/blog/2021/05/dealing-with-missing-values-in-python-a-complete-guide/"
   ]
  },
  {
   "cell_type": "code",
   "execution_count": 11,
   "id": "0fe58afb",
   "metadata": {},
   "outputs": [
    {
     "name": "stdout",
     "output_type": "stream",
     "text": [
      "x1     -0.3\n",
      "x2     -0.3\n",
      "x3    -1.53\n",
      "x4    -2.27\n",
      "x5    -1.98\n",
      "x6    -1.57\n",
      "x7    -1.26\n",
      "x8     -1.0\n",
      "x9    -1.08\n",
      "x10   -1.12\n",
      "x11   -1.24\n",
      "x12   -1.29\n",
      "x13   -1.31\n",
      "x14   -1.35\n",
      "x15   -1.37\n",
      "Name: 0, dtype: object\n"
     ]
    }
   ],
   "source": [
    "r1= newdata.iloc[0,1:]  #taking row 1\n",
    "print(r1)"
   ]
  },
  {
   "cell_type": "code",
   "execution_count": 12,
   "id": "97eac04b",
   "metadata": {},
   "outputs": [
    {
     "data": {
      "text/plain": [
       "[<matplotlib.lines.Line2D at 0x19999c429a0>]"
      ]
     },
     "execution_count": 12,
     "metadata": {},
     "output_type": "execute_result"
    },
    {
     "data": {
      "image/png": "[encoded data removed]",
      "text/plain": [
       "<Figure size 432x288 with 1 Axes>"
      ]
     },
     "metadata": {
      "needs_background": "light"
     },
     "output_type": "display_data"
    }
   ],
   "source": [
    "plt.plot(r1)"
   ]
  },
  {
   "cell_type": "code",
   "execution_count": 13,
   "id": "4dc099b2",
   "metadata": {},
   "outputs": [
    {
     "name": "stdout",
     "output_type": "stream",
     "text": [
      "[-1.33 -0.11 0.72 1.22 0.8 0.68 0.65 0.4 0.33 0.08 0.01 -0.12 -0.17 -0.23\n",
      " -0.27]\n",
      "[1.22 0.83 0.5 -0.41999999999999993 -0.12 -0.030000000000000027 -0.25\n",
      " -0.07 -0.25 -0.07 -0.13 -0.05000000000000002 -0.06 -0.04000000000000001]\n"
     ]
    }
   ],
   "source": [
    "d=newdata.iloc[5,1:]  #Take any random row. Here 5th`\n",
    "print(d.values)  \n",
    "print(np.diff(d.values))  #differences between the values. x2-x1\n",
    "d1= np.diff(d.values)   #Ideally all the values must be 0 or negative.\n"
   ]
  },
  {
   "cell_type": "code",
   "execution_count": 14,
   "id": "995fd2b1",
   "metadata": {},
   "outputs": [
    {
     "data": {
      "text/plain": [
       "array([1.22, 0.83, 0.5], dtype=object)"
      ]
     },
     "execution_count": 14,
     "metadata": {},
     "output_type": "execute_result"
    }
   ],
   "source": [
    "d1[d1>0]    #Finding the values which needs change"
   ]
  },
  {
   "cell_type": "code",
   "execution_count": 15,
   "id": "867c4294",
   "metadata": {},
   "outputs": [
    {
     "data": {
      "text/plain": [
       "True"
      ]
     },
     "execution_count": 15,
     "metadata": {},
     "output_type": "execute_result"
    }
   ],
   "source": [
    "all(d1>0) #prints true only if all the values in d1 are positive\n",
    "any(d1>0)"
   ]
  },
  {
   "cell_type": "code",
   "execution_count": 16,
   "id": "5bad0742",
   "metadata": {},
   "outputs": [
    {
     "data": {
      "text/plain": [
       "array([2, 1, 0], dtype=int64)"
      ]
     },
     "execution_count": 16,
     "metadata": {},
     "output_type": "execute_result"
    }
   ],
   "source": [
    "pos= np.where(d1>0)  #Finding their position. o\\p is an array\n",
    "#pos\n",
    "revpos= pos[0][::-1]  #reversing the array\n",
    "revpos"
   ]
  },
  {
   "cell_type": "code",
   "execution_count": 17,
   "id": "e2ddc27b",
   "metadata": {},
   "outputs": [
    {
     "data": {
      "text/plain": [
       "0.72"
      ]
     },
     "execution_count": 17,
     "metadata": {},
     "output_type": "execute_result"
    }
   ],
   "source": [
    "d[2]"
   ]
  },
  {
   "cell_type": "code",
   "execution_count": 18,
   "id": "d423dd21",
   "metadata": {},
   "outputs": [
    {
     "data": {
      "text/plain": [
       "1.27"
      ]
     },
     "execution_count": 18,
     "metadata": {},
     "output_type": "execute_result"
    }
   ],
   "source": [
    "d[3]+0.05"
   ]
  },
  {
   "cell_type": "code",
   "execution_count": 19,
   "id": "4989c01b",
   "metadata": {},
   "outputs": [
    {
     "name": "stdout",
     "output_type": "stream",
     "text": [
      "1.27\n",
      "1.32\n",
      "1.37\n"
     ]
    }
   ],
   "source": [
    "for i in revpos:\n",
    "    d[i]=d[i+1]+0.05  \n",
    "    print(d[i])"
   ]
  },
  {
   "cell_type": "code",
   "execution_count": 20,
   "id": "1bc35d62",
   "metadata": {},
   "outputs": [
    {
     "data": {
      "text/plain": [
       "[<matplotlib.lines.Line2D at 0x1999a3df280>]"
      ]
     },
     "execution_count": 20,
     "metadata": {},
     "output_type": "execute_result"
    },
    {
     "data": {
      "image/png": "[encoded data removed]",
      "text/plain": [
       "<Figure size 432x288 with 1 Axes>"
      ]
     },
     "metadata": {
      "needs_background": "light"
     },
     "output_type": "display_data"
    }
   ],
   "source": [
    "plt.plot(d)"
   ]
  },
  {
   "cell_type": "code",
   "execution_count": 21,
   "id": "fa5d9868",
   "metadata": {},
   "outputs": [
    {
     "data": {
      "text/plain": [
       "'\\n###Trying\\nj=0\\nd=newdata.iloc[5,1:]\\n#print(d)\\nd1= np.diff(d.values)\\n#print(d1)\\nwhile any(d1>0):\\n      #Take any random row\\n    \\n    d1[d1>0] \\n    pos= np.where(d1>0)\\n    revpos= pos[0][::-1]\\n    for i in revpos:\\n        d[i]=d[i+1]+0.05  #take any number in place of 0.05. But if the number is greater than 4 then 4.05 would be wrong\\n    #print(d)\\n    d1=np.diff(d.values)\\n    \\n#plt.plot(d)\\n   \\n'"
      ]
     },
     "execution_count": 21,
     "metadata": {},
     "output_type": "execute_result"
    }
   ],
   "source": [
    "'''\n",
    "###Trying\n",
    "j=0\n",
    "d=newdata.iloc[5,1:]\n",
    "#print(d)\n",
    "d1= np.diff(d.values)\n",
    "#print(d1)\n",
    "while any(d1>0):\n",
    "      #Take any random row\n",
    "    \n",
    "    d1[d1>0] \n",
    "    pos= np.where(d1>0)\n",
    "    revpos= pos[0][::-1]\n",
    "    for i in revpos:\n",
    "        d[i]=d[i+1]+0.05  #take any number in place of 0.05. But if the number is greater than 4 then 4.05 would be wrong\n",
    "    #print(d)\n",
    "    d1=np.diff(d.values)\n",
    "    \n",
    "#plt.plot(d)\n",
    "   \n",
    "'''        "
   ]
  },
  {
   "cell_type": "code",
   "execution_count": 22,
   "id": "32f50970",
   "metadata": {},
   "outputs": [],
   "source": [
    "#plt.plot(d)"
   ]
  },
  {
   "cell_type": "code",
   "execution_count": 23,
   "id": "d455c4d9",
   "metadata": {},
   "outputs": [
    {
     "data": {
      "text/plain": [
       "array([1.22, 0.83, 0.5, -0.41999999999999993, -0.12,\n",
       "       -0.030000000000000027, -0.25, -0.07, -0.25, -0.07, -0.13,\n",
       "       -0.05000000000000002, -0.06, -0.04000000000000001], dtype=object)"
      ]
     },
     "execution_count": 23,
     "metadata": {},
     "output_type": "execute_result"
    }
   ],
   "source": [
    "d1"
   ]
  },
  {
   "cell_type": "code",
   "execution_count": 24,
   "id": "c93ad9b7",
   "metadata": {},
   "outputs": [
    {
     "data": {
      "image/png": "[encoded data removed]",
      "text/plain": [
       "<Figure size 432x288 with 1 Axes>"
      ]
     },
     "metadata": {
      "needs_background": "light"
     },
     "output_type": "display_data"
    }
   ],
   "source": [
    "#plot for any rows. \n",
    "for num in range(1,4):\n",
    "    d=newdata.iloc[num,1:]\n",
    "    d1= np.diff(d.values)\n",
    "    while any(d1>0):\n",
    "        \n",
    "        d1[d1>0] \n",
    "        pos= np.where(d1>0)\n",
    "        revpos= pos[0][::-1]\n",
    "        for i in revpos:\n",
    "            if d[i+1]<3.95 and d[i+1]>=-4:\n",
    "                d[i]=d[i+1]+0.05\n",
    "            else:\n",
    "                d[i]= d[i+1]\n",
    "        d1= np.diff(d.values)\n",
    "        #print(pos)\n",
    "        \n",
    "    plt.plot(d)"
   ]
  },
  {
   "cell_type": "code",
   "execution_count": 25,
   "id": "612b1fd9",
   "metadata": {},
   "outputs": [],
   "source": [
    "duplicate= newdata.copy()"
   ]
  },
  {
   "cell_type": "code",
   "execution_count": 26,
   "id": "80a7ed07",
   "metadata": {},
   "outputs": [
    {
     "name": "stdout",
     "output_type": "stream",
     "text": [
      "[393 524 291 394 280  11 146 544 147 390 455 275 165 293  84 150 525 321\n",
      " 308 255 373 515  79 369 354 437 524 206 472 170 523 216 491 219 117 109\n",
      " 310 120 358 221 188 509 406  27 488 508 120 513 388 172 473   9 133 318\n",
      " 128  97 351   9 521 255 260 434  89 396 109 194 527 512  93 300 428 188\n",
      " 161 199 460 221 252 137  57 482 368  34 260  55 317 363 486 107 468 477\n",
      "  35 285 156 185 372 286 372 393 510 528 350 244 357 348  21 374  80 207\n",
      " 318 416  51 151  18 484 531 112 430 130 185 464 416 187 495 478 175 415\n",
      " 254 199 134 190 510 468  80 133 253 504 525   8 114 319 523 209 391  21\n",
      "  20 279 338 454 200  75 522 305 313 512 209 273 106 414 310 536 402 536\n",
      " 350 101  19 530 505 543 502 495 162  55  14 385 121 167 510 393 331 153\n",
      " 342  54  30 136 121 324 319 153  61  45  12 484 526 460 410 175 154 465\n",
      " 246 179 517 145 232 454 202 399  66 532  54 485 434 521 173 401 436 107\n",
      " 156 121 223  71 259 405  56 281 503 230 372 394  16 204 540  52  75 350\n",
      " 267 425 314 324  48 243 536 475 215 325 290  62 443  34 104 476 298 278\n",
      " 542 317 498 338 136 191  21 195 477  41 446 271 180 325 218  69  43 456\n",
      " 489 520 147 218 472 311 517 468 443 153 265 286 357 468 358 457 548 479\n",
      " 312  83  96 515 152 360  15 245  93 194 318 135 103 251 300 477 277 193\n",
      " 386 298 482 459 427 190 113 404  78 130 352   4 467 289 285 150 249 409\n",
      " 534 534 185 241 395 435 337 143 100 358 340 107 397 374  39 211 388 239\n",
      " 525   7 376  43 318  83 151 341 130 410  93 490 367 506 461 193 207 308\n",
      " 242 165  21 115 225 289  87  43 425 383   4  80 312 424 151 428 365 295\n",
      " 136 267 224 406 366 242 395  74 509   3   0 254 155 546 297 306  86 503\n",
      " 368 454 266  77 126 249 111 492 528 383 458  51  70 434 115 292 259 406\n",
      " 425   6 104   6 458 174 330  33 313 249 279 508 431 283 475 262 245 482\n",
      " 272 202 286 120 504 288 484  32 451 450   8   1 188 493  16 180 501 289\n",
      " 352 125 208 135  94  54 417 447 389 522 371 370 152 336 110 216 409 190\n",
      " 279 494  32 137 428 409  59 378  56 438 271  84 246 201 291 342 128  47\n",
      " 164 327 466 167  48  60 353 312 373 523 384 223   1 222 120 319 525 530\n",
      " 417 398 446 483 259 349 398 484 233 383  71  60 304 175 170  55  83 248\n",
      "  82  67 191 214 136 101 227 498  42  56 200 229 384 364 465 338 545 542\n",
      " 407 449 417 239 208 148 238 215 351 172]\n"
     ]
    }
   ],
   "source": [
    "#Take any random rows and smooth them.\n",
    "\n",
    "ran= np.random.randint(0,550,550)\n",
    "print(ran)\n",
    "\n",
    "empty=pd.DataFrame()\n",
    "\n",
    "for num in ran:\n",
    "    d=newdata.iloc[num,1:]\n",
    "    d1= np.diff(d.values)\n",
    "\n",
    "    while any(d1>0):\n",
    "        \n",
    "        d1[d1>0] \n",
    "        pos= np.where(d1>0)\n",
    "        revpos= pos[0][::-1]\n",
    "        for i in revpos:\n",
    "            if d[i+1]<3.95 and d[i+1]>=-4:\n",
    "                d[i]=d[i+1]+0.05\n",
    "                \n",
    "            else:\n",
    "                d[i]= d[i+1]\n",
    "                \n",
    "        d1= np.diff(d.values)\n",
    "        #print(pos)\n",
    "       \n",
    "    #plt.plot(d)\n",
    "    empty=empty.append(d)\n",
    "   "
   ]
  },
  {
   "cell_type": "code",
   "execution_count": 27,
   "id": "9c1df4b0",
   "metadata": {},
   "outputs": [
    {
     "name": "stdout",
     "output_type": "stream",
     "text": [
      "       x1   x10   x11   x12   x13   x14   x15    x2    x3    x4    x5    x6  \\\n",
      "463  3.70 -0.45 -0.50 -0.55 -0.60 -0.65 -0.68  1.72  0.34  0.16  0.11  0.06   \n",
      "616 -0.25 -1.47 -1.64 -1.79 -1.86 -1.94 -1.98 -0.30 -0.57 -0.62 -0.67 -1.05   \n",
      "335 -0.03 -1.33 -1.37 -1.44 -1.44 -1.45 -1.48 -0.17 -0.22 -0.27 -0.66 -0.82   \n",
      "464  3.90  0.60  0.53  0.47  0.45  0.42  0.37  1.97  1.92  1.87  1.38  1.18   \n",
      "321  1.04 -0.86 -1.14 -1.29 -1.39 -1.44 -1.46  0.13  0.08  0.03 -0.02 -0.07   \n",
      "..    ...   ...   ...   ...   ...   ...   ...   ...   ...   ...   ...   ...   \n",
      "174  2.24  0.56  0.44  0.41  0.36  0.32  0.28  2.19  2.14  1.91  0.81  0.76   \n",
      "272  2.40  1.23  0.99  0.80  0.68  0.60  0.55  2.35  2.30  2.25  2.11  1.95   \n",
      "248 -0.49 -1.18 -1.37 -1.48 -1.54 -1.59 -1.62 -0.54 -0.59 -0.64 -0.69 -0.74   \n",
      "407  3.70 -0.49 -0.69 -0.70 -0.75 -0.80 -0.89  1.78  0.06  0.01 -0.04 -0.09   \n",
      "199  2.27  0.73  0.52  0.40  0.37  0.31  0.25  2.22  2.17  2.12  1.57  1.28   \n",
      "\n",
      "       x7    x8    x9  \n",
      "463  0.01 -0.19 -0.24  \n",
      "616 -1.29 -1.40 -1.42  \n",
      "335 -0.96 -1.02 -1.08  \n",
      "464  0.82  0.64  0.62  \n",
      "321 -0.28 -0.34 -0.47  \n",
      "..    ...   ...   ...  \n",
      "174  0.71  0.66  0.61  \n",
      "272  1.70  1.54  1.49  \n",
      "248 -0.79 -0.95 -0.96  \n",
      "407 -0.14 -0.39 -0.44  \n",
      "199  1.14  1.04  0.95  \n",
      "\n",
      "[550 rows x 15 columns]\n"
     ]
    }
   ],
   "source": [
    "print(empty)"
   ]
  },
  {
   "cell_type": "code",
   "execution_count": 31,
   "id": "2521ee73",
   "metadata": {},
   "outputs": [
    {
     "data": {
      "text/html": [
       "<div>\n",
       "<style scoped>\n",
       "    .dataframe tbody tr th:only-of-type {\n",
       "        vertical-align: middle;\n",
       "    }\n",
       "\n",
       "    .dataframe tbody tr th {\n",
       "        vertical-align: top;\n",
       "    }\n",
       "\n",
       "    .dataframe thead th {\n",
       "        text-align: right;\n",
       "    }\n",
       "</style>\n",
       "<table border=\"1\" class=\"dataframe\">\n",
       "  <thead>\n",
       "    <tr style=\"text-align: right;\">\n",
       "      <th></th>\n",
       "      <th>x1</th>\n",
       "      <th>x10</th>\n",
       "      <th>x11</th>\n",
       "      <th>x12</th>\n",
       "      <th>x13</th>\n",
       "      <th>x14</th>\n",
       "      <th>x15</th>\n",
       "      <th>x2</th>\n",
       "      <th>x3</th>\n",
       "      <th>x4</th>\n",
       "      <th>x5</th>\n",
       "      <th>x6</th>\n",
       "      <th>x7</th>\n",
       "      <th>x8</th>\n",
       "      <th>x9</th>\n",
       "    </tr>\n",
       "  </thead>\n",
       "  <tbody>\n",
       "    <tr>\n",
       "      <th>463</th>\n",
       "      <td>3.70</td>\n",
       "      <td>-0.45</td>\n",
       "      <td>-0.50</td>\n",
       "      <td>-0.55</td>\n",
       "      <td>-0.60</td>\n",
       "      <td>-0.65</td>\n",
       "      <td>-0.68</td>\n",
       "      <td>1.72</td>\n",
       "      <td>0.34</td>\n",
       "      <td>0.16</td>\n",
       "      <td>0.11</td>\n",
       "      <td>0.06</td>\n",
       "      <td>0.01</td>\n",
       "      <td>-0.19</td>\n",
       "      <td>-0.24</td>\n",
       "    </tr>\n",
       "    <tr>\n",
       "      <th>616</th>\n",
       "      <td>-0.25</td>\n",
       "      <td>-1.47</td>\n",
       "      <td>-1.64</td>\n",
       "      <td>-1.79</td>\n",
       "      <td>-1.86</td>\n",
       "      <td>-1.94</td>\n",
       "      <td>-1.98</td>\n",
       "      <td>-0.30</td>\n",
       "      <td>-0.57</td>\n",
       "      <td>-0.62</td>\n",
       "      <td>-0.67</td>\n",
       "      <td>-1.05</td>\n",
       "      <td>-1.29</td>\n",
       "      <td>-1.40</td>\n",
       "      <td>-1.42</td>\n",
       "    </tr>\n",
       "    <tr>\n",
       "      <th>335</th>\n",
       "      <td>-0.03</td>\n",
       "      <td>-1.33</td>\n",
       "      <td>-1.37</td>\n",
       "      <td>-1.44</td>\n",
       "      <td>-1.44</td>\n",
       "      <td>-1.45</td>\n",
       "      <td>-1.48</td>\n",
       "      <td>-0.17</td>\n",
       "      <td>-0.22</td>\n",
       "      <td>-0.27</td>\n",
       "      <td>-0.66</td>\n",
       "      <td>-0.82</td>\n",
       "      <td>-0.96</td>\n",
       "      <td>-1.02</td>\n",
       "      <td>-1.08</td>\n",
       "    </tr>\n",
       "    <tr>\n",
       "      <th>464</th>\n",
       "      <td>3.90</td>\n",
       "      <td>0.60</td>\n",
       "      <td>0.53</td>\n",
       "      <td>0.47</td>\n",
       "      <td>0.45</td>\n",
       "      <td>0.42</td>\n",
       "      <td>0.37</td>\n",
       "      <td>1.97</td>\n",
       "      <td>1.92</td>\n",
       "      <td>1.87</td>\n",
       "      <td>1.38</td>\n",
       "      <td>1.18</td>\n",
       "      <td>0.82</td>\n",
       "      <td>0.64</td>\n",
       "      <td>0.62</td>\n",
       "    </tr>\n",
       "    <tr>\n",
       "      <th>321</th>\n",
       "      <td>1.04</td>\n",
       "      <td>-0.86</td>\n",
       "      <td>-1.14</td>\n",
       "      <td>-1.29</td>\n",
       "      <td>-1.39</td>\n",
       "      <td>-1.44</td>\n",
       "      <td>-1.46</td>\n",
       "      <td>0.13</td>\n",
       "      <td>0.08</td>\n",
       "      <td>0.03</td>\n",
       "      <td>-0.02</td>\n",
       "      <td>-0.07</td>\n",
       "      <td>-0.28</td>\n",
       "      <td>-0.34</td>\n",
       "      <td>-0.47</td>\n",
       "    </tr>\n",
       "    <tr>\n",
       "      <th>...</th>\n",
       "      <td>...</td>\n",
       "      <td>...</td>\n",
       "      <td>...</td>\n",
       "      <td>...</td>\n",
       "      <td>...</td>\n",
       "      <td>...</td>\n",
       "      <td>...</td>\n",
       "      <td>...</td>\n",
       "      <td>...</td>\n",
       "      <td>...</td>\n",
       "      <td>...</td>\n",
       "      <td>...</td>\n",
       "      <td>...</td>\n",
       "      <td>...</td>\n",
       "      <td>...</td>\n",
       "    </tr>\n",
       "    <tr>\n",
       "      <th>174</th>\n",
       "      <td>2.24</td>\n",
       "      <td>0.56</td>\n",
       "      <td>0.44</td>\n",
       "      <td>0.41</td>\n",
       "      <td>0.36</td>\n",
       "      <td>0.32</td>\n",
       "      <td>0.28</td>\n",
       "      <td>2.19</td>\n",
       "      <td>2.14</td>\n",
       "      <td>1.91</td>\n",
       "      <td>0.81</td>\n",
       "      <td>0.76</td>\n",
       "      <td>0.71</td>\n",
       "      <td>0.66</td>\n",
       "      <td>0.61</td>\n",
       "    </tr>\n",
       "    <tr>\n",
       "      <th>272</th>\n",
       "      <td>2.40</td>\n",
       "      <td>1.23</td>\n",
       "      <td>0.99</td>\n",
       "      <td>0.80</td>\n",
       "      <td>0.68</td>\n",
       "      <td>0.60</td>\n",
       "      <td>0.55</td>\n",
       "      <td>2.35</td>\n",
       "      <td>2.30</td>\n",
       "      <td>2.25</td>\n",
       "      <td>2.11</td>\n",
       "      <td>1.95</td>\n",
       "      <td>1.70</td>\n",
       "      <td>1.54</td>\n",
       "      <td>1.49</td>\n",
       "    </tr>\n",
       "    <tr>\n",
       "      <th>248</th>\n",
       "      <td>-0.49</td>\n",
       "      <td>-1.18</td>\n",
       "      <td>-1.37</td>\n",
       "      <td>-1.48</td>\n",
       "      <td>-1.54</td>\n",
       "      <td>-1.59</td>\n",
       "      <td>-1.62</td>\n",
       "      <td>-0.54</td>\n",
       "      <td>-0.59</td>\n",
       "      <td>-0.64</td>\n",
       "      <td>-0.69</td>\n",
       "      <td>-0.74</td>\n",
       "      <td>-0.79</td>\n",
       "      <td>-0.95</td>\n",
       "      <td>-0.96</td>\n",
       "    </tr>\n",
       "    <tr>\n",
       "      <th>407</th>\n",
       "      <td>3.70</td>\n",
       "      <td>-0.49</td>\n",
       "      <td>-0.69</td>\n",
       "      <td>-0.70</td>\n",
       "      <td>-0.75</td>\n",
       "      <td>-0.80</td>\n",
       "      <td>-0.89</td>\n",
       "      <td>1.78</td>\n",
       "      <td>0.06</td>\n",
       "      <td>0.01</td>\n",
       "      <td>-0.04</td>\n",
       "      <td>-0.09</td>\n",
       "      <td>-0.14</td>\n",
       "      <td>-0.39</td>\n",
       "      <td>-0.44</td>\n",
       "    </tr>\n",
       "    <tr>\n",
       "      <th>199</th>\n",
       "      <td>2.27</td>\n",
       "      <td>0.73</td>\n",
       "      <td>0.52</td>\n",
       "      <td>0.40</td>\n",
       "      <td>0.37</td>\n",
       "      <td>0.31</td>\n",
       "      <td>0.25</td>\n",
       "      <td>2.22</td>\n",
       "      <td>2.17</td>\n",
       "      <td>2.12</td>\n",
       "      <td>1.57</td>\n",
       "      <td>1.28</td>\n",
       "      <td>1.14</td>\n",
       "      <td>1.04</td>\n",
       "      <td>0.95</td>\n",
       "    </tr>\n",
       "  </tbody>\n",
       "</table>\n",
       "<p>550 rows × 15 columns</p>\n",
       "</div>"
      ],
      "text/plain": [
       "       x1   x10   x11   x12   x13   x14   x15    x2    x3    x4    x5    x6  \\\n",
       "463  3.70 -0.45 -0.50 -0.55 -0.60 -0.65 -0.68  1.72  0.34  0.16  0.11  0.06   \n",
       "616 -0.25 -1.47 -1.64 -1.79 -1.86 -1.94 -1.98 -0.30 -0.57 -0.62 -0.67 -1.05   \n",
       "335 -0.03 -1.33 -1.37 -1.44 -1.44 -1.45 -1.48 -0.17 -0.22 -0.27 -0.66 -0.82   \n",
       "464  3.90  0.60  0.53  0.47  0.45  0.42  0.37  1.97  1.92  1.87  1.38  1.18   \n",
       "321  1.04 -0.86 -1.14 -1.29 -1.39 -1.44 -1.46  0.13  0.08  0.03 -0.02 -0.07   \n",
       "..    ...   ...   ...   ...   ...   ...   ...   ...   ...   ...   ...   ...   \n",
       "174  2.24  0.56  0.44  0.41  0.36  0.32  0.28  2.19  2.14  1.91  0.81  0.76   \n",
       "272  2.40  1.23  0.99  0.80  0.68  0.60  0.55  2.35  2.30  2.25  2.11  1.95   \n",
       "248 -0.49 -1.18 -1.37 -1.48 -1.54 -1.59 -1.62 -0.54 -0.59 -0.64 -0.69 -0.74   \n",
       "407  3.70 -0.49 -0.69 -0.70 -0.75 -0.80 -0.89  1.78  0.06  0.01 -0.04 -0.09   \n",
       "199  2.27  0.73  0.52  0.40  0.37  0.31  0.25  2.22  2.17  2.12  1.57  1.28   \n",
       "\n",
       "       x7    x8    x9  \n",
       "463  0.01 -0.19 -0.24  \n",
       "616 -1.29 -1.40 -1.42  \n",
       "335 -0.96 -1.02 -1.08  \n",
       "464  0.82  0.64  0.62  \n",
       "321 -0.28 -0.34 -0.47  \n",
       "..    ...   ...   ...  \n",
       "174  0.71  0.66  0.61  \n",
       "272  1.70  1.54  1.49  \n",
       "248 -0.79 -0.95 -0.96  \n",
       "407 -0.14 -0.39 -0.44  \n",
       "199  1.14  1.04  0.95  \n",
       "\n",
       "[550 rows x 15 columns]"
      ]
     },
     "execution_count": 31,
     "metadata": {},
     "output_type": "execute_result"
    }
   ],
   "source": [
    "empty"
   ]
  },
  {
   "cell_type": "code",
   "execution_count": 30,
   "id": "1a684415",
   "metadata": {},
   "outputs": [
    {
     "ename": "SyntaxError",
     "evalue": "invalid syntax (<ipython-input-30-4b9abf3bf59d>, line 1)",
     "output_type": "error",
     "traceback": [
      "\u001b[1;36m  File \u001b[1;32m\"<ipython-input-30-4b9abf3bf59d>\"\u001b[1;36m, line \u001b[1;32m1\u001b[0m\n\u001b[1;33m    df1= data['Goal Levels', axis=1]+empty\u001b[0m\n\u001b[1;37m                                 ^\u001b[0m\n\u001b[1;31mSyntaxError\u001b[0m\u001b[1;31m:\u001b[0m invalid syntax\n"
     ]
    }
   ],
   "source": [
    "df1= data['Goal Levels']+empty\n",
    "df2= pd.DataFrame(df1)\n",
    "df2"
   ]
  },
  {
   "cell_type": "code",
   "execution_count": null,
   "id": "91d07cf8",
   "metadata": {},
   "outputs": [],
   "source": [
    "output= \n",
    "output.to_csv('Submission4.csv', index=None)"
   ]
  }
 ],
 "metadata": {
  "kernelspec": {
   "display_name": "Python 3",
   "language": "python",
   "name": "python3"
  },
  "language_info": {
   "codemirror_mode": {
    "name": "ipython",
    "version": 3
   },
   "file_extension": ".py",
   "mimetype": "text/x-python",
   "name": "python",
   "nbconvert_exporter": "python",
   "pygments_lexer": "ipython3",
   "version": "3.8.8"
  }
 },
 "nbformat": 4,
 "nbformat_minor": 5
}
