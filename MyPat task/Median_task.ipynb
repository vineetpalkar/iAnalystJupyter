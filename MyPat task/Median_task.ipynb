{
 "cells": [
  {
   "cell_type": "markdown",
   "id": "0af02fca",
   "metadata": {},
   "source": [
    "The task is to take the median of the p_theta column. After that take input from the user (0 or 1). If 0 then move downwards (eg if median is 142 then after pressing 0 row 143 should be printed) and if 1 then it should move upwards (i.e. 141 must be printed).\n",
    "\n",
    "Now the code should continue from the current position.\n",
    "\n",
    "This is used in giving out questions to the students according to their abilities. \n",
    "\n",
    "We start from the centre(median) question, if it is difficult for the student, he will get a easier qs (i.e. by pressing 1) and he will continue to do so till he finds a difficult qs.\n",
    "\n",
    "Same algo will be used if the students feels that the median qs is easy. He will get difficult qs (0) \n",
    "\n",
    "p-theta: values gets closer to 0 :: The qs gets more difficult\n",
    "         values gets further from 0 :: The qs gets easier"
   ]
  },
  {
   "cell_type": "code",
   "execution_count": 2,
   "id": "54a0c84e",
   "metadata": {},
   "outputs": [],
   "source": [
    "import pandas as pd\n",
    "import numpy as np\n",
    "import os\n",
    "os.chdir(\"D:/iAnalyst/MyPat task\")"
   ]
  },
  {
   "cell_type": "code",
   "execution_count": 3,
   "id": "609f0fd1",
   "metadata": {},
   "outputs": [],
   "source": [
    "df=pd.read_csv(\"Median_task.csv\",index_col='Unnamed: 0')  #Excluding the unrequired column"
   ]
  },
  {
   "cell_type": "code",
   "execution_count": 4,
   "id": "1041d6ec",
   "metadata": {},
   "outputs": [],
   "source": [
    "data=df.copy()"
   ]
  },
  {
   "cell_type": "code",
   "execution_count": 5,
   "id": "36a28028",
   "metadata": {},
   "outputs": [],
   "source": [
    "data= data.drop_duplicates()   #There are duplicates in the data. Removing them\n",
    "data.reset_index(inplace=True)   #Adjusting the indices accordingly as after removing duplicates the indices get distorted"
   ]
  },
  {
   "cell_type": "code",
   "execution_count": 6,
   "id": "4cb69162",
   "metadata": {},
   "outputs": [],
   "source": [
    "data.drop('index',axis=1,inplace=True)    #Dropping the current index as no need now."
   ]
  },
  {
   "cell_type": "code",
   "execution_count": 7,
   "id": "9c388209",
   "metadata": {},
   "outputs": [
    {
     "data": {
      "text/html": [
       "<div>\n",
       "<style scoped>\n",
       "    .dataframe tbody tr th:only-of-type {\n",
       "        vertical-align: middle;\n",
       "    }\n",
       "\n",
       "    .dataframe tbody tr th {\n",
       "        vertical-align: top;\n",
       "    }\n",
       "\n",
       "    .dataframe thead th {\n",
       "        text-align: right;\n",
       "    }\n",
       "</style>\n",
       "<table border=\"1\" class=\"dataframe\">\n",
       "  <thead>\n",
       "    <tr style=\"text-align: right;\">\n",
       "      <th></th>\n",
       "      <th>Question ID</th>\n",
       "      <th>p_theta</th>\n",
       "    </tr>\n",
       "  </thead>\n",
       "  <tbody>\n",
       "    <tr>\n",
       "      <th>0</th>\n",
       "      <td>5a8ad03c738197281fba6578</td>\n",
       "      <td>0.673893</td>\n",
       "    </tr>\n",
       "    <tr>\n",
       "      <th>1</th>\n",
       "      <td>5a8ad03a738197281fba64d9</td>\n",
       "      <td>0.348582</td>\n",
       "    </tr>\n",
       "    <tr>\n",
       "      <th>2</th>\n",
       "      <td>5ab2164decf0ff301334ea28</td>\n",
       "      <td>0.258662</td>\n",
       "    </tr>\n",
       "    <tr>\n",
       "      <th>3</th>\n",
       "      <td>5ab2164decf0ff301334ea2c</td>\n",
       "      <td>0.261083</td>\n",
       "    </tr>\n",
       "    <tr>\n",
       "      <th>4</th>\n",
       "      <td>5a8ad040738197281fba6713</td>\n",
       "      <td>0.269708</td>\n",
       "    </tr>\n",
       "    <tr>\n",
       "      <th>...</th>\n",
       "      <td>...</td>\n",
       "      <td>...</td>\n",
       "    </tr>\n",
       "    <tr>\n",
       "      <th>442</th>\n",
       "      <td>5a8ad041738197281fba67bd</td>\n",
       "      <td>0.988749</td>\n",
       "    </tr>\n",
       "    <tr>\n",
       "      <th>443</th>\n",
       "      <td>5ab2164decf0ff301334eac4</td>\n",
       "      <td>0.163431</td>\n",
       "    </tr>\n",
       "    <tr>\n",
       "      <th>444</th>\n",
       "      <td>5a8ad041738197281fba67bf</td>\n",
       "      <td>0.147711</td>\n",
       "    </tr>\n",
       "    <tr>\n",
       "      <th>445</th>\n",
       "      <td>5a8ad034738197281fba63eb</td>\n",
       "      <td>0.166157</td>\n",
       "    </tr>\n",
       "    <tr>\n",
       "      <th>446</th>\n",
       "      <td>5a8ad041738197281fba67c5</td>\n",
       "      <td>0.167813</td>\n",
       "    </tr>\n",
       "  </tbody>\n",
       "</table>\n",
       "<p>447 rows × 2 columns</p>\n",
       "</div>"
      ],
      "text/plain": [
       "                  Question ID   p_theta\n",
       "0    5a8ad03c738197281fba6578  0.673893\n",
       "1    5a8ad03a738197281fba64d9  0.348582\n",
       "2    5ab2164decf0ff301334ea28  0.258662\n",
       "3    5ab2164decf0ff301334ea2c  0.261083\n",
       "4    5a8ad040738197281fba6713  0.269708\n",
       "..                        ...       ...\n",
       "442  5a8ad041738197281fba67bd  0.988749\n",
       "443  5ab2164decf0ff301334eac4  0.163431\n",
       "444  5a8ad041738197281fba67bf  0.147711\n",
       "445  5a8ad034738197281fba63eb  0.166157\n",
       "446  5a8ad041738197281fba67c5  0.167813\n",
       "\n",
       "[447 rows x 2 columns]"
      ]
     },
     "execution_count": 7,
     "metadata": {},
     "output_type": "execute_result"
    }
   ],
   "source": [
    "data"
   ]
  },
  {
   "cell_type": "code",
   "execution_count": 8,
   "id": "8bf94114",
   "metadata": {},
   "outputs": [
    {
     "data": {
      "text/plain": [
       "Index(['Question ID', 'p_theta'], dtype='object')"
      ]
     },
     "execution_count": 8,
     "metadata": {},
     "output_type": "execute_result"
    }
   ],
   "source": [
    "data.columns"
   ]
  },
  {
   "cell_type": "code",
   "execution_count": 9,
   "id": "b24aa99c",
   "metadata": {},
   "outputs": [
    {
     "data": {
      "text/plain": [
       "0.5895233161110254"
      ]
     },
     "execution_count": 9,
     "metadata": {},
     "output_type": "execute_result"
    }
   ],
   "source": [
    "data['p_theta'].median()"
   ]
  },
  {
   "cell_type": "code",
   "execution_count": 10,
   "id": "c85b7304",
   "metadata": {},
   "outputs": [
    {
     "data": {
      "text/html": [
       "<div>\n",
       "<style scoped>\n",
       "    .dataframe tbody tr th:only-of-type {\n",
       "        vertical-align: middle;\n",
       "    }\n",
       "\n",
       "    .dataframe tbody tr th {\n",
       "        vertical-align: top;\n",
       "    }\n",
       "\n",
       "    .dataframe thead th {\n",
       "        text-align: right;\n",
       "    }\n",
       "</style>\n",
       "<table border=\"1\" class=\"dataframe\">\n",
       "  <thead>\n",
       "    <tr style=\"text-align: right;\">\n",
       "      <th></th>\n",
       "      <th>Question ID</th>\n",
       "      <th>p_theta</th>\n",
       "    </tr>\n",
       "  </thead>\n",
       "  <tbody>\n",
       "    <tr>\n",
       "      <th>71</th>\n",
       "      <td>5a8ad03c738197281fba6590</td>\n",
       "      <td>0.589523</td>\n",
       "    </tr>\n",
       "  </tbody>\n",
       "</table>\n",
       "</div>"
      ],
      "text/plain": [
       "                 Question ID   p_theta\n",
       "71  5a8ad03c738197281fba6590  0.589523"
      ]
     },
     "execution_count": 10,
     "metadata": {},
     "output_type": "execute_result"
    }
   ],
   "source": [
    "med= data[data['p_theta']==data['p_theta'].median()]\n",
    "#print(med)\n",
    "med"
   ]
  },
  {
   "cell_type": "code",
   "execution_count": 11,
   "id": "8c06df03",
   "metadata": {},
   "outputs": [
    {
     "name": "stdout",
     "output_type": "stream",
     "text": [
      "Enter 0 to increment or 1 to decrement : 0\n"
     ]
    },
    {
     "data": {
      "text/html": [
       "<div>\n",
       "<style scoped>\n",
       "    .dataframe tbody tr th:only-of-type {\n",
       "        vertical-align: middle;\n",
       "    }\n",
       "\n",
       "    .dataframe tbody tr th {\n",
       "        vertical-align: top;\n",
       "    }\n",
       "\n",
       "    .dataframe thead th {\n",
       "        text-align: right;\n",
       "    }\n",
       "</style>\n",
       "<table border=\"1\" class=\"dataframe\">\n",
       "  <thead>\n",
       "    <tr style=\"text-align: right;\">\n",
       "      <th></th>\n",
       "      <th>Question ID</th>\n",
       "      <th>p_theta</th>\n",
       "    </tr>\n",
       "  </thead>\n",
       "  <tbody>\n",
       "    <tr>\n",
       "      <th>70</th>\n",
       "      <td>5aab737ebc1d1f3013e15a69</td>\n",
       "      <td>0.986999</td>\n",
       "    </tr>\n",
       "  </tbody>\n",
       "</table>\n",
       "</div>"
      ],
      "text/plain": [
       "                 Question ID   p_theta\n",
       "70  5aab737ebc1d1f3013e15a69  0.986999"
      ]
     },
     "metadata": {},
     "output_type": "display_data"
    },
    {
     "name": "stdout",
     "output_type": "stream",
     "text": [
      "Enter 0 to increment or 1 to decrement : 0\n"
     ]
    },
    {
     "data": {
      "text/html": [
       "<div>\n",
       "<style scoped>\n",
       "    .dataframe tbody tr th:only-of-type {\n",
       "        vertical-align: middle;\n",
       "    }\n",
       "\n",
       "    .dataframe tbody tr th {\n",
       "        vertical-align: top;\n",
       "    }\n",
       "\n",
       "    .dataframe thead th {\n",
       "        text-align: right;\n",
       "    }\n",
       "</style>\n",
       "<table border=\"1\" class=\"dataframe\">\n",
       "  <thead>\n",
       "    <tr style=\"text-align: right;\">\n",
       "      <th></th>\n",
       "      <th>Question ID</th>\n",
       "      <th>p_theta</th>\n",
       "    </tr>\n",
       "  </thead>\n",
       "  <tbody>\n",
       "    <tr>\n",
       "      <th>69</th>\n",
       "      <td>5a8ad03a738197281fba64e5</td>\n",
       "      <td>0.997418</td>\n",
       "    </tr>\n",
       "  </tbody>\n",
       "</table>\n",
       "</div>"
      ],
      "text/plain": [
       "                 Question ID   p_theta\n",
       "69  5a8ad03a738197281fba64e5  0.997418"
      ]
     },
     "metadata": {},
     "output_type": "display_data"
    },
    {
     "name": "stdout",
     "output_type": "stream",
     "text": [
      "Enter 0 to increment or 1 to decrement : 0\n"
     ]
    },
    {
     "data": {
      "text/html": [
       "<div>\n",
       "<style scoped>\n",
       "    .dataframe tbody tr th:only-of-type {\n",
       "        vertical-align: middle;\n",
       "    }\n",
       "\n",
       "    .dataframe tbody tr th {\n",
       "        vertical-align: top;\n",
       "    }\n",
       "\n",
       "    .dataframe thead th {\n",
       "        text-align: right;\n",
       "    }\n",
       "</style>\n",
       "<table border=\"1\" class=\"dataframe\">\n",
       "  <thead>\n",
       "    <tr style=\"text-align: right;\">\n",
       "      <th></th>\n",
       "      <th>Question ID</th>\n",
       "      <th>p_theta</th>\n",
       "    </tr>\n",
       "  </thead>\n",
       "  <tbody>\n",
       "    <tr>\n",
       "      <th>68</th>\n",
       "      <td>5a8ad034738197281fba6351</td>\n",
       "      <td>0.629129</td>\n",
       "    </tr>\n",
       "  </tbody>\n",
       "</table>\n",
       "</div>"
      ],
      "text/plain": [
       "                 Question ID   p_theta\n",
       "68  5a8ad034738197281fba6351  0.629129"
      ]
     },
     "metadata": {},
     "output_type": "display_data"
    },
    {
     "name": "stdout",
     "output_type": "stream",
     "text": [
      "Enter 0 to increment or 1 to decrement : 1\n"
     ]
    },
    {
     "data": {
      "text/html": [
       "<div>\n",
       "<style scoped>\n",
       "    .dataframe tbody tr th:only-of-type {\n",
       "        vertical-align: middle;\n",
       "    }\n",
       "\n",
       "    .dataframe tbody tr th {\n",
       "        vertical-align: top;\n",
       "    }\n",
       "\n",
       "    .dataframe thead th {\n",
       "        text-align: right;\n",
       "    }\n",
       "</style>\n",
       "<table border=\"1\" class=\"dataframe\">\n",
       "  <thead>\n",
       "    <tr style=\"text-align: right;\">\n",
       "      <th></th>\n",
       "      <th>Question ID</th>\n",
       "      <th>p_theta</th>\n",
       "    </tr>\n",
       "  </thead>\n",
       "  <tbody>\n",
       "    <tr>\n",
       "      <th>69</th>\n",
       "      <td>5a8ad03c738197281fba65a4</td>\n",
       "      <td>0.883296</td>\n",
       "    </tr>\n",
       "  </tbody>\n",
       "</table>\n",
       "</div>"
      ],
      "text/plain": [
       "                 Question ID   p_theta\n",
       "69  5a8ad03c738197281fba65a4  0.883296"
      ]
     },
     "metadata": {},
     "output_type": "display_data"
    },
    {
     "name": "stdout",
     "output_type": "stream",
     "text": [
      "Enter 0 to increment or 1 to decrement : 1\n"
     ]
    },
    {
     "data": {
      "text/html": [
       "<div>\n",
       "<style scoped>\n",
       "    .dataframe tbody tr th:only-of-type {\n",
       "        vertical-align: middle;\n",
       "    }\n",
       "\n",
       "    .dataframe tbody tr th {\n",
       "        vertical-align: top;\n",
       "    }\n",
       "\n",
       "    .dataframe thead th {\n",
       "        text-align: right;\n",
       "    }\n",
       "</style>\n",
       "<table border=\"1\" class=\"dataframe\">\n",
       "  <thead>\n",
       "    <tr style=\"text-align: right;\">\n",
       "      <th></th>\n",
       "      <th>Question ID</th>\n",
       "      <th>p_theta</th>\n",
       "    </tr>\n",
       "  </thead>\n",
       "  <tbody>\n",
       "    <tr>\n",
       "      <th>69</th>\n",
       "      <td>5a8ad03a738197281fba64e3</td>\n",
       "      <td>0.169668</td>\n",
       "    </tr>\n",
       "  </tbody>\n",
       "</table>\n",
       "</div>"
      ],
      "text/plain": [
       "                 Question ID   p_theta\n",
       "69  5a8ad03a738197281fba64e3  0.169668"
      ]
     },
     "metadata": {},
     "output_type": "display_data"
    },
    {
     "name": "stdout",
     "output_type": "stream",
     "text": [
      "Enter 0 to increment or 1 to decrement : 1\n"
     ]
    },
    {
     "data": {
      "text/html": [
       "<div>\n",
       "<style scoped>\n",
       "    .dataframe tbody tr th:only-of-type {\n",
       "        vertical-align: middle;\n",
       "    }\n",
       "\n",
       "    .dataframe tbody tr th {\n",
       "        vertical-align: top;\n",
       "    }\n",
       "\n",
       "    .dataframe thead th {\n",
       "        text-align: right;\n",
       "    }\n",
       "</style>\n",
       "<table border=\"1\" class=\"dataframe\">\n",
       "  <thead>\n",
       "    <tr style=\"text-align: right;\">\n",
       "      <th></th>\n",
       "      <th>Question ID</th>\n",
       "      <th>p_theta</th>\n",
       "    </tr>\n",
       "  </thead>\n",
       "  <tbody>\n",
       "    <tr>\n",
       "      <th>69</th>\n",
       "      <td>5a8ad03c738197281fba6594</td>\n",
       "      <td>0.16671</td>\n",
       "    </tr>\n",
       "  </tbody>\n",
       "</table>\n",
       "</div>"
      ],
      "text/plain": [
       "                 Question ID  p_theta\n",
       "69  5a8ad03c738197281fba6594  0.16671"
      ]
     },
     "metadata": {},
     "output_type": "display_data"
    },
    {
     "name": "stdout",
     "output_type": "stream",
     "text": [
      "Enter 0 to increment or 1 to decrement : 0\n"
     ]
    },
    {
     "data": {
      "text/html": [
       "<div>\n",
       "<style scoped>\n",
       "    .dataframe tbody tr th:only-of-type {\n",
       "        vertical-align: middle;\n",
       "    }\n",
       "\n",
       "    .dataframe tbody tr th {\n",
       "        vertical-align: top;\n",
       "    }\n",
       "\n",
       "    .dataframe thead th {\n",
       "        text-align: right;\n",
       "    }\n",
       "</style>\n",
       "<table border=\"1\" class=\"dataframe\">\n",
       "  <thead>\n",
       "    <tr style=\"text-align: right;\">\n",
       "      <th></th>\n",
       "      <th>Question ID</th>\n",
       "      <th>p_theta</th>\n",
       "    </tr>\n",
       "  </thead>\n",
       "  <tbody>\n",
       "    <tr>\n",
       "      <th>67</th>\n",
       "      <td>5aab737abc1d1f3013e159e0</td>\n",
       "      <td>0.793779</td>\n",
       "    </tr>\n",
       "  </tbody>\n",
       "</table>\n",
       "</div>"
      ],
      "text/plain": [
       "                 Question ID   p_theta\n",
       "67  5aab737abc1d1f3013e159e0  0.793779"
      ]
     },
     "metadata": {},
     "output_type": "display_data"
    },
    {
     "name": "stdout",
     "output_type": "stream",
     "text": [
      "Enter 0 to increment or 1 to decrement : 1\n"
     ]
    },
    {
     "data": {
      "text/html": [
       "<div>\n",
       "<style scoped>\n",
       "    .dataframe tbody tr th:only-of-type {\n",
       "        vertical-align: middle;\n",
       "    }\n",
       "\n",
       "    .dataframe tbody tr th {\n",
       "        vertical-align: top;\n",
       "    }\n",
       "\n",
       "    .dataframe thead th {\n",
       "        text-align: right;\n",
       "    }\n",
       "</style>\n",
       "<table border=\"1\" class=\"dataframe\">\n",
       "  <thead>\n",
       "    <tr style=\"text-align: right;\">\n",
       "      <th></th>\n",
       "      <th>Question ID</th>\n",
       "      <th>p_theta</th>\n",
       "    </tr>\n",
       "  </thead>\n",
       "  <tbody>\n",
       "    <tr>\n",
       "      <th>68</th>\n",
       "      <td>5a8ad040738197281fba6719</td>\n",
       "      <td>0.144949</td>\n",
       "    </tr>\n",
       "  </tbody>\n",
       "</table>\n",
       "</div>"
      ],
      "text/plain": [
       "                 Question ID   p_theta\n",
       "68  5a8ad040738197281fba6719  0.144949"
      ]
     },
     "metadata": {},
     "output_type": "display_data"
    },
    {
     "name": "stdout",
     "output_type": "stream",
     "text": [
      "Enter 0 to increment or 1 to decrement : 1\n"
     ]
    },
    {
     "data": {
      "text/html": [
       "<div>\n",
       "<style scoped>\n",
       "    .dataframe tbody tr th:only-of-type {\n",
       "        vertical-align: middle;\n",
       "    }\n",
       "\n",
       "    .dataframe tbody tr th {\n",
       "        vertical-align: top;\n",
       "    }\n",
       "\n",
       "    .dataframe thead th {\n",
       "        text-align: right;\n",
       "    }\n",
       "</style>\n",
       "<table border=\"1\" class=\"dataframe\">\n",
       "  <thead>\n",
       "    <tr style=\"text-align: right;\">\n",
       "      <th></th>\n",
       "      <th>Question ID</th>\n",
       "      <th>p_theta</th>\n",
       "    </tr>\n",
       "  </thead>\n",
       "  <tbody>\n",
       "    <tr>\n",
       "      <th>68</th>\n",
       "      <td>5a8ad040738197281fba671b</td>\n",
       "      <td>0.165648</td>\n",
       "    </tr>\n",
       "  </tbody>\n",
       "</table>\n",
       "</div>"
      ],
      "text/plain": [
       "                 Question ID   p_theta\n",
       "68  5a8ad040738197281fba671b  0.165648"
      ]
     },
     "metadata": {},
     "output_type": "display_data"
    },
    {
     "name": "stdout",
     "output_type": "stream",
     "text": [
      "Enter 0 to increment or 1 to decrement : 2\n",
      "Enter a valid number\n"
     ]
    }
   ],
   "source": [
    "while len(data)>=1:    #if len more than 1 then their median can be caluclated\n",
    "    n= int(input(\"Enter 0 to increment or 1 to decrement : \"))\n",
    "    \n",
    "    if n==1:\n",
    "        if bool(data['p_theta'].median())==True:    #This loop is to ensure that when the medians will get over (i.e. the questions at one median end(e.g.easy qs)) the loop stops\n",
    "            #display((data.iloc[med.index-1]))\n",
    "            #display((data.iloc[med.index]))\n",
    "            display((data.iloc[med.index+1]))         #printing the next in line question\n",
    "        \n",
    "            data.drop(med.index,axis=0,inplace=True)     #deleting the current median\n",
    "            data.reset_index(drop= True,inplace=True)       #drop=true is imp as without it the previous indices keep piling up and code doesn't work as it cannot find next medians acc to indices\n",
    "        else:\n",
    "            break\n",
    "        \n",
    "\n",
    "    elif n==0:\n",
    "        if bool(data['p_theta'].median())==True:\n",
    "            display((data.iloc[med.index-1]))\n",
    "            #display((data.iloc[med.index]))\n",
    "            #display((data.iloc[med.index+1]))\n",
    "        \n",
    "            data.drop(med.index-1,axis=0,inplace=True)    #Here med.index-1 is imp as we have to get the previous index since we are moving from 70 to 69. In above n==0 case the median automatically goes to the next possible value\n",
    "            data.reset_index(drop= True, inplace=True)\n",
    "            med.index=med.index-1                         #Same reason as above\n",
    "        else:\n",
    "            break\n",
    "    \n",
    "        \n",
    "    else:    \n",
    "        print(\"Enter a valid number\")\n",
    "        break"
   ]
  },
  {
   "cell_type": "code",
   "execution_count": 175,
   "id": "2fb191ea",
   "metadata": {},
   "outputs": [
    {
     "data": {
      "text/html": [
       "<div>\n",
       "<style scoped>\n",
       "    .dataframe tbody tr th:only-of-type {\n",
       "        vertical-align: middle;\n",
       "    }\n",
       "\n",
       "    .dataframe tbody tr th {\n",
       "        vertical-align: top;\n",
       "    }\n",
       "\n",
       "    .dataframe thead th {\n",
       "        text-align: right;\n",
       "    }\n",
       "</style>\n",
       "<table border=\"1\" class=\"dataframe\">\n",
       "  <thead>\n",
       "    <tr style=\"text-align: right;\">\n",
       "      <th></th>\n",
       "      <th>Question ID</th>\n",
       "      <th>p_theta</th>\n",
       "    </tr>\n",
       "  </thead>\n",
       "  <tbody>\n",
       "    <tr>\n",
       "      <th>65</th>\n",
       "      <td>5aab737abc1d1f3013e159da</td>\n",
       "      <td>0.707195</td>\n",
       "    </tr>\n",
       "    <tr>\n",
       "      <th>66</th>\n",
       "      <td>5aab737abc1d1f3013e159de</td>\n",
       "      <td>0.890355</td>\n",
       "    </tr>\n",
       "    <tr>\n",
       "      <th>67</th>\n",
       "      <td>5aab737abc1d1f3013e159e0</td>\n",
       "      <td>0.793779</td>\n",
       "    </tr>\n",
       "    <tr>\n",
       "      <th>68</th>\n",
       "      <td>5a8ad034738197281fba6351</td>\n",
       "      <td>0.629129</td>\n",
       "    </tr>\n",
       "    <tr>\n",
       "      <th>69</th>\n",
       "      <td>5a8ad03a738197281fba64e5</td>\n",
       "      <td>0.997418</td>\n",
       "    </tr>\n",
       "    <tr>\n",
       "      <th>70</th>\n",
       "      <td>5aab737ebc1d1f3013e15a69</td>\n",
       "      <td>0.986999</td>\n",
       "    </tr>\n",
       "    <tr>\n",
       "      <th>71</th>\n",
       "      <td>5a8ad03c738197281fba6594</td>\n",
       "      <td>0.166710</td>\n",
       "    </tr>\n",
       "    <tr>\n",
       "      <th>72</th>\n",
       "      <td>5a8ad040738197281fba6719</td>\n",
       "      <td>0.144949</td>\n",
       "    </tr>\n",
       "    <tr>\n",
       "      <th>73</th>\n",
       "      <td>5a8ad040738197281fba671b</td>\n",
       "      <td>0.165648</td>\n",
       "    </tr>\n",
       "    <tr>\n",
       "      <th>74</th>\n",
       "      <td>5a8ad03c738197281fba65a0</td>\n",
       "      <td>0.997444</td>\n",
       "    </tr>\n",
       "    <tr>\n",
       "      <th>75</th>\n",
       "      <td>5a8ad03c738197281fba6596</td>\n",
       "      <td>0.611753</td>\n",
       "    </tr>\n",
       "    <tr>\n",
       "      <th>76</th>\n",
       "      <td>5a8ad03e738197281fba6678</td>\n",
       "      <td>0.791572</td>\n",
       "    </tr>\n",
       "    <tr>\n",
       "      <th>77</th>\n",
       "      <td>5a8ad03c738197281fba6598</td>\n",
       "      <td>0.996598</td>\n",
       "    </tr>\n",
       "    <tr>\n",
       "      <th>78</th>\n",
       "      <td>5a8ad03c738197281fba65a2</td>\n",
       "      <td>0.997444</td>\n",
       "    </tr>\n",
       "    <tr>\n",
       "      <th>79</th>\n",
       "      <td>5a8ad03a738197281fba6517</td>\n",
       "      <td>0.413153</td>\n",
       "    </tr>\n",
       "    <tr>\n",
       "      <th>80</th>\n",
       "      <td>5a8ad03c738197281fba65d3</td>\n",
       "      <td>0.478779</td>\n",
       "    </tr>\n",
       "    <tr>\n",
       "      <th>81</th>\n",
       "      <td>5a8ad03c738197281fba65d5</td>\n",
       "      <td>0.360473</td>\n",
       "    </tr>\n",
       "    <tr>\n",
       "      <th>82</th>\n",
       "      <td>5a8ad03a738197281fba6525</td>\n",
       "      <td>0.168077</td>\n",
       "    </tr>\n",
       "    <tr>\n",
       "      <th>83</th>\n",
       "      <td>5a8ad03a738197281fba6507</td>\n",
       "      <td>0.986943</td>\n",
       "    </tr>\n",
       "    <tr>\n",
       "      <th>84</th>\n",
       "      <td>5a8ad03a738197281fba6509</td>\n",
       "      <td>0.337546</td>\n",
       "    </tr>\n",
       "  </tbody>\n",
       "</table>\n",
       "</div>"
      ],
      "text/plain": [
       "                 Question ID   p_theta\n",
       "65  5aab737abc1d1f3013e159da  0.707195\n",
       "66  5aab737abc1d1f3013e159de  0.890355\n",
       "67  5aab737abc1d1f3013e159e0  0.793779\n",
       "68  5a8ad034738197281fba6351  0.629129\n",
       "69  5a8ad03a738197281fba64e5  0.997418\n",
       "70  5aab737ebc1d1f3013e15a69  0.986999\n",
       "71  5a8ad03c738197281fba6594  0.166710\n",
       "72  5a8ad040738197281fba6719  0.144949\n",
       "73  5a8ad040738197281fba671b  0.165648\n",
       "74  5a8ad03c738197281fba65a0  0.997444\n",
       "75  5a8ad03c738197281fba6596  0.611753\n",
       "76  5a8ad03e738197281fba6678  0.791572\n",
       "77  5a8ad03c738197281fba6598  0.996598\n",
       "78  5a8ad03c738197281fba65a2  0.997444\n",
       "79  5a8ad03a738197281fba6517  0.413153\n",
       "80  5a8ad03c738197281fba65d3  0.478779\n",
       "81  5a8ad03c738197281fba65d5  0.360473\n",
       "82  5a8ad03a738197281fba6525  0.168077\n",
       "83  5a8ad03a738197281fba6507  0.986943\n",
       "84  5a8ad03a738197281fba6509  0.337546"
      ]
     },
     "execution_count": 175,
     "metadata": {},
     "output_type": "execute_result"
    }
   ],
   "source": [
    "#data.iloc[65:85]"
   ]
  },
  {
   "cell_type": "code",
   "execution_count": 73,
   "id": "f4f6b467",
   "metadata": {},
   "outputs": [],
   "source": [
    "#data.drop(med.index,axis=0,inplace=True)"
   ]
  },
  {
   "cell_type": "code",
   "execution_count": 42,
   "id": "df2a00a2",
   "metadata": {},
   "outputs": [
    {
     "data": {
      "text/html": [
       "<div>\n",
       "<style scoped>\n",
       "    .dataframe tbody tr th:only-of-type {\n",
       "        vertical-align: middle;\n",
       "    }\n",
       "\n",
       "    .dataframe tbody tr th {\n",
       "        vertical-align: top;\n",
       "    }\n",
       "\n",
       "    .dataframe thead th {\n",
       "        text-align: right;\n",
       "    }\n",
       "</style>\n",
       "<table border=\"1\" class=\"dataframe\">\n",
       "  <thead>\n",
       "    <tr style=\"text-align: right;\">\n",
       "      <th></th>\n",
       "      <th>Question ID</th>\n",
       "      <th>p_theta</th>\n",
       "    </tr>\n",
       "  </thead>\n",
       "  <tbody>\n",
       "    <tr>\n",
       "      <th>70</th>\n",
       "      <td>5aab737ebc1d1f3013e15a69</td>\n",
       "      <td>0.986999</td>\n",
       "    </tr>\n",
       "  </tbody>\n",
       "</table>\n",
       "</div>"
      ],
      "text/plain": [
       "                 Question ID   p_theta\n",
       "70  5aab737ebc1d1f3013e15a69  0.986999"
      ]
     },
     "execution_count": 42,
     "metadata": {},
     "output_type": "execute_result"
    }
   ],
   "source": [
    "#data.iloc[med.index]"
   ]
  },
  {
   "cell_type": "code",
   "execution_count": 28,
   "id": "b5abb650",
   "metadata": {},
   "outputs": [
    {
     "data": {
      "text/html": [
       "<div>\n",
       "<style scoped>\n",
       "    .dataframe tbody tr th:only-of-type {\n",
       "        vertical-align: middle;\n",
       "    }\n",
       "\n",
       "    .dataframe tbody tr th {\n",
       "        vertical-align: top;\n",
       "    }\n",
       "\n",
       "    .dataframe thead th {\n",
       "        text-align: right;\n",
       "    }\n",
       "</style>\n",
       "<table border=\"1\" class=\"dataframe\">\n",
       "  <thead>\n",
       "    <tr style=\"text-align: right;\">\n",
       "      <th></th>\n",
       "      <th>Question ID</th>\n",
       "      <th>p_theta</th>\n",
       "    </tr>\n",
       "  </thead>\n",
       "  <tbody>\n",
       "    <tr>\n",
       "      <th>0</th>\n",
       "      <td>5a8ad03c738197281fba6578</td>\n",
       "      <td>0.673893</td>\n",
       "    </tr>\n",
       "    <tr>\n",
       "      <th>1</th>\n",
       "      <td>5a8ad03a738197281fba64d9</td>\n",
       "      <td>0.348582</td>\n",
       "    </tr>\n",
       "    <tr>\n",
       "      <th>2</th>\n",
       "      <td>5ab2164decf0ff301334ea28</td>\n",
       "      <td>0.258662</td>\n",
       "    </tr>\n",
       "    <tr>\n",
       "      <th>3</th>\n",
       "      <td>5ab2164decf0ff301334ea2c</td>\n",
       "      <td>0.261083</td>\n",
       "    </tr>\n",
       "    <tr>\n",
       "      <th>4</th>\n",
       "      <td>5a8ad040738197281fba6713</td>\n",
       "      <td>0.269708</td>\n",
       "    </tr>\n",
       "    <tr>\n",
       "      <th>...</th>\n",
       "      <td>...</td>\n",
       "      <td>...</td>\n",
       "    </tr>\n",
       "    <tr>\n",
       "      <th>442</th>\n",
       "      <td>5a8ad041738197281fba67bd</td>\n",
       "      <td>0.988749</td>\n",
       "    </tr>\n",
       "    <tr>\n",
       "      <th>443</th>\n",
       "      <td>5ab2164decf0ff301334eac4</td>\n",
       "      <td>0.163431</td>\n",
       "    </tr>\n",
       "    <tr>\n",
       "      <th>444</th>\n",
       "      <td>5a8ad041738197281fba67bf</td>\n",
       "      <td>0.147711</td>\n",
       "    </tr>\n",
       "    <tr>\n",
       "      <th>445</th>\n",
       "      <td>5a8ad034738197281fba63eb</td>\n",
       "      <td>0.166157</td>\n",
       "    </tr>\n",
       "    <tr>\n",
       "      <th>446</th>\n",
       "      <td>5a8ad041738197281fba67c5</td>\n",
       "      <td>0.167813</td>\n",
       "    </tr>\n",
       "  </tbody>\n",
       "</table>\n",
       "<p>446 rows × 2 columns</p>\n",
       "</div>"
      ],
      "text/plain": [
       "                  Question ID   p_theta\n",
       "0    5a8ad03c738197281fba6578  0.673893\n",
       "1    5a8ad03a738197281fba64d9  0.348582\n",
       "2    5ab2164decf0ff301334ea28  0.258662\n",
       "3    5ab2164decf0ff301334ea2c  0.261083\n",
       "4    5a8ad040738197281fba6713  0.269708\n",
       "..                        ...       ...\n",
       "442  5a8ad041738197281fba67bd  0.988749\n",
       "443  5ab2164decf0ff301334eac4  0.163431\n",
       "444  5a8ad041738197281fba67bf  0.147711\n",
       "445  5a8ad034738197281fba63eb  0.166157\n",
       "446  5a8ad041738197281fba67c5  0.167813\n",
       "\n",
       "[446 rows x 2 columns]"
      ]
     },
     "execution_count": 28,
     "metadata": {},
     "output_type": "execute_result"
    }
   ],
   "source": [
    "#data.iloc[med.index]\n",
    "#data.drop(med.index,axis=0)"
   ]
  }
 ],
 "metadata": {
  "kernelspec": {
   "display_name": "Python 3",
   "language": "python",
   "name": "python3"
  },
  "language_info": {
   "codemirror_mode": {
    "name": "ipython",
    "version": 3
   },
   "file_extension": ".py",
   "mimetype": "text/x-python",
   "name": "python",
   "nbconvert_exporter": "python",
   "pygments_lexer": "ipython3",
   "version": "3.8.8"
  }
 },
 "nbformat": 4,
 "nbformat_minor": 5
}
