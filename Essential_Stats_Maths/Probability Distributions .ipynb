{
 "cells": [
  {
   "cell_type": "markdown",
   "metadata": {},
   "source": [
    "# Content:\n",
    "   * Methods\n",
    "   * Bernoulli distribution\n",
    "   * Binomial distribution\n",
    "   * Poisson distribution\n",
    "   * Negative Binomial distribution\n",
    "   * Normal distribution\n",
    "   * Exponential distribution"
   ]
  },
  {
   "cell_type": "markdown",
   "metadata": {},
   "source": [
    "## Methods\n",
    "- pmf/pdf=Probability mass/density function\n",
    "- cdf=Cumulative distribution function\n",
    "- stats=Mean, variance, skew, kurtosis\n",
    "- rvs=Random samples"
   ]
  },
  {
   "cell_type": "markdown",
   "metadata": {},
   "source": [
    "## Bernoulli distribution"
   ]
  },
  {
   "cell_type": "code",
   "execution_count": 1,
   "metadata": {},
   "outputs": [],
   "source": [
    "# Library\n",
    "import numpy as np\n",
    "from scipy.stats import bernoulli\n",
    "import matplotlib.pyplot as plt\n",
    "%matplotlib inline"
   ]
  },
  {
   "cell_type": "code",
   "execution_count": 2,
   "metadata": {},
   "outputs": [
    {
     "data": {
      "text/plain": [
       "array([0.7, 0.3])"
      ]
     },
     "execution_count": 2,
     "metadata": {},
     "output_type": "execute_result"
    }
   ],
   "source": [
    "p=0.3;\n",
    "x=[0,1]\n",
    "bernoulli.pmf(x,p)"
   ]
  },
  {
   "cell_type": "code",
   "execution_count": 3,
   "metadata": {},
   "outputs": [
    {
     "data": {
      "text/plain": [
       "array([0.7, 1. ])"
      ]
     },
     "execution_count": 3,
     "metadata": {},
     "output_type": "execute_result"
    }
   ],
   "source": [
    "bernoulli.cdf(x,p)"
   ]
  },
  {
   "cell_type": "code",
   "execution_count": 4,
   "metadata": {},
   "outputs": [
    {
     "name": "stdout",
     "output_type": "stream",
     "text": [
      "0.3\n",
      "0.21\n",
      "0.8728715609439694\n",
      "-1.2380952380952381\n"
     ]
    }
   ],
   "source": [
    "mean, var, skew, kurt = bernoulli.stats(p, moments='mvsk')\n",
    "print(mean)\n",
    "print(var)\n",
    "print(skew)\n",
    "print(kurt)"
   ]
  },
  {
   "cell_type": "code",
   "execution_count": 21,
   "metadata": {},
   "outputs": [
    {
     "data": {
      "text/plain": [
       "array([1, 0, 0, 0, 1, 0, 1, 0, 0, 0])"
      ]
     },
     "execution_count": 21,
     "metadata": {},
     "output_type": "execute_result"
    }
   ],
   "source": [
    "bernoulli.rvs(p,size=10)"
   ]
  },
  {
   "cell_type": "code",
   "execution_count": 10,
   "metadata": {},
   "outputs": [
    {
     "data": {
      "image/png": "[encoded data removed]",
      "text/plain": [
       "<Figure size 432x288 with 1 Axes>"
      ]
     },
     "metadata": {
      "needs_background": "light"
     },
     "output_type": "display_data"
    }
   ],
   "source": [
    "plt.plot(x,bernoulli.pmf(x,0.5),ls=\"\",marker=\"s\",color='g')\n",
    "plt.xlabel('x')\n",
    "plt.ylabel('Prob')\n",
    "plt.title('PMF of Bernoulli')\n",
    "plt.show()"
   ]
  },
  {
   "cell_type": "code",
   "execution_count": 12,
   "metadata": {},
   "outputs": [
    {
     "data": {
      "image/png": "[encoded data removed]",
      "text/plain": [
       "<Figure size 432x288 with 1 Axes>"
      ]
     },
     "metadata": {
      "needs_background": "light"
     },
     "output_type": "display_data"
    }
   ],
   "source": [
    "# generate bernoulli\n",
    "data_bern = bernoulli.rvs(size=1000, p=0.4)\n",
    "plt.hist(data_bern,color='r') # add color='green',bins=20\n",
    "plt.xlabel('x')\n",
    "plt.ylabel('Freq')\n",
    "plt.title('histogram')\n",
    "plt.show()"
   ]
  },
  {
   "cell_type": "markdown",
   "metadata": {},
   "source": [
    "# Binomial distribution"
   ]
  },
  {
   "cell_type": "code",
   "execution_count": 13,
   "metadata": {},
   "outputs": [],
   "source": [
    "from scipy.stats import binom"
   ]
  },
  {
   "cell_type": "code",
   "execution_count": 14,
   "metadata": {},
   "outputs": [
    {
     "data": {
      "text/plain": [
       "array([ 0,  1,  2,  3,  4,  5,  6,  7,  8,  9, 10])"
      ]
     },
     "execution_count": 14,
     "metadata": {},
     "output_type": "execute_result"
    }
   ],
   "source": [
    "n, p = 10, 0.3\n",
    "x=np.arange(11)\n",
    "x"
   ]
  },
  {
   "cell_type": "code",
   "execution_count": 15,
   "metadata": {},
   "outputs": [
    {
     "data": {
      "text/plain": [
       "array([2.82475249e-02, 1.21060821e-01, 2.33474440e-01, 2.66827932e-01,\n",
       "       2.00120949e-01, 1.02919345e-01, 3.67569090e-02, 9.00169200e-03,\n",
       "       1.44670050e-03, 1.37781000e-04, 5.90490000e-06])"
      ]
     },
     "execution_count": 15,
     "metadata": {},
     "output_type": "execute_result"
    }
   ],
   "source": [
    "binom.pmf(x,n,p)"
   ]
  },
  {
   "cell_type": "code",
   "execution_count": 16,
   "metadata": {},
   "outputs": [
    {
     "data": {
      "text/plain": [
       "array([0.02824752, 0.14930835, 0.38278279, 0.64961072, 0.84973167,\n",
       "       0.95265101, 0.98940792, 0.99840961, 0.99985631, 0.9999941 ,\n",
       "       1.        ])"
      ]
     },
     "execution_count": 16,
     "metadata": {},
     "output_type": "execute_result"
    }
   ],
   "source": [
    "binom.cdf(x,n,p)"
   ]
  },
  {
   "cell_type": "code",
   "execution_count": 19,
   "metadata": {},
   "outputs": [
    {
     "name": "stdout",
     "output_type": "stream",
     "text": [
      "3.0\n",
      "2.0999999999999996\n",
      "0.2760262237369417\n",
      "-0.12380952380952373\n"
     ]
    }
   ],
   "source": [
    "mean, var, skew, kurt = binom.stats(n, p, moments='mvsk')\n",
    "print(mean)\n",
    "print(var)\n",
    "print(skew)\n",
    "print(kurt)"
   ]
  },
  {
   "cell_type": "code",
   "execution_count": 20,
   "metadata": {},
   "outputs": [
    {
     "data": {
      "text/plain": [
       "array([1, 3, 3, 0, 2, 4, 3, 5, 3, 3, 2, 6, 1, 1, 2])"
      ]
     },
     "execution_count": 20,
     "metadata": {},
     "output_type": "execute_result"
    }
   ],
   "source": [
    "binom.rvs(n,p,size=15)"
   ]
  },
  {
   "cell_type": "code",
   "execution_count": 24,
   "metadata": {},
   "outputs": [
    {
     "data": {
      "image/png": "[encoded data removed]",
      "text/plain": [
       "<Figure size 432x288 with 1 Axes>"
      ]
     },
     "metadata": {
      "needs_background": "light"
     },
     "output_type": "display_data"
    }
   ],
   "source": [
    "plt.plot(x,binom.pmf(x,n,p),\"--\",marker='s')\n",
    "plt.xlabel('x')\n",
    "plt.ylabel('Prob')\n",
    "plt.title('PMF of Binomial')\n",
    "plt.show()"
   ]
  },
  {
   "cell_type": "code",
   "execution_count": 28,
   "metadata": {},
   "outputs": [
    {
     "data": {
      "image/png": "[encoded data removed]",
      "text/plain": [
       "<Figure size 432x288 with 1 Axes>"
      ]
     },
     "metadata": {
      "needs_background": "light"
     },
     "output_type": "display_data"
    }
   ],
   "source": [
    "data_binom = binom.rvs(size=10000, n=10,p=0.3)\n",
    "plt.hist(data_binom) # add color='green',bins=20\n",
    "plt.xlabel('x')\n",
    "plt.ylabel('Freq')\n",
    "plt.title('histogram')\n",
    "plt.show()"
   ]
  },
  {
   "cell_type": "markdown",
   "metadata": {},
   "source": [
    "## Poisson distribution"
   ]
  },
  {
   "cell_type": "code",
   "execution_count": 29,
   "metadata": {},
   "outputs": [],
   "source": [
    "from scipy.stats import poisson"
   ]
  },
  {
   "cell_type": "code",
   "execution_count": 30,
   "metadata": {},
   "outputs": [
    {
     "data": {
      "text/plain": [
       "array([ 0,  1,  2,  3,  4,  5,  6,  7,  8,  9, 10, 11, 12, 13, 14, 15, 16,\n",
       "       17, 18, 19])"
      ]
     },
     "execution_count": 30,
     "metadata": {},
     "output_type": "execute_result"
    }
   ],
   "source": [
    "rate=2.5\n",
    "x=np.arange(20)\n",
    "x"
   ]
  },
  {
   "cell_type": "code",
   "execution_count": 31,
   "metadata": {},
   "outputs": [
    {
     "data": {
      "text/plain": [
       "array([8.20849986e-02, 2.05212497e-01, 2.56515621e-01, 2.13763017e-01,\n",
       "       1.33601886e-01, 6.68009429e-02, 2.78337262e-02, 9.94061650e-03,\n",
       "       3.10644266e-03, 8.62900738e-04, 2.15725184e-04, 4.90284510e-05,\n",
       "       1.02142606e-05, 1.96428089e-06, 3.50764445e-07, 5.84607408e-08,\n",
       "       9.13449075e-09, 1.34330746e-09, 1.86570481e-10, 2.45487475e-11])"
      ]
     },
     "execution_count": 31,
     "metadata": {},
     "output_type": "execute_result"
    }
   ],
   "source": [
    "poisson.pmf(x,rate)"
   ]
  },
  {
   "cell_type": "code",
   "execution_count": 32,
   "metadata": {},
   "outputs": [
    {
     "data": {
      "text/plain": [
       "array([0.082085  , 0.2872975 , 0.54381312, 0.75757613, 0.89117802,\n",
       "       0.95797896, 0.98581269, 0.9957533 , 0.99885975, 0.99972265,\n",
       "       0.99993837, 0.9999874 , 0.99999762, 0.99999958, 0.99999993,\n",
       "       0.99999999, 1.        , 1.        , 1.        , 1.        ])"
      ]
     },
     "execution_count": 32,
     "metadata": {},
     "output_type": "execute_result"
    }
   ],
   "source": [
    "poisson.cdf(x,rate)"
   ]
  },
  {
   "cell_type": "code",
   "execution_count": 33,
   "metadata": {},
   "outputs": [
    {
     "name": "stdout",
     "output_type": "stream",
     "text": [
      "2.5\n",
      "2.5\n",
      "0.6324555320336759\n",
      "0.4\n"
     ]
    }
   ],
   "source": [
    "mean, var, skew, kurt = poisson.stats(rate, moments='mvsk')\n",
    "print(mean)\n",
    "print(var)\n",
    "print(skew)\n",
    "print(kurt)"
   ]
  },
  {
   "cell_type": "code",
   "execution_count": 34,
   "metadata": {},
   "outputs": [
    {
     "data": {
      "text/plain": [
       "array([0, 3, 1, 0, 2, 5, 4, 0, 4, 3, 1, 1, 3, 2, 1, 3, 2, 3, 4, 2])"
      ]
     },
     "execution_count": 34,
     "metadata": {},
     "output_type": "execute_result"
    }
   ],
   "source": [
    "poisson.rvs(mu=rate,size=20)"
   ]
  },
  {
   "cell_type": "code",
   "execution_count": 37,
   "metadata": {},
   "outputs": [
    {
     "data": {
      "image/png": "[encoded data removed]",
      "text/plain": [
       "<Figure size 432x288 with 1 Axes>"
      ]
     },
     "metadata": {
      "needs_background": "light"
     },
     "output_type": "display_data"
    }
   ],
   "source": [
    "plt.plot(x,poisson.pmf(x,rate),\"-\",marker='s')\n",
    "plt.xlabel('x')\n",
    "plt.ylabel('Prob')\n",
    "plt.title('PMF of Poisson')\n",
    "plt.show()"
   ]
  },
  {
   "cell_type": "code",
   "execution_count": 40,
   "metadata": {},
   "outputs": [
    {
     "data": {
      "image/png": "[encoded data removed]",
      "text/plain": [
       "<Figure size 432x288 with 1 Axes>"
      ]
     },
     "metadata": {
      "needs_background": "light"
     },
     "output_type": "display_data"
    }
   ],
   "source": [
    "data_pois = poisson.rvs(rate,size=10000)\n",
    "plt.hist(data_pois) # add color='green',bins=20\n",
    "plt.xlabel('x')\n",
    "plt.ylabel('Freq')\n",
    "plt.title('histogram')\n",
    "plt.show()"
   ]
  },
  {
   "cell_type": "markdown",
   "metadata": {},
   "source": [
    "## Negative Binomial distribution"
   ]
  },
  {
   "cell_type": "markdown",
   "metadata": {},
   "source": [
    "## Its your turn...!!!"
   ]
  },
  {
   "cell_type": "markdown",
   "metadata": {},
   "source": [
    "## Normal distribution"
   ]
  },
  {
   "cell_type": "code",
   "execution_count": 43,
   "metadata": {},
   "outputs": [],
   "source": [
    "from scipy.stats import norm"
   ]
  },
  {
   "cell_type": "code",
   "execution_count": 44,
   "metadata": {},
   "outputs": [
    {
     "data": {
      "text/plain": [
       "array([-3.        , -2.93939394, -2.87878788, -2.81818182, -2.75757576,\n",
       "       -2.6969697 , -2.63636364, -2.57575758, -2.51515152, -2.45454545,\n",
       "       -2.39393939, -2.33333333, -2.27272727, -2.21212121, -2.15151515,\n",
       "       -2.09090909, -2.03030303, -1.96969697, -1.90909091, -1.84848485,\n",
       "       -1.78787879, -1.72727273, -1.66666667, -1.60606061, -1.54545455,\n",
       "       -1.48484848, -1.42424242, -1.36363636, -1.3030303 , -1.24242424,\n",
       "       -1.18181818, -1.12121212, -1.06060606, -1.        , -0.93939394,\n",
       "       -0.87878788, -0.81818182, -0.75757576, -0.6969697 , -0.63636364,\n",
       "       -0.57575758, -0.51515152, -0.45454545, -0.39393939, -0.33333333,\n",
       "       -0.27272727, -0.21212121, -0.15151515, -0.09090909, -0.03030303,\n",
       "        0.03030303,  0.09090909,  0.15151515,  0.21212121,  0.27272727,\n",
       "        0.33333333,  0.39393939,  0.45454545,  0.51515152,  0.57575758,\n",
       "        0.63636364,  0.6969697 ,  0.75757576,  0.81818182,  0.87878788,\n",
       "        0.93939394,  1.        ,  1.06060606,  1.12121212,  1.18181818,\n",
       "        1.24242424,  1.3030303 ,  1.36363636,  1.42424242,  1.48484848,\n",
       "        1.54545455,  1.60606061,  1.66666667,  1.72727273,  1.78787879,\n",
       "        1.84848485,  1.90909091,  1.96969697,  2.03030303,  2.09090909,\n",
       "        2.15151515,  2.21212121,  2.27272727,  2.33333333,  2.39393939,\n",
       "        2.45454545,  2.51515152,  2.57575758,  2.63636364,  2.6969697 ,\n",
       "        2.75757576,  2.81818182,  2.87878788,  2.93939394,  3.        ])"
      ]
     },
     "execution_count": 44,
     "metadata": {},
     "output_type": "execute_result"
    }
   ],
   "source": [
    "x=np.linspace(-3,3,100)\n",
    "x"
   ]
  },
  {
   "cell_type": "code",
   "execution_count": 45,
   "metadata": {},
   "outputs": [
    {
     "data": {
      "text/plain": [
       "array([0.00443185, 0.00530579, 0.00632878, 0.00752133, 0.00890582,\n",
       "       0.0105065 , 0.01234943, 0.01446241, 0.01687483, 0.01961746,\n",
       "       0.02272223, 0.02622189, 0.03014961, 0.03453857, 0.03942137,\n",
       "       0.0448295 , 0.05079264, 0.05733801, 0.06448952, 0.07226707,\n",
       "       0.08068571, 0.08975477, 0.09947714, 0.10984842, 0.12085626,\n",
       "       0.13247967, 0.14468855, 0.15744319, 0.17069405, 0.18438164,\n",
       "       0.1984366 , 0.21277993, 0.22732351, 0.24197072, 0.2566174 ,\n",
       "       0.27115285, 0.28546117, 0.29942268, 0.31291556, 0.3258175 ,\n",
       "       0.33800759, 0.34936814, 0.35978656, 0.36915722, 0.37738323,\n",
       "       0.38437808, 0.3900672 , 0.39438923, 0.39729716, 0.39875915,\n",
       "       0.39875915, 0.39729716, 0.39438923, 0.3900672 , 0.38437808,\n",
       "       0.37738323, 0.36915722, 0.35978656, 0.34936814, 0.33800759,\n",
       "       0.3258175 , 0.31291556, 0.29942268, 0.28546117, 0.27115285,\n",
       "       0.2566174 , 0.24197072, 0.22732351, 0.21277993, 0.1984366 ,\n",
       "       0.18438164, 0.17069405, 0.15744319, 0.14468855, 0.13247967,\n",
       "       0.12085626, 0.10984842, 0.09947714, 0.08975477, 0.08068571,\n",
       "       0.07226707, 0.06448952, 0.05733801, 0.05079264, 0.0448295 ,\n",
       "       0.03942137, 0.03453857, 0.03014961, 0.02622189, 0.02272223,\n",
       "       0.01961746, 0.01687483, 0.01446241, 0.01234943, 0.0105065 ,\n",
       "       0.00890582, 0.00752133, 0.00632878, 0.00530579, 0.00443185])"
      ]
     },
     "execution_count": 45,
     "metadata": {},
     "output_type": "execute_result"
    }
   ],
   "source": [
    "norm.pdf(x) #loc=2,scale=0.5"
   ]
  },
  {
   "cell_type": "code",
   "execution_count": 46,
   "metadata": {},
   "outputs": [
    {
     "data": {
      "text/plain": [
       "array([0.0013499 , 0.00164427, 0.00199603, 0.00241482, 0.00291159,\n",
       "       0.00349868, 0.00418999, 0.00500104, 0.00594906, 0.00705314,\n",
       "       0.00833425, 0.00981533, 0.01152131, 0.01347915, 0.01571778,\n",
       "       0.01826811, 0.02116287, 0.02443656, 0.02812518, 0.03226612,\n",
       "       0.03689778, 0.04205935, 0.04779035, 0.0541303 , 0.06111818,\n",
       "       0.06879198, 0.07718815, 0.08634102, 0.09628221, 0.10704004,\n",
       "       0.11863893, 0.13109879, 0.14443448, 0.15865525, 0.17376426,\n",
       "       0.18975815, 0.20662669, 0.2243525 , 0.24291088, 0.26226972,\n",
       "       0.28238953, 0.30322357, 0.32471814, 0.34681289, 0.36944134,\n",
       "       0.39253143, 0.41600624, 0.43978468, 0.46378241, 0.48791269,\n",
       "       0.51208731, 0.53621759, 0.56021532, 0.58399376, 0.60746857,\n",
       "       0.63055866, 0.65318711, 0.67528186, 0.69677643, 0.71761047,\n",
       "       0.73773028, 0.75708912, 0.7756475 , 0.79337331, 0.81024185,\n",
       "       0.82623574, 0.84134475, 0.85556552, 0.86890121, 0.88136107,\n",
       "       0.89295996, 0.90371779, 0.91365898, 0.92281185, 0.93120802,\n",
       "       0.93888182, 0.9458697 , 0.95220965, 0.95794065, 0.96310222,\n",
       "       0.96773388, 0.97187482, 0.97556344, 0.97883713, 0.98173189,\n",
       "       0.98428222, 0.98652085, 0.98847869, 0.99018467, 0.99166575,\n",
       "       0.99294686, 0.99405094, 0.99499896, 0.99581001, 0.99650132,\n",
       "       0.99708841, 0.99758518, 0.99800397, 0.99835573, 0.9986501 ])"
      ]
     },
     "execution_count": 46,
     "metadata": {},
     "output_type": "execute_result"
    }
   ],
   "source": [
    "norm.cdf(x)"
   ]
  },
  {
   "cell_type": "code",
   "execution_count": 48,
   "metadata": {},
   "outputs": [
    {
     "name": "stdout",
     "output_type": "stream",
     "text": [
      "2.0\n",
      "2.25\n",
      "0.0\n",
      "0.0\n"
     ]
    }
   ],
   "source": [
    "mean, var, skew, kurt = norm.stats(loc=2,scale=1.5, moments='mvsk')\n",
    "print(mean)\n",
    "print(var)\n",
    "print(skew)\n",
    "print(kurt)"
   ]
  },
  {
   "cell_type": "code",
   "execution_count": 49,
   "metadata": {},
   "outputs": [
    {
     "data": {
      "text/plain": [
       "array([ 0.91979347, -0.45699917,  0.29566721,  0.24649214, -1.77638272,\n",
       "       -0.08879972,  1.25903449,  1.13030007,  0.3698982 , -1.12232297])"
      ]
     },
     "execution_count": 49,
     "metadata": {},
     "output_type": "execute_result"
    }
   ],
   "source": [
    "norm.rvs(size=10) #loc=2,scale=3"
   ]
  },
  {
   "cell_type": "code",
   "execution_count": 50,
   "metadata": {},
   "outputs": [
    {
     "data": {
      "image/png": "[encoded data removed]",
      "text/plain": [
       "<Figure size 432x288 with 1 Axes>"
      ]
     },
     "metadata": {
      "needs_background": "light"
     },
     "output_type": "display_data"
    }
   ],
   "source": [
    "plt.plot(x,norm.pdf(x,loc=0,scale=1))#,\"o-\",marker='s')\n",
    "plt.xlabel('x')\n",
    "plt.ylabel('Prob')\n",
    "plt.title('PDF of Normal')\n",
    "plt.show()"
   ]
  },
  {
   "cell_type": "code",
   "execution_count": 60,
   "metadata": {},
   "outputs": [
    {
     "data": {
      "image/png": "[encoded data removed]",
      "text/plain": [
       "<Figure size 432x288 with 1 Axes>"
      ]
     },
     "metadata": {
      "needs_background": "light"
     },
     "output_type": "display_data"
    }
   ],
   "source": [
    "data_norm = norm.rvs(size=10000)\n",
    "plt.hist(data_norm,bins=20) # add color='green',bins=20\n",
    "plt.xlabel('x')\n",
    "plt.ylabel('Freq')\n",
    "plt.title('histogram')\n",
    "plt.show()"
   ]
  },
  {
   "cell_type": "markdown",
   "metadata": {},
   "source": [
    "## Exponential distribution"
   ]
  },
  {
   "cell_type": "markdown",
   "metadata": {},
   "source": [
    "## Its your turn...!!!"
   ]
  },
  {
   "cell_type": "markdown",
   "metadata": {},
   "source": [
    "### Refer https://docs.scipy.org/doc/scipy/reference/stats.html for more probability distributions"
   ]
  },
  {
   "cell_type": "code",
   "execution_count": null,
   "metadata": {},
   "outputs": [],
   "source": []
  }
 ],
 "metadata": {
  "kernelspec": {
   "display_name": "Python 3",
   "language": "python",
   "name": "python3"
  },
  "language_info": {
   "codemirror_mode": {
    "name": "ipython",
    "version": 3
   },
   "file_extension": ".py",
   "mimetype": "text/x-python",
   "name": "python",
   "nbconvert_exporter": "python",
   "pygments_lexer": "ipython3",
   "version": "3.8.5"
  }
 },
 "nbformat": 4,
 "nbformat_minor": 2
}
