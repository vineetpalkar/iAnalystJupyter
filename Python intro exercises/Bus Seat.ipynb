{
 "cells": [
  {
   "cell_type": "code",
   "execution_count": 4,
   "metadata": {},
   "outputs": [],
   "source": [
    "#Creating a list for 30 seats\n",
    "def bus():\n",
    "    seats = []\n",
    "    \n",
    "    for i in range(1,31):\n",
    "        seats.append(i)\n",
    "    a= True\n",
    "    while a:\n",
    "        j= int(input(\"Please enter the seat number between 1 to 30 you want to book \",))\n",
    "        \n",
    "        if j not in seats:\n",
    "            print(\"This seat is already booked. Please try again\")\n",
    "        else:\n",
    "            print(\"\\nSeat {} is available. Please enter additional details. \".format(j))\n",
    "            seats.remove(j)\n",
    "            name= str(input(\"Name\",))\n",
    "            dist= int(input(\"\\nEnter the distance of your destination in kms\",))\n",
    "            amt=dist*8\n",
    "            print(\"{} your seat is confirmed. The price of the ticket is Rs.{} \".format(name,amt))\n",
    "        again= input(\"\\nDo you want to book another ticket? (Type Y or N)\",)\n",
    "        if again==\"Y\":\n",
    "            a=True\n",
    "        else:\n",
    "            a=False\n",
    "            "
   ]
  },
  {
   "cell_type": "code",
   "execution_count": 5,
   "metadata": {},
   "outputs": [
    {
     "name": "stdout",
     "output_type": "stream",
     "text": [
      "Please enter the seat number between 1 to 30 you want to book 5\n",
      "\n",
      "Seat 5 is available. Please enter additional details. \n",
      "Namefgfg\n",
      "\n",
      "Enter the distance of your destination in kms54\n",
      "fgfg your seat is confirmed. The price of the ticket is Rs.432 \n",
      "\n",
      "Do you want to book another ticket? (Type Y or N)Y\n",
      "Please enter the seat number between 1 to 30 you want to book 5\n",
      "This seat is already booked. Please try again\n",
      "\n",
      "Do you want to book another ticket? (Type Y or N)N\n"
     ]
    }
   ],
   "source": [
    "bus()"
   ]
  },
  {
   "cell_type": "code",
   "execution_count": null,
   "metadata": {},
   "outputs": [],
   "source": []
  }
 ],
 "metadata": {
  "kernelspec": {
   "display_name": "Python 3",
   "language": "python",
   "name": "python3"
  },
  "language_info": {
   "codemirror_mode": {
    "name": "ipython",
    "version": 3
   },
   "file_extension": ".py",
   "mimetype": "text/x-python",
   "name": "python",
   "nbconvert_exporter": "python",
   "pygments_lexer": "ipython3",
   "version": "3.7.4"
  }
 },
 "nbformat": 4,
 "nbformat_minor": 2
}
