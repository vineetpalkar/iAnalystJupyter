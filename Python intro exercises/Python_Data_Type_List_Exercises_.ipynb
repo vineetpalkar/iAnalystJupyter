{
 "cells": [
  {
   "cell_type": "markdown",
   "metadata": {
    "id": "x8pBxxVrRfYj"
   },
   "source": [
    "Q.1 . Write a Python program to get a list, sorted in increasing order by the last element in each tuple from a given list of non-empty tuples. Go to the editor\n",
    "\n",
    "Sample List : [(2, 5), (1, 2), (4, 4), (2, 3), (2, 1)]\n",
    "\n",
    "Expected Result : [(2, 1), (1, 2), (2, 3), (4, 4), (2, 5)]"
   ]
  },
  {
   "cell_type": "code",
   "execution_count": 37,
   "metadata": {},
   "outputs": [],
   "source": [
    "a=[(2, 5), (1, 2), (4, 4), (2, 3), (2, 1)]"
   ]
  },
  {
   "cell_type": "code",
   "execution_count": 38,
   "metadata": {},
   "outputs": [
    {
     "data": {
      "text/plain": [
       "[(2, 1), (1, 2), (2, 3), (4, 4), (2, 5)]"
      ]
     },
     "execution_count": 38,
     "metadata": {},
     "output_type": "execute_result"
    }
   ],
   "source": [
    "i=0\n",
    "for j in range(100):\n",
    "    for i in range(len(a)-1) :\n",
    "        if a[i][1] > a[i+1][1]:\n",
    "            a[i],a[i+1]=a[i+1],a[i]\n",
    "a\n",
    "    "
   ]
  },
  {
   "cell_type": "markdown",
   "metadata": {
    "id": "Fkig3BTiS1MZ"
   },
   "source": [
    "Q.2. Write a Python program to print a specified list after removing the 0th, 4th and 5th elements.\n",
    "\n",
    "color = ['Red', 'Green', 'White', 'Black', 'Pink', 'Yellow']"
   ]
  },
  {
   "cell_type": "code",
   "execution_count": 109,
   "metadata": {
    "id": "GCgH9J0YS9RK"
   },
   "outputs": [],
   "source": [
    "color = ['Red', 'Green', 'White', 'Black', 'Pink', 'Yellow']"
   ]
  },
  {
   "cell_type": "code",
   "execution_count": 62,
   "metadata": {},
   "outputs": [
    {
     "ename": "IndexError",
     "evalue": "list index out of range",
     "output_type": "error",
     "traceback": [
      "\u001b[1;31m---------------------------------------------------------------------------\u001b[0m",
      "\u001b[1;31mIndexError\u001b[0m                                Traceback (most recent call last)",
      "\u001b[1;32m<ipython-input-62-09716f7d007a>\u001b[0m in \u001b[0;36m<module>\u001b[1;34m\u001b[0m\n\u001b[0;32m      1\u001b[0m \u001b[0mcolor1\u001b[0m \u001b[1;33m=\u001b[0m \u001b[0mcolor\u001b[0m\u001b[1;33m\u001b[0m\u001b[1;33m\u001b[0m\u001b[0m\n\u001b[0;32m      2\u001b[0m \u001b[0mcolor\u001b[0m\u001b[1;33m.\u001b[0m\u001b[0mpop\u001b[0m\u001b[1;33m(\u001b[0m\u001b[1;36m0\u001b[0m\u001b[1;33m)\u001b[0m\u001b[1;33m\u001b[0m\u001b[1;33m\u001b[0m\u001b[0m\n\u001b[1;32m----> 3\u001b[1;33m \u001b[0mcolor\u001b[0m\u001b[1;33m.\u001b[0m\u001b[0mpop\u001b[0m\u001b[1;33m(\u001b[0m\u001b[0mcolor\u001b[0m\u001b[1;33m.\u001b[0m\u001b[0mindex\u001b[0m\u001b[1;33m(\u001b[0m\u001b[0mcolor1\u001b[0m\u001b[1;33m[\u001b[0m\u001b[1;36m4\u001b[0m\u001b[1;33m]\u001b[0m\u001b[1;33m)\u001b[0m\u001b[1;33m)\u001b[0m\u001b[1;33m\u001b[0m\u001b[1;33m\u001b[0m\u001b[0m\n\u001b[0m\u001b[0;32m      4\u001b[0m \u001b[0mcolor\u001b[0m\u001b[1;33m.\u001b[0m\u001b[0mpop\u001b[0m\u001b[1;33m(\u001b[0m\u001b[0mcolor\u001b[0m\u001b[1;33m.\u001b[0m\u001b[0mindex\u001b[0m\u001b[1;33m(\u001b[0m\u001b[0mcolor1\u001b[0m\u001b[1;33m[\u001b[0m\u001b[1;36m5\u001b[0m\u001b[1;33m]\u001b[0m\u001b[1;33m)\u001b[0m\u001b[1;33m)\u001b[0m\u001b[1;33m\u001b[0m\u001b[1;33m\u001b[0m\u001b[0m\n\u001b[0;32m      5\u001b[0m \u001b[0mcolor\u001b[0m\u001b[1;33m\u001b[0m\u001b[1;33m\u001b[0m\u001b[0m\n",
      "\u001b[1;31mIndexError\u001b[0m: list index out of range"
     ]
    }
   ],
   "source": [
    "color1 = color #it will work only if deepcopy is created. In this case it is shallow copy\n",
    "color.pop(0)\n",
    "color.pop(color.index(color1[4]))\n",
    "color.pop(color.index(color1[5]))\n",
    "color"
   ]
  },
  {
   "cell_type": "code",
   "execution_count": 111,
   "metadata": {},
   "outputs": [
    {
     "data": {
      "text/plain": [
       "['Green', 'White', 'Black']"
      ]
     },
     "execution_count": 111,
     "metadata": {},
     "output_type": "execute_result"
    }
   ],
   "source": [
    "color = ['Red', 'Green', 'White', 'Black', 'Pink', 'Yellow']\n",
    "color.pop(0)\n",
    "color.pop(3)\n",
    "color.pop(3)\n",
    "color"
   ]
  },
  {
   "cell_type": "markdown",
   "metadata": {
    "id": "ngvTG4vETRut"
   },
   "source": [
    "Q.3. Write a Python program to get the difference between the two lists.\n",
    "\n",
    "list1 = [1, 3, 5, 7, 9]\n",
    "\n",
    "list2=[1, 2, 4, 6, 7, 8]\n"
   ]
  },
  {
   "cell_type": "code",
   "execution_count": 130,
   "metadata": {
    "id": "QSw6KLv_TA6M"
   },
   "outputs": [
    {
     "data": {
      "text/plain": [
       "[0, 1, 1, 1, 2, -8]"
      ]
     },
     "execution_count": 130,
     "metadata": {},
     "output_type": "execute_result"
    }
   ],
   "source": [
    "list1= [1, 3, 5, 7, 9]\n",
    "list2=[1, 2, 4, 6, 7, 8]\n",
    "list1.append(0)\n",
    "list3=[]\n",
    "i=0\n",
    "for i in range(len(list1)):\n",
    "    list3.insert(i,int(list1[i]-list2[i]))\n",
    "list3\n"
   ]
  },
  {
   "cell_type": "markdown",
   "metadata": {
    "id": "Bkwp166_T2YM"
   },
   "source": [
    "Q.4.Write a Python program to replace the last element in a list with another list.\n",
    "\n",
    "num1 = [1, 3, 5, 7, 9, 10]\n",
    "\n",
    "num2 = [2, 4, 6, 8]"
   ]
  },
  {
   "cell_type": "code",
   "execution_count": 131,
   "metadata": {
    "id": "29zZwY6STc8i"
   },
   "outputs": [
    {
     "data": {
      "text/plain": [
       "[1, 3, 5, 7, 9, [2, 4, 6, 8]]"
      ]
     },
     "execution_count": 131,
     "metadata": {},
     "output_type": "execute_result"
    }
   ],
   "source": [
    "num1 = [1, 3, 5, 7, 9, 10]\n",
    "\n",
    "num2 = [2, 4, 6, 8]\n",
    "\n",
    "num1[5]= num2\n",
    "num1"
   ]
  },
  {
   "cell_type": "markdown",
   "metadata": {
    "id": "xizf4OJJUaaC"
   },
   "source": [
    "Q.5. Write a Python program to extend a list without append.\n",
    "\n",
    "x = [10, 20, 30]\n",
    "\n",
    "y = [40, 50, 60]\n"
   ]
  },
  {
   "cell_type": "code",
   "execution_count": 132,
   "metadata": {
    "id": "N2qlNclVUZZG"
   },
   "outputs": [
    {
     "data": {
      "text/plain": [
       "[10, 20, 30, 40, 50, 60]"
      ]
     },
     "execution_count": 132,
     "metadata": {},
     "output_type": "execute_result"
    }
   ],
   "source": [
    "x = [10, 20, 30]\n",
    "\n",
    "y = [40, 50, 60]\n",
    "x+y"
   ]
  },
  {
   "cell_type": "markdown",
   "metadata": {
    "id": "4EF_DFs2UZ1A"
   },
   "source": [
    "Q.6. Write a Python program to remove consecutive duplicates of a given list. Go to the editor\n",
    "\n",
    "Original list:\n",
    "[0, 0, 1, 2, 3, 4, 4, 5, 6, 6, 6, 7, 8, 9, 4, 4]\n",
    "\n",
    "After removing consecutive duplicates:\n",
    "[0, 1, 2, 3, 4, 5, 6, 7, 8, 9, 4]"
   ]
  },
  {
   "cell_type": "code",
   "execution_count": 87,
   "metadata": {
    "id": "PaqOmfBuU3Ab"
   },
   "outputs": [],
   "source": [
    "Original_list=[0, 0, 1, 2, 3, 4, 4, 5, 6, 6, 6, 7, 8, 9, 4, 4]"
   ]
  },
  {
   "cell_type": "code",
   "execution_count": 88,
   "metadata": {},
   "outputs": [
    {
     "data": {
      "text/plain": [
       "[0, 1, 2, 3, 4, 5, 6, 7, 8, 9, 4]"
      ]
     },
     "execution_count": 88,
     "metadata": {},
     "output_type": "execute_result"
    }
   ],
   "source": [
    "#first way\n",
    "h = list(set(Original_list))\n",
    "h.append(4)\n",
    "h"
   ]
  },
  {
   "cell_type": "code",
   "execution_count": 101,
   "metadata": {},
   "outputs": [
    {
     "data": {
      "text/plain": [
       "[0, 1, 2, 3, 4, 5, 6, 7, 8, 9, 4]"
      ]
     },
     "execution_count": 101,
     "metadata": {},
     "output_type": "execute_result"
    }
   ],
   "source": [
    "#another way\n",
    "Original_list=[0, 0, 1, 2, 3, 4, 4, 5, 6, 6, 6, 7, 8, 9, 4, 4]\n",
    "og=copy.deepcopy(Original_list)\n",
    "\n",
    "for i in range(0,len(Original_list)-1):\n",
    "    if Original_list[i]==Original_list[i+1]:\n",
    "        og.remove(Original_list[i])\n",
    "og\n",
    "og.pop(10)\n",
    "og.insert(4,4)\n",
    "og"
   ]
  },
  {
   "cell_type": "code",
   "execution_count": 125,
   "metadata": {},
   "outputs": [
    {
     "data": {
      "text/plain": [
       "[0, 1, 2, 3, 4, 5, 6, 7, 8, 9, 4]"
      ]
     },
     "execution_count": 125,
     "metadata": {},
     "output_type": "execute_result"
    }
   ],
   "source": [
    "#another another way which works\n",
    "from itertools import groupby\n",
    "Original_list=[0, 0, 1, 2, 3, 4, 4, 5, 6, 6, 6, 7, 8, 9, 4, 4]\n",
    "def dupl(num):\n",
    "    return [key for key, group in groupby(num)]\n",
    "dupl(Original_list)"
   ]
  },
  {
   "cell_type": "markdown",
   "metadata": {
    "id": "jGK8E-ByVgTA"
   },
   "source": [
    "Q.7. Write a Python program to generate a list, containing the Fibonacci sequence, up until the nth term. Go to the editor\n",
    "\n",
    "Sample Output:\n",
    "### First 7 Fibonacci numbers : [0, 1, 1, 2, 3, 5, 8, 13]\n",
    "\n",
    "### First 15 Fibonacci numbers: ?\n",
    "\n",
    "\n",
    "### First 50 Fibonacci numbers: ?\n",
    "\n"
   ]
  },
  {
   "cell_type": "code",
   "execution_count": null,
   "metadata": {
    "id": "G9n-7rwqVv8d"
   },
   "outputs": [],
   "source": []
  },
  {
   "cell_type": "markdown",
   "metadata": {
    "id": "qofYsgxcW32D"
   },
   "source": [
    "Q.8. Write a Python program to sort one list based on another list containing the desired indexes.\n",
    "\n",
    "* Use zip() and sorted() to combine and sort the two lists, based on the values of indexes.\n",
    "* Use a list comprehension to get the first element of each pair from the result\n",
    "* Use the reverse parameter in sorted() to sort the dictionary in reverse order, based on the third argument\n",
    "\n",
    "l1 = ['eggs', 'bread', 'oranges', 'jam', 'apples', 'milk']\n",
    "\n",
    "l2 = [3, 2, 6, 4, 1, 5]"
   ]
  },
  {
   "cell_type": "code",
   "execution_count": null,
   "metadata": {
    "id": "OXKaAfTtXGRg"
   },
   "outputs": [],
   "source": []
  },
  {
   "cell_type": "markdown",
   "metadata": {
    "id": "ZyjoeuvjYKhw"
   },
   "source": [
    "Q.9.  Write a Python program to find the maximum and minimum value of the three given lists. Go to the editor\n",
    "\n",
    "Original lists:\n",
    "\n",
    "[2, 3, 5, 8, 7, 2, 3]\n",
    "\n",
    "[4, 3, 9, 0, 4, 3, 9]\n",
    "\n",
    "[2, 1, 5, 6, 5, 5, 4]\n",
    "\n",
    "Maximum value of the said three lists : 9\n",
    "\n",
    "Minimum value of the said three lists : 0"
   ]
  },
  {
   "cell_type": "code",
   "execution_count": null,
   "metadata": {
    "id": "fCla-JvIXIrV"
   },
   "outputs": [],
   "source": []
  },
  {
   "cell_type": "markdown",
   "metadata": {
    "id": "nqVyA5ndYumS"
   },
   "source": [
    "Q.10. Write a Python program to create the smallest possible number using the elements of a given list of positive integers. Go to the editor\n",
    "\n",
    "#### Original list:\n",
    "\n",
    "[3, 40, 41, 43, 74, 9]\n",
    "\n",
    "Smallest possible number using the elements of the said list of positive integers:\n",
    "\n",
    "3404143749\n",
    "\n",
    "#### Original list:\n",
    "\n",
    "[10, 40, 20, 30, 50, 60]\n",
    "\n",
    "Smallest possible number using the elements of the said list of positive integers:\n",
    "\n",
    "102030405060\n",
    "\n",
    "#### Original list:\n",
    "\n",
    "[8, 4, 2, 9, 5, 6, 1, 0]\n",
    "\n",
    "Smallest possible number using the elements of the said list of positive integers:\n",
    "\n",
    "01245689"
   ]
  },
  {
   "cell_type": "code",
   "execution_count": null,
   "metadata": {
    "id": "fJJdYXuCY48f"
   },
   "outputs": [],
   "source": []
  }
 ],
 "metadata": {
  "colab": {
   "collapsed_sections": [],
   "name": "Python_Data_Type_List_Exercises_.ipynb",
   "private_outputs": true,
   "provenance": []
  },
  "kernelspec": {
   "display_name": "Python 3",
   "language": "python",
   "name": "python3"
  },
  "language_info": {
   "codemirror_mode": {
    "name": "ipython",
    "version": 3
   },
   "file_extension": ".py",
   "mimetype": "text/x-python",
   "name": "python",
   "nbconvert_exporter": "python",
   "pygments_lexer": "ipython3",
   "version": "3.8.8"
  }
 },
 "nbformat": 4,
 "nbformat_minor": 1
}
