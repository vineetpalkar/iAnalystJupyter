{
 "cells": [
  {
   "cell_type": "code",
   "execution_count": null,
   "metadata": {},
   "outputs": [],
   "source": [
    "a=int(input())"
   ]
  },
  {
   "cell_type": "code",
   "execution_count": null,
   "metadata": {},
   "outputs": [],
   "source": [
    "b=int(input())"
   ]
  },
  {
   "cell_type": "code",
   "execution_count": null,
   "metadata": {},
   "outputs": [],
   "source": [
    "c=int(a+b)"
   ]
  },
  {
   "cell_type": "code",
   "execution_count": null,
   "metadata": {},
   "outputs": [],
   "source": [
    "print(c)"
   ]
  },
  {
   "cell_type": "code",
   "execution_count": null,
   "metadata": {},
   "outputs": [],
   "source": [
    "type(a)"
   ]
  },
  {
   "cell_type": "code",
   "execution_count": null,
   "metadata": {},
   "outputs": [],
   "source": [
    "def add():\n",
    "    x=int(input(\"Please enter the value of x\",))\n",
    "    y=int(input(\"Please enter the value of y\",))\n",
    "    z=x+y\n",
    "    print(\"The addition of x & y is \",z)"
   ]
  },
  {
   "cell_type": "code",
   "execution_count": 3,
   "metadata": {},
   "outputs": [
    {
     "name": "stdout",
     "output_type": "stream",
     "text": [
      "Please enter the value of x8\n",
      "Please enter the value of y5\n",
      "The addition of x & y is  13\n"
     ]
    }
   ],
   "source": [
    "add()"
   ]
  },
  {
   "cell_type": "code",
   "execution_count": 3,
   "metadata": {},
   "outputs": [],
   "source": [
    "def calculator():\n",
    "    x=int(input(\"Please enter the value of x\",))\n",
    "    y=int(input(\"Please enter the value of y\",))\n",
    "    \n",
    "    print(\"1=Addition \\n2=Subtraction \\n3=Multiplication \\n4=Division\")\n",
    "    c=int(input(\"Please input your choice\",))\n",
    "    if 1==c:\n",
    "        z=x+y\n",
    "        print(z)\n",
    "    elif 2==c:\n",
    "        z=x-y\n",
    "        print(z)\n",
    "    elif 3==c:\n",
    "        z=x*y\n",
    "        print(z)\n",
    "    elif 4==c:\n",
    "        z=x/y\n",
    "        print(z)\n",
    "    else:\n",
    "        print(\"Please enter a valid choice\")\n",
    "    "
   ]
  },
  {
   "cell_type": "code",
   "execution_count": 4,
   "metadata": {},
   "outputs": [
    {
     "name": "stdout",
     "output_type": "stream",
     "text": [
      "Please enter the value of x6\n",
      "Please enter the value of y8\n",
      "1=Addition \n",
      "2=Subtraction \n",
      "3=Multiplication \n",
      "4=Division\n",
      "Please input your choice2\n",
      "-2\n"
     ]
    }
   ],
   "source": [
    "calculator()"
   ]
  },
  {
   "cell_type": "code",
   "execution_count": 1,
   "metadata": {},
   "outputs": [],
   "source": [
    "def calculator(x,y):\n",
    "    N1=x\n",
    "    N2=y\n",
    "    c=str(input(\"Please tell your choice: \\nAddition \\nSubtraction \\nMultiplication \\nDivision\\n\",))\n",
    "    if str(\"Addition\")==c:\n",
    "        z=N1+N2\n",
    "        print(z)\n",
    "    elif str(\"Subtraction\")==c:\n",
    "        z=N1-N2\n",
    "        print(z)\n",
    "    elif str(\"Multiplication\")==c:\n",
    "        z=N1*N2\n",
    "        print(z)\n",
    "    elif (\"Division\")==c:\n",
    "        z=N1/N2\n",
    "        print(z)\n",
    "    else:\n",
    "        print(\"Please enter a valid choice\")"
   ]
  },
  {
   "cell_type": "code",
   "execution_count": 2,
   "metadata": {},
   "outputs": [
    {
     "name": "stdout",
     "output_type": "stream",
     "text": [
      "Please tell your choice: \n",
      "Addition \n",
      "Subtraction \n",
      "Multiplication \n",
      "Division\n",
      "Multiplication\n",
      "20\n"
     ]
    }
   ],
   "source": [
    "calculator(4,5)"
   ]
  },
  {
   "cell_type": "code",
   "execution_count": 11,
   "metadata": {},
   "outputs": [],
   "source": [
    "def calculator(x,y):\n",
    "    N1=x\n",
    "    N2=y\n",
    "    c=str(input(\"Please tell your choice: \\nAddition\" ,))\n",
    "    Addition==c\n",
    "    z=N1+N2\n",
    "    print(z)"
   ]
  },
  {
   "cell_type": "code",
   "execution_count": 13,
   "metadata": {},
   "outputs": [
    {
     "name": "stdout",
     "output_type": "stream",
     "text": [
      "Please tell your choice: \n",
      "AdditionAddition\n"
     ]
    },
    {
     "ename": "NameError",
     "evalue": "name 'Addition' is not defined",
     "output_type": "error",
     "traceback": [
      "\u001b[1;31m---------------------------------------------------------------------------\u001b[0m",
      "\u001b[1;31mNameError\u001b[0m                                 Traceback (most recent call last)",
      "\u001b[1;32m<ipython-input-13-2173b91c55dd>\u001b[0m in \u001b[0;36m<module>\u001b[1;34m\u001b[0m\n\u001b[1;32m----> 1\u001b[1;33m \u001b[0mcalculator\u001b[0m\u001b[1;33m(\u001b[0m\u001b[1;36m4\u001b[0m\u001b[1;33m,\u001b[0m\u001b[1;36m5\u001b[0m\u001b[1;33m)\u001b[0m\u001b[1;33m\u001b[0m\u001b[1;33m\u001b[0m\u001b[0m\n\u001b[0m",
      "\u001b[1;32m<ipython-input-11-92db19866c6a>\u001b[0m in \u001b[0;36mcalculator\u001b[1;34m(x, y)\u001b[0m\n\u001b[0;32m      3\u001b[0m     \u001b[0mN2\u001b[0m\u001b[1;33m=\u001b[0m\u001b[0my\u001b[0m\u001b[1;33m\u001b[0m\u001b[1;33m\u001b[0m\u001b[0m\n\u001b[0;32m      4\u001b[0m     \u001b[0mc\u001b[0m\u001b[1;33m=\u001b[0m\u001b[0mstr\u001b[0m\u001b[1;33m(\u001b[0m\u001b[0minput\u001b[0m\u001b[1;33m(\u001b[0m\u001b[1;34m\"Please tell your choice: \\nAddition\"\u001b[0m \u001b[1;33m,\u001b[0m\u001b[1;33m)\u001b[0m\u001b[1;33m)\u001b[0m\u001b[1;33m\u001b[0m\u001b[1;33m\u001b[0m\u001b[0m\n\u001b[1;32m----> 5\u001b[1;33m     \u001b[0mAddition\u001b[0m\u001b[1;33m==\u001b[0m\u001b[0mc\u001b[0m\u001b[1;33m\u001b[0m\u001b[1;33m\u001b[0m\u001b[0m\n\u001b[0m\u001b[0;32m      6\u001b[0m     \u001b[0mz\u001b[0m\u001b[1;33m=\u001b[0m\u001b[0mN1\u001b[0m\u001b[1;33m+\u001b[0m\u001b[0mN2\u001b[0m\u001b[1;33m\u001b[0m\u001b[1;33m\u001b[0m\u001b[0m\n\u001b[0;32m      7\u001b[0m     \u001b[0mprint\u001b[0m\u001b[1;33m(\u001b[0m\u001b[0mz\u001b[0m\u001b[1;33m)\u001b[0m\u001b[1;33m\u001b[0m\u001b[1;33m\u001b[0m\u001b[0m\n",
      "\u001b[1;31mNameError\u001b[0m: name 'Addition' is not defined"
     ]
    }
   ],
   "source": [
    "calculator(4,5)"
   ]
  },
  {
   "cell_type": "code",
   "execution_count": 3,
   "metadata": {},
   "outputs": [],
   "source": [
    "def calculator(x,y,choice):\n",
    "    N1=int(x)\n",
    "    N2=int(y)\n",
    "    c=str(choice)\n",
    "    if c==str(\"Addition\"):\n",
    "        z=N1+N2\n",
    "        print(z)\n",
    "    elif c==str(\"Subtraction\"):\n",
    "        z=N1-N2\n",
    "        print(z)\n",
    "    elif c==str(\"Multiplication\"):\n",
    "        z=N1*N2\n",
    "        print(z)\n",
    "    elif c==str(\"Division\"):\n",
    "        z=N1/N2\n",
    "        print(z)\n",
    "    else:\n",
    "        print(\"Please enter a valid choice\")"
   ]
  },
  {
   "cell_type": "code",
   "execution_count": 4,
   "metadata": {},
   "outputs": [
    {
     "name": "stdout",
     "output_type": "stream",
     "text": [
      "8\n"
     ]
    }
   ],
   "source": [
    "calculator(2,4,\"Multiplication\")"
   ]
  },
  {
   "cell_type": "code",
   "execution_count": 18,
   "metadata": {},
   "outputs": [],
   "source": [
    "def calculator(x,y,choice):\n",
    "    N1=int(x)\n",
    "    N2=int(y)\n",
    "    c=str(choice)\n",
    "    if c==str(\"+\"):\n",
    "        z=N1+N2\n",
    "        print(z)\n",
    "    elif c==str(\"-\"):\n",
    "        z=N1-N2\n",
    "        print(z)\n",
    "    elif c==str(\"*\"):\n",
    "        z=N1*N2\n",
    "        print(z)\n",
    "    elif c==str(\"/\"):\n",
    "        z=N1/N2\n",
    "        print(z)\n",
    "    else:\n",
    "        print(\"Please enter a valid choice\")"
   ]
  },
  {
   "cell_type": "code",
   "execution_count": 21,
   "metadata": {},
   "outputs": [
    {
     "name": "stdout",
     "output_type": "stream",
     "text": [
      "72\n"
     ]
    }
   ],
   "source": [
    "calculator(8,9,str(\"*\"))"
   ]
  },
  {
   "cell_type": "code",
   "execution_count": 2,
   "metadata": {},
   "outputs": [],
   "source": [
    "import Untitled as ut"
   ]
  },
  {
   "cell_type": "code",
   "execution_count": 5,
   "metadata": {},
   "outputs": [
    {
     "name": "stdout",
     "output_type": "stream",
     "text": [
      "Please enter the value of x5\n",
      "Please enter the value of y2\n"
     ]
    }
   ],
   "source": [
    "ut.add()"
   ]
  },
  {
   "cell_type": "code",
   "execution_count": null,
   "metadata": {},
   "outputs": [],
   "source": []
  }
 ],
 "metadata": {
  "kernelspec": {
   "display_name": "Python 3",
   "language": "python",
   "name": "python3"
  },
  "language_info": {
   "codemirror_mode": {
    "name": "ipython",
    "version": 3
   },
   "file_extension": ".py",
   "mimetype": "text/x-python",
   "name": "python",
   "nbconvert_exporter": "python",
   "pygments_lexer": "ipython3",
   "version": "3.7.4"
  }
 },
 "nbformat": 4,
 "nbformat_minor": 2
}
