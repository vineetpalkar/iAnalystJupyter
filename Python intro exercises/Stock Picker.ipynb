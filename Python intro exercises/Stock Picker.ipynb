{
 "cells": [
  {
   "cell_type": "markdown",
   "id": "fd2326bd",
   "metadata": {},
   "source": [
    "You will be given a list of stock prices for a given day and your goal is to return the maximum profit that could have been made by buying a stock at the given price and then selling the stock later on. For example if the input is: [45, 24, 35, 31, 40, 38, 11] then your program should return 16 because if you bought the stock at $24  and sold  it at  $40, a profit of $16 was made and this is the largest profit that could be made. If no profit could have been made, return -1."
   ]
  },
  {
   "cell_type": "markdown",
   "id": "36474d66",
   "metadata": {},
   "source": [
    "Algorithm\n",
    "\n",
    "We'll solve the challenge the following way:\n",
    "\n",
    "(1) Iterate through each number in the list.\n",
    "\n",
    "(2) At the ith index, get the i+1 index price and check if it is larger than the ith index price.\n",
    "\n",
    "(3) If so, set buy_price = i and sell_price = i+1. Then calculate the profit: sell_price - buy_price.\n",
    "\n",
    "(4) If a stock price is found that is cheaper than the current buy_price, set this to be the new buying price and continue from step 2.\n",
    "\n",
    "(5) Otherwise, continue changing only the sell_price and keep buy_price set."
   ]
  },
  {
   "cell_type": "code",
   "execution_count": null,
   "id": "735453e8",
   "metadata": {},
   "outputs": [],
   "source": []
  },
  {
   "cell_type": "code",
   "execution_count": null,
   "id": "78680cee",
   "metadata": {},
   "outputs": [],
   "source": []
  },
  {
   "cell_type": "code",
   "execution_count": 2,
   "id": "d95c1083",
   "metadata": {},
   "outputs": [
    {
     "ename": "SyntaxError",
     "evalue": "invalid syntax (<ipython-input-2-ca2d2f6935c0>, line 1)",
     "output_type": "error",
     "traceback": [
      "\u001b[1;36m  File \u001b[1;32m\"<ipython-input-2-ca2d2f6935c0>\"\u001b[1;36m, line \u001b[1;32m1\u001b[0m\n\u001b[1;33m    def StockPicker(arr) {\u001b[0m\n\u001b[1;37m                         ^\u001b[0m\n\u001b[1;31mSyntaxError\u001b[0m\u001b[1;31m:\u001b[0m invalid syntax\n"
     ]
    }
   ],
   "source": [
    "def StockPicker(arr):\n",
    "    max_profit = -1\n",
    "    buy_price = 0\n",
    "    sell_price = 0\n",
    "    \n",
    "    change_buy_index = true;                        #this allows our loop to keep iterating the buying price until a cheap stock price is found\n",
    "  \n",
    "  for (i = 0; i < arr.length-1; i++) {              # loop through list of stock prices once\n",
    "    \n",
    "    sell_price = arr[i+1];                            #// selling price is the next element in list\n",
    "    \n",
    "    if (change_buy_index) { buy_price = arr[i]; }     # // if we have not found a suitable cheap buying price yet\n",
    "                                                      #// we set the buying price equal to the current element\n",
    "    \n",
    "    if (sell_price < buy_price) {                     #// if the selling price is less than the buying price\n",
    "                                                      #// we know we cannot make a profit so we continue to the \n",
    "                                                      #// next element in the list which will be the new buying price\n",
    "      change_buy_index = true; \n",
    "      continue;\n",
    "    }\n",
    "    \n",
    "    else {                                            #// if the selling price is greater than the buying price\n",
    "                                                      #// we check to see if these two indices give us a better \n",
    "                                                      #// profit then what we currently have\n",
    "      var temp_profit = sell_price - buy_price;\n",
    "      if (temp_profit > max_profit) { max_profit = temp_profit; }\n",
    "      change_buy_index = false;\n",
    "    }\n",
    "    \n",
    "  }\n",
    "  \n",
    "  return max_profit;\n",
    "         \n",
    "}\n"
   ]
  },
  {
   "cell_type": "code",
   "execution_count": null,
   "id": "0c8c1307",
   "metadata": {},
   "outputs": [],
   "source": [
    "StockPicker([44, 30, 24, 32, 35, 30, 40, 38, 15]);  "
   ]
  },
  {
   "cell_type": "code",
   "execution_count": null,
   "id": "3a4c3060",
   "metadata": {},
   "outputs": [],
   "source": []
  },
  {
   "cell_type": "code",
   "execution_count": null,
   "id": "dd45964a",
   "metadata": {},
   "outputs": [],
   "source": []
  },
  {
   "cell_type": "code",
   "execution_count": 3,
   "id": "3f1c8cb7",
   "metadata": {},
   "outputs": [],
   "source": [
    "from collections import deque\n",
    "\n",
    "\n",
    "def stock_max_profit(prices):\n",
    "    max = 0\n",
    "    prices = deque(prices)\n",
    "    buy_price = prices.popleft()\n",
    "\n",
    "\n",
    "    for price in prices:\n",
    "\n",
    "\n",
    "        if price < buy_price:\n",
    "            buy_price = price\n",
    "\n",
    "\n",
    "        else:\n",
    "            profit = price - buy_price\n",
    "\n",
    "\n",
    "            if profit > max:\n",
    "                max = profit\n",
    "\n",
    "\n",
    "    if max:\n",
    "        return max\n",
    "    else:\n",
    "        return -1\n",
    "\n",
    "\n"
   ]
  },
  {
   "cell_type": "code",
   "execution_count": 21,
   "id": "17bf2f14",
   "metadata": {},
   "outputs": [
    {
     "name": "stdout",
     "output_type": "stream",
     "text": [
      "16\n"
     ]
    }
   ],
   "source": [
    "prices = [44, 30, 24, 32, 35, 30, 40, 38, 15]\n",
    "max_profit = stock_max_profit(prices)\n",
    "print(max_profit)"
   ]
  },
  {
   "cell_type": "code",
   "execution_count": null,
   "id": "10088b84",
   "metadata": {},
   "outputs": [],
   "source": []
  },
  {
   "cell_type": "code",
   "execution_count": null,
   "id": "e30c6a64",
   "metadata": {},
   "outputs": [],
   "source": []
  },
  {
   "cell_type": "code",
   "execution_count": 88,
   "id": "c94d3be2",
   "metadata": {},
   "outputs": [],
   "source": [
    "def StockPicker(arr):\n",
    "    profit = []\n",
    "    for i in range(len(arr)):\n",
    "        minim = arr[i+1:]\n",
    "        for j in minim:\n",
    "            if arr[i] < j:\n",
    "                z = j - arr[i]\n",
    "                profit.append(z)\n",
    "    if (profit == []):\n",
    "        return -1\n",
    "    else:\n",
    "        return max(profit)      \n"
   ]
  },
  {
   "cell_type": "code",
   "execution_count": 93,
   "id": "8eec69d5",
   "metadata": {},
   "outputs": [
    {
     "data": {
      "text/plain": [
       "3"
      ]
     },
     "execution_count": 93,
     "metadata": {},
     "output_type": "execute_result"
    }
   ],
   "source": [
    "StockPicker([15,6,9,7,3,1])"
   ]
  },
  {
   "cell_type": "code",
   "execution_count": null,
   "id": "c03c3193",
   "metadata": {},
   "outputs": [],
   "source": []
  },
  {
   "cell_type": "code",
   "execution_count": 22,
   "id": "73e6bc10",
   "metadata": {},
   "outputs": [],
   "source": [
    "def extract_rating_from_string(str1):\n",
    "    return float(str1.split()[0])\n",
    "    \n",
    "def round_rating_to_half(rating):\n",
    "    return round(rating * 2) / 2\n",
    "\n",
    "def StarRating(str1):\n",
    "    full_star = 'full '\n",
    "    half_star = 'half '\n",
    "    empty_star = 'empty '\n",
    "    \n",
    "    rating_float = extract_rating_from_string(str1)\n",
    "    rounded_rating = round_rating_to_half(rating_float)\n",
    "\n",
    "    if divmod(rounded_rating, 1)[1] == 0.5:\n",
    "        return int(rounded_rating)*full_star + half_star + empty_star*(4 - int(rounded_rating))\n",
    "    elif divmod(rounded_rating, 1)[0] < 5:\n",
    "        return int(rounded_rating)*full_star + empty_star*(5 - int(rounded_rating))\n",
    "    else: \n",
    "        return int(rounded_rating)*full_star"
   ]
  },
  {
   "cell_type": "code",
   "execution_count": 28,
   "id": "5c9b5f7c",
   "metadata": {},
   "outputs": [
    {
     "data": {
      "text/plain": [
       "'full full full full empty '"
      ]
     },
     "execution_count": 28,
     "metadata": {},
     "output_type": "execute_result"
    }
   ],
   "source": [
    "StarRating('4.2')"
   ]
  },
  {
   "cell_type": "code",
   "execution_count": null,
   "id": "3ad7d866",
   "metadata": {},
   "outputs": [],
   "source": []
  }
 ],
 "metadata": {
  "kernelspec": {
   "display_name": "Python 3",
   "language": "python",
   "name": "python3"
  },
  "language_info": {
   "codemirror_mode": {
    "name": "ipython",
    "version": 3
   },
   "file_extension": ".py",
   "mimetype": "text/x-python",
   "name": "python",
   "nbconvert_exporter": "python",
   "pygments_lexer": "ipython3",
   "version": "3.8.8"
  }
 },
 "nbformat": 4,
 "nbformat_minor": 5
}
