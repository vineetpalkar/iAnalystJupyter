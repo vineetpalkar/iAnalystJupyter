{
 "cells": [
  {
   "cell_type": "markdown",
   "id": "6e74f2ce",
   "metadata": {},
   "source": [
    "1. Palindrome\n",
    "2. Factorial\n",
    "3. Reverse \n",
    "4. star pattern\n",
    "5. prime numbers\n",
    "6. fibonacci series"
   ]
  },
  {
   "cell_type": "code",
   "execution_count": 7,
   "id": "fe5c597b",
   "metadata": {},
   "outputs": [],
   "source": [
    "import pandas as pd\n",
    "import numpy as np"
   ]
  },
  {
   "cell_type": "markdown",
   "id": "109ad856",
   "metadata": {},
   "source": [
    "## Palindrome"
   ]
  },
  {
   "cell_type": "code",
   "execution_count": 34,
   "id": "99f75b5d",
   "metadata": {},
   "outputs": [],
   "source": [
    "def palin(abc):\n",
    "    if abc== abc[::-1]:\n",
    "        return (\"num is palidrome\")\n",
    "    else:\n",
    "        return (\"not palin\")"
   ]
  },
  {
   "cell_type": "code",
   "execution_count": 36,
   "id": "edf59109",
   "metadata": {},
   "outputs": [
    {
     "data": {
      "text/plain": [
       "'not palin'"
      ]
     },
     "execution_count": 36,
     "metadata": {},
     "output_type": "execute_result"
    }
   ],
   "source": [
    "palin(\"howdy\")"
   ]
  },
  {
   "cell_type": "code",
   "execution_count": null,
   "id": "e4a9b1f6",
   "metadata": {},
   "outputs": [],
   "source": []
  },
  {
   "cell_type": "markdown",
   "id": "4508d05e",
   "metadata": {},
   "source": [
    "## Factorial"
   ]
  },
  {
   "cell_type": "code",
   "execution_count": 65,
   "id": "e1a3dc5e",
   "metadata": {},
   "outputs": [],
   "source": [
    "#write a code to print the foactorial\n",
    "\n",
    "def fact(num):\n",
    "    num= int(num)\n",
    "    ans=1\n",
    "    \n",
    "    for i in range(num):    #while num>1\n",
    "        if num>1:\n",
    "            ans = ans*(num)\n",
    "            num -=1\n",
    "    return ans"
   ]
  },
  {
   "cell_type": "code",
   "execution_count": 66,
   "id": "ecfe29ac",
   "metadata": {},
   "outputs": [
    {
     "data": {
      "text/plain": [
       "24"
      ]
     },
     "execution_count": 66,
     "metadata": {},
     "output_type": "execute_result"
    }
   ],
   "source": [
    "fact(4)"
   ]
  },
  {
   "cell_type": "code",
   "execution_count": null,
   "id": "198ca8aa",
   "metadata": {},
   "outputs": [],
   "source": []
  },
  {
   "cell_type": "markdown",
   "id": "89d35ed0",
   "metadata": {},
   "source": [
    "## Reversing "
   ]
  },
  {
   "cell_type": "code",
   "execution_count": 67,
   "id": "e492edc2",
   "metadata": {},
   "outputs": [],
   "source": [
    "def rev(abc):\n",
    "    return abc[::-1]"
   ]
  },
  {
   "cell_type": "code",
   "execution_count": 68,
   "id": "f05e58bc",
   "metadata": {},
   "outputs": [
    {
     "data": {
      "text/plain": [
       "'onomik'"
      ]
     },
     "execution_count": 68,
     "metadata": {},
     "output_type": "execute_result"
    }
   ],
   "source": [
    "rev(\"kimono\")"
   ]
  },
  {
   "cell_type": "code",
   "execution_count": null,
   "id": "bd844c3b",
   "metadata": {},
   "outputs": [],
   "source": []
  },
  {
   "cell_type": "markdown",
   "id": "dbd998ac",
   "metadata": {},
   "source": [
    "## Star Pattern"
   ]
  },
  {
   "cell_type": "code",
   "execution_count": 31,
   "id": "c5db5b85",
   "metadata": {},
   "outputs": [],
   "source": [
    "def star(num):\n",
    "    num= int(num)\n",
    "    #num= int(input(\"How many star rows do you want?\"))\n",
    "    \n",
    "    while num>0:\n",
    "        print (('*' * num), end=\"\\n\")\n",
    "        num-=1\n",
    "    "
   ]
  },
  {
   "cell_type": "code",
   "execution_count": 32,
   "id": "f7dfc556",
   "metadata": {},
   "outputs": [
    {
     "name": "stdout",
     "output_type": "stream",
     "text": [
      "111111\n",
      "11111\n",
      "1111\n",
      "111\n",
      "11\n",
      "1\n"
     ]
    }
   ],
   "source": [
    "star(6)"
   ]
  },
  {
   "cell_type": "code",
   "execution_count": 43,
   "id": "0e944464",
   "metadata": {},
   "outputs": [
    {
     "name": "stdout",
     "output_type": "stream",
     "text": [
      "number of stars5\n",
      "*\n",
      "**\n",
      "***\n",
      "****\n",
      "*****\n"
     ]
    }
   ],
   "source": [
    "# Left triangle star pattern\n",
    "n = int(input(\"number of stars\"))\n",
    "\n",
    "for i in range(1, n+1):\n",
    "    print(\"*\" * i)"
   ]
  },
  {
   "cell_type": "code",
   "execution_count": 49,
   "id": "745003e4",
   "metadata": {},
   "outputs": [
    {
     "name": "stdout",
     "output_type": "stream",
     "text": [
      "number of stars5\n",
      "    *\n",
      "   **\n",
      "  ***\n",
      " ****\n",
      "*****\n"
     ]
    }
   ],
   "source": [
    "# Left triangle star pattern\n",
    "sn = int(input(\"number of stars\"))\n",
    "\n",
    "for i in range(1, n+1):\n",
    "    print(\" \" * (n - i) + \"*\" * i)"
   ]
  },
  {
   "cell_type": "code",
   "execution_count": 50,
   "id": "496b8427",
   "metadata": {},
   "outputs": [
    {
     "name": "stdout",
     "output_type": "stream",
     "text": [
      "number of stars5\n",
      "    *\n",
      "   ***\n",
      "  *****\n",
      " *******\n",
      "*********\n"
     ]
    }
   ],
   "source": [
    "# pyramid star pattern\n",
    "n = int(input(\"number of stars\"))\n",
    "\n",
    "for i in range(n):\n",
    "    print(' ' * (n - (i + 1)) + '*' * (2 * i + 1))"
   ]
  },
  {
   "cell_type": "code",
   "execution_count": null,
   "id": "706c6ac5",
   "metadata": {},
   "outputs": [],
   "source": []
  },
  {
   "cell_type": "markdown",
   "id": "52bba138",
   "metadata": {},
   "source": [
    "## Prime numbers"
   ]
  },
  {
   "cell_type": "code",
   "execution_count": 56,
   "id": "a57b6037",
   "metadata": {},
   "outputs": [
    {
     "name": "stdout",
     "output_type": "stream",
     "text": [
      "Enter a number1\n",
      "Not prime\n"
     ]
    }
   ],
   "source": [
    "n = int(input(\"Enter a number \"))\n",
    "if n<=1:\n",
    "    print(\"Not prime\")\n",
    "else:\n",
    "    for i in range(2,n):\n",
    "        if n%i ==0:\n",
    "            print(\"not prime\")\n",
    "            break\n",
    "        else:\n",
    "            print(\"Number is prime\")\n",
    "            break"
   ]
  },
  {
   "cell_type": "code",
   "execution_count": null,
   "id": "aa64ff68",
   "metadata": {},
   "outputs": [],
   "source": []
  },
  {
   "cell_type": "code",
   "execution_count": 71,
   "id": "9c027853",
   "metadata": {},
   "outputs": [
    {
     "name": "stdout",
     "output_type": "stream",
     "text": [
      "enter a number 9\n",
      "2\n",
      "3\n",
      "5\n",
      "7\n"
     ]
    }
   ],
   "source": [
    "#Print prime numbers below n\n",
    "n= int(input(\"enter a number \"))\n",
    "\n",
    "for num in range(1, n + 1):\n",
    "   # all prime numbers are greater than 1\n",
    "   if num > 1:\n",
    "        for i in range(2, num):\n",
    "            if (num % i) == 0:\n",
    "                break\n",
    "        else:\n",
    "            print(num)     "
   ]
  },
  {
   "cell_type": "code",
   "execution_count": null,
   "id": "87970154",
   "metadata": {},
   "outputs": [],
   "source": []
  },
  {
   "cell_type": "markdown",
   "id": "ad107b78",
   "metadata": {},
   "source": [
    "## Fibonacci series"
   ]
  },
  {
   "cell_type": "code",
   "execution_count": 61,
   "id": "d8764ee2",
   "metadata": {},
   "outputs": [
    {
     "name": "stdout",
     "output_type": "stream",
     "text": [
      "Enter a number0\n",
      "[1, 1]\n"
     ]
    }
   ],
   "source": [
    "n = int(input(\"Enter a number\"))\n",
    "\n",
    "fib= [1,1]\n",
    "for i in range(3, n+1):\n",
    "    fib.append(fib[-1]+fib[-2])\n",
    "print(fib)"
   ]
  },
  {
   "cell_type": "code",
   "execution_count": null,
   "id": "05091bad",
   "metadata": {},
   "outputs": [],
   "source": []
  },
  {
   "cell_type": "code",
   "execution_count": 9,
   "id": "7f020d51",
   "metadata": {},
   "outputs": [],
   "source": [
    "def prime(lp, up):\n",
    "    up = int(up)\n",
    "    lp= int(lp)\n",
    "    \n",
    "    for num in range(lp, up+1):\n",
    "        if num>1:\n",
    "            for i in range(2,num):\n",
    "                if num%i ==0:\n",
    "                    break\n",
    "            else:\n",
    "                print(num)"
   ]
  },
  {
   "cell_type": "code",
   "execution_count": 10,
   "id": "1829c11f",
   "metadata": {},
   "outputs": [
    {
     "name": "stdout",
     "output_type": "stream",
     "text": [
      "41\n",
      "43\n",
      "47\n",
      "53\n",
      "59\n",
      "61\n",
      "67\n"
     ]
    }
   ],
   "source": [
    "prime(40,69)"
   ]
  },
  {
   "cell_type": "code",
   "execution_count": 8,
   "id": "85f04f25",
   "metadata": {},
   "outputs": [
    {
     "name": "stdout",
     "output_type": "stream",
     "text": [
      "Enter any number5\n",
      "2\n",
      "3\n",
      "5\n"
     ]
    }
   ],
   "source": [
    "n= int(input(\"Enter any number\")) \n",
    "\n",
    "for num in range(1, n + 1):\n",
    "  \n",
    "   if num > 1:\n",
    "        for i in range(2, num):\n",
    "            if (num % i) == 0:\n",
    "                break\n",
    "        else:\n",
    "            print(num) "
   ]
  },
  {
   "cell_type": "code",
   "execution_count": null,
   "id": "bff84dde",
   "metadata": {},
   "outputs": [],
   "source": []
  },
  {
   "cell_type": "code",
   "execution_count": 17,
   "id": "0325921d",
   "metadata": {},
   "outputs": [
    {
     "name": "stdout",
     "output_type": "stream",
     "text": [
      "enter number3\n",
      "6\n"
     ]
    }
   ],
   "source": [
    "n= int(input(\"enter number\"))\n",
    "\n",
    "ans=1\n",
    "for i in range(1,n):\n",
    "    ans= ans*n\n",
    "    n-=1\n",
    "print(ans)"
   ]
  },
  {
   "cell_type": "code",
   "execution_count": null,
   "id": "fab31e42",
   "metadata": {},
   "outputs": [],
   "source": []
  },
  {
   "cell_type": "code",
   "execution_count": null,
   "id": "ea158793",
   "metadata": {},
   "outputs": [],
   "source": []
  },
  {
   "cell_type": "code",
   "execution_count": null,
   "id": "869faecd",
   "metadata": {},
   "outputs": [],
   "source": []
  }
 ],
 "metadata": {
  "kernelspec": {
   "display_name": "Python 3",
   "language": "python",
   "name": "python3"
  },
  "language_info": {
   "codemirror_mode": {
    "name": "ipython",
    "version": 3
   },
   "file_extension": ".py",
   "mimetype": "text/x-python",
   "name": "python",
   "nbconvert_exporter": "python",
   "pygments_lexer": "ipython3",
   "version": "3.8.8"
  }
 },
 "nbformat": 4,
 "nbformat_minor": 5
}
