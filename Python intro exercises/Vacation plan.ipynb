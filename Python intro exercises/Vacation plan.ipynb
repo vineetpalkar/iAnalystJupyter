{
 "cells": [
  {
   "cell_type": "code",
   "execution_count": null,
   "metadata": {},
   "outputs": [],
   "source": [
    "\"\"\" 4_Writing_Reusable_Code_using_Functions_in_Python.ipynb (shared by ajay mane sir)\n",
    "Exercise - Data Analysis for Vacation Planning\n",
    "\n",
    "You're planning a vacation, and you need to decide which city you want to visit. You have shortlisted four cities and identified the return flight cost, daily hotel cost, and weekly car rental cost. While renting a car, you need to pay for entire weeks, even if you return the car sooner.\n",
    "\n",
    "City\tReturn Flight ($)\tHotel per day ($)\tWeekly Car Rental ($)\n",
    "Paris\t200\t20\t200\n",
    "London\t250\t30\t120\n",
    "Dubai\t370\t15\t80\n",
    "Mumbai\t450\t10\t70\n",
    "Answer the following questions using the data above:\n",
    "\n",
    "If you're planning a 1-week long trip, which city should you visit to spend the least amount of money?\n",
    "How does the answer to the previous question change if you change the trip's duration to four days, ten days or two weeks?\n",
    "If your total budget for the trip is $1000, which city should you visit to maximize the duration of your trip? Which city should you visit if you want to minimize the duration?\n",
    "How does the answer to the previous question change if your budget is $600, $2000, or $1500?\"\"\"\n",
    "\n",
    "\n"
   ]
  },
  {
   "cell_type": "code",
   "execution_count": 8,
   "metadata": {},
   "outputs": [
    {
     "name": "stdout",
     "output_type": "stream",
     "text": [
      "Enter the number of days of your vacation6\n",
      "You should visit Paris if you wish to spend the least amount of money for 6 days\n"
     ]
    }
   ],
   "source": [
    "d=int(input(\"Enter the number of days of your vacation \",))\n",
    "if d>7:\n",
    "    d1= 2\n",
    "elif d>14:\n",
    "    d1=3\n",
    "else: d1=1    \n",
    "cost_of_paris= 200+20*(d)+200*(d1)\n",
    "cost_of_london= 250+30*(d)+ 120*(d1)\n",
    "cost_of_dubai= 370+15*(d)+80*(d1)\n",
    "cost_of_mumbai= 450+10*(d)+70*(d1)\n",
    "\n",
    "if (cost_of_paris<cost_of_london) and (cost_of_paris<cost_of_dubai) and (cost_of_paris<cost_of_mumbai):\n",
    "    print(\"You should visit Paris if you wish to spend the least amount of money for {} days\".format(d))\n",
    "    \n",
    "elif(cost_of_london<cost_of_paris) and (cost_of_london<cost_of_dubai) and (cost_of_london<cost_of_mumbai):\n",
    "    print(\"You should visit London if you wish to spend the least amount of money for {} days\".format(d))\n",
    "    \n",
    "elif(cost_of_dubai<cost_of_paris) and (cost_of_dubai<cost_of_london) and (cost_of_dubai<cost_of_mumbai):\n",
    "    print(\"You should visit Dubai if you wish to spend the least amount of money for {} days\".format(d))\n",
    "    \n",
    "else: print(\"You should visit Mumbai if you wish to spend the least amount of money for {} days\".format(d))\n",
    "\n",
    "b=int(input(\"Enter the budget in $ of your vacation \",))\n"
   ]
  },
  {
   "cell_type": "code",
   "execution_count": null,
   "metadata": {},
   "outputs": [],
   "source": []
  },
  {
   "cell_type": "code",
   "execution_count": null,
   "metadata": {},
   "outputs": [],
   "source": []
  },
  {
   "cell_type": "code",
   "execution_count": null,
   "metadata": {},
   "outputs": [],
   "source": []
  },
  {
   "cell_type": "code",
   "execution_count": null,
   "metadata": {},
   "outputs": [],
   "source": []
  },
  {
   "cell_type": "code",
   "execution_count": 4,
   "metadata": {},
   "outputs": [
    {
     "name": "stdout",
     "output_type": "stream",
     "text": [
      "Enter no. of days6\n",
      "['paris', 'london', 'dubai', 'mumbai'] [520, 550, 540, 580]\n",
      "to maximise duration go to paris\n",
      "to minimise duration go to mumbai\n"
     ]
    }
   ],
   "source": [
    "n=int(input(\"Enter no. of days\",))\n",
    "def vacation_plan(city,flight,Ht_per_day,car_rent):\n",
    "    \n",
    "    total_amount = flight+(Ht_per_day*n)+car_rent\n",
    "    d[city]=total_amount\n",
    "d={}\n",
    "list1=list2=[]\n",
    "vacation_plan(\"paris\",200,20,200)\n",
    "vacation_plan(\"london\",250,30,120)\n",
    "vacation_plan(\"dubai\",370,15,80)\n",
    "vacation_plan(\"mumbai\",450,10,70)\n",
    "\n",
    "for i in d:\n",
    "    list1=list1+[i]\n",
    "    list2=list2+[d[i]]\n",
    "print(list1,list2)    \n",
    "\n",
    "for i in range(0,len(list2)):\n",
    "    if list2[i]==min(list2):\n",
    "        print(\"to maximise duration go to\", list1[i])\n",
    "    elif list2[i]==max(list2):\n",
    "        print(\"to minimise duration go to\", list1[i])"
   ]
  },
  {
   "cell_type": "code",
   "execution_count": 3,
   "metadata": {},
   "outputs": [
    {
     "ename": "NameError",
     "evalue": "name 'city' is not defined",
     "output_type": "error",
     "traceback": [
      "\u001b[1;31m---------------------------------------------------------------------------\u001b[0m",
      "\u001b[1;31mNameError\u001b[0m                                 Traceback (most recent call last)",
      "\u001b[1;32m<ipython-input-3-9a75ed2b8985>\u001b[0m in \u001b[0;36m<module>\u001b[1;34m\u001b[0m\n\u001b[0;32m      1\u001b[0m \u001b[0mtotal_amount\u001b[0m \u001b[1;33m=\u001b[0m \u001b[1;36m10\u001b[0m\u001b[1;33m\u001b[0m\u001b[1;33m\u001b[0m\u001b[0m\n\u001b[1;32m----> 2\u001b[1;33m \u001b[0md\u001b[0m\u001b[1;33m[\u001b[0m\u001b[0mcity\u001b[0m\u001b[1;33m]\u001b[0m\u001b[1;33m=\u001b[0m\u001b[0mtotal_amount\u001b[0m\u001b[1;33m\u001b[0m\u001b[1;33m\u001b[0m\u001b[0m\n\u001b[0m\u001b[0;32m      3\u001b[0m \u001b[0mtype\u001b[0m\u001b[1;33m(\u001b[0m\u001b[0md\u001b[0m\u001b[1;33m[\u001b[0m\u001b[0mcity\u001b[0m\u001b[1;33m]\u001b[0m\u001b[1;33m)\u001b[0m\u001b[1;33m\u001b[0m\u001b[1;33m\u001b[0m\u001b[0m\n",
      "\u001b[1;31mNameError\u001b[0m: name 'city' is not defined"
     ]
    }
   ],
   "source": [
    "total_amount = 10\n",
    "d[city]=total_amount\n",
    "type(d[city])"
   ]
  },
  {
   "cell_type": "code",
   "execution_count": 5,
   "metadata": {},
   "outputs": [
    {
     "data": {
      "text/plain": [
       "{'paris': 520, 'london': 550, 'dubai': 540, 'mumbai': 580}"
      ]
     },
     "execution_count": 5,
     "metadata": {},
     "output_type": "execute_result"
    }
   ],
   "source": [
    "d"
   ]
  },
  {
   "cell_type": "code",
   "execution_count": null,
   "metadata": {},
   "outputs": [],
   "source": []
  }
 ],
 "metadata": {
  "kernelspec": {
   "display_name": "Python 3",
   "language": "python",
   "name": "python3"
  },
  "language_info": {
   "codemirror_mode": {
    "name": "ipython",
    "version": 3
   },
   "file_extension": ".py",
   "mimetype": "text/x-python",
   "name": "python",
   "nbconvert_exporter": "python",
   "pygments_lexer": "ipython3",
   "version": "3.7.4"
  }
 },
 "nbformat": 4,
 "nbformat_minor": 2
}
