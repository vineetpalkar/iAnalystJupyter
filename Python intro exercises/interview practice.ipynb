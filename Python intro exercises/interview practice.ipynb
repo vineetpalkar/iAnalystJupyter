{
 "cells": [
  {
   "cell_type": "markdown",
   "id": "d288ba89",
   "metadata": {},
   "source": [
    "https://www.mygreatlearning.com/blog/python-interview-questions/#basic"
   ]
  },
  {
   "cell_type": "code",
   "execution_count": 12,
   "id": "c0944bf9",
   "metadata": {},
   "outputs": [],
   "source": [
    "import numpy as np\n",
    "import pandas as pd"
   ]
  },
  {
   "cell_type": "code",
   "execution_count": 1,
   "id": "ac320fe1",
   "metadata": {},
   "outputs": [],
   "source": [
    "## Concantenate tuplues\n",
    "tup1=(4,\"a\",31)\n",
    "tup2= (55, 9, \"b\")\n",
    "tup1+tup2"
   ]
  },
  {
   "cell_type": "code",
   "execution_count": 11,
   "id": "ea5cec4e",
   "metadata": {},
   "outputs": [
    {
     "data": {
      "text/plain": [
       "array([[0, 0, 0, 0, 0],\n",
       "       [0, 0, 0, 0, 0],\n",
       "       [0, 0, 0, 0, 0],\n",
       "       [0, 0, 0, 0, 0],\n",
       "       [0, 0, 0, 0, 0]])"
      ]
     },
     "execution_count": 11,
     "metadata": {},
     "output_type": "execute_result"
    }
   ],
   "source": [
    "## Initialize 5*5 array with only zeros\n",
    "import numpy as np\n",
    "\n",
    "np.zeros((5,5),dtype= int)"
   ]
  },
  {
   "cell_type": "code",
   "execution_count": 12,
   "id": "d12627e0",
   "metadata": {},
   "outputs": [
    {
     "name": "stdout",
     "output_type": "stream",
     "text": [
      "0        1\n",
      "1        2\n",
      "2    three\n",
      "3      4.0\n",
      "4     True\n",
      "dtype: object\n"
     ]
    }
   ],
   "source": [
    "## What is Series in pandas?\n",
    "#Series is 1D data structure which can store data of any type\n",
    "\n",
    "import pandas as pd\n",
    "data=[\"1\",2,\"three\",4.0,True]\n",
    "series=pd.Series(data)\n",
    "print(series)"
   ]
  },
  {
   "cell_type": "code",
   "execution_count": 13,
   "id": "50a2b0c7",
   "metadata": {},
   "outputs": [
    {
     "data": {
      "text/html": [
       "<div>\n",
       "<style scoped>\n",
       "    .dataframe tbody tr th:only-of-type {\n",
       "        vertical-align: middle;\n",
       "    }\n",
       "\n",
       "    .dataframe tbody tr th {\n",
       "        vertical-align: top;\n",
       "    }\n",
       "\n",
       "    .dataframe thead th {\n",
       "        text-align: right;\n",
       "    }\n",
       "</style>\n",
       "<table border=\"1\" class=\"dataframe\">\n",
       "  <thead>\n",
       "    <tr style=\"text-align: right;\">\n",
       "      <th></th>\n",
       "      <th>Vehicle</th>\n",
       "      <th>Type</th>\n",
       "    </tr>\n",
       "  </thead>\n",
       "  <tbody>\n",
       "    <tr>\n",
       "      <th>0</th>\n",
       "      <td>Etios</td>\n",
       "      <td>car</td>\n",
       "    </tr>\n",
       "    <tr>\n",
       "      <th>1</th>\n",
       "      <td>Lamborghini</td>\n",
       "      <td>car</td>\n",
       "    </tr>\n",
       "    <tr>\n",
       "      <th>2</th>\n",
       "      <td>Apache200</td>\n",
       "      <td>motorcycle</td>\n",
       "    </tr>\n",
       "    <tr>\n",
       "      <th>3</th>\n",
       "      <td>Pulsar200</td>\n",
       "      <td>motorcycle</td>\n",
       "    </tr>\n",
       "  </tbody>\n",
       "</table>\n",
       "</div>"
      ],
      "text/plain": [
       "       Vehicle        Type\n",
       "0        Etios         car\n",
       "1  Lamborghini         car\n",
       "2    Apache200  motorcycle\n",
       "3    Pulsar200  motorcycle"
      ]
     },
     "execution_count": 13,
     "metadata": {},
     "output_type": "execute_result"
    }
   ],
   "source": [
    "##What is pandas groupby?\n",
    "#it used to group data by classes, entities which can be further used for aggregation.\n",
    "#A dataframe can be grouped by one or more columns.\n",
    "\n",
    "df = pd.DataFrame({'Vehicle':['Etios','Lamborghini','Apache200','Pulsar220'], 'Type':[\"car\",\"car\",\"motorcycle\",\"motorcycle\"]})\n",
    "df"
   ]
  },
  {
   "cell_type": "code",
   "execution_count": 25,
   "id": "091fd52f",
   "metadata": {},
   "outputs": [
    {
     "data": {
      "text/html": [
       "<div>\n",
       "<style scoped>\n",
       "    .dataframe tbody tr th:only-of-type {\n",
       "        vertical-align: middle;\n",
       "    }\n",
       "\n",
       "    .dataframe tbody tr th {\n",
       "        vertical-align: top;\n",
       "    }\n",
       "\n",
       "    .dataframe thead th {\n",
       "        text-align: right;\n",
       "    }\n",
       "</style>\n",
       "<table border=\"1\" class=\"dataframe\">\n",
       "  <thead>\n",
       "    <tr style=\"text-align: right;\">\n",
       "      <th></th>\n",
       "      <th>Vehicle</th>\n",
       "    </tr>\n",
       "    <tr>\n",
       "      <th>Type</th>\n",
       "      <th></th>\n",
       "    </tr>\n",
       "  </thead>\n",
       "  <tbody>\n",
       "    <tr>\n",
       "      <th>car</th>\n",
       "      <td>2</td>\n",
       "    </tr>\n",
       "    <tr>\n",
       "      <th>motorcycle</th>\n",
       "      <td>2</td>\n",
       "    </tr>\n",
       "  </tbody>\n",
       "</table>\n",
       "</div>"
      ],
      "text/plain": [
       "            Vehicle\n",
       "Type               \n",
       "car               2\n",
       "motorcycle        2"
      ]
     },
     "execution_count": 25,
     "metadata": {},
     "output_type": "execute_result"
    }
   ],
   "source": [
    "#Now using group by to group cars and motorcycles\n",
    "a= df.groupby(by= 'Type').count()\n",
    "a"
   ]
  },
  {
   "cell_type": "code",
   "execution_count": 117,
   "id": "9a6ed36f",
   "metadata": {},
   "outputs": [
    {
     "name": "stdout",
     "output_type": "stream",
     "text": [
      "       bikes         cars\n",
      "0      bajaj  lamborghini\n",
      "1        tvs    masserati\n",
      "2  herohonda      ferrari\n",
      "3   kawasaki      hyundai\n",
      "4        bmw         ford\n"
     ]
    }
   ],
   "source": [
    "bikes=[\"bajaj\",\"tvs\",\"herohonda\",\"kawasaki\",\"bmw\"]\n",
    "cars=[\"lamborghini\",\"masserati\",\"ferrari\",\"hyundai\",\"ford\"]\n",
    "a= pd.DataFrame([bikes,cars])\n",
    "df= a.transpose()\n",
    "df.columns=['bikes', 'cars']\n",
    "print(df)\n",
    "v=[]\n",
    "for i in range(1,6):\n",
    "    v.append(i)\n",
    "ind= v\n",
    "df.index= ind\n",
    "df.set_index = (['bikes', 'cars'])\n"
   ]
  },
  {
   "cell_type": "code",
   "execution_count": 135,
   "id": "9207ffcf",
   "metadata": {},
   "outputs": [
    {
     "data": {
      "text/plain": [
       "dict_items([('a', (1, 2)), ('b', 2)])"
      ]
     },
     "execution_count": 135,
     "metadata": {},
     "output_type": "execute_result"
    }
   ],
   "source": [
    "#Dictionary\n",
    "d={'a':(1,2),'b':2}\n",
    "d['a']\n",
    "\n",
    "d.keys()  #TO GET ALL THE KEYS\n",
    "d.items()  #to get all the content"
   ]
  },
  {
   "cell_type": "code",
   "execution_count": 3,
   "id": "4c5c7ebf",
   "metadata": {},
   "outputs": [
    {
     "data": {
      "text/plain": [
       "[1, 2, 3, 4, 5, 6, 7, 8]"
      ]
     },
     "execution_count": 3,
     "metadata": {},
     "output_type": "execute_result"
    }
   ],
   "source": [
    "#How will you remove duplicates from a list?\n",
    "\n",
    "list0= [1,1,2,3,2,4,7,8,6,6,5,5,5]\n",
    "list1= list(set(list0))  #BY USING SET\n",
    "list1"
   ]
  },
  {
   "cell_type": "markdown",
   "id": "0ce72dbc",
   "metadata": {},
   "source": [
    "# Reversing a string"
   ]
  },
  {
   "cell_type": "code",
   "execution_count": 47,
   "id": "b35f4cf4",
   "metadata": {},
   "outputs": [
    {
     "data": {
      "text/plain": [
       "'nollihD P A'"
      ]
     },
     "execution_count": 47,
     "metadata": {},
     "output_type": "execute_result"
    }
   ],
   "source": [
    "## How to reverse a string?\n",
    "str1= ('A P Dhillon')\n",
    "str1[::-1]"
   ]
  },
  {
   "cell_type": "code",
   "execution_count": 1,
   "id": "9e9d218b",
   "metadata": {},
   "outputs": [
    {
     "name": "stdout",
     "output_type": "stream",
     "text": [
      "[18, 16, 14, 12, 4]\n"
     ]
    }
   ],
   "source": [
    "def reverse_array(arr):\n",
    "    i = 0\n",
    "    j = len(arr) - 1\n",
    "\n",
    "    while i != j and i < j:\n",
    "        arr[i], arr[j] = arr[j], arr[i]\n",
    "        i += 1\n",
    "        j -= 1\n",
    "\n",
    "    return arr\n",
    "\n",
    "\n",
    "result = reverse_array([4, 12, 14, 16, 18])\n",
    "print(result)"
   ]
  },
  {
   "cell_type": "code",
   "execution_count": null,
   "id": "94c79f1b",
   "metadata": {},
   "outputs": [],
   "source": []
  },
  {
   "cell_type": "code",
   "execution_count": 48,
   "id": "81947b6d",
   "metadata": {},
   "outputs": [
    {
     "data": {
      "text/plain": [
       "'APDhillon'"
      ]
     },
     "execution_count": 48,
     "metadata": {},
     "output_type": "execute_result"
    }
   ],
   "source": [
    "#Remove spaces from string\n",
    "str1.replace(' ','')"
   ]
  },
  {
   "cell_type": "code",
   "execution_count": 17,
   "id": "ba6b65ba",
   "metadata": {},
   "outputs": [
    {
     "data": {
      "text/html": [
       "<div>\n",
       "<style scoped>\n",
       "    .dataframe tbody tr th:only-of-type {\n",
       "        vertical-align: middle;\n",
       "    }\n",
       "\n",
       "    .dataframe tbody tr th {\n",
       "        vertical-align: top;\n",
       "    }\n",
       "\n",
       "    .dataframe thead th {\n",
       "        text-align: right;\n",
       "    }\n",
       "</style>\n",
       "<table border=\"1\" class=\"dataframe\">\n",
       "  <thead>\n",
       "    <tr style=\"text-align: right;\">\n",
       "      <th></th>\n",
       "      <th>col1</th>\n",
       "      <th>col2</th>\n",
       "    </tr>\n",
       "  </thead>\n",
       "  <tbody>\n",
       "    <tr>\n",
       "      <th>g</th>\n",
       "      <td>1</td>\n",
       "      <td>A</td>\n",
       "    </tr>\n",
       "    <tr>\n",
       "      <th>h</th>\n",
       "      <td>2</td>\n",
       "      <td>B</td>\n",
       "    </tr>\n",
       "    <tr>\n",
       "      <th>j</th>\n",
       "      <td>3</td>\n",
       "      <td>C</td>\n",
       "    </tr>\n",
       "  </tbody>\n",
       "</table>\n",
       "</div>"
      ],
      "text/plain": [
       "   col1 col2\n",
       "g     1    A\n",
       "h     2    B\n",
       "j     3    C"
      ]
     },
     "execution_count": 17,
     "metadata": {},
     "output_type": "execute_result"
    }
   ],
   "source": [
    "#Given the following data frame drop rows having column values as A.\n",
    "d={\"col1\":[1,2,3],\"col2\":[\"A\",\"B\",\"C\"]}\n",
    "df=pd.DataFrame(d)\n",
    "df.index=['g','h','j']\n",
    "df"
   ]
  },
  {
   "cell_type": "code",
   "execution_count": 42,
   "id": "f72bc656",
   "metadata": {},
   "outputs": [
    {
     "data": {
      "text/html": [
       "<div>\n",
       "<style scoped>\n",
       "    .dataframe tbody tr th:only-of-type {\n",
       "        vertical-align: middle;\n",
       "    }\n",
       "\n",
       "    .dataframe tbody tr th {\n",
       "        vertical-align: top;\n",
       "    }\n",
       "\n",
       "    .dataframe thead th {\n",
       "        text-align: right;\n",
       "    }\n",
       "</style>\n",
       "<table border=\"1\" class=\"dataframe\">\n",
       "  <thead>\n",
       "    <tr style=\"text-align: right;\">\n",
       "      <th></th>\n",
       "      <th>col1</th>\n",
       "      <th>col2</th>\n",
       "    </tr>\n",
       "  </thead>\n",
       "  <tbody>\n",
       "    <tr>\n",
       "      <th>h</th>\n",
       "      <td>2</td>\n",
       "      <td>B</td>\n",
       "    </tr>\n",
       "    <tr>\n",
       "      <th>j</th>\n",
       "      <td>3</td>\n",
       "      <td>C</td>\n",
       "    </tr>\n",
       "  </tbody>\n",
       "</table>\n",
       "</div>"
      ],
      "text/plain": [
       "   col1 col2\n",
       "h     2    B\n",
       "j     3    C"
      ]
     },
     "execution_count": 42,
     "metadata": {},
     "output_type": "execute_result"
    }
   ],
   "source": [
    "df1= df.copy()\n",
    "df1= df1[df1.col2 !='A']\n",
    "df1"
   ]
  },
  {
   "cell_type": "code",
   "execution_count": 52,
   "id": "1ee730b6",
   "metadata": {},
   "outputs": [
    {
     "data": {
      "text/plain": [
       "[0, 1, 2, 3, 4, 5, 6, 7]"
      ]
     },
     "execution_count": 52,
     "metadata": {},
     "output_type": "execute_result"
    }
   ],
   "source": [
    "list(map(lambda x:x,range(8)))  #To print numbers in a list."
   ]
  },
  {
   "cell_type": "markdown",
   "id": "b0141277",
   "metadata": {},
   "source": [
    "## Palindrome"
   ]
  },
  {
   "cell_type": "code",
   "execution_count": 77,
   "id": "162b7050",
   "metadata": {},
   "outputs": [],
   "source": [
    "def isPalindrome(string):\n",
    "    left_pos = 0\n",
    "    right_pos = len(string) - 1\n",
    "\n",
    "    while right_pos >= left_pos:\n",
    "        if string[left_pos] != string[right_pos]:\n",
    "            return False\n",
    "        else:\n",
    "            return True\n",
    "\n",
    "    left_pos += 1\n",
    "    right_pos -= 1"
   ]
  },
  {
   "cell_type": "code",
   "execution_count": 83,
   "id": "e8b54f8d",
   "metadata": {},
   "outputs": [
    {
     "data": {
      "text/plain": [
       "True"
      ]
     },
     "execution_count": 83,
     "metadata": {},
     "output_type": "execute_result"
    }
   ],
   "source": [
    "isPalindrome('maaaaaam')"
   ]
  },
  {
   "cell_type": "code",
   "execution_count": 2,
   "id": "213a9ea7",
   "metadata": {},
   "outputs": [],
   "source": [
    "##Calculate sum of list of numbers\n",
    "\n",
    "a= [3,14,5,6,9]\n",
    "b= [4,7,15,24,1]\n"
   ]
  },
  {
   "cell_type": "code",
   "execution_count": 89,
   "id": "be17d80f",
   "metadata": {},
   "outputs": [
    {
     "data": {
      "text/plain": [
       "21"
      ]
     },
     "execution_count": 89,
     "metadata": {},
     "output_type": "execute_result"
    }
   ],
   "source": [
    "a[1]+b[1]"
   ]
  },
  {
   "cell_type": "code",
   "execution_count": 3,
   "id": "65d9e713",
   "metadata": {},
   "outputs": [
    {
     "data": {
      "text/plain": [
       "[3, 5, 6, 9, 14]"
      ]
     },
     "execution_count": 3,
     "metadata": {},
     "output_type": "execute_result"
    }
   ],
   "source": [
    "sorted(a)  #Gives in ascending order"
   ]
  },
  {
   "cell_type": "code",
   "execution_count": 7,
   "id": "3a1e2de9",
   "metadata": {},
   "outputs": [
    {
     "data": {
      "text/plain": [
       "'4689511'"
      ]
     },
     "execution_count": 7,
     "metadata": {},
     "output_type": "execute_result"
    }
   ],
   "source": [
    "## Let all odd numbers come before even numbers, \n",
    "# and sort the odd numbers in ascending order and \n",
    "# even numbers in descending order. \n",
    "# For example, the string '1982376455' becomes '1355798642\n",
    "\n",
    "\n",
    "def oddeven(str):\n",
    "    odd = \"\"\n",
    "    even = \"\"\n",
    "    \n",
    "    for num in str:\n",
    "        if int(num) %2 ==0:\n",
    "            odd = odd+num\n",
    "        else:\n",
    "            even= even+num\n",
    "    temp = sorted(odd) + sorted(even, reverse=True)\n",
    "    \n",
    "    return \"\".join(temp)\n",
    "    #return temp\n",
    "\n",
    "oddeven(\"1154896\")\n"
   ]
  },
  {
   "cell_type": "code",
   "execution_count": 9,
   "id": "bd821bcc",
   "metadata": {},
   "outputs": [
    {
     "data": {
      "text/plain": [
       "[1, 2, 3, 4, 5, 6]"
      ]
     },
     "execution_count": 9,
     "metadata": {},
     "output_type": "execute_result"
    }
   ],
   "source": [
    "#Bubble sort: sorting numbers in ascending order when you cant use Sorted function. sorted(a)\n",
    "\n",
    "def bubbleSort(arr):\n",
    "  # travese the whole array\n",
    "  for i in range(len(arr)):\n",
    "    \n",
    "    # last i elements are already in place\n",
    "    for j in range(0, len(arr)-i-1):\n",
    "      \n",
    "      if arr[j] > arr[j+1]:\n",
    "        arr[j], arr[j+1] = arr[j+1], arr[j]\n",
    "  \n",
    "  return arr\n",
    "\n",
    "arr = [2, 6, 1, 5, 3, 4]\n",
    "bubbleSort(arr)"
   ]
  },
  {
   "cell_type": "code",
   "execution_count": 17,
   "id": "5b6c5f03",
   "metadata": {},
   "outputs": [
    {
     "data": {
      "text/plain": [
       "[1, 2, 4, 6, 7, 11]"
      ]
     },
     "execution_count": 17,
     "metadata": {},
     "output_type": "execute_result"
    }
   ],
   "source": [
    "def bubblesort(arr):\n",
    "    for i in range(len(arr)):\n",
    "        for j in range(len(arr)-1):\n",
    "            if arr[j] > arr[j+1]:\n",
    "                arr[j], arr[j+1] = arr[j+1], arr[j]\n",
    "    return arr\n",
    "\n",
    "bubblesort([2,4,7,1,11,6])    #Easy way!"
   ]
  },
  {
   "cell_type": "markdown",
   "id": "d3c18a99",
   "metadata": {},
   "source": [
    "# Fibbonaci"
   ]
  },
  {
   "cell_type": "code",
   "execution_count": 61,
   "id": "bdec61ef",
   "metadata": {},
   "outputs": [],
   "source": [
    "fibbonaci=[0,1]\n",
    "def fib(n):\n",
    "    if n<2:\n",
    "        return fibbonaci\n",
    "    else:\n",
    "        while len(fibbonaci) < n:\n",
    "            \n",
    "            fibbonaci.append(fibbonaci[-1]+ fibbonaci[-2])\n",
    "        return fibbonaci"
   ]
  },
  {
   "cell_type": "code",
   "execution_count": 63,
   "id": "273560d5",
   "metadata": {},
   "outputs": [
    {
     "data": {
      "text/plain": [
       "[0, 1, 1, 2, 3, 5]"
      ]
     },
     "execution_count": 63,
     "metadata": {},
     "output_type": "execute_result"
    }
   ],
   "source": [
    "fib(6)"
   ]
  },
  {
   "cell_type": "code",
   "execution_count": 64,
   "id": "6370703b",
   "metadata": {},
   "outputs": [
    {
     "name": "stdout",
     "output_type": "stream",
     "text": [
      "True\n",
      "False\n"
     ]
    }
   ],
   "source": [
    "# Given a string, check if it only contains digits.\n",
    "\n",
    "\n",
    "def is_digit(input_str):\n",
    "    try:\n",
    "        int(input_str)  # If its possible to convert to a number, return True.\n",
    "        return True\n",
    "    \n",
    "    except ValueError:\n",
    "        return False   # If the string contains letters, above will fail, returning False.\n",
    "\n",
    "\n",
    "result = is_digit(\"095357973590759530\")\n",
    "print(result)  # True\n",
    "\n",
    "result = is_digit(\"1234abc567\")\n",
    "print(result)  # False"
   ]
  },
  {
   "cell_type": "code",
   "execution_count": null,
   "id": "88d1ea6e",
   "metadata": {},
   "outputs": [],
   "source": []
  }
 ],
 "metadata": {
  "kernelspec": {
   "display_name": "Python 3",
   "language": "python",
   "name": "python3"
  },
  "language_info": {
   "codemirror_mode": {
    "name": "ipython",
    "version": 3
   },
   "file_extension": ".py",
   "mimetype": "text/x-python",
   "name": "python",
   "nbconvert_exporter": "python",
   "pygments_lexer": "ipython3",
   "version": "3.8.8"
  }
 },
 "nbformat": 4,
 "nbformat_minor": 5
}
