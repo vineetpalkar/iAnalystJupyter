{
 "cells": [
  {
   "cell_type": "code",
   "execution_count": 7,
   "metadata": {},
   "outputs": [],
   "source": [
    "def admission():\n",
    "    cet=float(input(\"Enter your CET marks\",))\n",
    "    hsc=float(input(\"Enter your HSC marks in percent\",))\n",
    "    if cet>=90 and hsc>=85:\n",
    "        print(\"You are eligible for mechanical engineering.\")\n",
    "    elif cet>=80 and cet<90 and hsc>=60:\n",
    "        print(\"You are eligible for computer engineering\")\n",
    "    elif cet>=70 and cet<80 and hsc>=60:\n",
    "        print(\"You are eligible for electrical engineering\")\n",
    "    elif cet>=60 and cet<70 and hsc>=60:\n",
    "        print(\"You are eligible for civil engineering\")\n",
    "    else:\n",
    "        print(\"Try for other branch\")\n"
   ]
  },
  {
   "cell_type": "code",
   "execution_count": 10,
   "metadata": {
    "scrolled": true
   },
   "outputs": [
    {
     "name": "stdout",
     "output_type": "stream",
     "text": [
      "Enter your CET marks80\n",
      "Enter your HSC marks in percent66\n",
      "You are eligible for computer engineering\n"
     ]
    }
   ],
   "source": [
    "admission()"
   ]
  },
  {
   "cell_type": "code",
   "execution_count": null,
   "metadata": {},
   "outputs": [],
   "source": []
  }
 ],
 "metadata": {
  "kernelspec": {
   "display_name": "Python 3",
   "language": "python",
   "name": "python3"
  },
  "language_info": {
   "codemirror_mode": {
    "name": "ipython",
    "version": 3
   },
   "file_extension": ".py",
   "mimetype": "text/x-python",
   "name": "python",
   "nbconvert_exporter": "python",
   "pygments_lexer": "ipython3",
   "version": "3.7.4"
  }
 },
 "nbformat": 4,
 "nbformat_minor": 2
}
