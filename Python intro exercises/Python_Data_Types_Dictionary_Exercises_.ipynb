{
 "cells": [
  {
   "cell_type": "markdown",
   "metadata": {
    "id": "goiB2WZ6pkko"
   },
   "source": [
    "# **Python Data Types: Dictionary - Exercises**"
   ]
  },
  {
   "cell_type": "markdown",
   "metadata": {
    "id": "JWRD5f0pecjW"
   },
   "source": [
    "Q.1. Write a Python program to combine two dictionary adding values for common keys. Go to the editor\n",
    "\n",
    "d1 = {'a': 100, 'b': 200, 'c':300}\n",
    "\n",
    "d2 = {'a': 300, 'b': 200, 'd':400}\n",
    "\n",
    "Sample output: Counter({'a': 400, 'b': 400, 'd': 400, 'c': 300})"
   ]
  },
  {
   "cell_type": "code",
   "execution_count": null,
   "metadata": {
    "id": "ls6K9GOaehFq"
   },
   "outputs": [],
   "source": [
    "d1 = {'a': 100, 'b': 200, 'c':300}\n",
    "\n",
    "d2 = {'a': 300, 'b': 200, 'd':400}\n",
    "\n",
    "df = {'a':d1['a']+d2['a'], 'b': d1['b']+d2['b'], 'd':d2['d'], 'c':d1['c']}\n",
    "print(df)"
   ]
  },
  {
   "cell_type": "code",
   "execution_count": null,
   "metadata": {
    "id": "O7LFbZpVSfOu"
   },
   "outputs": [],
   "source": [
    "from collections import Counter\n",
    "d1= Counter({'a': 100, 'b': 200, 'c':300})\n",
    "d2= Counter({'a': 300, 'b': 200, 'd':400})\n",
    "d1+d2"
   ]
  },
  {
   "cell_type": "markdown",
   "metadata": {
    "id": "bc09oJj8fJPc"
   },
   "source": [
    "Q.2.Write a Python program to combine two lists into a dictionary, where the elements of the first one serve as the keys and the elements of the second one serve as the values. The values of the first list need to be unique and hashable. Go to the editor\n",
    "\n",
    "\n",
    "\n",
    "Original lists:\n",
    "\n",
    "l1 = ['a', 'b', 'c', 'd', 'e', 'f']\n",
    "\n",
    "l2 = [1, 2, 3, 4, 5]\n",
    "\n",
    "Sample Output:\n",
    "\n",
    "Combine the values of the said two lists into a dictionary:\n",
    "\n",
    "{'a': 1, 'b': 2, 'c': 3, 'd': 4, 'e': 5}"
   ]
  },
  {
   "cell_type": "code",
   "execution_count": null,
   "metadata": {
    "id": "JsnnPQTVfUFU"
   },
   "outputs": [],
   "source": [
    "l1 = ['a', 'b', 'c', 'd', 'e', 'f']\n",
    "l2 = [1, 2, 3, 4, 5]\n",
    "z= dict(zip(l1,l2))\n",
    "z\n"
   ]
  },
  {
   "cell_type": "markdown",
   "metadata": {
    "id": "sfUwhAqxgxoV"
   },
   "source": [
    "Q.3. Write a Python program to find the key of the maximum value in a dictionary. Go to the editor\n",
    "\n",
    "Original dictionary elements:\n",
    "\n",
    "{'Theodore': 19, 'Roxanne': 22, 'Mathew': 21, 'Betty': 20}\n",
    "\n",
    "**Sample Output:** Finds the key of the maximum and minimum value of the said dictionary:\n",
    "\n",
    "('Roxanne', 'Theodore')"
   ]
  },
  {
   "cell_type": "code",
   "execution_count": null,
   "metadata": {
    "id": "jF88i8j2gTYs"
   },
   "outputs": [],
   "source": [
    "prob={'Theodore': 19, 'Roxanne': 22, 'Mathew': 21, 'Betty': 20}\n",
    "\n",
    "max_value= max(prob, key=prob.get)\n",
    "print(max_value)\n",
    "min_value= min(prob, key=prob.get)\n",
    "print(min_value)"
   ]
  },
  {
   "cell_type": "markdown",
   "metadata": {
    "id": "KLLN4GEqhMnc"
   },
   "source": [
    " Q.4. Write a Python program to combines two or more dictionaries, creating a list of values for each key. Go to the editor\n",
    "\n",
    "\n",
    "Original dictionaries:\n",
    "\n",
    "l1 = {'w': 50, 'x': 100, 'y': 'Green', 'z': 400}\n",
    "\n",
    "l2 = {'x': 300, 'y': 'Red', 'z': 600}\n",
    "\n",
    "**Sample Output:** Combined dictionaries, creating a list of values for each key:\n",
    "\n",
    "{'w': [50], 'x': [100, 300], 'y': ['Green', 'Red'], 'z': [400, 600]}"
   ]
  },
  {
   "cell_type": "code",
   "execution_count": 1,
   "metadata": {
    "id": "27XO2I0Pg_ay"
   },
   "outputs": [
    {
     "name": "stdout",
     "output_type": "stream",
     "text": [
      "\n",
      "Combined dictionaries, creating a list of values for each key:\n",
      "{'w': [50], 'x': [100, 300], 'y': ['Green', 'Red'], 'z': [400, 600]}\n"
     ]
    }
   ],
   "source": [
    "from collections import defaultdict\n",
    "def test(*dicts):               ###we use *  in dictionaries, not in str, int    *t means \"treat the elements of this iterable as positional arguments to this function call.\"\n",
    "  result = defaultdict(list)    ### \n",
    "  for ele in dicts:\n",
    "    for key in ele:\n",
    "      result[key].append(ele[key])\n",
    "      #print(result)\n",
    "  return dict(result)\n",
    " \n",
    "d1 = {'w': 50, 'x': 100, 'y': 'Green', 'z': 400}\n",
    "d2 = {'x': 300, 'y': 'Red', 'z': 600}\n",
    "\n",
    "print(\"\\nCombined dictionaries, creating a list of values for each key:\")\n",
    "print(test(d1, d2))"
   ]
  },
  {
   "cell_type": "code",
   "execution_count": 9,
   "metadata": {
    "id": "ASWfPjBjE0MO"
   },
   "outputs": [],
   "source": [
    "##Another way without defaultdict\n",
    "\n",
    "s= set(list(d1.keys()) + list(d2.keys()))  ###converting dict to list then to set as set returns unique values."
   ]
  },
  {
   "cell_type": "code",
   "execution_count": 8,
   "metadata": {},
   "outputs": [
    {
     "data": {
      "text/plain": [
       "True"
      ]
     },
     "execution_count": 8,
     "metadata": {},
     "output_type": "execute_result"
    }
   ],
   "source": [
    "'w' in d1.keys()"
   ]
  },
  {
   "cell_type": "code",
   "execution_count": 14,
   "metadata": {},
   "outputs": [
    {
     "name": "stdout",
     "output_type": "stream",
     "text": [
      "{'y': ['Green', 'Red'], 'x': [100, 300], 'z': [400, 600], 'w': 50}\n"
     ]
    }
   ],
   "source": [
    "d={}\n",
    "for i in s:\n",
    "    #print(i)\n",
    "    if (i in d1.keys()) and (i in d2.keys()):\n",
    "        #print(i)\n",
    "        d[i]=[d1[i],d2[i]]\n",
    "    elif i in d1.keys():\n",
    "        d[i]=d1[i]\n",
    "    else:\n",
    "        d[i]=d2[i]\n",
    "print(d)"
   ]
  },
  {
   "cell_type": "code",
   "execution_count": null,
   "metadata": {},
   "outputs": [],
   "source": []
  },
  {
   "cell_type": "markdown",
   "metadata": {
    "id": "0X6AfuLEh9Yb"
   },
   "source": [
    "Q.5. Write a Python program to check if a specific Key and a value exist in a dictionary. Go to the editor\n",
    "\n",
    "Original dictionary:\n",
    "\n",
    "[{'student_id': 1, 'name': 'Jean Castro', 'class': 'V'}, {'student_id': 2, 'name': 'Lula Powell', 'class': 'V'}, {'student_id': 3, 'name': 'Brian Howell', 'class': 'VI'}, {'student_id': 4, 'name': 'Lynne Foster', 'class': 'VI'}, {'student_id': 5, 'name': 'Zachary Simon', 'class': 'VII'}]\n",
    "\n",
    "Check if a specific Key and a value exist in the said dictionary:\n",
    "\n",
    "True\n",
    "\n",
    "True\n",
    "\n",
    "True\n",
    "\n",
    "False\n",
    "\n",
    "False\n",
    "\n",
    "False"
   ]
  },
  {
   "cell_type": "code",
   "execution_count": null,
   "metadata": {
    "id": "Ccxu9y_8hgOy"
   },
   "outputs": [],
   "source": [
    "students = [\n",
    "        {'student_id': 1, 'name': 'Jean Castro', 'class': 'V'}, \n",
    "        {'student_id': 2, 'name': 'Lula Powell', 'class': 'V'},\n",
    "        {'student_id': 3, 'name': 'Brian Howell', 'class': 'VI'}, \n",
    "        {'student_id': 4, 'name': 'Lynne Foster', 'class': 'VI'}, \n",
    "        {'student_id': 5, 'name': 'Zachary Simon', 'class': 'VII'}\n",
    "        ]\n",
    "\n",
    "def test(dictt, key, value):\n",
    "   if any(sub[key] == value for sub in dictt):\n",
    "       return True\n",
    "   else:\n",
    "       return False\n",
    "\n",
    "print(test(students,'student_id', 1))\n",
    "print(test(students,'name', 'Brian Howell'))\n",
    "print(test(students,'class', 'VII'))\n",
    "print(test(students,'class', 'I'))\n",
    "print(test(students,'name', 'Brian Howelll'))\n",
    "print(test(students,'student_id', 11))"
   ]
  },
  {
   "cell_type": "markdown",
   "metadata": {
    "id": "8q0QgsGPiTFx"
   },
   "source": [
    "Q.6. Write a Python program to count the frequency in a given dictionary. Go to the editor\n",
    "\n",
    "Original Dictionary:\n",
    "\n",
    "{'V': 10, 'VI': 10, 'VII': 40, 'VIII': 20, 'IX': 70, 'X': 80, 'XI': 40, 'XII': 20}\n",
    "\n",
    "**Sample Output =** Count the frequency of the said dictionary:\n",
    "\n",
    "Counter({10: 2, 40: 2, 20: 2, 70: 1, 80: 1})"
   ]
  },
  {
   "cell_type": "code",
   "execution_count": null,
   "metadata": {
    "id": "sqQmQuEViH-R"
   },
   "outputs": [],
   "source": [
    "from collections import Counter \n",
    " \n",
    "dictt = {\n",
    " 'V': 10,\n",
    " 'VI': 10,\n",
    " 'VII': 40,\n",
    " 'VIII': 20,\n",
    " 'IX': 70,\n",
    " 'X': 80,\n",
    " 'XI': 40,\n",
    " 'XII': 20, \n",
    " }\n",
    "\n",
    "def test(dictt):    \n",
    "    result = Counter(dictt.values())\n",
    "    return result\n"
   ]
  },
  {
   "cell_type": "code",
   "execution_count": null,
   "metadata": {
    "id": "VoBxIkqBApMz"
   },
   "outputs": [],
   "source": []
  },
  {
   "cell_type": "markdown",
   "metadata": {
    "id": "dMmbY7H1iulo"
   },
   "source": [
    "Q.7. Write a Python program to find shortest list of values with the keys in a given dictionary. Go to the editor\n",
    "\n",
    "Original Dictionary: {'V': [10, 12], 'VI': [10], 'VII': [10, 20, 30, 40], 'VIII': [20], 'IX': [10, 30, 50, 70], 'X': [80]}\n",
    "\n",
    " **Sample Output =** Shortest list of values with the keys of the said dictionary:   \n",
    "  ['VI', 'VIII', 'X']"
   ]
  },
  {
   "cell_type": "code",
   "execution_count": null,
   "metadata": {
    "id": "BtqyzbYtihBJ"
   },
   "outputs": [],
   "source": [
    "\n",
    "dictt = {\n",
    " 'V': [10, 12],\n",
    " 'VI': [10],\n",
    " 'VII': [10, 20, 30, 40],\n",
    " 'VIII': [20],\n",
    " 'IX': [10,30,50,70],\n",
    " 'X': [80]\n",
    " }\n",
    "\n",
    "def test(dictt):\n",
    "    min_value=1\n",
    "    result = [k for k, v in dictt.items() if len(v) == (min_value)]  ###why k for k?\n",
    "    return result \n",
    "\n",
    "print(\"\\nShortest list of values with the keys of the said dictionary:\")\n",
    "print(test(dictt))"
   ]
  },
  {
   "cell_type": "markdown",
   "metadata": {
    "id": "nV8tS94bj0bj"
   },
   "source": [
    "Q.8. Write a Python program to find the specified number of maximum values in a given dictionary. Go to the editor\n",
    "\n",
    "**Original Dictionary:**   {'a': 5, 'b': 14, 'c': 32, 'd': 35, 'e': 24, 'f': 100, 'g': 57, 'h': 8, 'i': 100}\n",
    "\n",
    "**Required Output =**\n",
    "\n",
    "1 maximum value(s) in the said dictionary:\n",
    "\n",
    "['f']\n",
    "\n",
    "2 maximum value(s) in the said dictionary:\n",
    "\n",
    "['f', 'i']\n",
    "\n",
    "5 maximum value(s) in the said dictionary:\n",
    "\n",
    "['f', 'i', 'g', 'd', 'c']"
   ]
  },
  {
   "cell_type": "code",
   "execution_count": null,
   "metadata": {
    "id": "Gw20P-gRi-ZH"
   },
   "outputs": [],
   "source": [
    "def test(dictt, N):\n",
    "    result = sorted(dictt, key=dictt.get, reverse=True)[:N]   ###why [:N]???    #sorted gives out the dictionary in the ascending order #[:x] means, the list of items in word from the first element (since the first argument is empty) up to the xth element\n",
    "    return result \n",
    "dictt = {'a':5, 'b':14, 'c': 32, 'd':35, 'e':24, 'f': 100, 'g':57, 'h':8, 'i': 100}\n",
    "\n",
    "N = 1\n",
    "print(\"\\n\",N,\"maximum value(s) in the said dictionary:\")\n",
    "print(test(dictt, N))\n",
    "N = 2\n",
    "print(\"\\n\",N,\"maximum value(s) in the said dictionary:\")\n",
    "print(test(dictt, N))\n",
    "N = 5\n",
    "print(\"\\n\",N,\"maximum value(s) in the said dictionary:\")\n",
    "print(test(dictt, N))"
   ]
  },
  {
   "cell_type": "markdown",
   "metadata": {
    "id": "nQz2Onp0mv3C"
   },
   "source": [
    "Q.9. Write a Python program to filter even numbers from a given dictionary values. Go to the editor\n",
    "\n",
    "Original Dictionary:\n",
    "\n",
    "D1 = {'V': [1, 4, 6, 10], 'VI': [1, 4, 12], 'VII': [1, 3, 8]}\n",
    "\n",
    "D2 = {'V': [1, 3, 5], 'VI': [1, 5], 'VII': [2, 7, 9]}\n",
    "\n",
    "**Required Output =** Filter even numbers from said dictionary values:\n",
    "\n",
    "D1 = {'V': [4, 6, 10], 'VI': [4, 12], 'VII': [8]}\n",
    "\n",
    "\n",
    "D2 = {'V': [], 'VI': [], 'VII': [2]}"
   ]
  },
  {
   "cell_type": "code",
   "execution_count": null,
   "metadata": {
    "id": "HNskq06vkkkG"
   },
   "outputs": [],
   "source": [
    "def test(dictt):\n",
    "    result = {key: [idx for idx in val if not idx % 2]  \n",
    "          for key, val in dictt.items()}   \n",
    "    return result    \n",
    "\n",
    "students = {'V' : [1, 4, 6, 10], 'VI' : [1, 4, 12], 'VII' : [1, 3, 8]} \n",
    "\n",
    "print(test(students))\n",
    "\n",
    "students = {'V' : [1, 3, 5], 'VI' : [1, 5], 'VII' : [2, 7, 9]} \n",
    "\n",
    "print(test(students))"
   ]
  },
  {
   "cell_type": "markdown",
   "metadata": {
    "id": "1qCVHMOpo9hz"
   },
   "source": [
    "Q.10. Write a Python program to find the length of a given dictionary values. Go to the editor\n",
    "\n",
    "Original Dictionary:\n",
    "\n",
    "D1 = {1: 'red', 2: 'green', 3: 'black', 4: 'white', 5: 'black'}\n",
    "\n",
    "D2 = {'1': 'Austin Little', '2': 'Natasha Howard', '3': 'Alfred Mullins', '4': 'Jamie Rowe'}\n",
    "\n",
    "**Required Output =** \n",
    "\n",
    "Length of dictionary values:\n",
    "\n",
    "{'red': 3, 'green': 5, 'black': 5, 'white': 5}\n",
    "\n",
    "\n",
    "Length of dictionary values:\n",
    "\n",
    "{'Austin Little': 13, 'Natasha Howard': 14, 'Alfred Mullins': 14, 'Jamie Rowe': 10}"
   ]
  },
  {
   "cell_type": "code",
   "execution_count": null,
   "metadata": {
    "id": "hdG6AWh6nP9t"
   },
   "outputs": [],
   "source": [
    "def test(dictt):\n",
    "    result = {}\n",
    "    for val in dictt.values(): \n",
    "        result[val] = len(val) \n",
    "    return result    \n",
    "\n",
    "color_dict = {1 : 'red', 2 : 'green', 3 : 'black', 4 : 'white', 5 : 'black'}\n",
    "\n",
    "print(\"Length of dictionary values:\")\n",
    "print(test(color_dict))\n",
    "\n",
    "color_dict = {'1' : 'Austin Little', '2' : 'Natasha Howard', '3' : 'Alfred Mullins', '4' : 'Jamie Rowe'}\n",
    "\n",
    "print(\"Length of dictionary values:\")\n",
    "print(test(color_dict))\n"
   ]
  },
  {
   "cell_type": "code",
   "execution_count": null,
   "metadata": {
    "id": "NxXUKqpcpZl8"
   },
   "outputs": [],
   "source": []
  }
 ],
 "metadata": {
  "colab": {
   "collapsed_sections": [],
   "name": "Python_Data_Types_Dictionary_Exercises_.ipynb",
   "private_outputs": true,
   "provenance": []
  },
  "kernelspec": {
   "display_name": "Python 3",
   "language": "python",
   "name": "python3"
  },
  "language_info": {
   "codemirror_mode": {
    "name": "ipython",
    "version": 3
   },
   "file_extension": ".py",
   "mimetype": "text/x-python",
   "name": "python",
   "nbconvert_exporter": "python",
   "pygments_lexer": "ipython3",
   "version": "3.8.8"
  }
 },
 "nbformat": 4,
 "nbformat_minor": 1
}
