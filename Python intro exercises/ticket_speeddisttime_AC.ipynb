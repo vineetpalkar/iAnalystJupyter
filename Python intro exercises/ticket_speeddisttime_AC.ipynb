{
 "cells": [
  {
   "cell_type": "code",
   "execution_count": 1,
   "metadata": {},
   "outputs": [],
   "source": [
    "#Calculate the price of bus ticket using distance\n",
    "def ticket():\n",
    "    c=int(input(\"Please enter the distance of the bus ride\",))\n",
    "    print(\"For each kilometre 10Rs. will be charged\")\n",
    "    t=c*10\n",
    "    print(\"Your ticket is Rs.\",t)\n",
    "    "
   ]
  },
  {
   "cell_type": "code",
   "execution_count": 2,
   "metadata": {},
   "outputs": [
    {
     "name": "stdout",
     "output_type": "stream",
     "text": [
      "Please enter the distance of the bus ride5\n",
      "For each kilometre 10Rs. will be charged\n",
      "Your ticket is Rs. 50\n"
     ]
    }
   ],
   "source": [
    "ticket()"
   ]
  },
  {
   "cell_type": "code",
   "execution_count": 8,
   "metadata": {},
   "outputs": [
    {
     "name": "stdout",
     "output_type": "stream",
     "text": [
      "Please enter ? for what you wish to caluclate\n",
      "Please enter speed40\n",
      "Please enter distance?\n",
      "Please enter time2\n",
      "Distance is  80\n"
     ]
    }
   ],
   "source": [
    "#Code for calculating speed, distance,time\n",
    "print(\"Please enter ? for what you wish to caluclate\")\n",
    "s=str(input(\"Please enter speed\",))\n",
    "d=str(input(\"Please enter distance\",))\n",
    "t=str(input(\"Please enter time\",))\n",
    "if s==\"?\":\n",
    "    speed= int(d)/int(t)\n",
    "    print(\"Speed is \",speed)\n",
    "elif d==\"?\":\n",
    "    distance= int(t)*int(s)\n",
    "    print(\"Distance is \",distance)\n",
    "elif t==\"?\":\n",
    "    time= int(d)/int(s)\n",
    "else: print(\"Enter a valid number\")"
   ]
  },
  {
   "cell_type": "code",
   "execution_count": 13,
   "metadata": {},
   "outputs": [
    {
     "name": "stdout",
     "output_type": "stream",
     "text": [
      "Please enter the outside temperature 18\n",
      "Please increase the temperature by  4 degrees Celcius\n"
     ]
    }
   ],
   "source": [
    "#Suggesting AC temperature\n",
    "i=int(input(\"Please enter the outside temperature \",))\n",
    "d= i-22\n",
    "if d>0:\n",
    "    print(\"Please reduce the temperature by \",d, \"degrees Celcius\")\n",
    "else: print(\"Please increase the temperature by \",-d, \"degrees Celcius\")"
   ]
  },
  {
   "cell_type": "code",
   "execution_count": null,
   "metadata": {},
   "outputs": [],
   "source": []
  }
 ],
 "metadata": {
  "kernelspec": {
   "display_name": "Python 3",
   "language": "python",
   "name": "python3"
  },
  "language_info": {
   "codemirror_mode": {
    "name": "ipython",
    "version": 3
   },
   "file_extension": ".py",
   "mimetype": "text/x-python",
   "name": "python",
   "nbconvert_exporter": "python",
   "pygments_lexer": "ipython3",
   "version": "3.7.4"
  }
 },
 "nbformat": 4,
 "nbformat_minor": 2
}
