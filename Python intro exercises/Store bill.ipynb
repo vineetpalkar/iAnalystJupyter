{
 "cells": [
  {
   "cell_type": "code",
   "execution_count": 4,
   "metadata": {},
   "outputs": [],
   "source": [
    "def store(): #caluclating final amount\n",
    "    p=float(input(\"Please enter the price of the item\",))\n",
    "    q=int(input(\"Please enter the quantity of the item\",))\n",
    "    g=float(input(\"Please enter the GST in %\",))\n",
    "    \n",
    "    amt= p*q\n",
    "    print(\"The amount without GST is\",amt)\n",
    "    finalamt= amt+amt*(g/100)\n",
    "    print(\"The amount including GST is\",finalamt)"
   ]
  },
  {
   "cell_type": "code",
   "execution_count": 5,
   "metadata": {},
   "outputs": [
    {
     "name": "stdout",
     "output_type": "stream",
     "text": [
      "Please enter the price of the item50\n",
      "Please enter the quantity of the item5\n",
      "Please enter the GST in %18\n",
      "The amount without GST is 250.0\n",
      "The amount including GST is 295.0\n"
     ]
    }
   ],
   "source": [
    "store()"
   ]
  },
  {
   "cell_type": "code",
   "execution_count": 7,
   "metadata": {},
   "outputs": [],
   "source": [
    "def store(p,q):\n",
    "    price,quantity=int(p),int(q)\n",
    "    amt= (p*q)+(p*q)*0.18\n",
    "    print(\"Amount is Rs\",amt)"
   ]
  },
  {
   "cell_type": "code",
   "execution_count": 8,
   "metadata": {},
   "outputs": [
    {
     "name": "stdout",
     "output_type": "stream",
     "text": [
      "Amount is Rs 35.4\n"
     ]
    }
   ],
   "source": [
    "store(15,2)"
   ]
  },
  {
   "cell_type": "code",
   "execution_count": null,
   "metadata": {},
   "outputs": [],
   "source": []
  }
 ],
 "metadata": {
  "kernelspec": {
   "display_name": "Python 3",
   "language": "python",
   "name": "python3"
  },
  "language_info": {
   "codemirror_mode": {
    "name": "ipython",
    "version": 3
   },
   "file_extension": ".py",
   "mimetype": "text/x-python",
   "name": "python",
   "nbconvert_exporter": "python",
   "pygments_lexer": "ipython3",
   "version": "3.7.4"
  }
 },
 "nbformat": 4,
 "nbformat_minor": 2
}
